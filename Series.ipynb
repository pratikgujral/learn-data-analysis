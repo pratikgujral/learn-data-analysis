{
 "cells": [
  {
   "cell_type": "markdown",
   "metadata": {},
   "source": [
    "# Series"
   ]
  },
  {
   "cell_type": "code",
   "execution_count": 1,
   "metadata": {},
   "outputs": [],
   "source": [
    "import pandas as pd\n",
    "import numpy as np\n",
    "import matplotlib.pyplot as plt\n",
    "%matplotlib inline"
   ]
  },
  {
   "cell_type": "markdown",
   "metadata": {},
   "source": [
    "### Create a `Series` object from a Python list\n",
    "Notice that index positions are assigned to the objects in the `Series`. By default, the indexes will be numerical starting from 0."
   ]
  },
  {
   "cell_type": "code",
   "execution_count": 2,
   "metadata": {},
   "outputs": [
    {
     "data": {
      "text/plain": [
       "0    Strawberry\n",
       "1       Vanilla\n",
       "2     Chocolate\n",
       "3    Rum Raisin\n",
       "dtype: object"
      ]
     },
     "execution_count": 2,
     "metadata": {},
     "output_type": "execute_result"
    }
   ],
   "source": [
    "ice_cream = ['Strawberry', 'Vanilla', 'Chocolate', 'Rum Raisin']\n",
    "pd.Series(ice_cream)"
   ]
  },
  {
   "cell_type": "code",
   "execution_count": 3,
   "metadata": {},
   "outputs": [
    {
     "data": {
      "text/plain": [
       "0    10\n",
       "1    20\n",
       "2    12\n",
       "3    23\n",
       "4    43\n",
       "dtype: int64"
      ]
     },
     "execution_count": 3,
     "metadata": {},
     "output_type": "execute_result"
    }
   ],
   "source": [
    "lottery = [10, 20, 12, 23, 43]\n",
    "pd.Series(lottery)"
   ]
  },
  {
   "cell_type": "markdown",
   "metadata": {},
   "source": [
    "### Create a `Series` object from a Python dictionary\n",
    "The keys of the dictionary become index names for the Series object.\n",
    "The values of the dictionary become values for the Series object."
   ]
  },
  {
   "cell_type": "code",
   "execution_count": 4,
   "metadata": {},
   "outputs": [
    {
     "data": {
      "text/plain": [
       "Banana        A Fruit\n",
       "Aardvark    An Animal\n",
       "Cyan          A Color\n",
       "dtype: object"
      ]
     },
     "execution_count": 4,
     "metadata": {},
     "output_type": "execute_result"
    }
   ],
   "source": [
    "webster = {'Banana':'A Fruit', 'Aardvark' : 'An Animal', 'Cyan':'A Color'}\n",
    "pd.Series(webster)"
   ]
  },
  {
   "cell_type": "markdown",
   "metadata": {},
   "source": [
    "### Intro to `Series` Attributes"
   ]
  },
  {
   "cell_type": "code",
   "execution_count": 5,
   "metadata": {},
   "outputs": [
    {
     "data": {
      "text/plain": [
       "array(['smart', 'handsome', 'charming', 'brilliant', 'humble'],\n",
       "      dtype=object)"
      ]
     },
     "execution_count": 5,
     "metadata": {},
     "output_type": "execute_result"
    }
   ],
   "source": [
    "about_me = ['smart','handsome','charming','brilliant','humble']\n",
    "s = pd.Series(about_me)\n",
    "s.values"
   ]
  },
  {
   "cell_type": "code",
   "execution_count": 6,
   "metadata": {},
   "outputs": [
    {
     "data": {
      "text/plain": [
       "RangeIndex(start=0, stop=5, step=1)"
      ]
     },
     "execution_count": 6,
     "metadata": {},
     "output_type": "execute_result"
    }
   ],
   "source": [
    "s.index"
   ]
  },
  {
   "cell_type": "markdown",
   "metadata": {},
   "source": [
    "### Intro to `Series` Methods"
   ]
  },
  {
   "cell_type": "code",
   "execution_count": 7,
   "metadata": {},
   "outputs": [
    {
     "data": {
      "text/plain": [
       "0    2.99\n",
       "1    3.45\n",
       "2    1.99\n",
       "dtype: float64"
      ]
     },
     "execution_count": 7,
     "metadata": {},
     "output_type": "execute_result"
    }
   ],
   "source": [
    "prices = [2.99, 3.45, 1.99]\n",
    "s = pd.Series(prices)\n",
    "s"
   ]
  },
  {
   "cell_type": "code",
   "execution_count": 8,
   "metadata": {},
   "outputs": [
    {
     "data": {
      "text/plain": [
       "8.43"
      ]
     },
     "execution_count": 8,
     "metadata": {},
     "output_type": "execute_result"
    }
   ],
   "source": [
    "s.sum()"
   ]
  },
  {
   "cell_type": "code",
   "execution_count": 9,
   "metadata": {},
   "outputs": [
    {
     "data": {
      "text/plain": [
       "20.527845000000003"
      ]
     },
     "execution_count": 9,
     "metadata": {},
     "output_type": "execute_result"
    }
   ],
   "source": [
    "s.product()"
   ]
  },
  {
   "cell_type": "code",
   "execution_count": 10,
   "metadata": {},
   "outputs": [
    {
     "data": {
      "text/plain": [
       "2.81"
      ]
     },
     "execution_count": 10,
     "metadata": {},
     "output_type": "execute_result"
    }
   ],
   "source": [
    "s.mean()"
   ]
  },
  {
   "cell_type": "markdown",
   "metadata": {},
   "source": [
    "Index values for a `Pandas Series` need **not** be unique. However, this will limit some operations that can be performed on the `Series` object."
   ]
  },
  {
   "cell_type": "code",
   "execution_count": 11,
   "metadata": {},
   "outputs": [
    {
     "data": {
      "text/plain": [
       "Apple            Monday\n",
       "Banana          Tuesday\n",
       "Watermelon    Wednesday\n",
       "Plum           Thursday\n",
       "Tomato           Friday\n",
       "Banana         Saturday\n",
       "dtype: object"
      ]
     },
     "execution_count": 11,
     "metadata": {},
     "output_type": "execute_result"
    }
   ],
   "source": [
    "fruits = ['Apple', 'Banana', 'Watermelon', 'Plum', 'Tomato', 'Banana']\n",
    "weekdays = ['Monday','Tuesday','Wednesday','Thursday','Friday','Saturday']\n",
    "pd.Series(data=weekdays, index=fruits)"
   ]
  },
  {
   "cell_type": "markdown",
   "metadata": {},
   "source": [
    "### Importing `Series` from a CSV file\n",
    "- Use the `usecols` parameter to specify the column(s) that you need. \n",
    "- `pd.read_csv(..)` always returns a `DataFrame` object. To obtain a `Pandas Series` object, use the `squeeze=True` parameter.\n",
    "\n",
    "**Note:** By default, only the top 30 and bottom 30 values are printed."
   ]
  },
  {
   "cell_type": "code",
   "execution_count": 12,
   "metadata": {},
   "outputs": [],
   "source": [
    "pokemon = pd.read_csv(\"pandas/pokemon.csv\", usecols=['Pokemon'], squeeze=True)\n",
    "google = pd.read_csv(\"pandas/google_stock_price.csv\", squeeze=True)"
   ]
  },
  {
   "cell_type": "markdown",
   "metadata": {},
   "source": [
    "### The `.head(..)` and `.tail(..)` methods\n",
    "A new `Series` object is returned"
   ]
  },
  {
   "cell_type": "code",
   "execution_count": 13,
   "metadata": {},
   "outputs": [
    {
     "data": {
      "text/plain": [
       "0     Bulbasaur\n",
       "1       Ivysaur\n",
       "2      Venusaur\n",
       "3    Charmander\n",
       "4    Charmeleon\n",
       "Name: Pokemon, dtype: object"
      ]
     },
     "execution_count": 13,
     "metadata": {},
     "output_type": "execute_result"
    }
   ],
   "source": [
    "pokemon.head(5) # default -> 5"
   ]
  },
  {
   "cell_type": "code",
   "execution_count": 14,
   "metadata": {},
   "outputs": [
    {
     "data": {
      "text/plain": [
       "3008    771.07\n",
       "3009    773.18\n",
       "3010    771.61\n",
       "3011    782.22\n",
       "Name: Stock Price, dtype: float64"
      ]
     },
     "execution_count": 14,
     "metadata": {},
     "output_type": "execute_result"
    }
   ],
   "source": [
    "google.tail(4)"
   ]
  },
  {
   "cell_type": "markdown",
   "metadata": {},
   "source": [
    "**Built-in Python functions work well with `Series` objects**"
   ]
  },
  {
   "cell_type": "code",
   "execution_count": 15,
   "metadata": {},
   "outputs": [
    {
     "data": {
      "text/plain": [
       "721"
      ]
     },
     "execution_count": 15,
     "metadata": {},
     "output_type": "execute_result"
    }
   ],
   "source": [
    "len(pokemon)"
   ]
  },
  {
   "cell_type": "code",
   "execution_count": 16,
   "metadata": {},
   "outputs": [
    {
     "data": {
      "text/plain": [
       "pandas.core.series.Series"
      ]
     },
     "execution_count": 16,
     "metadata": {},
     "output_type": "execute_result"
    }
   ],
   "source": [
    "type(google)"
   ]
  },
  {
   "cell_type": "code",
   "execution_count": 17,
   "metadata": {},
   "outputs": [
    {
     "data": {
      "text/plain": [
       "['Abomasnow',\n",
       " 'Abra',\n",
       " 'Absol',\n",
       " 'Accelgor',\n",
       " 'Aegislash',\n",
       " 'Aerodactyl',\n",
       " 'Aggron',\n",
       " 'Aipom',\n",
       " 'Alakazam',\n",
       " 'Alomomola',\n",
       " 'Altaria',\n",
       " 'Amaura',\n",
       " 'Ambipom',\n",
       " 'Amoonguss',\n",
       " 'Ampharos',\n",
       " 'Anorith',\n",
       " 'Arbok',\n",
       " 'Arcanine',\n",
       " 'Arceus',\n",
       " 'Archen',\n",
       " 'Archeops',\n",
       " 'Ariados',\n",
       " 'Armaldo',\n",
       " 'Aromatisse',\n",
       " 'Aron',\n",
       " 'Articuno',\n",
       " 'Audino',\n",
       " 'Aurorus',\n",
       " 'Avalugg',\n",
       " 'Axew',\n",
       " 'Azelf',\n",
       " 'Azumarill',\n",
       " 'Azurill',\n",
       " 'Bagon',\n",
       " 'Baltoy',\n",
       " 'Banette',\n",
       " 'Barbaracle',\n",
       " 'Barboach',\n",
       " 'Basculin',\n",
       " 'Bastiodon',\n",
       " 'Bayleef',\n",
       " 'Beartic',\n",
       " 'Beautifly',\n",
       " 'Beedrill',\n",
       " 'Beheeyem',\n",
       " 'Beldum',\n",
       " 'Bellossom',\n",
       " 'Bellsprout',\n",
       " 'Bergmite',\n",
       " 'Bibarel',\n",
       " 'Bidoof',\n",
       " 'Binacle',\n",
       " 'Bisharp',\n",
       " 'Blastoise',\n",
       " 'Blaziken',\n",
       " 'Blissey',\n",
       " 'Blitzle',\n",
       " 'Boldore',\n",
       " 'Bonsly',\n",
       " 'Bouffalant',\n",
       " 'Braixen',\n",
       " 'Braviary',\n",
       " 'Breloom',\n",
       " 'Bronzong',\n",
       " 'Bronzor',\n",
       " 'Budew',\n",
       " 'Buizel',\n",
       " 'Bulbasaur',\n",
       " 'Buneary',\n",
       " 'Bunnelby',\n",
       " 'Burmy',\n",
       " 'Butterfree',\n",
       " 'Cacnea',\n",
       " 'Cacturne',\n",
       " 'Camerupt',\n",
       " 'Carbink',\n",
       " 'Carnivine',\n",
       " 'Carracosta',\n",
       " 'Carvanha',\n",
       " 'Cascoon',\n",
       " 'Castform',\n",
       " 'Caterpie',\n",
       " 'Celebi',\n",
       " 'Chandelure',\n",
       " 'Chansey',\n",
       " 'Charizard',\n",
       " 'Charmander',\n",
       " 'Charmeleon',\n",
       " 'Chatot',\n",
       " 'Cherrim',\n",
       " 'Cherubi',\n",
       " 'Chesnaught',\n",
       " 'Chespin',\n",
       " 'Chikorita',\n",
       " 'Chimchar',\n",
       " 'Chimecho',\n",
       " 'Chinchou',\n",
       " 'Chingling',\n",
       " 'Cinccino',\n",
       " 'Clamperl',\n",
       " 'Clauncher',\n",
       " 'Clawitzer',\n",
       " 'Claydol',\n",
       " 'Clefable',\n",
       " 'Clefairy',\n",
       " 'Cleffa',\n",
       " 'Cloyster',\n",
       " 'Cobalion',\n",
       " 'Cofagrigus',\n",
       " 'Combee',\n",
       " 'Combusken',\n",
       " 'Conkeldurr',\n",
       " 'Corphish',\n",
       " 'Corsola',\n",
       " 'Cottonee',\n",
       " 'Cradily',\n",
       " 'Cranidos',\n",
       " 'Crawdaunt',\n",
       " 'Cresselia',\n",
       " 'Croagunk',\n",
       " 'Crobat',\n",
       " 'Croconaw',\n",
       " 'Crustle',\n",
       " 'Cryogonal',\n",
       " 'Cubchoo',\n",
       " 'Cubone',\n",
       " 'Cyndaquil',\n",
       " 'Darkrai',\n",
       " 'Darmanitan',\n",
       " 'Darumaka',\n",
       " 'Dedenne',\n",
       " 'Deerling',\n",
       " 'Deino',\n",
       " 'Delcatty',\n",
       " 'Delibird',\n",
       " 'Delphox',\n",
       " 'Deoxys',\n",
       " 'Dewgong',\n",
       " 'Dewott',\n",
       " 'Dialga',\n",
       " 'Diancie',\n",
       " 'Diggersby',\n",
       " 'Diglett',\n",
       " 'Ditto',\n",
       " 'Dodrio',\n",
       " 'Doduo',\n",
       " 'Donphan',\n",
       " 'Doublade',\n",
       " 'Dragalge',\n",
       " 'Dragonair',\n",
       " 'Dragonite',\n",
       " 'Drapion',\n",
       " 'Dratini',\n",
       " 'Drifblim',\n",
       " 'Drifloon',\n",
       " 'Drilbur',\n",
       " 'Drowzee',\n",
       " 'Druddigon',\n",
       " 'Ducklett',\n",
       " 'Dugtrio',\n",
       " 'Dunsparce',\n",
       " 'Duosion',\n",
       " 'Durant',\n",
       " 'Dusclops',\n",
       " 'Dusknoir',\n",
       " 'Duskull',\n",
       " 'Dustox',\n",
       " 'Dwebble',\n",
       " 'Eelektrik',\n",
       " 'Eelektross',\n",
       " 'Eevee',\n",
       " 'Ekans',\n",
       " 'Electabuzz',\n",
       " 'Electivire',\n",
       " 'Electrike',\n",
       " 'Electrode',\n",
       " 'Elekid',\n",
       " 'Elgyem',\n",
       " 'Emboar',\n",
       " 'Emolga',\n",
       " 'Empoleon',\n",
       " 'Entei',\n",
       " 'Escavalier',\n",
       " 'Espeon',\n",
       " 'Espurr',\n",
       " 'Excadrill',\n",
       " 'Exeggcute',\n",
       " 'Exeggutor',\n",
       " 'Exploud',\n",
       " \"Farfetch'd\",\n",
       " 'Fearow',\n",
       " 'Feebas',\n",
       " 'Fennekin',\n",
       " 'Feraligatr',\n",
       " 'Ferroseed',\n",
       " 'Ferrothorn',\n",
       " 'Finneon',\n",
       " 'Flaaffy',\n",
       " 'Flabébé',\n",
       " 'Flareon',\n",
       " 'Fletchinder',\n",
       " 'Fletchling',\n",
       " 'Floatzel',\n",
       " 'Floette',\n",
       " 'Florges',\n",
       " 'Flygon',\n",
       " 'Foongus',\n",
       " 'Forretress',\n",
       " 'Fraxure',\n",
       " 'Frillish',\n",
       " 'Froakie',\n",
       " 'Frogadier',\n",
       " 'Froslass',\n",
       " 'Furfrou',\n",
       " 'Furret',\n",
       " 'Gabite',\n",
       " 'Gallade',\n",
       " 'Galvantula',\n",
       " 'Garbodor',\n",
       " 'Garchomp',\n",
       " 'Gardevoir',\n",
       " 'Gastly',\n",
       " 'Gastrodon',\n",
       " 'Genesect',\n",
       " 'Gengar',\n",
       " 'Geodude',\n",
       " 'Gible',\n",
       " 'Gigalith',\n",
       " 'Girafarig',\n",
       " 'Giratina',\n",
       " 'Glaceon',\n",
       " 'Glalie',\n",
       " 'Glameow',\n",
       " 'Gligar',\n",
       " 'Gliscor',\n",
       " 'Gloom',\n",
       " 'Gogoat',\n",
       " 'Golbat',\n",
       " 'Goldeen',\n",
       " 'Golduck',\n",
       " 'Golem',\n",
       " 'Golett',\n",
       " 'Golurk',\n",
       " 'Goodra',\n",
       " 'Goomy',\n",
       " 'Gorebyss',\n",
       " 'Gothita',\n",
       " 'Gothitelle',\n",
       " 'Gothorita',\n",
       " 'Gourgeist',\n",
       " 'Granbull',\n",
       " 'Graveler',\n",
       " 'Greninja',\n",
       " 'Grimer',\n",
       " 'Grotle',\n",
       " 'Groudon',\n",
       " 'Grovyle',\n",
       " 'Growlithe',\n",
       " 'Grumpig',\n",
       " 'Gulpin',\n",
       " 'Gurdurr',\n",
       " 'Gyarados',\n",
       " 'Happiny',\n",
       " 'Hariyama',\n",
       " 'Haunter',\n",
       " 'Hawlucha',\n",
       " 'Haxorus',\n",
       " 'Heatmor',\n",
       " 'Heatran',\n",
       " 'Heliolisk',\n",
       " 'Helioptile',\n",
       " 'Heracross',\n",
       " 'Herdier',\n",
       " 'Hippopotas',\n",
       " 'Hippowdon',\n",
       " 'Hitmonchan',\n",
       " 'Hitmonlee',\n",
       " 'Hitmontop',\n",
       " 'Ho-oh',\n",
       " 'Honchkrow',\n",
       " 'Honedge',\n",
       " 'Hoopa',\n",
       " 'Hoothoot',\n",
       " 'Hoppip',\n",
       " 'Horsea',\n",
       " 'Houndoom',\n",
       " 'Houndour',\n",
       " 'Huntail',\n",
       " 'Hydreigon',\n",
       " 'Hypno',\n",
       " 'Igglybuff',\n",
       " 'Illumise',\n",
       " 'Infernape',\n",
       " 'Inkay',\n",
       " 'Ivysaur',\n",
       " 'Jellicent',\n",
       " 'Jigglypuff',\n",
       " 'Jirachi',\n",
       " 'Jolteon',\n",
       " 'Joltik',\n",
       " 'Jumpluff',\n",
       " 'Jynx',\n",
       " 'Kabuto',\n",
       " 'Kabutops',\n",
       " 'Kadabra',\n",
       " 'Kakuna',\n",
       " 'Kangaskhan',\n",
       " 'Karrablast',\n",
       " 'Kecleon',\n",
       " 'Keldeo',\n",
       " 'Kingdra',\n",
       " 'Kingler',\n",
       " 'Kirlia',\n",
       " 'Klang',\n",
       " 'Klefki',\n",
       " 'Klink',\n",
       " 'Klinklang',\n",
       " 'Koffing',\n",
       " 'Krabby',\n",
       " 'Kricketot',\n",
       " 'Kricketune',\n",
       " 'Krokorok',\n",
       " 'Krookodile',\n",
       " 'Kyogre',\n",
       " 'Kyurem',\n",
       " 'Lairon',\n",
       " 'Lampent',\n",
       " 'Landorus',\n",
       " 'Lanturn',\n",
       " 'Lapras',\n",
       " 'Larvesta',\n",
       " 'Larvitar',\n",
       " 'Latias',\n",
       " 'Latios',\n",
       " 'Leafeon',\n",
       " 'Leavanny',\n",
       " 'Ledian',\n",
       " 'Ledyba',\n",
       " 'Lickilicky',\n",
       " 'Lickitung',\n",
       " 'Liepard',\n",
       " 'Lileep',\n",
       " 'Lilligant',\n",
       " 'Lillipup',\n",
       " 'Linoone',\n",
       " 'Litleo',\n",
       " 'Litwick',\n",
       " 'Lombre',\n",
       " 'Lopunny',\n",
       " 'Lotad',\n",
       " 'Loudred',\n",
       " 'Lucario',\n",
       " 'Ludicolo',\n",
       " 'Lugia',\n",
       " 'Lumineon',\n",
       " 'Lunatone',\n",
       " 'Luvdisc',\n",
       " 'Luxio',\n",
       " 'Luxray',\n",
       " 'Machamp',\n",
       " 'Machoke',\n",
       " 'Machop',\n",
       " 'Magby',\n",
       " 'Magcargo',\n",
       " 'Magikarp',\n",
       " 'Magmar',\n",
       " 'Magmortar',\n",
       " 'Magnemite',\n",
       " 'Magneton',\n",
       " 'Magnezone',\n",
       " 'Makuhita',\n",
       " 'Malamar',\n",
       " 'Mamoswine',\n",
       " 'Manaphy',\n",
       " 'Mandibuzz',\n",
       " 'Manectric',\n",
       " 'Mankey',\n",
       " 'Mantine',\n",
       " 'Mantyke',\n",
       " 'Maractus',\n",
       " 'Mareep',\n",
       " 'Marill',\n",
       " 'Marowak',\n",
       " 'Marshtomp',\n",
       " 'Masquerain',\n",
       " 'Mawile',\n",
       " 'Medicham',\n",
       " 'Meditite',\n",
       " 'Meganium',\n",
       " 'Meloetta',\n",
       " 'Meowstic',\n",
       " 'Meowth',\n",
       " 'Mesprit',\n",
       " 'Metagross',\n",
       " 'Metang',\n",
       " 'Metapod',\n",
       " 'Mew',\n",
       " 'Mewtwo',\n",
       " 'Mienfoo',\n",
       " 'Mienshao',\n",
       " 'Mightyena',\n",
       " 'Milotic',\n",
       " 'Miltank',\n",
       " 'Mime Jr.',\n",
       " 'Minccino',\n",
       " 'Minun',\n",
       " 'Misdreavus',\n",
       " 'Mismagius',\n",
       " 'Moltres',\n",
       " 'Monferno',\n",
       " 'Mothim',\n",
       " 'Mr. Mime',\n",
       " 'Mudkip',\n",
       " 'Muk',\n",
       " 'Munchlax',\n",
       " 'Munna',\n",
       " 'Murkrow',\n",
       " 'Musharna',\n",
       " 'Natu',\n",
       " 'Nidoking',\n",
       " 'Nidoqueen',\n",
       " 'Nidoran',\n",
       " 'Nidoran♂',\n",
       " 'Nidorina',\n",
       " 'Nidorino',\n",
       " 'Nincada',\n",
       " 'Ninetales',\n",
       " 'Ninjask',\n",
       " 'Noctowl',\n",
       " 'Noibat',\n",
       " 'Noivern',\n",
       " 'Nosepass',\n",
       " 'Numel',\n",
       " 'Nuzleaf',\n",
       " 'Octillery',\n",
       " 'Oddish',\n",
       " 'Omanyte',\n",
       " 'Omastar',\n",
       " 'Onix',\n",
       " 'Oshawott',\n",
       " 'Pachirisu',\n",
       " 'Palkia',\n",
       " 'Palpitoad',\n",
       " 'Pancham',\n",
       " 'Pangoro',\n",
       " 'Panpour',\n",
       " 'Pansage',\n",
       " 'Pansear',\n",
       " 'Paras',\n",
       " 'Parasect',\n",
       " 'Patrat',\n",
       " 'Pawniard',\n",
       " 'Pelipper',\n",
       " 'Persian',\n",
       " 'Petilil',\n",
       " 'Phanpy',\n",
       " 'Phantump',\n",
       " 'Phione',\n",
       " 'Pichu',\n",
       " 'Pidgeot',\n",
       " 'Pidgeotto',\n",
       " 'Pidgey',\n",
       " 'Pidove',\n",
       " 'Pignite',\n",
       " 'Pikachu',\n",
       " 'Piloswine',\n",
       " 'Pineco',\n",
       " 'Pinsir',\n",
       " 'Piplup',\n",
       " 'Plusle',\n",
       " 'Politoed',\n",
       " 'Poliwag',\n",
       " 'Poliwhirl',\n",
       " 'Poliwrath',\n",
       " 'Ponyta',\n",
       " 'Poochyena',\n",
       " 'Porygon',\n",
       " 'Porygon-Z',\n",
       " 'Porygon2',\n",
       " 'Primeape',\n",
       " 'Prinplup',\n",
       " 'Probopass',\n",
       " 'Psyduck',\n",
       " 'Pumpkaboo',\n",
       " 'Pupitar',\n",
       " 'Purrloin',\n",
       " 'Purugly',\n",
       " 'Pyroar',\n",
       " 'Quagsire',\n",
       " 'Quilava',\n",
       " 'Quilladin',\n",
       " 'Qwilfish',\n",
       " 'Raichu',\n",
       " 'Raikou',\n",
       " 'Ralts',\n",
       " 'Rampardos',\n",
       " 'Rapidash',\n",
       " 'Raticate',\n",
       " 'Rattata',\n",
       " 'Rayquaza',\n",
       " 'Regice',\n",
       " 'Regigigas',\n",
       " 'Regirock',\n",
       " 'Registeel',\n",
       " 'Relicanth',\n",
       " 'Remoraid',\n",
       " 'Reshiram',\n",
       " 'Reuniclus',\n",
       " 'Rhydon',\n",
       " 'Rhyhorn',\n",
       " 'Rhyperior',\n",
       " 'Riolu',\n",
       " 'Roggenrola',\n",
       " 'Roselia',\n",
       " 'Roserade',\n",
       " 'Rotom',\n",
       " 'Rufflet',\n",
       " 'Sableye',\n",
       " 'Salamence',\n",
       " 'Samurott',\n",
       " 'Sandile',\n",
       " 'Sandshrew',\n",
       " 'Sandslash',\n",
       " 'Sawk',\n",
       " 'Sawsbuck',\n",
       " 'Scatterbug',\n",
       " 'Sceptile',\n",
       " 'Scizor',\n",
       " 'Scolipede',\n",
       " 'Scrafty',\n",
       " 'Scraggy',\n",
       " 'Scyther',\n",
       " 'Seadra',\n",
       " 'Seaking',\n",
       " 'Sealeo',\n",
       " 'Seedot',\n",
       " 'Seel',\n",
       " 'Seismitoad',\n",
       " 'Sentret',\n",
       " 'Serperior',\n",
       " 'Servine',\n",
       " 'Seviper',\n",
       " 'Sewaddle',\n",
       " 'Sharpedo',\n",
       " 'Shaymin',\n",
       " 'Shedinja',\n",
       " 'Shelgon',\n",
       " 'Shellder',\n",
       " 'Shellos',\n",
       " 'Shelmet',\n",
       " 'Shieldon',\n",
       " 'Shiftry',\n",
       " 'Shinx',\n",
       " 'Shroomish',\n",
       " 'Shuckle',\n",
       " 'Shuppet',\n",
       " 'Sigilyph',\n",
       " 'Silcoon',\n",
       " 'Simipour',\n",
       " 'Simisage',\n",
       " 'Simisear',\n",
       " 'Skarmory',\n",
       " 'Skiddo',\n",
       " 'Skiploom',\n",
       " 'Skitty',\n",
       " 'Skorupi',\n",
       " 'Skrelp',\n",
       " 'Skuntank',\n",
       " 'Slaking',\n",
       " 'Slakoth',\n",
       " 'Sliggoo',\n",
       " 'Slowbro',\n",
       " 'Slowking',\n",
       " 'Slowpoke',\n",
       " 'Slugma',\n",
       " 'Slurpuff',\n",
       " 'Smeargle',\n",
       " 'Smoochum',\n",
       " 'Sneasel',\n",
       " 'Snivy',\n",
       " 'Snorlax',\n",
       " 'Snorunt',\n",
       " 'Snover',\n",
       " 'Snubbull',\n",
       " 'Solosis',\n",
       " 'Solrock',\n",
       " 'Spearow',\n",
       " 'Spewpa',\n",
       " 'Spheal',\n",
       " 'Spinarak',\n",
       " 'Spinda',\n",
       " 'Spiritomb',\n",
       " 'Spoink',\n",
       " 'Spritzee',\n",
       " 'Squirtle',\n",
       " 'Stantler',\n",
       " 'Staraptor',\n",
       " 'Staravia',\n",
       " 'Starly',\n",
       " 'Starmie',\n",
       " 'Staryu',\n",
       " 'Steelix',\n",
       " 'Stoutland',\n",
       " 'Stunfisk',\n",
       " 'Stunky',\n",
       " 'Sudowoodo',\n",
       " 'Suicune',\n",
       " 'Sunflora',\n",
       " 'Sunkern',\n",
       " 'Surskit',\n",
       " 'Swablu',\n",
       " 'Swadloon',\n",
       " 'Swalot',\n",
       " 'Swampert',\n",
       " 'Swanna',\n",
       " 'Swellow',\n",
       " 'Swinub',\n",
       " 'Swirlix',\n",
       " 'Swoobat',\n",
       " 'Sylveon',\n",
       " 'Taillow',\n",
       " 'Talonflame',\n",
       " 'Tangela',\n",
       " 'Tangrowth',\n",
       " 'Tauros',\n",
       " 'Teddiursa',\n",
       " 'Tentacool',\n",
       " 'Tentacruel',\n",
       " 'Tepig',\n",
       " 'Terrakion',\n",
       " 'Throh',\n",
       " 'Thundurus',\n",
       " 'Timburr',\n",
       " 'Tirtouga',\n",
       " 'Togekiss',\n",
       " 'Togepi',\n",
       " 'Togetic',\n",
       " 'Torchic',\n",
       " 'Torkoal',\n",
       " 'Tornadus',\n",
       " 'Torterra',\n",
       " 'Totodile',\n",
       " 'Toxicroak',\n",
       " 'Tranquill',\n",
       " 'Trapinch',\n",
       " 'Treecko',\n",
       " 'Trevenant',\n",
       " 'Tropius',\n",
       " 'Trubbish',\n",
       " 'Turtwig',\n",
       " 'Tympole',\n",
       " 'Tynamo',\n",
       " 'Typhlosion',\n",
       " 'Tyranitar',\n",
       " 'Tyrantrum',\n",
       " 'Tyrogue',\n",
       " 'Tyrunt',\n",
       " 'Umbreon',\n",
       " 'Unfezant',\n",
       " 'Unown',\n",
       " 'Ursaring',\n",
       " 'Uxie',\n",
       " 'Vanillish',\n",
       " 'Vanillite',\n",
       " 'Vanilluxe',\n",
       " 'Vaporeon',\n",
       " 'Venipede',\n",
       " 'Venomoth',\n",
       " 'Venonat',\n",
       " 'Venusaur',\n",
       " 'Vespiquen',\n",
       " 'Vibrava',\n",
       " 'Victini',\n",
       " 'Victreebel',\n",
       " 'Vigoroth',\n",
       " 'Vileplume',\n",
       " 'Virizion',\n",
       " 'Vivillon',\n",
       " 'Volbeat',\n",
       " 'Volcanion',\n",
       " 'Volcarona',\n",
       " 'Voltorb',\n",
       " 'Vullaby',\n",
       " 'Vulpix',\n",
       " 'Wailmer',\n",
       " 'Wailord',\n",
       " 'Walrein',\n",
       " 'Wartortle',\n",
       " 'Watchog',\n",
       " 'Weavile',\n",
       " 'Weedle',\n",
       " 'Weepinbell',\n",
       " 'Weezing',\n",
       " 'Whimsicott',\n",
       " 'Whirlipede',\n",
       " 'Whiscash',\n",
       " 'Whismur',\n",
       " 'Wigglytuff',\n",
       " 'Wingull',\n",
       " 'Wobbuffet',\n",
       " 'Woobat',\n",
       " 'Wooper',\n",
       " 'Wormadam',\n",
       " 'Wurmple',\n",
       " 'Wynaut',\n",
       " 'Xatu',\n",
       " 'Xerneas',\n",
       " 'Yamask',\n",
       " 'Yanma',\n",
       " 'Yanmega',\n",
       " 'Yveltal',\n",
       " 'Zangoose',\n",
       " 'Zapdos',\n",
       " 'Zebstrika',\n",
       " 'Zekrom',\n",
       " 'Zigzagoon',\n",
       " 'Zoroark',\n",
       " 'Zorua',\n",
       " 'Zubat',\n",
       " 'Zweilous',\n",
       " 'Zygarde']"
      ]
     },
     "execution_count": 17,
     "metadata": {},
     "output_type": "execute_result"
    }
   ],
   "source": [
    "sorted(pokemon)"
   ]
  },
  {
   "cell_type": "code",
   "execution_count": 18,
   "metadata": {},
   "outputs": [
    {
     "data": {
      "text/plain": [
       "['Bulbasaur', 'Ivysaur', 'Venusaur', 'Charmander', 'Charmeleon']"
      ]
     },
     "execution_count": 18,
     "metadata": {},
     "output_type": "execute_result"
    }
   ],
   "source": [
    "list(pokemon.head(5))"
   ]
  },
  {
   "cell_type": "code",
   "execution_count": 19,
   "metadata": {},
   "outputs": [
    {
     "data": {
      "text/plain": [
       "{0: 50.12, 1: 54.1, 2: 54.65, 3: 52.38, 4: 52.95}"
      ]
     },
     "execution_count": 19,
     "metadata": {},
     "output_type": "execute_result"
    }
   ],
   "source": [
    "dict(google.head(5))"
   ]
  },
  {
   "cell_type": "code",
   "execution_count": 20,
   "metadata": {},
   "outputs": [
    {
     "data": {
      "text/plain": [
       "'Zygarde'"
      ]
     },
     "execution_count": 20,
     "metadata": {},
     "output_type": "execute_result"
    }
   ],
   "source": [
    "max(pokemon)"
   ]
  },
  {
   "cell_type": "code",
   "execution_count": 21,
   "metadata": {},
   "outputs": [
    {
     "data": {
      "text/plain": [
       "49.95"
      ]
     },
     "execution_count": 21,
     "metadata": {},
     "output_type": "execute_result"
    }
   ],
   "source": [
    "min(google)"
   ]
  },
  {
   "cell_type": "markdown",
   "metadata": {},
   "source": [
    "## More `Series` attributes"
   ]
  },
  {
   "cell_type": "code",
   "execution_count": 22,
   "metadata": {},
   "outputs": [],
   "source": [
    "pokemon = pd.read_csv(\"pandas/pokemon.csv\", usecols=['Pokemon'], squeeze=True)\n",
    "google = pd.read_csv(\"pandas/google_stock_price.csv\", squeeze=True)"
   ]
  },
  {
   "cell_type": "markdown",
   "metadata": {},
   "source": [
    "**`.values` provides an array of values of the series <br>\n",
    "`.index` provides the indexes of the series\n",
    "`.dtype` provides the datatype of the series**"
   ]
  },
  {
   "cell_type": "code",
   "execution_count": 23,
   "metadata": {},
   "outputs": [
    {
     "data": {
      "text/plain": [
       "array([ 50.12,  54.1 ,  54.65, ..., 773.18, 771.61, 782.22])"
      ]
     },
     "execution_count": 23,
     "metadata": {},
     "output_type": "execute_result"
    }
   ],
   "source": [
    "google.values"
   ]
  },
  {
   "cell_type": "code",
   "execution_count": 24,
   "metadata": {},
   "outputs": [
    {
     "data": {
      "text/plain": [
       "RangeIndex(start=0, stop=721, step=1)"
      ]
     },
     "execution_count": 24,
     "metadata": {},
     "output_type": "execute_result"
    }
   ],
   "source": [
    "pokemon.index"
   ]
  },
  {
   "cell_type": "code",
   "execution_count": 25,
   "metadata": {},
   "outputs": [
    {
     "data": {
      "text/plain": [
       "dtype('O')"
      ]
     },
     "execution_count": 25,
     "metadata": {},
     "output_type": "execute_result"
    }
   ],
   "source": [
    "pokemon.dtype"
   ]
  },
  {
   "cell_type": "markdown",
   "metadata": {},
   "source": [
    "-----------\n",
    "**`.is_unique` returns `True` if the values in the `Series` are unique.**"
   ]
  },
  {
   "cell_type": "code",
   "execution_count": 26,
   "metadata": {},
   "outputs": [
    {
     "name": "stdout",
     "output_type": "stream",
     "text": [
      "True\n",
      "False\n"
     ]
    }
   ],
   "source": [
    "print(pokemon.is_unique)\n",
    "print(google.is_unique)"
   ]
  },
  {
   "cell_type": "markdown",
   "metadata": {},
   "source": [
    "----------\n",
    "**`.ndim` to obtain the number of dimensions of the object** <br>\n",
    "Since a `Series` is one-dimendional object, 1 is returned.\n",
    "\n",
    "**`.shape` returns a tuple that denotes the shape of the object** <br>"
   ]
  },
  {
   "cell_type": "code",
   "execution_count": 27,
   "metadata": {},
   "outputs": [
    {
     "name": "stdout",
     "output_type": "stream",
     "text": [
      "pokemon.ndim: 1\n",
      "google.ndim 1\n",
      "pokemon.shape: (721,)\n",
      "google.shape: (3012,)\n"
     ]
    }
   ],
   "source": [
    "print('pokemon.ndim:', pokemon.ndim)\n",
    "print('google.ndim', google.ndim)\n",
    "print('pokemon.shape:', pokemon.shape)\n",
    "print('google.shape:', google.shape)"
   ]
  },
  {
   "cell_type": "code",
   "execution_count": 28,
   "metadata": {},
   "outputs": [
    {
     "data": {
      "text/plain": [
       "(721,)"
      ]
     },
     "execution_count": 28,
     "metadata": {},
     "output_type": "execute_result"
    }
   ],
   "source": [
    "pokemon.shape"
   ]
  },
  {
   "cell_type": "markdown",
   "metadata": {},
   "source": [
    "--------\n",
    "**`.size` gives total number of values.** <br/>\n",
    "NOTE: It counts the null values as well"
   ]
  },
  {
   "cell_type": "code",
   "execution_count": 29,
   "metadata": {},
   "outputs": [
    {
     "name": "stdout",
     "output_type": "stream",
     "text": [
      "pokemon.size: 721\n",
      "google.size: 3012\n"
     ]
    }
   ],
   "source": [
    "print('pokemon.size:', pokemon.size)\n",
    "print('google.size:', google.size)"
   ]
  },
  {
   "cell_type": "markdown",
   "metadata": {},
   "source": [
    "----------\n",
    "**`.name` attribute for the name of the `Series`** <br/>\n",
    "The name of the Series can be reassigned."
   ]
  },
  {
   "cell_type": "code",
   "execution_count": 30,
   "metadata": {},
   "outputs": [
    {
     "data": {
      "text/plain": [
       "'Pokemon'"
      ]
     },
     "execution_count": 30,
     "metadata": {},
     "output_type": "execute_result"
    }
   ],
   "source": [
    "pokemon.name"
   ]
  },
  {
   "cell_type": "code",
   "execution_count": 31,
   "metadata": {},
   "outputs": [],
   "source": [
    "pokemon.name = 'Pocket Monsters'"
   ]
  },
  {
   "cell_type": "code",
   "execution_count": 32,
   "metadata": {},
   "outputs": [
    {
     "data": {
      "text/plain": [
       "0    Bulbasaur\n",
       "1      Ivysaur\n",
       "2     Venusaur\n",
       "Name: Pocket Monsters, dtype: object"
      ]
     },
     "execution_count": 32,
     "metadata": {},
     "output_type": "execute_result"
    }
   ],
   "source": [
    "pokemon.head(3)"
   ]
  },
  {
   "cell_type": "markdown",
   "metadata": {},
   "source": [
    "------\n",
    "**`.sort_values(..)` to sort the values** <br/>\n",
    "It returns a brand new series. Hence, you can use method chaining."
   ]
  },
  {
   "cell_type": "code",
   "execution_count": 33,
   "metadata": {},
   "outputs": [
    {
     "data": {
      "text/plain": [
       "459    Abomasnow\n",
       "62          Abra\n",
       "358        Absol\n",
       "Name: Pocket Monsters, dtype: object"
      ]
     },
     "execution_count": 33,
     "metadata": {},
     "output_type": "execute_result"
    }
   ],
   "source": [
    "pokemon.sort_values().head(3)"
   ]
  },
  {
   "cell_type": "code",
   "execution_count": 34,
   "metadata": {},
   "outputs": [
    {
     "data": {
      "text/plain": [
       "717     Zygarde\n",
       "633    Zweilous\n",
       "40        Zubat\n",
       "Name: Pocket Monsters, dtype: object"
      ]
     },
     "execution_count": 34,
     "metadata": {},
     "output_type": "execute_result"
    }
   ],
   "source": [
    "pokemon.sort_values(ascending=False).head(3)"
   ]
  },
  {
   "cell_type": "markdown",
   "metadata": {},
   "source": [
    "**The `inplace` parameter can be used to set the value of the variable being sorted implicitly, hence not requiring an explicit reassignment.**\n",
    "This means that, `pokemon = pokemon.sort_values()` is same as `pokemon.sort_values(inplace=True)`"
   ]
  },
  {
   "cell_type": "code",
   "execution_count": 35,
   "metadata": {},
   "outputs": [
    {
     "data": {
      "text/plain": [
       "717     Zygarde\n",
       "633    Zweilous\n",
       "40        Zubat\n",
       "569       Zorua\n",
       "Name: Pocket Monsters, dtype: object"
      ]
     },
     "execution_count": 35,
     "metadata": {},
     "output_type": "execute_result"
    }
   ],
   "source": [
    "pokemon.sort_values(ascending=False, inplace=True)\n",
    "pokemon.head(4)"
   ]
  },
  {
   "cell_type": "markdown",
   "metadata": {},
   "source": [
    "-------\n",
    "**`.sort_index(..)` to sort the indices** <br/>\n",
    "Printing the top 3 rows of the `Series`, we see that the indices are not sorted."
   ]
  },
  {
   "cell_type": "code",
   "execution_count": 36,
   "metadata": {},
   "outputs": [
    {
     "data": {
      "text/plain": [
       "717     Zygarde\n",
       "633    Zweilous\n",
       "40        Zubat\n",
       "Name: Pocket Monsters, dtype: object"
      ]
     },
     "execution_count": 36,
     "metadata": {},
     "output_type": "execute_result"
    }
   ],
   "source": [
    "pokemon.head(3)"
   ]
  },
  {
   "cell_type": "markdown",
   "metadata": {},
   "source": [
    "**Sorting the indices using `sort_index(..)`.**"
   ]
  },
  {
   "cell_type": "code",
   "execution_count": 37,
   "metadata": {},
   "outputs": [
    {
     "data": {
      "text/plain": [
       "0    Bulbasaur\n",
       "1      Ivysaur\n",
       "2     Venusaur\n",
       "Name: Pocket Monsters, dtype: object"
      ]
     },
     "execution_count": 37,
     "metadata": {},
     "output_type": "execute_result"
    }
   ],
   "source": [
    "pokemon.sort_index().head(3)"
   ]
  },
  {
   "cell_type": "markdown",
   "metadata": {},
   "source": [
    "**Using the `inplace` parameter**"
   ]
  },
  {
   "cell_type": "code",
   "execution_count": 38,
   "metadata": {},
   "outputs": [],
   "source": [
    "pokemon.sort_index(ascending=True, inplace=True)"
   ]
  },
  {
   "cell_type": "markdown",
   "metadata": {},
   "source": [
    "----\n",
    "## Python's `in` keyword"
   ]
  },
  {
   "cell_type": "code",
   "execution_count": 39,
   "metadata": {},
   "outputs": [
    {
     "data": {
      "text/plain": [
       "0    Bulbasaur\n",
       "1      Ivysaur\n",
       "2     Venusaur\n",
       "Name: Pocket Monsters, dtype: object"
      ]
     },
     "execution_count": 39,
     "metadata": {},
     "output_type": "execute_result"
    }
   ],
   "source": [
    "pokemon.head(3)"
   ]
  },
  {
   "cell_type": "code",
   "execution_count": 40,
   "metadata": {},
   "outputs": [
    {
     "data": {
      "text/plain": [
       "False"
      ]
     },
     "execution_count": 40,
     "metadata": {},
     "output_type": "execute_result"
    }
   ],
   "source": [
    "'Bulbasaur' in pokemon"
   ]
  },
  {
   "cell_type": "markdown",
   "metadata": {},
   "source": [
    "**NOTE:** Even though `Bulbasaur` exists in the series, `in` keyword still returns `False`. <br/>\n",
    "This is because, by-default, the `in` keyword only checks for the indices, **not** the series values."
   ]
  },
  {
   "cell_type": "code",
   "execution_count": 41,
   "metadata": {},
   "outputs": [
    {
     "data": {
      "text/plain": [
       "True"
      ]
     },
     "execution_count": 41,
     "metadata": {},
     "output_type": "execute_result"
    }
   ],
   "source": [
    "100 in pokemon"
   ]
  },
  {
   "cell_type": "markdown",
   "metadata": {},
   "source": [
    "**The above code returns `True` because `100` is one of the indices of the Series.\n",
    "It is same as writing `100 in pokemon.index`. <br/>\n",
    "To find if a value is present in a Series, use the `.values` attribute**"
   ]
  },
  {
   "cell_type": "code",
   "execution_count": 42,
   "metadata": {},
   "outputs": [
    {
     "data": {
      "text/plain": [
       "True"
      ]
     },
     "execution_count": 42,
     "metadata": {},
     "output_type": "execute_result"
    }
   ],
   "source": [
    "'Bulbasaur' in pokemon.values"
   ]
  },
  {
   "cell_type": "markdown",
   "metadata": {},
   "source": [
    "-----\n",
    "## Extracting values based on index position\n",
    "pokemon at index position of 500. <br/>\n",
    "**NOTE:** A string is returned"
   ]
  },
  {
   "cell_type": "code",
   "execution_count": 43,
   "metadata": {},
   "outputs": [
    {
     "data": {
      "text/plain": [
       "'Oshawott'"
      ]
     },
     "execution_count": 43,
     "metadata": {},
     "output_type": "execute_result"
    }
   ],
   "source": [
    "pokemon[500]"
   ]
  },
  {
   "cell_type": "markdown",
   "metadata": {},
   "source": [
    "**To obtain more than 1 value provide the desired index positions as a list** <br/>\n",
    "**NOTE:** In this case, another Series gets returned"
   ]
  },
  {
   "cell_type": "code",
   "execution_count": 44,
   "metadata": {},
   "outputs": [
    {
     "data": {
      "text/plain": [
       "100    Electrode\n",
       "200        Unown\n",
       "300     Delcatty\n",
       "Name: Pocket Monsters, dtype: object"
      ]
     },
     "execution_count": 44,
     "metadata": {},
     "output_type": "execute_result"
    }
   ],
   "source": [
    "pokemon[[100,200,300]]"
   ]
  },
  {
   "cell_type": "code",
   "execution_count": 45,
   "metadata": {},
   "outputs": [
    {
     "data": {
      "text/plain": [
       "50    Dugtrio\n",
       "51     Meowth\n",
       "52    Persian\n",
       "53    Psyduck\n",
       "54    Golduck\n",
       "Name: Pocket Monsters, dtype: object"
      ]
     },
     "execution_count": 45,
     "metadata": {},
     "output_type": "execute_result"
    }
   ],
   "source": [
    "pokemon[50:55]"
   ]
  },
  {
   "cell_type": "code",
   "execution_count": 46,
   "metadata": {},
   "outputs": [
    {
     "data": {
      "text/plain": [
       "0     Bulbasaur\n",
       "1       Ivysaur\n",
       "2      Venusaur\n",
       "3    Charmander\n",
       "4    Charmeleon\n",
       "Name: Pocket Monsters, dtype: object"
      ]
     },
     "execution_count": 46,
     "metadata": {},
     "output_type": "execute_result"
    }
   ],
   "source": [
    "pokemon[:5]"
   ]
  },
  {
   "cell_type": "code",
   "execution_count": 47,
   "metadata": {},
   "outputs": [
    {
     "data": {
      "text/plain": [
       "716      Yveltal\n",
       "717      Zygarde\n",
       "718      Diancie\n",
       "719        Hoopa\n",
       "720    Volcanion\n",
       "Name: Pocket Monsters, dtype: object"
      ]
     },
     "execution_count": 47,
     "metadata": {},
     "output_type": "execute_result"
    }
   ],
   "source": [
    "pokemon[-5:]"
   ]
  },
  {
   "cell_type": "markdown",
   "metadata": {},
   "source": [
    "## Extracting values based on index label\n",
    "**NOTE:** By-default a DataFrame is read"
   ]
  },
  {
   "cell_type": "code",
   "execution_count": 48,
   "metadata": {},
   "outputs": [
    {
     "data": {
      "text/html": [
       "<div>\n",
       "<style scoped>\n",
       "    .dataframe tbody tr th:only-of-type {\n",
       "        vertical-align: middle;\n",
       "    }\n",
       "\n",
       "    .dataframe tbody tr th {\n",
       "        vertical-align: top;\n",
       "    }\n",
       "\n",
       "    .dataframe thead th {\n",
       "        text-align: right;\n",
       "    }\n",
       "</style>\n",
       "<table border=\"1\" class=\"dataframe\">\n",
       "  <thead>\n",
       "    <tr style=\"text-align: right;\">\n",
       "      <th></th>\n",
       "      <th>Pokemon</th>\n",
       "      <th>Type</th>\n",
       "    </tr>\n",
       "  </thead>\n",
       "  <tbody>\n",
       "    <tr>\n",
       "      <th>0</th>\n",
       "      <td>Bulbasaur</td>\n",
       "      <td>Grass</td>\n",
       "    </tr>\n",
       "    <tr>\n",
       "      <th>1</th>\n",
       "      <td>Ivysaur</td>\n",
       "      <td>Grass</td>\n",
       "    </tr>\n",
       "    <tr>\n",
       "      <th>2</th>\n",
       "      <td>Venusaur</td>\n",
       "      <td>Grass</td>\n",
       "    </tr>\n",
       "    <tr>\n",
       "      <th>3</th>\n",
       "      <td>Charmander</td>\n",
       "      <td>Fire</td>\n",
       "    </tr>\n",
       "    <tr>\n",
       "      <th>4</th>\n",
       "      <td>Charmeleon</td>\n",
       "      <td>Fire</td>\n",
       "    </tr>\n",
       "    <tr>\n",
       "      <th>5</th>\n",
       "      <td>Charizard</td>\n",
       "      <td>Fire</td>\n",
       "    </tr>\n",
       "    <tr>\n",
       "      <th>6</th>\n",
       "      <td>Squirtle</td>\n",
       "      <td>Water</td>\n",
       "    </tr>\n",
       "    <tr>\n",
       "      <th>7</th>\n",
       "      <td>Wartortle</td>\n",
       "      <td>Water</td>\n",
       "    </tr>\n",
       "    <tr>\n",
       "      <th>8</th>\n",
       "      <td>Blastoise</td>\n",
       "      <td>Water</td>\n",
       "    </tr>\n",
       "    <tr>\n",
       "      <th>9</th>\n",
       "      <td>Caterpie</td>\n",
       "      <td>Bug</td>\n",
       "    </tr>\n",
       "    <tr>\n",
       "      <th>10</th>\n",
       "      <td>Metapod</td>\n",
       "      <td>Bug</td>\n",
       "    </tr>\n",
       "    <tr>\n",
       "      <th>11</th>\n",
       "      <td>Butterfree</td>\n",
       "      <td>Bug</td>\n",
       "    </tr>\n",
       "    <tr>\n",
       "      <th>12</th>\n",
       "      <td>Weedle</td>\n",
       "      <td>Bug</td>\n",
       "    </tr>\n",
       "    <tr>\n",
       "      <th>13</th>\n",
       "      <td>Kakuna</td>\n",
       "      <td>Bug</td>\n",
       "    </tr>\n",
       "    <tr>\n",
       "      <th>14</th>\n",
       "      <td>Beedrill</td>\n",
       "      <td>Bug</td>\n",
       "    </tr>\n",
       "    <tr>\n",
       "      <th>15</th>\n",
       "      <td>Pidgey</td>\n",
       "      <td>Normal</td>\n",
       "    </tr>\n",
       "    <tr>\n",
       "      <th>16</th>\n",
       "      <td>Pidgeotto</td>\n",
       "      <td>Normal</td>\n",
       "    </tr>\n",
       "    <tr>\n",
       "      <th>17</th>\n",
       "      <td>Pidgeot</td>\n",
       "      <td>Normal</td>\n",
       "    </tr>\n",
       "    <tr>\n",
       "      <th>18</th>\n",
       "      <td>Rattata</td>\n",
       "      <td>Normal</td>\n",
       "    </tr>\n",
       "    <tr>\n",
       "      <th>19</th>\n",
       "      <td>Raticate</td>\n",
       "      <td>Normal</td>\n",
       "    </tr>\n",
       "    <tr>\n",
       "      <th>20</th>\n",
       "      <td>Spearow</td>\n",
       "      <td>Normal</td>\n",
       "    </tr>\n",
       "    <tr>\n",
       "      <th>21</th>\n",
       "      <td>Fearow</td>\n",
       "      <td>Normal</td>\n",
       "    </tr>\n",
       "    <tr>\n",
       "      <th>22</th>\n",
       "      <td>Ekans</td>\n",
       "      <td>Poison</td>\n",
       "    </tr>\n",
       "    <tr>\n",
       "      <th>23</th>\n",
       "      <td>Arbok</td>\n",
       "      <td>Poison</td>\n",
       "    </tr>\n",
       "    <tr>\n",
       "      <th>24</th>\n",
       "      <td>Pikachu</td>\n",
       "      <td>Electric</td>\n",
       "    </tr>\n",
       "    <tr>\n",
       "      <th>25</th>\n",
       "      <td>Raichu</td>\n",
       "      <td>Electric</td>\n",
       "    </tr>\n",
       "    <tr>\n",
       "      <th>26</th>\n",
       "      <td>Sandshrew</td>\n",
       "      <td>Ground</td>\n",
       "    </tr>\n",
       "    <tr>\n",
       "      <th>27</th>\n",
       "      <td>Sandslash</td>\n",
       "      <td>Ground</td>\n",
       "    </tr>\n",
       "    <tr>\n",
       "      <th>28</th>\n",
       "      <td>Nidoran</td>\n",
       "      <td>Poison</td>\n",
       "    </tr>\n",
       "    <tr>\n",
       "      <th>29</th>\n",
       "      <td>Nidorina</td>\n",
       "      <td>Poison</td>\n",
       "    </tr>\n",
       "    <tr>\n",
       "      <th>...</th>\n",
       "      <td>...</td>\n",
       "      <td>...</td>\n",
       "    </tr>\n",
       "    <tr>\n",
       "      <th>691</th>\n",
       "      <td>Clauncher</td>\n",
       "      <td>Water</td>\n",
       "    </tr>\n",
       "    <tr>\n",
       "      <th>692</th>\n",
       "      <td>Clawitzer</td>\n",
       "      <td>Water</td>\n",
       "    </tr>\n",
       "    <tr>\n",
       "      <th>693</th>\n",
       "      <td>Helioptile</td>\n",
       "      <td>Electric</td>\n",
       "    </tr>\n",
       "    <tr>\n",
       "      <th>694</th>\n",
       "      <td>Heliolisk</td>\n",
       "      <td>Electric</td>\n",
       "    </tr>\n",
       "    <tr>\n",
       "      <th>695</th>\n",
       "      <td>Tyrunt</td>\n",
       "      <td>Rock</td>\n",
       "    </tr>\n",
       "    <tr>\n",
       "      <th>696</th>\n",
       "      <td>Tyrantrum</td>\n",
       "      <td>Rock</td>\n",
       "    </tr>\n",
       "    <tr>\n",
       "      <th>697</th>\n",
       "      <td>Amaura</td>\n",
       "      <td>Rock</td>\n",
       "    </tr>\n",
       "    <tr>\n",
       "      <th>698</th>\n",
       "      <td>Aurorus</td>\n",
       "      <td>Rock</td>\n",
       "    </tr>\n",
       "    <tr>\n",
       "      <th>699</th>\n",
       "      <td>Sylveon</td>\n",
       "      <td>Fairy</td>\n",
       "    </tr>\n",
       "    <tr>\n",
       "      <th>700</th>\n",
       "      <td>Hawlucha</td>\n",
       "      <td>Fighting</td>\n",
       "    </tr>\n",
       "    <tr>\n",
       "      <th>701</th>\n",
       "      <td>Dedenne</td>\n",
       "      <td>Electric</td>\n",
       "    </tr>\n",
       "    <tr>\n",
       "      <th>702</th>\n",
       "      <td>Carbink</td>\n",
       "      <td>Rock</td>\n",
       "    </tr>\n",
       "    <tr>\n",
       "      <th>703</th>\n",
       "      <td>Goomy</td>\n",
       "      <td>Dragon</td>\n",
       "    </tr>\n",
       "    <tr>\n",
       "      <th>704</th>\n",
       "      <td>Sliggoo</td>\n",
       "      <td>Dragon</td>\n",
       "    </tr>\n",
       "    <tr>\n",
       "      <th>705</th>\n",
       "      <td>Goodra</td>\n",
       "      <td>Dragon</td>\n",
       "    </tr>\n",
       "    <tr>\n",
       "      <th>706</th>\n",
       "      <td>Klefki</td>\n",
       "      <td>Steel</td>\n",
       "    </tr>\n",
       "    <tr>\n",
       "      <th>707</th>\n",
       "      <td>Phantump</td>\n",
       "      <td>Ghost</td>\n",
       "    </tr>\n",
       "    <tr>\n",
       "      <th>708</th>\n",
       "      <td>Trevenant</td>\n",
       "      <td>Ghost</td>\n",
       "    </tr>\n",
       "    <tr>\n",
       "      <th>709</th>\n",
       "      <td>Pumpkaboo</td>\n",
       "      <td>Ghost</td>\n",
       "    </tr>\n",
       "    <tr>\n",
       "      <th>710</th>\n",
       "      <td>Gourgeist</td>\n",
       "      <td>Ghost</td>\n",
       "    </tr>\n",
       "    <tr>\n",
       "      <th>711</th>\n",
       "      <td>Bergmite</td>\n",
       "      <td>Ice</td>\n",
       "    </tr>\n",
       "    <tr>\n",
       "      <th>712</th>\n",
       "      <td>Avalugg</td>\n",
       "      <td>Ice</td>\n",
       "    </tr>\n",
       "    <tr>\n",
       "      <th>713</th>\n",
       "      <td>Noibat</td>\n",
       "      <td>Flying</td>\n",
       "    </tr>\n",
       "    <tr>\n",
       "      <th>714</th>\n",
       "      <td>Noivern</td>\n",
       "      <td>Flying</td>\n",
       "    </tr>\n",
       "    <tr>\n",
       "      <th>715</th>\n",
       "      <td>Xerneas</td>\n",
       "      <td>Fairy</td>\n",
       "    </tr>\n",
       "    <tr>\n",
       "      <th>716</th>\n",
       "      <td>Yveltal</td>\n",
       "      <td>Dark</td>\n",
       "    </tr>\n",
       "    <tr>\n",
       "      <th>717</th>\n",
       "      <td>Zygarde</td>\n",
       "      <td>Dragon</td>\n",
       "    </tr>\n",
       "    <tr>\n",
       "      <th>718</th>\n",
       "      <td>Diancie</td>\n",
       "      <td>Rock</td>\n",
       "    </tr>\n",
       "    <tr>\n",
       "      <th>719</th>\n",
       "      <td>Hoopa</td>\n",
       "      <td>Psychic</td>\n",
       "    </tr>\n",
       "    <tr>\n",
       "      <th>720</th>\n",
       "      <td>Volcanion</td>\n",
       "      <td>Fire</td>\n",
       "    </tr>\n",
       "  </tbody>\n",
       "</table>\n",
       "<p>721 rows × 2 columns</p>\n",
       "</div>"
      ],
      "text/plain": [
       "        Pokemon      Type\n",
       "0     Bulbasaur     Grass\n",
       "1       Ivysaur     Grass\n",
       "2      Venusaur     Grass\n",
       "3    Charmander      Fire\n",
       "4    Charmeleon      Fire\n",
       "5     Charizard      Fire\n",
       "6      Squirtle     Water\n",
       "7     Wartortle     Water\n",
       "8     Blastoise     Water\n",
       "9      Caterpie       Bug\n",
       "10      Metapod       Bug\n",
       "11   Butterfree       Bug\n",
       "12       Weedle       Bug\n",
       "13       Kakuna       Bug\n",
       "14     Beedrill       Bug\n",
       "15       Pidgey    Normal\n",
       "16    Pidgeotto    Normal\n",
       "17      Pidgeot    Normal\n",
       "18      Rattata    Normal\n",
       "19     Raticate    Normal\n",
       "20      Spearow    Normal\n",
       "21       Fearow    Normal\n",
       "22        Ekans    Poison\n",
       "23        Arbok    Poison\n",
       "24      Pikachu  Electric\n",
       "25       Raichu  Electric\n",
       "26    Sandshrew    Ground\n",
       "27    Sandslash    Ground\n",
       "28      Nidoran    Poison\n",
       "29     Nidorina    Poison\n",
       "..          ...       ...\n",
       "691   Clauncher     Water\n",
       "692   Clawitzer     Water\n",
       "693  Helioptile  Electric\n",
       "694   Heliolisk  Electric\n",
       "695      Tyrunt      Rock\n",
       "696   Tyrantrum      Rock\n",
       "697      Amaura      Rock\n",
       "698     Aurorus      Rock\n",
       "699     Sylveon     Fairy\n",
       "700    Hawlucha  Fighting\n",
       "701     Dedenne  Electric\n",
       "702     Carbink      Rock\n",
       "703       Goomy    Dragon\n",
       "704     Sliggoo    Dragon\n",
       "705      Goodra    Dragon\n",
       "706      Klefki     Steel\n",
       "707    Phantump     Ghost\n",
       "708   Trevenant     Ghost\n",
       "709   Pumpkaboo     Ghost\n",
       "710   Gourgeist     Ghost\n",
       "711    Bergmite       Ice\n",
       "712     Avalugg       Ice\n",
       "713      Noibat    Flying\n",
       "714     Noivern    Flying\n",
       "715     Xerneas     Fairy\n",
       "716     Yveltal      Dark\n",
       "717     Zygarde    Dragon\n",
       "718     Diancie      Rock\n",
       "719       Hoopa   Psychic\n",
       "720   Volcanion      Fire\n",
       "\n",
       "[721 rows x 2 columns]"
      ]
     },
     "execution_count": 48,
     "metadata": {},
     "output_type": "execute_result"
    }
   ],
   "source": [
    "pd.read_csv('pandas/pokemon.csv')"
   ]
  },
  {
   "cell_type": "code",
   "execution_count": 49,
   "metadata": {},
   "outputs": [
    {
     "data": {
      "text/html": [
       "<div>\n",
       "<style scoped>\n",
       "    .dataframe tbody tr th:only-of-type {\n",
       "        vertical-align: middle;\n",
       "    }\n",
       "\n",
       "    .dataframe tbody tr th {\n",
       "        vertical-align: top;\n",
       "    }\n",
       "\n",
       "    .dataframe thead th {\n",
       "        text-align: right;\n",
       "    }\n",
       "</style>\n",
       "<table border=\"1\" class=\"dataframe\">\n",
       "  <thead>\n",
       "    <tr style=\"text-align: right;\">\n",
       "      <th></th>\n",
       "      <th>Type</th>\n",
       "    </tr>\n",
       "    <tr>\n",
       "      <th>Pokemon</th>\n",
       "      <th></th>\n",
       "    </tr>\n",
       "  </thead>\n",
       "  <tbody>\n",
       "    <tr>\n",
       "      <th>Bulbasaur</th>\n",
       "      <td>Grass</td>\n",
       "    </tr>\n",
       "    <tr>\n",
       "      <th>Ivysaur</th>\n",
       "      <td>Grass</td>\n",
       "    </tr>\n",
       "    <tr>\n",
       "      <th>Venusaur</th>\n",
       "      <td>Grass</td>\n",
       "    </tr>\n",
       "    <tr>\n",
       "      <th>Charmander</th>\n",
       "      <td>Fire</td>\n",
       "    </tr>\n",
       "    <tr>\n",
       "      <th>Charmeleon</th>\n",
       "      <td>Fire</td>\n",
       "    </tr>\n",
       "    <tr>\n",
       "      <th>Charizard</th>\n",
       "      <td>Fire</td>\n",
       "    </tr>\n",
       "    <tr>\n",
       "      <th>Squirtle</th>\n",
       "      <td>Water</td>\n",
       "    </tr>\n",
       "    <tr>\n",
       "      <th>Wartortle</th>\n",
       "      <td>Water</td>\n",
       "    </tr>\n",
       "    <tr>\n",
       "      <th>Blastoise</th>\n",
       "      <td>Water</td>\n",
       "    </tr>\n",
       "    <tr>\n",
       "      <th>Caterpie</th>\n",
       "      <td>Bug</td>\n",
       "    </tr>\n",
       "    <tr>\n",
       "      <th>Metapod</th>\n",
       "      <td>Bug</td>\n",
       "    </tr>\n",
       "    <tr>\n",
       "      <th>Butterfree</th>\n",
       "      <td>Bug</td>\n",
       "    </tr>\n",
       "    <tr>\n",
       "      <th>Weedle</th>\n",
       "      <td>Bug</td>\n",
       "    </tr>\n",
       "    <tr>\n",
       "      <th>Kakuna</th>\n",
       "      <td>Bug</td>\n",
       "    </tr>\n",
       "    <tr>\n",
       "      <th>Beedrill</th>\n",
       "      <td>Bug</td>\n",
       "    </tr>\n",
       "    <tr>\n",
       "      <th>Pidgey</th>\n",
       "      <td>Normal</td>\n",
       "    </tr>\n",
       "    <tr>\n",
       "      <th>Pidgeotto</th>\n",
       "      <td>Normal</td>\n",
       "    </tr>\n",
       "    <tr>\n",
       "      <th>Pidgeot</th>\n",
       "      <td>Normal</td>\n",
       "    </tr>\n",
       "    <tr>\n",
       "      <th>Rattata</th>\n",
       "      <td>Normal</td>\n",
       "    </tr>\n",
       "    <tr>\n",
       "      <th>Raticate</th>\n",
       "      <td>Normal</td>\n",
       "    </tr>\n",
       "    <tr>\n",
       "      <th>Spearow</th>\n",
       "      <td>Normal</td>\n",
       "    </tr>\n",
       "    <tr>\n",
       "      <th>Fearow</th>\n",
       "      <td>Normal</td>\n",
       "    </tr>\n",
       "    <tr>\n",
       "      <th>Ekans</th>\n",
       "      <td>Poison</td>\n",
       "    </tr>\n",
       "    <tr>\n",
       "      <th>Arbok</th>\n",
       "      <td>Poison</td>\n",
       "    </tr>\n",
       "    <tr>\n",
       "      <th>Pikachu</th>\n",
       "      <td>Electric</td>\n",
       "    </tr>\n",
       "    <tr>\n",
       "      <th>Raichu</th>\n",
       "      <td>Electric</td>\n",
       "    </tr>\n",
       "    <tr>\n",
       "      <th>Sandshrew</th>\n",
       "      <td>Ground</td>\n",
       "    </tr>\n",
       "    <tr>\n",
       "      <th>Sandslash</th>\n",
       "      <td>Ground</td>\n",
       "    </tr>\n",
       "    <tr>\n",
       "      <th>Nidoran</th>\n",
       "      <td>Poison</td>\n",
       "    </tr>\n",
       "    <tr>\n",
       "      <th>Nidorina</th>\n",
       "      <td>Poison</td>\n",
       "    </tr>\n",
       "    <tr>\n",
       "      <th>...</th>\n",
       "      <td>...</td>\n",
       "    </tr>\n",
       "    <tr>\n",
       "      <th>Clauncher</th>\n",
       "      <td>Water</td>\n",
       "    </tr>\n",
       "    <tr>\n",
       "      <th>Clawitzer</th>\n",
       "      <td>Water</td>\n",
       "    </tr>\n",
       "    <tr>\n",
       "      <th>Helioptile</th>\n",
       "      <td>Electric</td>\n",
       "    </tr>\n",
       "    <tr>\n",
       "      <th>Heliolisk</th>\n",
       "      <td>Electric</td>\n",
       "    </tr>\n",
       "    <tr>\n",
       "      <th>Tyrunt</th>\n",
       "      <td>Rock</td>\n",
       "    </tr>\n",
       "    <tr>\n",
       "      <th>Tyrantrum</th>\n",
       "      <td>Rock</td>\n",
       "    </tr>\n",
       "    <tr>\n",
       "      <th>Amaura</th>\n",
       "      <td>Rock</td>\n",
       "    </tr>\n",
       "    <tr>\n",
       "      <th>Aurorus</th>\n",
       "      <td>Rock</td>\n",
       "    </tr>\n",
       "    <tr>\n",
       "      <th>Sylveon</th>\n",
       "      <td>Fairy</td>\n",
       "    </tr>\n",
       "    <tr>\n",
       "      <th>Hawlucha</th>\n",
       "      <td>Fighting</td>\n",
       "    </tr>\n",
       "    <tr>\n",
       "      <th>Dedenne</th>\n",
       "      <td>Electric</td>\n",
       "    </tr>\n",
       "    <tr>\n",
       "      <th>Carbink</th>\n",
       "      <td>Rock</td>\n",
       "    </tr>\n",
       "    <tr>\n",
       "      <th>Goomy</th>\n",
       "      <td>Dragon</td>\n",
       "    </tr>\n",
       "    <tr>\n",
       "      <th>Sliggoo</th>\n",
       "      <td>Dragon</td>\n",
       "    </tr>\n",
       "    <tr>\n",
       "      <th>Goodra</th>\n",
       "      <td>Dragon</td>\n",
       "    </tr>\n",
       "    <tr>\n",
       "      <th>Klefki</th>\n",
       "      <td>Steel</td>\n",
       "    </tr>\n",
       "    <tr>\n",
       "      <th>Phantump</th>\n",
       "      <td>Ghost</td>\n",
       "    </tr>\n",
       "    <tr>\n",
       "      <th>Trevenant</th>\n",
       "      <td>Ghost</td>\n",
       "    </tr>\n",
       "    <tr>\n",
       "      <th>Pumpkaboo</th>\n",
       "      <td>Ghost</td>\n",
       "    </tr>\n",
       "    <tr>\n",
       "      <th>Gourgeist</th>\n",
       "      <td>Ghost</td>\n",
       "    </tr>\n",
       "    <tr>\n",
       "      <th>Bergmite</th>\n",
       "      <td>Ice</td>\n",
       "    </tr>\n",
       "    <tr>\n",
       "      <th>Avalugg</th>\n",
       "      <td>Ice</td>\n",
       "    </tr>\n",
       "    <tr>\n",
       "      <th>Noibat</th>\n",
       "      <td>Flying</td>\n",
       "    </tr>\n",
       "    <tr>\n",
       "      <th>Noivern</th>\n",
       "      <td>Flying</td>\n",
       "    </tr>\n",
       "    <tr>\n",
       "      <th>Xerneas</th>\n",
       "      <td>Fairy</td>\n",
       "    </tr>\n",
       "    <tr>\n",
       "      <th>Yveltal</th>\n",
       "      <td>Dark</td>\n",
       "    </tr>\n",
       "    <tr>\n",
       "      <th>Zygarde</th>\n",
       "      <td>Dragon</td>\n",
       "    </tr>\n",
       "    <tr>\n",
       "      <th>Diancie</th>\n",
       "      <td>Rock</td>\n",
       "    </tr>\n",
       "    <tr>\n",
       "      <th>Hoopa</th>\n",
       "      <td>Psychic</td>\n",
       "    </tr>\n",
       "    <tr>\n",
       "      <th>Volcanion</th>\n",
       "      <td>Fire</td>\n",
       "    </tr>\n",
       "  </tbody>\n",
       "</table>\n",
       "<p>721 rows × 1 columns</p>\n",
       "</div>"
      ],
      "text/plain": [
       "                Type\n",
       "Pokemon             \n",
       "Bulbasaur      Grass\n",
       "Ivysaur        Grass\n",
       "Venusaur       Grass\n",
       "Charmander      Fire\n",
       "Charmeleon      Fire\n",
       "Charizard       Fire\n",
       "Squirtle       Water\n",
       "Wartortle      Water\n",
       "Blastoise      Water\n",
       "Caterpie         Bug\n",
       "Metapod          Bug\n",
       "Butterfree       Bug\n",
       "Weedle           Bug\n",
       "Kakuna           Bug\n",
       "Beedrill         Bug\n",
       "Pidgey        Normal\n",
       "Pidgeotto     Normal\n",
       "Pidgeot       Normal\n",
       "Rattata       Normal\n",
       "Raticate      Normal\n",
       "Spearow       Normal\n",
       "Fearow        Normal\n",
       "Ekans         Poison\n",
       "Arbok         Poison\n",
       "Pikachu     Electric\n",
       "Raichu      Electric\n",
       "Sandshrew     Ground\n",
       "Sandslash     Ground\n",
       "Nidoran       Poison\n",
       "Nidorina      Poison\n",
       "...              ...\n",
       "Clauncher      Water\n",
       "Clawitzer      Water\n",
       "Helioptile  Electric\n",
       "Heliolisk   Electric\n",
       "Tyrunt          Rock\n",
       "Tyrantrum       Rock\n",
       "Amaura          Rock\n",
       "Aurorus         Rock\n",
       "Sylveon        Fairy\n",
       "Hawlucha    Fighting\n",
       "Dedenne     Electric\n",
       "Carbink         Rock\n",
       "Goomy         Dragon\n",
       "Sliggoo       Dragon\n",
       "Goodra        Dragon\n",
       "Klefki         Steel\n",
       "Phantump       Ghost\n",
       "Trevenant      Ghost\n",
       "Pumpkaboo      Ghost\n",
       "Gourgeist      Ghost\n",
       "Bergmite         Ice\n",
       "Avalugg          Ice\n",
       "Noibat        Flying\n",
       "Noivern       Flying\n",
       "Xerneas        Fairy\n",
       "Yveltal         Dark\n",
       "Zygarde       Dragon\n",
       "Diancie         Rock\n",
       "Hoopa        Psychic\n",
       "Volcanion       Fire\n",
       "\n",
       "[721 rows x 1 columns]"
      ]
     },
     "execution_count": 49,
     "metadata": {},
     "output_type": "execute_result"
    }
   ],
   "source": [
    "pd.read_csv('pandas/pokemon.csv', index_col='Pokemon')"
   ]
  },
  {
   "cell_type": "markdown",
   "metadata": {},
   "source": [
    "**NOTE:** `Pokemon` column now acts as the index labels. However, still a DataFrame is returned. <br/>\n",
    "To convert it into a `Series` object, use the `squeeze=True` parameter."
   ]
  },
  {
   "cell_type": "code",
   "execution_count": 50,
   "metadata": {},
   "outputs": [
    {
     "data": {
      "text/plain": [
       "Pokemon\n",
       "Bulbasaur    Grass\n",
       "Ivysaur      Grass\n",
       "Venusaur     Grass\n",
       "Name: Type, dtype: object"
      ]
     },
     "execution_count": 50,
     "metadata": {},
     "output_type": "execute_result"
    }
   ],
   "source": [
    "pokemon = pd.read_csv('pandas/pokemon.csv', index_col='Pokemon', squeeze=True)\n",
    "pokemon.head(3)"
   ]
  },
  {
   "cell_type": "markdown",
   "metadata": {},
   "source": [
    "**NOTE:** Even though we have `Pokemon` column as the indices, we can still use the integer positions to indicate indices."
   ]
  },
  {
   "cell_type": "code",
   "execution_count": 51,
   "metadata": {},
   "outputs": [
    {
     "data": {
      "text/plain": [
       "'Grass'"
      ]
     },
     "execution_count": 51,
     "metadata": {},
     "output_type": "execute_result"
    }
   ],
   "source": [
    "pokemon['Bulbasaur']"
   ]
  },
  {
   "cell_type": "code",
   "execution_count": 52,
   "metadata": {},
   "outputs": [
    {
     "data": {
      "text/plain": [
       "'Grass'"
      ]
     },
     "execution_count": 52,
     "metadata": {},
     "output_type": "execute_result"
    }
   ],
   "source": [
    "pokemon[2]"
   ]
  },
  {
   "cell_type": "code",
   "execution_count": 53,
   "metadata": {},
   "outputs": [
    {
     "data": {
      "text/plain": [
       "Pokemon\n",
       "Electrode    Electric\n",
       "Jolteon      Electric\n",
       "Name: Type, dtype: object"
      ]
     },
     "execution_count": 53,
     "metadata": {},
     "output_type": "execute_result"
    }
   ],
   "source": [
    "pokemon[[100, 134]]"
   ]
  },
  {
   "cell_type": "code",
   "execution_count": 54,
   "metadata": {},
   "outputs": [
    {
     "data": {
      "text/plain": [
       "Pokemon\n",
       "Pikachu     Electric\n",
       "Squirtle       Water\n",
       "Name: Type, dtype: object"
      ]
     },
     "execution_count": 54,
     "metadata": {},
     "output_type": "execute_result"
    }
   ],
   "source": [
    "pokemon[[\"Pikachu\", \"Squirtle\"]]"
   ]
  },
  {
   "cell_type": "code",
   "execution_count": 55,
   "metadata": {},
   "outputs": [
    {
     "data": {
      "text/plain": [
       "Pokemon\n",
       "Charizard         Fire\n",
       "Squirtle         Water\n",
       "Wartortle        Water\n",
       "Blastoise        Water\n",
       "Caterpie           Bug\n",
       "Metapod            Bug\n",
       "Butterfree         Bug\n",
       "Weedle             Bug\n",
       "Kakuna             Bug\n",
       "Beedrill           Bug\n",
       "Pidgey          Normal\n",
       "Pidgeotto       Normal\n",
       "Pidgeot         Normal\n",
       "Rattata         Normal\n",
       "Raticate        Normal\n",
       "Spearow         Normal\n",
       "Fearow          Normal\n",
       "Ekans           Poison\n",
       "Arbok           Poison\n",
       "Pikachu       Electric\n",
       "Raichu        Electric\n",
       "Name: Type, dtype: object"
      ]
     },
     "execution_count": 55,
     "metadata": {},
     "output_type": "execute_result"
    }
   ],
   "source": [
    "pokemon[\"Charizard\" : \"Raichu\"]"
   ]
  },
  {
   "cell_type": "markdown",
   "metadata": {},
   "source": [
    "**NOTE:** Unlike in the case of numeric index range, the value corresponding to the last index label is also returned."
   ]
  },
  {
   "cell_type": "markdown",
   "metadata": {},
   "source": [
    "-----\n",
    "### What if the index does not exist?\n",
    "If only one index value is passed that does not exit in the Series, it results in an **ERROR**."
   ]
  },
  {
   "cell_type": "code",
   "execution_count": 56,
   "metadata": {},
   "outputs": [
    {
     "ename": "KeyError",
     "evalue": "'Digimon'",
     "output_type": "error",
     "traceback": [
      "\u001b[1;31m---------------------------------------------------------------------------\u001b[0m",
      "\u001b[1;31mTypeError\u001b[0m                                 Traceback (most recent call last)",
      "\u001b[1;32m~\\AppData\\Local\\Continuum\\anaconda3\\lib\\site-packages\\pandas\\core\\indexes\\base.py\u001b[0m in \u001b[0;36mget_value\u001b[1;34m(self, series, key)\u001b[0m\n\u001b[0;32m   3108\u001b[0m             \u001b[1;32mtry\u001b[0m\u001b[1;33m:\u001b[0m\u001b[1;33m\u001b[0m\u001b[0m\n\u001b[1;32m-> 3109\u001b[1;33m                 \u001b[1;32mreturn\u001b[0m \u001b[0mlibindex\u001b[0m\u001b[1;33m.\u001b[0m\u001b[0mget_value_box\u001b[0m\u001b[1;33m(\u001b[0m\u001b[0ms\u001b[0m\u001b[1;33m,\u001b[0m \u001b[0mkey\u001b[0m\u001b[1;33m)\u001b[0m\u001b[1;33m\u001b[0m\u001b[0m\n\u001b[0m\u001b[0;32m   3110\u001b[0m             \u001b[1;32mexcept\u001b[0m \u001b[0mIndexError\u001b[0m\u001b[1;33m:\u001b[0m\u001b[1;33m\u001b[0m\u001b[0m\n",
      "\u001b[1;32mpandas\\_libs\\index.pyx\u001b[0m in \u001b[0;36mpandas._libs.index.get_value_box\u001b[1;34m()\u001b[0m\n",
      "\u001b[1;32mpandas\\_libs\\index.pyx\u001b[0m in \u001b[0;36mpandas._libs.index.get_value_box\u001b[1;34m()\u001b[0m\n",
      "\u001b[1;31mTypeError\u001b[0m: 'str' object cannot be interpreted as an integer",
      "\nDuring handling of the above exception, another exception occurred:\n",
      "\u001b[1;31mKeyError\u001b[0m                                  Traceback (most recent call last)",
      "\u001b[1;32m<ipython-input-56-ca2af26142e2>\u001b[0m in \u001b[0;36m<module>\u001b[1;34m()\u001b[0m\n\u001b[1;32m----> 1\u001b[1;33m \u001b[0mpokemon\u001b[0m\u001b[1;33m[\u001b[0m\u001b[1;34m\"Digimon\"\u001b[0m\u001b[1;33m]\u001b[0m\u001b[1;33m\u001b[0m\u001b[0m\n\u001b[0m",
      "\u001b[1;32m~\\AppData\\Local\\Continuum\\anaconda3\\lib\\site-packages\\pandas\\core\\series.py\u001b[0m in \u001b[0;36m__getitem__\u001b[1;34m(self, key)\u001b[0m\n\u001b[0;32m    764\u001b[0m         \u001b[0mkey\u001b[0m \u001b[1;33m=\u001b[0m \u001b[0mcom\u001b[0m\u001b[1;33m.\u001b[0m\u001b[0m_apply_if_callable\u001b[0m\u001b[1;33m(\u001b[0m\u001b[0mkey\u001b[0m\u001b[1;33m,\u001b[0m \u001b[0mself\u001b[0m\u001b[1;33m)\u001b[0m\u001b[1;33m\u001b[0m\u001b[0m\n\u001b[0;32m    765\u001b[0m         \u001b[1;32mtry\u001b[0m\u001b[1;33m:\u001b[0m\u001b[1;33m\u001b[0m\u001b[0m\n\u001b[1;32m--> 766\u001b[1;33m             \u001b[0mresult\u001b[0m \u001b[1;33m=\u001b[0m \u001b[0mself\u001b[0m\u001b[1;33m.\u001b[0m\u001b[0mindex\u001b[0m\u001b[1;33m.\u001b[0m\u001b[0mget_value\u001b[0m\u001b[1;33m(\u001b[0m\u001b[0mself\u001b[0m\u001b[1;33m,\u001b[0m \u001b[0mkey\u001b[0m\u001b[1;33m)\u001b[0m\u001b[1;33m\u001b[0m\u001b[0m\n\u001b[0m\u001b[0;32m    767\u001b[0m \u001b[1;33m\u001b[0m\u001b[0m\n\u001b[0;32m    768\u001b[0m             \u001b[1;32mif\u001b[0m \u001b[1;32mnot\u001b[0m \u001b[0mis_scalar\u001b[0m\u001b[1;33m(\u001b[0m\u001b[0mresult\u001b[0m\u001b[1;33m)\u001b[0m\u001b[1;33m:\u001b[0m\u001b[1;33m\u001b[0m\u001b[0m\n",
      "\u001b[1;32m~\\AppData\\Local\\Continuum\\anaconda3\\lib\\site-packages\\pandas\\core\\indexes\\base.py\u001b[0m in \u001b[0;36mget_value\u001b[1;34m(self, series, key)\u001b[0m\n\u001b[0;32m   3115\u001b[0m                     \u001b[1;32mraise\u001b[0m \u001b[0mInvalidIndexError\u001b[0m\u001b[1;33m(\u001b[0m\u001b[0mkey\u001b[0m\u001b[1;33m)\u001b[0m\u001b[1;33m\u001b[0m\u001b[0m\n\u001b[0;32m   3116\u001b[0m                 \u001b[1;32melse\u001b[0m\u001b[1;33m:\u001b[0m\u001b[1;33m\u001b[0m\u001b[0m\n\u001b[1;32m-> 3117\u001b[1;33m                     \u001b[1;32mraise\u001b[0m \u001b[0me1\u001b[0m\u001b[1;33m\u001b[0m\u001b[0m\n\u001b[0m\u001b[0;32m   3118\u001b[0m             \u001b[1;32mexcept\u001b[0m \u001b[0mException\u001b[0m\u001b[1;33m:\u001b[0m  \u001b[1;31m# pragma: no cover\u001b[0m\u001b[1;33m\u001b[0m\u001b[0m\n\u001b[0;32m   3119\u001b[0m                 \u001b[1;32mraise\u001b[0m \u001b[0me1\u001b[0m\u001b[1;33m\u001b[0m\u001b[0m\n",
      "\u001b[1;32m~\\AppData\\Local\\Continuum\\anaconda3\\lib\\site-packages\\pandas\\core\\indexes\\base.py\u001b[0m in \u001b[0;36mget_value\u001b[1;34m(self, series, key)\u001b[0m\n\u001b[0;32m   3101\u001b[0m         \u001b[1;32mtry\u001b[0m\u001b[1;33m:\u001b[0m\u001b[1;33m\u001b[0m\u001b[0m\n\u001b[0;32m   3102\u001b[0m             return self._engine.get_value(s, k,\n\u001b[1;32m-> 3103\u001b[1;33m                                           tz=getattr(series.dtype, 'tz', None))\n\u001b[0m\u001b[0;32m   3104\u001b[0m         \u001b[1;32mexcept\u001b[0m \u001b[0mKeyError\u001b[0m \u001b[1;32mas\u001b[0m \u001b[0me1\u001b[0m\u001b[1;33m:\u001b[0m\u001b[1;33m\u001b[0m\u001b[0m\n\u001b[0;32m   3105\u001b[0m             \u001b[1;32mif\u001b[0m \u001b[0mlen\u001b[0m\u001b[1;33m(\u001b[0m\u001b[0mself\u001b[0m\u001b[1;33m)\u001b[0m \u001b[1;33m>\u001b[0m \u001b[1;36m0\u001b[0m \u001b[1;32mand\u001b[0m \u001b[0mself\u001b[0m\u001b[1;33m.\u001b[0m\u001b[0minferred_type\u001b[0m \u001b[1;32min\u001b[0m \u001b[1;33m[\u001b[0m\u001b[1;34m'integer'\u001b[0m\u001b[1;33m,\u001b[0m \u001b[1;34m'boolean'\u001b[0m\u001b[1;33m]\u001b[0m\u001b[1;33m:\u001b[0m\u001b[1;33m\u001b[0m\u001b[0m\n",
      "\u001b[1;32mpandas\\_libs\\index.pyx\u001b[0m in \u001b[0;36mpandas._libs.index.IndexEngine.get_value\u001b[1;34m()\u001b[0m\n",
      "\u001b[1;32mpandas\\_libs\\index.pyx\u001b[0m in \u001b[0;36mpandas._libs.index.IndexEngine.get_value\u001b[1;34m()\u001b[0m\n",
      "\u001b[1;32mpandas\\_libs\\index.pyx\u001b[0m in \u001b[0;36mpandas._libs.index.IndexEngine.get_loc\u001b[1;34m()\u001b[0m\n",
      "\u001b[1;32mpandas\\_libs\\hashtable_class_helper.pxi\u001b[0m in \u001b[0;36mpandas._libs.hashtable.PyObjectHashTable.get_item\u001b[1;34m()\u001b[0m\n",
      "\u001b[1;32mpandas\\_libs\\hashtable_class_helper.pxi\u001b[0m in \u001b[0;36mpandas._libs.hashtable.PyObjectHashTable.get_item\u001b[1;34m()\u001b[0m\n",
      "\u001b[1;31mKeyError\u001b[0m: 'Digimon'"
     ]
    }
   ],
   "source": [
    "pokemon[\"Digimon\"]"
   ]
  },
  {
   "cell_type": "markdown",
   "metadata": {},
   "source": [
    "------\n",
    "**However, if multiple indices are provided, a series is still returned, but with `NaN` values.**"
   ]
  },
  {
   "cell_type": "code",
   "execution_count": 57,
   "metadata": {},
   "outputs": [
    {
     "name": "stderr",
     "output_type": "stream",
     "text": [
      "C:\\Users\\272159\\AppData\\Local\\Continuum\\anaconda3\\lib\\site-packages\\pandas\\core\\series.py:850: FutureWarning: \n",
      "Passing list-likes to .loc or [] with any missing label will raise\n",
      "KeyError in the future, you can use .reindex() as an alternative.\n",
      "\n",
      "See the documentation here:\n",
      "https://pandas.pydata.org/pandas-docs/stable/indexing.html#deprecate-loc-reindex-listlike\n",
      "  return self.loc[key]\n"
     ]
    },
    {
     "data": {
      "text/plain": [
       "Pokemon\n",
       "Pikachu    Electric\n",
       "Digimon         NaN\n",
       "Name: Type, dtype: object"
      ]
     },
     "execution_count": 57,
     "metadata": {},
     "output_type": "execute_result"
    }
   ],
   "source": [
    "pokemon[[\"Pikachu\", \"Digimon\"]]"
   ]
  },
  {
   "cell_type": "markdown",
   "metadata": {},
   "source": [
    "------\n",
    "### Using `.get(..)` method to obtain values <br/>\n",
    "It is always recommended to sort the Series by indices as it speeds up operations on the Series."
   ]
  },
  {
   "cell_type": "code",
   "execution_count": 58,
   "metadata": {},
   "outputs": [
    {
     "data": {
      "text/plain": [
       "Pokemon\n",
       "Abomasnow      Grass\n",
       "Abra         Psychic\n",
       "Absol           Dark\n",
       "Name: Type, dtype: object"
      ]
     },
     "execution_count": 58,
     "metadata": {},
     "output_type": "execute_result"
    }
   ],
   "source": [
    "pokemon = pd.read_csv('pandas/pokemon.csv', index_col='Pokemon', squeeze=True)\n",
    "pokemon.sort_index(inplace=True)\n",
    "pokemon.head(3)"
   ]
  },
  {
   "cell_type": "code",
   "execution_count": 59,
   "metadata": {},
   "outputs": [
    {
     "data": {
      "text/plain": [
       "'Normal'"
      ]
     },
     "execution_count": 59,
     "metadata": {},
     "output_type": "execute_result"
    }
   ],
   "source": [
    "pokemon.get('Meowth')"
   ]
  },
  {
   "cell_type": "code",
   "execution_count": 60,
   "metadata": {},
   "outputs": [
    {
     "data": {
      "text/plain": [
       "Pokemon\n",
       "Jigglypuff    Normal\n",
       "Psyduck        Water\n",
       "Name: Type, dtype: object"
      ]
     },
     "execution_count": 60,
     "metadata": {},
     "output_type": "execute_result"
    }
   ],
   "source": [
    "pokemon.get(key=[\"Jigglypuff\", \"Psyduck\"])"
   ]
  },
  {
   "cell_type": "markdown",
   "metadata": {},
   "source": [
    "### Using `.get(..)` method with a key that does not exist\n",
    "Nothing gets returned. This is because the `get(..)` method has a default return value of `None`.\n",
    "\n",
    "Notice the **strange** behavior of the `.get(..)` method in the following operations:"
   ]
  },
  {
   "cell_type": "code",
   "execution_count": 61,
   "metadata": {},
   "outputs": [],
   "source": [
    "pokemon.get('Digimon')"
   ]
  },
  {
   "cell_type": "code",
   "execution_count": 62,
   "metadata": {},
   "outputs": [
    {
     "data": {
      "text/plain": [
       "'This is not a Pokemon'"
      ]
     },
     "execution_count": 62,
     "metadata": {},
     "output_type": "execute_result"
    }
   ],
   "source": [
    "pokemon.get('Digimon', default='This is not a Pokemon')"
   ]
  },
  {
   "cell_type": "code",
   "execution_count": 63,
   "metadata": {},
   "outputs": [
    {
     "name": "stderr",
     "output_type": "stream",
     "text": [
      "C:\\Users\\272159\\AppData\\Local\\Continuum\\anaconda3\\lib\\site-packages\\pandas\\core\\series.py:850: FutureWarning: \n",
      "Passing list-likes to .loc or [] with any missing label will raise\n",
      "KeyError in the future, you can use .reindex() as an alternative.\n",
      "\n",
      "See the documentation here:\n",
      "https://pandas.pydata.org/pandas-docs/stable/indexing.html#deprecate-loc-reindex-listlike\n",
      "  return self.loc[key]\n"
     ]
    },
    {
     "data": {
      "text/plain": [
       "Pokemon\n",
       "Pikachu    Electric\n",
       "Digimon         NaN\n",
       "Name: Type, dtype: object"
      ]
     },
     "execution_count": 63,
     "metadata": {},
     "output_type": "execute_result"
    }
   ],
   "source": [
    "pokemon.get(key=['Pikachu','Digimon'], default='This is not a Pokemon')"
   ]
  },
  {
   "cell_type": "code",
   "execution_count": 64,
   "metadata": {},
   "outputs": [
    {
     "data": {
      "text/plain": [
       "'This is not a Pokemon'"
      ]
     },
     "execution_count": 64,
     "metadata": {},
     "output_type": "execute_result"
    }
   ],
   "source": [
    "pokemon.get(key=['Bla Bla','Digimon'], default='This is not a Pokemon')"
   ]
  },
  {
   "cell_type": "markdown",
   "metadata": {},
   "source": [
    "----\n",
    "## Math methods on `Series` obejcts"
   ]
  },
  {
   "cell_type": "code",
   "execution_count": 65,
   "metadata": {},
   "outputs": [
    {
     "data": {
      "text/plain": [
       "0    50.12\n",
       "1    54.10\n",
       "2    54.65\n",
       "Name: Stock Price, dtype: float64"
      ]
     },
     "execution_count": 65,
     "metadata": {},
     "output_type": "execute_result"
    }
   ],
   "source": [
    "google = pd.read_csv('pandas/google_stock_price.csv', squeeze=True)\n",
    "google.head(3)"
   ]
  },
  {
   "cell_type": "markdown",
   "metadata": {},
   "source": [
    "### `.count(..)` method\n",
    "The `.count(..)` returns the count of the number of valid values in the Series.\n",
    "\n",
    "**`.count(..)` EXCLUDES null values, `len(..)` does not.**"
   ]
  },
  {
   "cell_type": "code",
   "execution_count": 66,
   "metadata": {},
   "outputs": [
    {
     "data": {
      "text/plain": [
       "3012"
      ]
     },
     "execution_count": 66,
     "metadata": {},
     "output_type": "execute_result"
    }
   ],
   "source": [
    "google.count()"
   ]
  },
  {
   "cell_type": "markdown",
   "metadata": {},
   "source": [
    "### `.sum(..)`, `mean(..)`, `std(..)`, `max(..)`, `min(..)`, `mode(..)`, `median(..)` methods"
   ]
  },
  {
   "cell_type": "code",
   "execution_count": 67,
   "metadata": {},
   "outputs": [
    {
     "data": {
      "text/plain": [
       "1006942.0"
      ]
     },
     "execution_count": 67,
     "metadata": {},
     "output_type": "execute_result"
    }
   ],
   "source": [
    "google.sum()"
   ]
  },
  {
   "cell_type": "code",
   "execution_count": 68,
   "metadata": {},
   "outputs": [
    {
     "data": {
      "text/plain": [
       "334.31009296148744"
      ]
     },
     "execution_count": 68,
     "metadata": {},
     "output_type": "execute_result"
    }
   ],
   "source": [
    "google.mean()"
   ]
  },
  {
   "cell_type": "code",
   "execution_count": 69,
   "metadata": {},
   "outputs": [
    {
     "data": {
      "text/plain": [
       "173.18720477113106"
      ]
     },
     "execution_count": 69,
     "metadata": {},
     "output_type": "execute_result"
    }
   ],
   "source": [
    "google.std()"
   ]
  },
  {
   "cell_type": "code",
   "execution_count": 70,
   "metadata": {},
   "outputs": [
    {
     "data": {
      "text/plain": [
       "49.95"
      ]
     },
     "execution_count": 70,
     "metadata": {},
     "output_type": "execute_result"
    }
   ],
   "source": [
    "google.min()"
   ]
  },
  {
   "cell_type": "code",
   "execution_count": 71,
   "metadata": {},
   "outputs": [
    {
     "data": {
      "text/plain": [
       "782.22"
      ]
     },
     "execution_count": 71,
     "metadata": {},
     "output_type": "execute_result"
    }
   ],
   "source": [
    "google.max()"
   ]
  },
  {
   "cell_type": "code",
   "execution_count": 72,
   "metadata": {},
   "outputs": [
    {
     "data": {
      "text/plain": [
       "0    291.21\n",
       "dtype: float64"
      ]
     },
     "execution_count": 72,
     "metadata": {},
     "output_type": "execute_result"
    }
   ],
   "source": [
    "google.mode()"
   ]
  },
  {
   "cell_type": "markdown",
   "metadata": {},
   "source": [
    "**NOTE:** If there are more than one values for the mode, all are returned as a `Series`"
   ]
  },
  {
   "cell_type": "code",
   "execution_count": 73,
   "metadata": {},
   "outputs": [
    {
     "data": {
      "text/plain": [
       "283.315"
      ]
     },
     "execution_count": 73,
     "metadata": {},
     "output_type": "execute_result"
    }
   ],
   "source": [
    "google.median()"
   ]
  },
  {
   "cell_type": "markdown",
   "metadata": {},
   "source": [
    "### `.describe(..)` method"
   ]
  },
  {
   "cell_type": "code",
   "execution_count": 74,
   "metadata": {},
   "outputs": [
    {
     "data": {
      "text/plain": [
       "count    3012.000000\n",
       "mean      334.310093\n",
       "std       173.187205\n",
       "min        49.950000\n",
       "25%       218.045000\n",
       "50%       283.315000\n",
       "75%       443.000000\n",
       "max       782.220000\n",
       "Name: Stock Price, dtype: float64"
      ]
     },
     "execution_count": 74,
     "metadata": {},
     "output_type": "execute_result"
    }
   ],
   "source": [
    "google.describe()"
   ]
  },
  {
   "cell_type": "markdown",
   "metadata": {},
   "source": [
    "-----\n",
    "## The `.idxmax(..)` and `idxmin(..)` methods\n",
    "Return the indes of the max/min values in the Series."
   ]
  },
  {
   "cell_type": "code",
   "execution_count": 75,
   "metadata": {},
   "outputs": [
    {
     "name": "stdout",
     "output_type": "stream",
     "text": [
      "782.22\n",
      "49.95\n"
     ]
    }
   ],
   "source": [
    "print(google.max())\n",
    "print(google.min())"
   ]
  },
  {
   "cell_type": "code",
   "execution_count": 76,
   "metadata": {},
   "outputs": [
    {
     "data": {
      "text/plain": [
       "3011"
      ]
     },
     "execution_count": 76,
     "metadata": {},
     "output_type": "execute_result"
    }
   ],
   "source": [
    "google.idxmax()"
   ]
  },
  {
   "cell_type": "code",
   "execution_count": 77,
   "metadata": {},
   "outputs": [
    {
     "data": {
      "text/plain": [
       "782.22"
      ]
     },
     "execution_count": 77,
     "metadata": {},
     "output_type": "execute_result"
    }
   ],
   "source": [
    "google[3011]"
   ]
  },
  {
   "cell_type": "code",
   "execution_count": 78,
   "metadata": {},
   "outputs": [
    {
     "data": {
      "text/plain": [
       "11"
      ]
     },
     "execution_count": 78,
     "metadata": {},
     "output_type": "execute_result"
    }
   ],
   "source": [
    "google.idxmin()"
   ]
  },
  {
   "cell_type": "code",
   "execution_count": 79,
   "metadata": {},
   "outputs": [
    {
     "data": {
      "text/plain": [
       "49.95"
      ]
     },
     "execution_count": 79,
     "metadata": {},
     "output_type": "execute_result"
    }
   ],
   "source": [
    "google[11]"
   ]
  },
  {
   "cell_type": "markdown",
   "metadata": {},
   "source": [
    "-----\n",
    "## The `value_counts(..)` method\n",
    "- Same as using Pivot Tables in Excel"
   ]
  },
  {
   "cell_type": "code",
   "execution_count": 80,
   "metadata": {},
   "outputs": [
    {
     "data": {
      "text/plain": [
       "Pokemon\n",
       "Bulbasaur    Grass\n",
       "Ivysaur      Grass\n",
       "Venusaur     Grass\n",
       "Name: Type, dtype: object"
      ]
     },
     "execution_count": 80,
     "metadata": {},
     "output_type": "execute_result"
    }
   ],
   "source": [
    "pokemon = pd.read_csv('pandas/pokemon.csv', index_col='Pokemon', squeeze=True)\n",
    "pokemon.head(3)"
   ]
  },
  {
   "cell_type": "markdown",
   "metadata": {},
   "source": [
    "----\n",
    "**How many Pokemon belong to the Grass type?**"
   ]
  },
  {
   "cell_type": "code",
   "execution_count": 81,
   "metadata": {},
   "outputs": [
    {
     "data": {
      "text/plain": [
       "Water       105\n",
       "Normal       93\n",
       "Grass        66\n",
       "Bug          63\n",
       "Psychic      47\n",
       "Fire         47\n",
       "Rock         41\n",
       "Electric     36\n",
       "Ground       30\n",
       "Poison       28\n",
       "Dark         28\n",
       "Fighting     25\n",
       "Dragon       24\n",
       "Ghost        23\n",
       "Ice          23\n",
       "Steel        22\n",
       "Fairy        17\n",
       "Flying        3\n",
       "Name: Type, dtype: int64"
      ]
     },
     "execution_count": 81,
     "metadata": {},
     "output_type": "execute_result"
    }
   ],
   "source": [
    "pokemon.value_counts()"
   ]
  },
  {
   "cell_type": "code",
   "execution_count": 82,
   "metadata": {},
   "outputs": [
    {
     "data": {
      "text/plain": [
       "66"
      ]
     },
     "execution_count": 82,
     "metadata": {},
     "output_type": "execute_result"
    }
   ],
   "source": [
    "pokemon.value_counts().get('Grass')"
   ]
  },
  {
   "cell_type": "markdown",
   "metadata": {},
   "source": [
    "-----\n",
    "## The .apply(..) method\n",
    "Applies a function to all the elements of a `Series`\n",
    "- The `.apply(..)` method does not modify the original series"
   ]
  },
  {
   "cell_type": "code",
   "execution_count": 83,
   "metadata": {},
   "outputs": [
    {
     "data": {
      "text/plain": [
       "0    50.12\n",
       "1    54.10\n",
       "2    54.65\n",
       "Name: Stock Price, dtype: float64"
      ]
     },
     "execution_count": 83,
     "metadata": {},
     "output_type": "execute_result"
    }
   ],
   "source": [
    "google = pd.read_csv('pandas/google_stock_price.csv', squeeze=True)\n",
    "google.head(3)"
   ]
  },
  {
   "cell_type": "code",
   "execution_count": 84,
   "metadata": {},
   "outputs": [],
   "source": [
    "def classify_performance(n):\n",
    "    if n < 300:\n",
    "        return \"OK\"\n",
    "    elif n>=300 and n<650:\n",
    "        return \"Satisfactory\"\n",
    "    else:\n",
    "        return \"Fantastic\""
   ]
  },
  {
   "cell_type": "code",
   "execution_count": 85,
   "metadata": {},
   "outputs": [
    {
     "data": {
      "text/plain": [
       "0              OK\n",
       "1              OK\n",
       "2              OK\n",
       "3              OK\n",
       "4              OK\n",
       "5              OK\n",
       "6              OK\n",
       "7              OK\n",
       "8              OK\n",
       "9              OK\n",
       "10             OK\n",
       "11             OK\n",
       "12             OK\n",
       "13             OK\n",
       "14             OK\n",
       "15             OK\n",
       "16             OK\n",
       "17             OK\n",
       "18             OK\n",
       "19             OK\n",
       "20             OK\n",
       "21             OK\n",
       "22             OK\n",
       "23             OK\n",
       "24             OK\n",
       "25             OK\n",
       "26             OK\n",
       "27             OK\n",
       "28             OK\n",
       "29             OK\n",
       "          ...    \n",
       "2982    Fantastic\n",
       "2983    Fantastic\n",
       "2984    Fantastic\n",
       "2985    Fantastic\n",
       "2986    Fantastic\n",
       "2987    Fantastic\n",
       "2988    Fantastic\n",
       "2989    Fantastic\n",
       "2990    Fantastic\n",
       "2991    Fantastic\n",
       "2992    Fantastic\n",
       "2993    Fantastic\n",
       "2994    Fantastic\n",
       "2995    Fantastic\n",
       "2996    Fantastic\n",
       "2997    Fantastic\n",
       "2998    Fantastic\n",
       "2999    Fantastic\n",
       "3000    Fantastic\n",
       "3001    Fantastic\n",
       "3002    Fantastic\n",
       "3003    Fantastic\n",
       "3004    Fantastic\n",
       "3005    Fantastic\n",
       "3006    Fantastic\n",
       "3007    Fantastic\n",
       "3008    Fantastic\n",
       "3009    Fantastic\n",
       "3010    Fantastic\n",
       "3011    Fantastic\n",
       "Name: Stock Price, Length: 3012, dtype: object"
      ]
     },
     "execution_count": 85,
     "metadata": {},
     "output_type": "execute_result"
    }
   ],
   "source": [
    "google.apply(classify_performance)"
   ]
  },
  {
   "cell_type": "markdown",
   "metadata": {},
   "source": [
    "-------\n",
    "### We can use anonymous functions"
   ]
  },
  {
   "cell_type": "code",
   "execution_count": 86,
   "metadata": {},
   "outputs": [
    {
     "data": {
      "text/plain": [
       "0    50.12\n",
       "1    54.10\n",
       "2    54.65\n",
       "Name: Stock Price, dtype: float64"
      ]
     },
     "execution_count": 86,
     "metadata": {},
     "output_type": "execute_result"
    }
   ],
   "source": [
    "google.head(3)"
   ]
  },
  {
   "cell_type": "code",
   "execution_count": 87,
   "metadata": {},
   "outputs": [
    {
     "data": {
      "text/plain": [
       "0        $50.12\n",
       "1         $54.1\n",
       "2        $54.65\n",
       "3        $52.38\n",
       "4        $52.95\n",
       "5         $53.9\n",
       "6        $53.02\n",
       "7        $50.95\n",
       "8        $51.13\n",
       "9        $50.07\n",
       "10        $50.7\n",
       "11       $49.95\n",
       "12       $50.74\n",
       "13        $51.1\n",
       "14        $51.1\n",
       "15       $52.61\n",
       "16        $53.7\n",
       "17       $55.69\n",
       "18       $55.94\n",
       "19       $56.93\n",
       "20       $58.69\n",
       "21       $59.62\n",
       "22       $58.86\n",
       "23       $59.13\n",
       "24       $60.35\n",
       "25       $59.86\n",
       "26       $59.07\n",
       "27       $63.37\n",
       "28       $65.47\n",
       "29       $64.74\n",
       "         ...   \n",
       "2982    $675.22\n",
       "2983    $668.26\n",
       "2984    $680.04\n",
       "2985    $684.11\n",
       "2986     $692.1\n",
       "2987    $699.21\n",
       "2988    $694.49\n",
       "2989    $697.77\n",
       "2990    $695.36\n",
       "2991    $705.63\n",
       "2992    $715.09\n",
       "2993    $720.64\n",
       "2994    $716.98\n",
       "2995    $720.95\n",
       "2996    $719.85\n",
       "2997    $733.78\n",
       "2998    $736.96\n",
       "2999    $741.19\n",
       "3000    $738.63\n",
       "3001    $742.74\n",
       "3002    $739.77\n",
       "3003    $738.42\n",
       "3004    $741.77\n",
       "3005    $745.91\n",
       "3006    $768.79\n",
       "3007    $772.88\n",
       "3008    $771.07\n",
       "3009    $773.18\n",
       "3010    $771.61\n",
       "3011    $782.22\n",
       "Name: Stock Price, Length: 3012, dtype: object"
      ]
     },
     "execution_count": 87,
     "metadata": {},
     "output_type": "execute_result"
    }
   ],
   "source": [
    "google.apply(lambda stockprice: '$' + str(stockprice))"
   ]
  },
  {
   "cell_type": "markdown",
   "metadata": {},
   "source": [
    "-----\n",
    "## The `.map(..)` method\n",
    "This method maps the values in a `Series` to another set of data.\n",
    "- Analogous to the `vlookup` operation in Excel"
   ]
  },
  {
   "cell_type": "code",
   "execution_count": 88,
   "metadata": {},
   "outputs": [
    {
     "data": {
      "text/plain": [
       "0    Bulbasaur\n",
       "1      Ivysaur\n",
       "2     Venusaur\n",
       "Name: Pokemon, dtype: object"
      ]
     },
     "execution_count": 88,
     "metadata": {},
     "output_type": "execute_result"
    }
   ],
   "source": [
    "pokemon_names = pd.read_csv('pandas/pokemon.csv', usecols=['Pokemon'], squeeze=True)\n",
    "pokemon_names.head(3)"
   ]
  },
  {
   "cell_type": "code",
   "execution_count": 89,
   "metadata": {},
   "outputs": [
    {
     "data": {
      "text/plain": [
       "Pokemon\n",
       "Bulbasaur    Grass\n",
       "Ivysaur      Grass\n",
       "Venusaur     Grass\n",
       "Name: Type, dtype: object"
      ]
     },
     "execution_count": 89,
     "metadata": {},
     "output_type": "execute_result"
    }
   ],
   "source": [
    "pokemon_types = pd.read_csv('pandas/pokemon.csv', index_col='Pokemon', squeeze=True)\n",
    "pokemon_types.head(3)"
   ]
  },
  {
   "cell_type": "code",
   "execution_count": 90,
   "metadata": {},
   "outputs": [
    {
     "data": {
      "text/plain": [
       "0         Grass\n",
       "1         Grass\n",
       "2         Grass\n",
       "3          Fire\n",
       "4          Fire\n",
       "5          Fire\n",
       "6         Water\n",
       "7         Water\n",
       "8         Water\n",
       "9           Bug\n",
       "10          Bug\n",
       "11          Bug\n",
       "12          Bug\n",
       "13          Bug\n",
       "14          Bug\n",
       "15       Normal\n",
       "16       Normal\n",
       "17       Normal\n",
       "18       Normal\n",
       "19       Normal\n",
       "20       Normal\n",
       "21       Normal\n",
       "22       Poison\n",
       "23       Poison\n",
       "24     Electric\n",
       "25     Electric\n",
       "26       Ground\n",
       "27       Ground\n",
       "28       Poison\n",
       "29       Poison\n",
       "         ...   \n",
       "691       Water\n",
       "692       Water\n",
       "693    Electric\n",
       "694    Electric\n",
       "695        Rock\n",
       "696        Rock\n",
       "697        Rock\n",
       "698        Rock\n",
       "699       Fairy\n",
       "700    Fighting\n",
       "701    Electric\n",
       "702        Rock\n",
       "703      Dragon\n",
       "704      Dragon\n",
       "705      Dragon\n",
       "706       Steel\n",
       "707       Ghost\n",
       "708       Ghost\n",
       "709       Ghost\n",
       "710       Ghost\n",
       "711         Ice\n",
       "712         Ice\n",
       "713      Flying\n",
       "714      Flying\n",
       "715       Fairy\n",
       "716        Dark\n",
       "717      Dragon\n",
       "718        Rock\n",
       "719     Psychic\n",
       "720        Fire\n",
       "Name: Pokemon, Length: 721, dtype: object"
      ]
     },
     "execution_count": 90,
     "metadata": {},
     "output_type": "execute_result"
    }
   ],
   "source": [
    "pokemon_names.map(pokemon_types)"
   ]
  },
  {
   "cell_type": "markdown",
   "metadata": {},
   "source": [
    "------\n",
    "**Can also provide a Python Dictionary to the `.map(..)` method.**"
   ]
  },
  {
   "cell_type": "code",
   "execution_count": 91,
   "metadata": {},
   "outputs": [],
   "source": [
    "pokemon_names = pd.read_csv('pandas/pokemon.csv', usecols=['Pokemon'], squeeze=True)\n",
    "pokemon_types = pd.read_csv('pandas/pokemon.csv', index_col='Pokemon', squeeze=True).to_dict()"
   ]
  },
  {
   "cell_type": "code",
   "execution_count": 92,
   "metadata": {},
   "outputs": [
    {
     "data": {
      "text/plain": [
       "0    Bulbasaur\n",
       "1      Ivysaur\n",
       "2     Venusaur\n",
       "Name: Pokemon, dtype: object"
      ]
     },
     "execution_count": 92,
     "metadata": {},
     "output_type": "execute_result"
    }
   ],
   "source": [
    "pokemon_names.head(3) # Regular Pandas Series"
   ]
  },
  {
   "cell_type": "code",
   "execution_count": 93,
   "metadata": {},
   "outputs": [
    {
     "data": {
      "text/plain": [
       "{'Bulbasaur': 'Grass',\n",
       " 'Ivysaur': 'Grass',\n",
       " 'Venusaur': 'Grass',\n",
       " 'Charmander': 'Fire',\n",
       " 'Charmeleon': 'Fire',\n",
       " 'Charizard': 'Fire',\n",
       " 'Squirtle': 'Water',\n",
       " 'Wartortle': 'Water',\n",
       " 'Blastoise': 'Water',\n",
       " 'Caterpie': 'Bug',\n",
       " 'Metapod': 'Bug',\n",
       " 'Butterfree': 'Bug',\n",
       " 'Weedle': 'Bug',\n",
       " 'Kakuna': 'Bug',\n",
       " 'Beedrill': 'Bug',\n",
       " 'Pidgey': 'Normal',\n",
       " 'Pidgeotto': 'Normal',\n",
       " 'Pidgeot': 'Normal',\n",
       " 'Rattata': 'Normal',\n",
       " 'Raticate': 'Normal',\n",
       " 'Spearow': 'Normal',\n",
       " 'Fearow': 'Normal',\n",
       " 'Ekans': 'Poison',\n",
       " 'Arbok': 'Poison',\n",
       " 'Pikachu': 'Electric',\n",
       " 'Raichu': 'Electric',\n",
       " 'Sandshrew': 'Ground',\n",
       " 'Sandslash': 'Ground',\n",
       " 'Nidoran': 'Poison',\n",
       " 'Nidorina': 'Poison',\n",
       " 'Nidoqueen': 'Poison',\n",
       " 'Nidoran♂': 'Poison',\n",
       " 'Nidorino': 'Poison',\n",
       " 'Nidoking': 'Poison',\n",
       " 'Clefairy': 'Fairy',\n",
       " 'Clefable': 'Fairy',\n",
       " 'Vulpix': 'Fire',\n",
       " 'Ninetales': 'Fire',\n",
       " 'Jigglypuff': 'Normal',\n",
       " 'Wigglytuff': 'Normal',\n",
       " 'Zubat': 'Poison',\n",
       " 'Golbat': 'Poison',\n",
       " 'Oddish': 'Grass',\n",
       " 'Gloom': 'Grass',\n",
       " 'Vileplume': 'Grass',\n",
       " 'Paras': 'Bug',\n",
       " 'Parasect': 'Bug',\n",
       " 'Venonat': 'Bug',\n",
       " 'Venomoth': 'Bug',\n",
       " 'Diglett': 'Ground',\n",
       " 'Dugtrio': 'Ground',\n",
       " 'Meowth': 'Normal',\n",
       " 'Persian': 'Normal',\n",
       " 'Psyduck': 'Water',\n",
       " 'Golduck': 'Water',\n",
       " 'Mankey': 'Fighting',\n",
       " 'Primeape': 'Fighting',\n",
       " 'Growlithe': 'Fire',\n",
       " 'Arcanine': 'Fire',\n",
       " 'Poliwag': 'Water',\n",
       " 'Poliwhirl': 'Water',\n",
       " 'Poliwrath': 'Water',\n",
       " 'Abra': 'Psychic',\n",
       " 'Kadabra': 'Psychic',\n",
       " 'Alakazam': 'Psychic',\n",
       " 'Machop': 'Fighting',\n",
       " 'Machoke': 'Fighting',\n",
       " 'Machamp': 'Fighting',\n",
       " 'Bellsprout': 'Grass',\n",
       " 'Weepinbell': 'Grass',\n",
       " 'Victreebel': 'Grass',\n",
       " 'Tentacool': 'Water',\n",
       " 'Tentacruel': 'Water',\n",
       " 'Geodude': 'Rock',\n",
       " 'Graveler': 'Rock',\n",
       " 'Golem': 'Rock',\n",
       " 'Ponyta': 'Fire',\n",
       " 'Rapidash': 'Fire',\n",
       " 'Slowpoke': 'Water',\n",
       " 'Slowbro': 'Water',\n",
       " 'Magnemite': 'Electric',\n",
       " 'Magneton': 'Electric',\n",
       " \"Farfetch'd\": 'Normal',\n",
       " 'Doduo': 'Normal',\n",
       " 'Dodrio': 'Normal',\n",
       " 'Seel': 'Water',\n",
       " 'Dewgong': 'Water',\n",
       " 'Grimer': 'Poison',\n",
       " 'Muk': 'Poison',\n",
       " 'Shellder': 'Water',\n",
       " 'Cloyster': 'Water',\n",
       " 'Gastly': 'Ghost',\n",
       " 'Haunter': 'Ghost',\n",
       " 'Gengar': 'Ghost',\n",
       " 'Onix': 'Rock',\n",
       " 'Drowzee': 'Psychic',\n",
       " 'Hypno': 'Psychic',\n",
       " 'Krabby': 'Water',\n",
       " 'Kingler': 'Water',\n",
       " 'Voltorb': 'Electric',\n",
       " 'Electrode': 'Electric',\n",
       " 'Exeggcute': 'Grass',\n",
       " 'Exeggutor': 'Grass',\n",
       " 'Cubone': 'Ground',\n",
       " 'Marowak': 'Ground',\n",
       " 'Hitmonlee': 'Fighting',\n",
       " 'Hitmonchan': 'Fighting',\n",
       " 'Lickitung': 'Normal',\n",
       " 'Koffing': 'Poison',\n",
       " 'Weezing': 'Poison',\n",
       " 'Rhyhorn': 'Ground',\n",
       " 'Rhydon': 'Ground',\n",
       " 'Chansey': 'Normal',\n",
       " 'Tangela': 'Grass',\n",
       " 'Kangaskhan': 'Normal',\n",
       " 'Horsea': 'Water',\n",
       " 'Seadra': 'Water',\n",
       " 'Goldeen': 'Water',\n",
       " 'Seaking': 'Water',\n",
       " 'Staryu': 'Water',\n",
       " 'Starmie': 'Water',\n",
       " 'Mr. Mime': 'Psychic',\n",
       " 'Scyther': 'Bug',\n",
       " 'Jynx': 'Ice',\n",
       " 'Electabuzz': 'Electric',\n",
       " 'Magmar': 'Fire',\n",
       " 'Pinsir': 'Bug',\n",
       " 'Tauros': 'Normal',\n",
       " 'Magikarp': 'Water',\n",
       " 'Gyarados': 'Water',\n",
       " 'Lapras': 'Water',\n",
       " 'Ditto': 'Normal',\n",
       " 'Eevee': 'Normal',\n",
       " 'Vaporeon': 'Water',\n",
       " 'Jolteon': 'Electric',\n",
       " 'Flareon': 'Fire',\n",
       " 'Porygon': 'Normal',\n",
       " 'Omanyte': 'Rock',\n",
       " 'Omastar': 'Rock',\n",
       " 'Kabuto': 'Rock',\n",
       " 'Kabutops': 'Rock',\n",
       " 'Aerodactyl': 'Rock',\n",
       " 'Snorlax': 'Normal',\n",
       " 'Articuno': 'Ice',\n",
       " 'Zapdos': 'Electric',\n",
       " 'Moltres': 'Fire',\n",
       " 'Dratini': 'Dragon',\n",
       " 'Dragonair': 'Dragon',\n",
       " 'Dragonite': 'Dragon',\n",
       " 'Mewtwo': 'Psychic',\n",
       " 'Mew': 'Psychic',\n",
       " 'Chikorita': 'Grass',\n",
       " 'Bayleef': 'Grass',\n",
       " 'Meganium': 'Grass',\n",
       " 'Cyndaquil': 'Fire',\n",
       " 'Quilava': 'Fire',\n",
       " 'Typhlosion': 'Fire',\n",
       " 'Totodile': 'Water',\n",
       " 'Croconaw': 'Water',\n",
       " 'Feraligatr': 'Water',\n",
       " 'Sentret': 'Normal',\n",
       " 'Furret': 'Normal',\n",
       " 'Hoothoot': 'Normal',\n",
       " 'Noctowl': 'Normal',\n",
       " 'Ledyba': 'Bug',\n",
       " 'Ledian': 'Bug',\n",
       " 'Spinarak': 'Bug',\n",
       " 'Ariados': 'Bug',\n",
       " 'Crobat': 'Poison',\n",
       " 'Chinchou': 'Water',\n",
       " 'Lanturn': 'Water',\n",
       " 'Pichu': 'Electric',\n",
       " 'Cleffa': 'Fairy',\n",
       " 'Igglybuff': 'Normal',\n",
       " 'Togepi': 'Fairy',\n",
       " 'Togetic': 'Fairy',\n",
       " 'Natu': 'Psychic',\n",
       " 'Xatu': 'Psychic',\n",
       " 'Mareep': 'Electric',\n",
       " 'Flaaffy': 'Electric',\n",
       " 'Ampharos': 'Electric',\n",
       " 'Bellossom': 'Grass',\n",
       " 'Marill': 'Water',\n",
       " 'Azumarill': 'Water',\n",
       " 'Sudowoodo': 'Rock',\n",
       " 'Politoed': 'Water',\n",
       " 'Hoppip': 'Grass',\n",
       " 'Skiploom': 'Grass',\n",
       " 'Jumpluff': 'Grass',\n",
       " 'Aipom': 'Normal',\n",
       " 'Sunkern': 'Grass',\n",
       " 'Sunflora': 'Grass',\n",
       " 'Yanma': 'Bug',\n",
       " 'Wooper': 'Water',\n",
       " 'Quagsire': 'Water',\n",
       " 'Espeon': 'Psychic',\n",
       " 'Umbreon': 'Dark',\n",
       " 'Murkrow': 'Dark',\n",
       " 'Slowking': 'Water',\n",
       " 'Misdreavus': 'Ghost',\n",
       " 'Unown': 'Psychic',\n",
       " 'Wobbuffet': 'Psychic',\n",
       " 'Girafarig': 'Normal',\n",
       " 'Pineco': 'Bug',\n",
       " 'Forretress': 'Bug',\n",
       " 'Dunsparce': 'Normal',\n",
       " 'Gligar': 'Ground',\n",
       " 'Steelix': 'Steel',\n",
       " 'Snubbull': 'Fairy',\n",
       " 'Granbull': 'Fairy',\n",
       " 'Qwilfish': 'Water',\n",
       " 'Scizor': 'Bug',\n",
       " 'Shuckle': 'Bug',\n",
       " 'Heracross': 'Bug',\n",
       " 'Sneasel': 'Dark',\n",
       " 'Teddiursa': 'Normal',\n",
       " 'Ursaring': 'Normal',\n",
       " 'Slugma': 'Fire',\n",
       " 'Magcargo': 'Fire',\n",
       " 'Swinub': 'Ice',\n",
       " 'Piloswine': 'Ice',\n",
       " 'Corsola': 'Water',\n",
       " 'Remoraid': 'Water',\n",
       " 'Octillery': 'Water',\n",
       " 'Delibird': 'Ice',\n",
       " 'Mantine': 'Water',\n",
       " 'Skarmory': 'Steel',\n",
       " 'Houndour': 'Dark',\n",
       " 'Houndoom': 'Dark',\n",
       " 'Kingdra': 'Water',\n",
       " 'Phanpy': 'Ground',\n",
       " 'Donphan': 'Ground',\n",
       " 'Porygon2': 'Normal',\n",
       " 'Stantler': 'Normal',\n",
       " 'Smeargle': 'Normal',\n",
       " 'Tyrogue': 'Fighting',\n",
       " 'Hitmontop': 'Fighting',\n",
       " 'Smoochum': 'Ice',\n",
       " 'Elekid': 'Electric',\n",
       " 'Magby': 'Fire',\n",
       " 'Miltank': 'Normal',\n",
       " 'Blissey': 'Normal',\n",
       " 'Raikou': 'Electric',\n",
       " 'Entei': 'Fire',\n",
       " 'Suicune': 'Water',\n",
       " 'Larvitar': 'Rock',\n",
       " 'Pupitar': 'Rock',\n",
       " 'Tyranitar': 'Rock',\n",
       " 'Lugia': 'Psychic',\n",
       " 'Ho-oh': 'Fire',\n",
       " 'Celebi': 'Psychic',\n",
       " 'Treecko': 'Grass',\n",
       " 'Grovyle': 'Grass',\n",
       " 'Sceptile': 'Grass',\n",
       " 'Torchic': 'Fire',\n",
       " 'Combusken': 'Fire',\n",
       " 'Blaziken': 'Fire',\n",
       " 'Mudkip': 'Water',\n",
       " 'Marshtomp': 'Water',\n",
       " 'Swampert': 'Water',\n",
       " 'Poochyena': 'Dark',\n",
       " 'Mightyena': 'Dark',\n",
       " 'Zigzagoon': 'Normal',\n",
       " 'Linoone': 'Normal',\n",
       " 'Wurmple': 'Bug',\n",
       " 'Silcoon': 'Bug',\n",
       " 'Beautifly': 'Bug',\n",
       " 'Cascoon': 'Bug',\n",
       " 'Dustox': 'Bug',\n",
       " 'Lotad': 'Water',\n",
       " 'Lombre': 'Water',\n",
       " 'Ludicolo': 'Water',\n",
       " 'Seedot': 'Grass',\n",
       " 'Nuzleaf': 'Grass',\n",
       " 'Shiftry': 'Grass',\n",
       " 'Taillow': 'Normal',\n",
       " 'Swellow': 'Normal',\n",
       " 'Wingull': 'Water',\n",
       " 'Pelipper': 'Water',\n",
       " 'Ralts': 'Psychic',\n",
       " 'Kirlia': 'Psychic',\n",
       " 'Gardevoir': 'Psychic',\n",
       " 'Surskit': 'Bug',\n",
       " 'Masquerain': 'Bug',\n",
       " 'Shroomish': 'Grass',\n",
       " 'Breloom': 'Grass',\n",
       " 'Slakoth': 'Normal',\n",
       " 'Vigoroth': 'Normal',\n",
       " 'Slaking': 'Normal',\n",
       " 'Nincada': 'Bug',\n",
       " 'Ninjask': 'Bug',\n",
       " 'Shedinja': 'Bug',\n",
       " 'Whismur': 'Normal',\n",
       " 'Loudred': 'Normal',\n",
       " 'Exploud': 'Normal',\n",
       " 'Makuhita': 'Fighting',\n",
       " 'Hariyama': 'Fighting',\n",
       " 'Azurill': 'Normal',\n",
       " 'Nosepass': 'Rock',\n",
       " 'Skitty': 'Normal',\n",
       " 'Delcatty': 'Normal',\n",
       " 'Sableye': 'Dark',\n",
       " 'Mawile': 'Steel',\n",
       " 'Aron': 'Steel',\n",
       " 'Lairon': 'Steel',\n",
       " 'Aggron': 'Steel',\n",
       " 'Meditite': 'Fighting',\n",
       " 'Medicham': 'Fighting',\n",
       " 'Electrike': 'Electric',\n",
       " 'Manectric': 'Electric',\n",
       " 'Plusle': 'Electric',\n",
       " 'Minun': 'Electric',\n",
       " 'Volbeat': 'Bug',\n",
       " 'Illumise': 'Bug',\n",
       " 'Roselia': 'Grass',\n",
       " 'Gulpin': 'Poison',\n",
       " 'Swalot': 'Poison',\n",
       " 'Carvanha': 'Water',\n",
       " 'Sharpedo': 'Water',\n",
       " 'Wailmer': 'Water',\n",
       " 'Wailord': 'Water',\n",
       " 'Numel': 'Fire',\n",
       " 'Camerupt': 'Fire',\n",
       " 'Torkoal': 'Fire',\n",
       " 'Spoink': 'Psychic',\n",
       " 'Grumpig': 'Psychic',\n",
       " 'Spinda': 'Normal',\n",
       " 'Trapinch': 'Ground',\n",
       " 'Vibrava': 'Ground',\n",
       " 'Flygon': 'Ground',\n",
       " 'Cacnea': 'Grass',\n",
       " 'Cacturne': 'Grass',\n",
       " 'Swablu': 'Normal',\n",
       " 'Altaria': 'Dragon',\n",
       " 'Zangoose': 'Normal',\n",
       " 'Seviper': 'Poison',\n",
       " 'Lunatone': 'Rock',\n",
       " 'Solrock': 'Rock',\n",
       " 'Barboach': 'Water',\n",
       " 'Whiscash': 'Water',\n",
       " 'Corphish': 'Water',\n",
       " 'Crawdaunt': 'Water',\n",
       " 'Baltoy': 'Ground',\n",
       " 'Claydol': 'Ground',\n",
       " 'Lileep': 'Rock',\n",
       " 'Cradily': 'Rock',\n",
       " 'Anorith': 'Rock',\n",
       " 'Armaldo': 'Rock',\n",
       " 'Feebas': 'Water',\n",
       " 'Milotic': 'Water',\n",
       " 'Castform': 'Normal',\n",
       " 'Kecleon': 'Normal',\n",
       " 'Shuppet': 'Ghost',\n",
       " 'Banette': 'Ghost',\n",
       " 'Duskull': 'Ghost',\n",
       " 'Dusclops': 'Ghost',\n",
       " 'Tropius': 'Grass',\n",
       " 'Chimecho': 'Psychic',\n",
       " 'Absol': 'Dark',\n",
       " 'Wynaut': 'Psychic',\n",
       " 'Snorunt': 'Ice',\n",
       " 'Glalie': 'Ice',\n",
       " 'Spheal': 'Ice',\n",
       " 'Sealeo': 'Ice',\n",
       " 'Walrein': 'Ice',\n",
       " 'Clamperl': 'Water',\n",
       " 'Huntail': 'Water',\n",
       " 'Gorebyss': 'Water',\n",
       " 'Relicanth': 'Water',\n",
       " 'Luvdisc': 'Water',\n",
       " 'Bagon': 'Dragon',\n",
       " 'Shelgon': 'Dragon',\n",
       " 'Salamence': 'Dragon',\n",
       " 'Beldum': 'Steel',\n",
       " 'Metang': 'Steel',\n",
       " 'Metagross': 'Steel',\n",
       " 'Regirock': 'Rock',\n",
       " 'Regice': 'Ice',\n",
       " 'Registeel': 'Steel',\n",
       " 'Latias': 'Dragon',\n",
       " 'Latios': 'Dragon',\n",
       " 'Kyogre': 'Water',\n",
       " 'Groudon': 'Ground',\n",
       " 'Rayquaza': 'Dragon',\n",
       " 'Jirachi': 'Steel',\n",
       " 'Deoxys': 'Psychic',\n",
       " 'Turtwig': 'Grass',\n",
       " 'Grotle': 'Grass',\n",
       " 'Torterra': 'Grass',\n",
       " 'Chimchar': 'Fire',\n",
       " 'Monferno': 'Fire',\n",
       " 'Infernape': 'Fire',\n",
       " 'Piplup': 'Water',\n",
       " 'Prinplup': 'Water',\n",
       " 'Empoleon': 'Water',\n",
       " 'Starly': 'Normal',\n",
       " 'Staravia': 'Normal',\n",
       " 'Staraptor': 'Normal',\n",
       " 'Bidoof': 'Normal',\n",
       " 'Bibarel': 'Normal',\n",
       " 'Kricketot': 'Bug',\n",
       " 'Kricketune': 'Bug',\n",
       " 'Shinx': 'Electric',\n",
       " 'Luxio': 'Electric',\n",
       " 'Luxray': 'Electric',\n",
       " 'Budew': 'Grass',\n",
       " 'Roserade': 'Grass',\n",
       " 'Cranidos': 'Rock',\n",
       " 'Rampardos': 'Rock',\n",
       " 'Shieldon': 'Rock',\n",
       " 'Bastiodon': 'Rock',\n",
       " 'Burmy': 'Bug',\n",
       " 'Wormadam': 'Bug',\n",
       " 'Mothim': 'Bug',\n",
       " 'Combee': 'Bug',\n",
       " 'Vespiquen': 'Bug',\n",
       " 'Pachirisu': 'Electric',\n",
       " 'Buizel': 'Water',\n",
       " 'Floatzel': 'Water',\n",
       " 'Cherubi': 'Grass',\n",
       " 'Cherrim': 'Grass',\n",
       " 'Shellos': 'Water',\n",
       " 'Gastrodon': 'Water',\n",
       " 'Ambipom': 'Normal',\n",
       " 'Drifloon': 'Ghost',\n",
       " 'Drifblim': 'Ghost',\n",
       " 'Buneary': 'Normal',\n",
       " 'Lopunny': 'Normal',\n",
       " 'Mismagius': 'Ghost',\n",
       " 'Honchkrow': 'Dark',\n",
       " 'Glameow': 'Normal',\n",
       " 'Purugly': 'Normal',\n",
       " 'Chingling': 'Psychic',\n",
       " 'Stunky': 'Poison',\n",
       " 'Skuntank': 'Poison',\n",
       " 'Bronzor': 'Steel',\n",
       " 'Bronzong': 'Steel',\n",
       " 'Bonsly': 'Rock',\n",
       " 'Mime Jr.': 'Psychic',\n",
       " 'Happiny': 'Normal',\n",
       " 'Chatot': 'Normal',\n",
       " 'Spiritomb': 'Ghost',\n",
       " 'Gible': 'Dragon',\n",
       " 'Gabite': 'Dragon',\n",
       " 'Garchomp': 'Dragon',\n",
       " 'Munchlax': 'Normal',\n",
       " 'Riolu': 'Fighting',\n",
       " 'Lucario': 'Fighting',\n",
       " 'Hippopotas': 'Ground',\n",
       " 'Hippowdon': 'Ground',\n",
       " 'Skorupi': 'Poison',\n",
       " 'Drapion': 'Poison',\n",
       " 'Croagunk': 'Poison',\n",
       " 'Toxicroak': 'Poison',\n",
       " 'Carnivine': 'Grass',\n",
       " 'Finneon': 'Water',\n",
       " 'Lumineon': 'Water',\n",
       " 'Mantyke': 'Water',\n",
       " 'Snover': 'Grass',\n",
       " 'Abomasnow': 'Grass',\n",
       " 'Weavile': 'Dark',\n",
       " 'Magnezone': 'Electric',\n",
       " 'Lickilicky': 'Normal',\n",
       " 'Rhyperior': 'Ground',\n",
       " 'Tangrowth': 'Grass',\n",
       " 'Electivire': 'Electric',\n",
       " 'Magmortar': 'Fire',\n",
       " 'Togekiss': 'Fairy',\n",
       " 'Yanmega': 'Bug',\n",
       " 'Leafeon': 'Grass',\n",
       " 'Glaceon': 'Ice',\n",
       " 'Gliscor': 'Ground',\n",
       " 'Mamoswine': 'Ice',\n",
       " 'Porygon-Z': 'Normal',\n",
       " 'Gallade': 'Psychic',\n",
       " 'Probopass': 'Rock',\n",
       " 'Dusknoir': 'Ghost',\n",
       " 'Froslass': 'Ice',\n",
       " 'Rotom': 'Electric',\n",
       " 'Uxie': 'Psychic',\n",
       " 'Mesprit': 'Psychic',\n",
       " 'Azelf': 'Psychic',\n",
       " 'Dialga': 'Steel',\n",
       " 'Palkia': 'Water',\n",
       " 'Heatran': 'Fire',\n",
       " 'Regigigas': 'Normal',\n",
       " 'Giratina': 'Ghost',\n",
       " 'Cresselia': 'Psychic',\n",
       " 'Phione': 'Water',\n",
       " 'Manaphy': 'Water',\n",
       " 'Darkrai': 'Dark',\n",
       " 'Shaymin': 'Grass',\n",
       " 'Arceus': 'Normal',\n",
       " 'Victini': 'Psychic',\n",
       " 'Snivy': 'Grass',\n",
       " 'Servine': 'Grass',\n",
       " 'Serperior': 'Grass',\n",
       " 'Tepig': 'Fire',\n",
       " 'Pignite': 'Fire',\n",
       " 'Emboar': 'Fire',\n",
       " 'Oshawott': 'Water',\n",
       " 'Dewott': 'Water',\n",
       " 'Samurott': 'Water',\n",
       " 'Patrat': 'Normal',\n",
       " 'Watchog': 'Normal',\n",
       " 'Lillipup': 'Normal',\n",
       " 'Herdier': 'Normal',\n",
       " 'Stoutland': 'Normal',\n",
       " 'Purrloin': 'Dark',\n",
       " 'Liepard': 'Dark',\n",
       " 'Pansage': 'Grass',\n",
       " 'Simisage': 'Grass',\n",
       " 'Pansear': 'Fire',\n",
       " 'Simisear': 'Fire',\n",
       " 'Panpour': 'Water',\n",
       " 'Simipour': 'Water',\n",
       " 'Munna': 'Psychic',\n",
       " 'Musharna': 'Psychic',\n",
       " 'Pidove': 'Normal',\n",
       " 'Tranquill': 'Normal',\n",
       " 'Unfezant': 'Normal',\n",
       " 'Blitzle': 'Electric',\n",
       " 'Zebstrika': 'Electric',\n",
       " 'Roggenrola': 'Rock',\n",
       " 'Boldore': 'Rock',\n",
       " 'Gigalith': 'Rock',\n",
       " 'Woobat': 'Psychic',\n",
       " 'Swoobat': 'Psychic',\n",
       " 'Drilbur': 'Ground',\n",
       " 'Excadrill': 'Ground',\n",
       " 'Audino': 'Normal',\n",
       " 'Timburr': 'Fighting',\n",
       " 'Gurdurr': 'Fighting',\n",
       " 'Conkeldurr': 'Fighting',\n",
       " 'Tympole': 'Water',\n",
       " 'Palpitoad': 'Water',\n",
       " 'Seismitoad': 'Water',\n",
       " 'Throh': 'Fighting',\n",
       " 'Sawk': 'Fighting',\n",
       " 'Sewaddle': 'Bug',\n",
       " 'Swadloon': 'Bug',\n",
       " 'Leavanny': 'Bug',\n",
       " 'Venipede': 'Bug',\n",
       " 'Whirlipede': 'Bug',\n",
       " 'Scolipede': 'Bug',\n",
       " 'Cottonee': 'Grass',\n",
       " 'Whimsicott': 'Grass',\n",
       " 'Petilil': 'Grass',\n",
       " 'Lilligant': 'Grass',\n",
       " 'Basculin': 'Water',\n",
       " 'Sandile': 'Ground',\n",
       " 'Krokorok': 'Ground',\n",
       " 'Krookodile': 'Ground',\n",
       " 'Darumaka': 'Fire',\n",
       " 'Darmanitan': 'Fire',\n",
       " 'Maractus': 'Grass',\n",
       " 'Dwebble': 'Bug',\n",
       " 'Crustle': 'Bug',\n",
       " 'Scraggy': 'Dark',\n",
       " 'Scrafty': 'Dark',\n",
       " 'Sigilyph': 'Psychic',\n",
       " 'Yamask': 'Ghost',\n",
       " 'Cofagrigus': 'Ghost',\n",
       " 'Tirtouga': 'Water',\n",
       " 'Carracosta': 'Water',\n",
       " 'Archen': 'Rock',\n",
       " 'Archeops': 'Rock',\n",
       " 'Trubbish': 'Poison',\n",
       " 'Garbodor': 'Poison',\n",
       " 'Zorua': 'Dark',\n",
       " 'Zoroark': 'Dark',\n",
       " 'Minccino': 'Normal',\n",
       " 'Cinccino': 'Normal',\n",
       " 'Gothita': 'Psychic',\n",
       " 'Gothorita': 'Psychic',\n",
       " 'Gothitelle': 'Psychic',\n",
       " 'Solosis': 'Psychic',\n",
       " 'Duosion': 'Psychic',\n",
       " 'Reuniclus': 'Psychic',\n",
       " 'Ducklett': 'Water',\n",
       " 'Swanna': 'Water',\n",
       " 'Vanillite': 'Ice',\n",
       " 'Vanillish': 'Ice',\n",
       " 'Vanilluxe': 'Ice',\n",
       " 'Deerling': 'Normal',\n",
       " 'Sawsbuck': 'Normal',\n",
       " 'Emolga': 'Electric',\n",
       " 'Karrablast': 'Bug',\n",
       " 'Escavalier': 'Bug',\n",
       " 'Foongus': 'Grass',\n",
       " 'Amoonguss': 'Grass',\n",
       " 'Frillish': 'Water',\n",
       " 'Jellicent': 'Water',\n",
       " 'Alomomola': 'Water',\n",
       " 'Joltik': 'Bug',\n",
       " 'Galvantula': 'Bug',\n",
       " 'Ferroseed': 'Grass',\n",
       " 'Ferrothorn': 'Grass',\n",
       " 'Klink': 'Steel',\n",
       " 'Klang': 'Steel',\n",
       " 'Klinklang': 'Steel',\n",
       " 'Tynamo': 'Electric',\n",
       " 'Eelektrik': 'Electric',\n",
       " 'Eelektross': 'Electric',\n",
       " 'Elgyem': 'Psychic',\n",
       " 'Beheeyem': 'Psychic',\n",
       " 'Litwick': 'Ghost',\n",
       " 'Lampent': 'Ghost',\n",
       " 'Chandelure': 'Ghost',\n",
       " 'Axew': 'Dragon',\n",
       " 'Fraxure': 'Dragon',\n",
       " 'Haxorus': 'Dragon',\n",
       " 'Cubchoo': 'Ice',\n",
       " 'Beartic': 'Ice',\n",
       " 'Cryogonal': 'Ice',\n",
       " 'Shelmet': 'Bug',\n",
       " 'Accelgor': 'Bug',\n",
       " 'Stunfisk': 'Ground',\n",
       " 'Mienfoo': 'Fighting',\n",
       " 'Mienshao': 'Fighting',\n",
       " 'Druddigon': 'Dragon',\n",
       " 'Golett': 'Ground',\n",
       " 'Golurk': 'Ground',\n",
       " 'Pawniard': 'Dark',\n",
       " 'Bisharp': 'Dark',\n",
       " 'Bouffalant': 'Normal',\n",
       " 'Rufflet': 'Normal',\n",
       " 'Braviary': 'Normal',\n",
       " 'Vullaby': 'Dark',\n",
       " 'Mandibuzz': 'Dark',\n",
       " 'Heatmor': 'Fire',\n",
       " 'Durant': 'Bug',\n",
       " 'Deino': 'Dark',\n",
       " 'Zweilous': 'Dark',\n",
       " 'Hydreigon': 'Dark',\n",
       " 'Larvesta': 'Bug',\n",
       " 'Volcarona': 'Bug',\n",
       " 'Cobalion': 'Steel',\n",
       " 'Terrakion': 'Rock',\n",
       " 'Virizion': 'Grass',\n",
       " 'Tornadus': 'Flying',\n",
       " 'Thundurus': 'Electric',\n",
       " 'Reshiram': 'Dragon',\n",
       " 'Zekrom': 'Dragon',\n",
       " 'Landorus': 'Ground',\n",
       " 'Kyurem': 'Dragon',\n",
       " 'Keldeo': 'Water',\n",
       " 'Meloetta': 'Normal',\n",
       " 'Genesect': 'Bug',\n",
       " 'Chespin': 'Grass',\n",
       " 'Quilladin': 'Grass',\n",
       " 'Chesnaught': 'Grass',\n",
       " 'Fennekin': 'Fire',\n",
       " 'Braixen': 'Fire',\n",
       " 'Delphox': 'Fire',\n",
       " 'Froakie': 'Water',\n",
       " 'Frogadier': 'Water',\n",
       " 'Greninja': 'Water',\n",
       " 'Bunnelby': 'Normal',\n",
       " 'Diggersby': 'Normal',\n",
       " 'Fletchling': 'Normal',\n",
       " 'Fletchinder': 'Fire',\n",
       " 'Talonflame': 'Fire',\n",
       " 'Scatterbug': 'Bug',\n",
       " 'Spewpa': 'Bug',\n",
       " 'Vivillon': 'Bug',\n",
       " 'Litleo': 'Fire',\n",
       " 'Pyroar': 'Fire',\n",
       " 'Flabébé': 'Fairy',\n",
       " 'Floette': 'Fairy',\n",
       " 'Florges': 'Fairy',\n",
       " 'Skiddo': 'Grass',\n",
       " 'Gogoat': 'Grass',\n",
       " 'Pancham': 'Fighting',\n",
       " 'Pangoro': 'Fighting',\n",
       " 'Furfrou': 'Normal',\n",
       " 'Espurr': 'Psychic',\n",
       " 'Meowstic': 'Psychic',\n",
       " 'Honedge': 'Steel',\n",
       " 'Doublade': 'Steel',\n",
       " 'Aegislash': 'Steel',\n",
       " 'Spritzee': 'Fairy',\n",
       " 'Aromatisse': 'Fairy',\n",
       " 'Swirlix': 'Fairy',\n",
       " 'Slurpuff': 'Fairy',\n",
       " 'Inkay': 'Dark',\n",
       " 'Malamar': 'Dark',\n",
       " 'Binacle': 'Rock',\n",
       " 'Barbaracle': 'Rock',\n",
       " 'Skrelp': 'Poison',\n",
       " 'Dragalge': 'Poison',\n",
       " 'Clauncher': 'Water',\n",
       " 'Clawitzer': 'Water',\n",
       " 'Helioptile': 'Electric',\n",
       " 'Heliolisk': 'Electric',\n",
       " 'Tyrunt': 'Rock',\n",
       " 'Tyrantrum': 'Rock',\n",
       " 'Amaura': 'Rock',\n",
       " 'Aurorus': 'Rock',\n",
       " 'Sylveon': 'Fairy',\n",
       " 'Hawlucha': 'Fighting',\n",
       " 'Dedenne': 'Electric',\n",
       " 'Carbink': 'Rock',\n",
       " 'Goomy': 'Dragon',\n",
       " 'Sliggoo': 'Dragon',\n",
       " 'Goodra': 'Dragon',\n",
       " 'Klefki': 'Steel',\n",
       " 'Phantump': 'Ghost',\n",
       " 'Trevenant': 'Ghost',\n",
       " 'Pumpkaboo': 'Ghost',\n",
       " 'Gourgeist': 'Ghost',\n",
       " 'Bergmite': 'Ice',\n",
       " 'Avalugg': 'Ice',\n",
       " 'Noibat': 'Flying',\n",
       " 'Noivern': 'Flying',\n",
       " 'Xerneas': 'Fairy',\n",
       " 'Yveltal': 'Dark',\n",
       " 'Zygarde': 'Dragon',\n",
       " 'Diancie': 'Rock',\n",
       " 'Hoopa': 'Psychic',\n",
       " 'Volcanion': 'Fire'}"
      ]
     },
     "execution_count": 93,
     "metadata": {},
     "output_type": "execute_result"
    }
   ],
   "source": [
    "pokemon_types # Pandas dictionary"
   ]
  },
  {
   "cell_type": "code",
   "execution_count": 94,
   "metadata": {},
   "outputs": [
    {
     "data": {
      "text/plain": [
       "0         Grass\n",
       "1         Grass\n",
       "2         Grass\n",
       "3          Fire\n",
       "4          Fire\n",
       "5          Fire\n",
       "6         Water\n",
       "7         Water\n",
       "8         Water\n",
       "9           Bug\n",
       "10          Bug\n",
       "11          Bug\n",
       "12          Bug\n",
       "13          Bug\n",
       "14          Bug\n",
       "15       Normal\n",
       "16       Normal\n",
       "17       Normal\n",
       "18       Normal\n",
       "19       Normal\n",
       "20       Normal\n",
       "21       Normal\n",
       "22       Poison\n",
       "23       Poison\n",
       "24     Electric\n",
       "25     Electric\n",
       "26       Ground\n",
       "27       Ground\n",
       "28       Poison\n",
       "29       Poison\n",
       "         ...   \n",
       "691       Water\n",
       "692       Water\n",
       "693    Electric\n",
       "694    Electric\n",
       "695        Rock\n",
       "696        Rock\n",
       "697        Rock\n",
       "698        Rock\n",
       "699       Fairy\n",
       "700    Fighting\n",
       "701    Electric\n",
       "702        Rock\n",
       "703      Dragon\n",
       "704      Dragon\n",
       "705      Dragon\n",
       "706       Steel\n",
       "707       Ghost\n",
       "708       Ghost\n",
       "709       Ghost\n",
       "710       Ghost\n",
       "711         Ice\n",
       "712         Ice\n",
       "713      Flying\n",
       "714      Flying\n",
       "715       Fairy\n",
       "716        Dark\n",
       "717      Dragon\n",
       "718        Rock\n",
       "719     Psychic\n",
       "720        Fire\n",
       "Name: Pokemon, Length: 721, dtype: object"
      ]
     },
     "execution_count": 94,
     "metadata": {},
     "output_type": "execute_result"
    }
   ],
   "source": [
    "pokemon_names.map(pokemon_types)"
   ]
  },
  {
   "cell_type": "code",
   "execution_count": null,
   "metadata": {},
   "outputs": [],
   "source": []
  }
 ],
 "metadata": {
  "kernelspec": {
   "display_name": "Python 3",
   "language": "python",
   "name": "python3"
  },
  "language_info": {
   "codemirror_mode": {
    "name": "ipython",
    "version": 3
   },
   "file_extension": ".py",
   "mimetype": "text/x-python",
   "name": "python",
   "nbconvert_exporter": "python",
   "pygments_lexer": "ipython3",
   "version": "3.6.5"
  }
 },
 "nbformat": 4,
 "nbformat_minor": 2
}
