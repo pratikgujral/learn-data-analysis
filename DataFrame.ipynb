{
 "cells": [
  {
   "cell_type": "markdown",
   "metadata": {},
   "source": [
    "A `DateFrame` is a two-dimensional object. It is analogous to a table."
   ]
  },
  {
   "cell_type": "code",
   "execution_count": 1,
   "metadata": {},
   "outputs": [],
   "source": [
    "import pandas as pd"
   ]
  },
  {
   "cell_type": "code",
   "execution_count": 2,
   "metadata": {},
   "outputs": [],
   "source": [
    "nba = pd.read_csv('pandas/nba.csv')"
   ]
  },
  {
   "cell_type": "markdown",
   "metadata": {},
   "source": [
    "-----\n",
    "## Shared attributes and methods between `Series` and `Dataframe`\n",
    "### `.head(..)` and `.tail(..)` methods"
   ]
  },
  {
   "cell_type": "code",
   "execution_count": 3,
   "metadata": {},
   "outputs": [
    {
     "data": {
      "text/html": [
       "<div>\n",
       "<style scoped>\n",
       "    .dataframe tbody tr th:only-of-type {\n",
       "        vertical-align: middle;\n",
       "    }\n",
       "\n",
       "    .dataframe tbody tr th {\n",
       "        vertical-align: top;\n",
       "    }\n",
       "\n",
       "    .dataframe thead th {\n",
       "        text-align: right;\n",
       "    }\n",
       "</style>\n",
       "<table border=\"1\" class=\"dataframe\">\n",
       "  <thead>\n",
       "    <tr style=\"text-align: right;\">\n",
       "      <th></th>\n",
       "      <th>Name</th>\n",
       "      <th>Team</th>\n",
       "      <th>Number</th>\n",
       "      <th>Position</th>\n",
       "      <th>Age</th>\n",
       "      <th>Height</th>\n",
       "      <th>Weight</th>\n",
       "      <th>College</th>\n",
       "      <th>Salary</th>\n",
       "    </tr>\n",
       "  </thead>\n",
       "  <tbody>\n",
       "    <tr>\n",
       "      <th>0</th>\n",
       "      <td>Avery Bradley</td>\n",
       "      <td>Boston Celtics</td>\n",
       "      <td>0.0</td>\n",
       "      <td>PG</td>\n",
       "      <td>25.0</td>\n",
       "      <td>6-2</td>\n",
       "      <td>180.0</td>\n",
       "      <td>Texas</td>\n",
       "      <td>7730337.0</td>\n",
       "    </tr>\n",
       "    <tr>\n",
       "      <th>1</th>\n",
       "      <td>Jae Crowder</td>\n",
       "      <td>Boston Celtics</td>\n",
       "      <td>99.0</td>\n",
       "      <td>SF</td>\n",
       "      <td>25.0</td>\n",
       "      <td>6-6</td>\n",
       "      <td>235.0</td>\n",
       "      <td>Marquette</td>\n",
       "      <td>6796117.0</td>\n",
       "    </tr>\n",
       "    <tr>\n",
       "      <th>2</th>\n",
       "      <td>John Holland</td>\n",
       "      <td>Boston Celtics</td>\n",
       "      <td>30.0</td>\n",
       "      <td>SG</td>\n",
       "      <td>27.0</td>\n",
       "      <td>6-5</td>\n",
       "      <td>205.0</td>\n",
       "      <td>Boston University</td>\n",
       "      <td>NaN</td>\n",
       "    </tr>\n",
       "  </tbody>\n",
       "</table>\n",
       "</div>"
      ],
      "text/plain": [
       "            Name            Team  Number Position   Age Height  Weight  \\\n",
       "0  Avery Bradley  Boston Celtics     0.0       PG  25.0    6-2   180.0   \n",
       "1    Jae Crowder  Boston Celtics    99.0       SF  25.0    6-6   235.0   \n",
       "2   John Holland  Boston Celtics    30.0       SG  27.0    6-5   205.0   \n",
       "\n",
       "             College     Salary  \n",
       "0              Texas  7730337.0  \n",
       "1          Marquette  6796117.0  \n",
       "2  Boston University        NaN  "
      ]
     },
     "execution_count": 3,
     "metadata": {},
     "output_type": "execute_result"
    }
   ],
   "source": [
    "nba.head(3)"
   ]
  },
  {
   "cell_type": "code",
   "execution_count": 4,
   "metadata": {},
   "outputs": [
    {
     "data": {
      "text/html": [
       "<div>\n",
       "<style scoped>\n",
       "    .dataframe tbody tr th:only-of-type {\n",
       "        vertical-align: middle;\n",
       "    }\n",
       "\n",
       "    .dataframe tbody tr th {\n",
       "        vertical-align: top;\n",
       "    }\n",
       "\n",
       "    .dataframe thead th {\n",
       "        text-align: right;\n",
       "    }\n",
       "</style>\n",
       "<table border=\"1\" class=\"dataframe\">\n",
       "  <thead>\n",
       "    <tr style=\"text-align: right;\">\n",
       "      <th></th>\n",
       "      <th>Name</th>\n",
       "      <th>Team</th>\n",
       "      <th>Number</th>\n",
       "      <th>Position</th>\n",
       "      <th>Age</th>\n",
       "      <th>Height</th>\n",
       "      <th>Weight</th>\n",
       "      <th>College</th>\n",
       "      <th>Salary</th>\n",
       "    </tr>\n",
       "  </thead>\n",
       "  <tbody>\n",
       "    <tr>\n",
       "      <th>455</th>\n",
       "      <td>Tibor Pleiss</td>\n",
       "      <td>Utah Jazz</td>\n",
       "      <td>21.0</td>\n",
       "      <td>C</td>\n",
       "      <td>26.0</td>\n",
       "      <td>7-3</td>\n",
       "      <td>256.0</td>\n",
       "      <td>NaN</td>\n",
       "      <td>2900000.0</td>\n",
       "    </tr>\n",
       "    <tr>\n",
       "      <th>456</th>\n",
       "      <td>Jeff Withey</td>\n",
       "      <td>Utah Jazz</td>\n",
       "      <td>24.0</td>\n",
       "      <td>C</td>\n",
       "      <td>26.0</td>\n",
       "      <td>7-0</td>\n",
       "      <td>231.0</td>\n",
       "      <td>Kansas</td>\n",
       "      <td>947276.0</td>\n",
       "    </tr>\n",
       "    <tr>\n",
       "      <th>457</th>\n",
       "      <td>NaN</td>\n",
       "      <td>NaN</td>\n",
       "      <td>NaN</td>\n",
       "      <td>NaN</td>\n",
       "      <td>NaN</td>\n",
       "      <td>NaN</td>\n",
       "      <td>NaN</td>\n",
       "      <td>NaN</td>\n",
       "      <td>NaN</td>\n",
       "    </tr>\n",
       "  </tbody>\n",
       "</table>\n",
       "</div>"
      ],
      "text/plain": [
       "             Name       Team  Number Position   Age Height  Weight College  \\\n",
       "455  Tibor Pleiss  Utah Jazz    21.0        C  26.0    7-3   256.0     NaN   \n",
       "456   Jeff Withey  Utah Jazz    24.0        C  26.0    7-0   231.0  Kansas   \n",
       "457           NaN        NaN     NaN      NaN   NaN    NaN     NaN     NaN   \n",
       "\n",
       "        Salary  \n",
       "455  2900000.0  \n",
       "456   947276.0  \n",
       "457        NaN  "
      ]
     },
     "execution_count": 4,
     "metadata": {},
     "output_type": "execute_result"
    }
   ],
   "source": [
    "nba.tail(3)"
   ]
  },
  {
   "cell_type": "markdown",
   "metadata": {},
   "source": [
    "### `.index` attribute"
   ]
  },
  {
   "cell_type": "code",
   "execution_count": 5,
   "metadata": {},
   "outputs": [
    {
     "data": {
      "text/plain": [
       "RangeIndex(start=0, stop=458, step=1)"
      ]
     },
     "execution_count": 5,
     "metadata": {},
     "output_type": "execute_result"
    }
   ],
   "source": [
    "nba.index"
   ]
  },
  {
   "cell_type": "markdown",
   "metadata": {},
   "source": [
    "### `.value` attribute\n",
    "Returns multi-dimensional array\n",
    "- Every row is returned as an array, part of an outer array representing the table"
   ]
  },
  {
   "cell_type": "code",
   "execution_count": 6,
   "metadata": {},
   "outputs": [
    {
     "data": {
      "text/plain": [
       "array([['Avery Bradley', 'Boston Celtics', 0.0, ..., 180.0, 'Texas',\n",
       "        7730337.0],\n",
       "       ['Jae Crowder', 'Boston Celtics', 99.0, ..., 235.0, 'Marquette',\n",
       "        6796117.0],\n",
       "       ['John Holland', 'Boston Celtics', 30.0, ..., 205.0,\n",
       "        'Boston University', nan],\n",
       "       ...,\n",
       "       ['Tibor Pleiss', 'Utah Jazz', 21.0, ..., 256.0, nan, 2900000.0],\n",
       "       ['Jeff Withey', 'Utah Jazz', 24.0, ..., 231.0, 'Kansas', 947276.0],\n",
       "       [nan, nan, nan, ..., nan, nan, nan]], dtype=object)"
      ]
     },
     "execution_count": 6,
     "metadata": {},
     "output_type": "execute_result"
    }
   ],
   "source": [
    "nba.values"
   ]
  },
  {
   "cell_type": "markdown",
   "metadata": {},
   "source": [
    "### `.shape` attribute"
   ]
  },
  {
   "cell_type": "code",
   "execution_count": 7,
   "metadata": {},
   "outputs": [
    {
     "data": {
      "text/plain": [
       "(458, 9)"
      ]
     },
     "execution_count": 7,
     "metadata": {},
     "output_type": "execute_result"
    }
   ],
   "source": [
    "nba.shape"
   ]
  },
  {
   "cell_type": "markdown",
   "metadata": {},
   "source": [
    "### `.dtypes` attribute\n",
    "Returns the data type of the columms of the `DataFrame` <br/>\n",
    "**NOTE:** A `Series` is returned, in which all the columns of the `DataFrame` represent indices of the Series, and their data type is represented by the `Series` values."
   ]
  },
  {
   "cell_type": "code",
   "execution_count": 8,
   "metadata": {},
   "outputs": [
    {
     "data": {
      "text/plain": [
       "Name         object\n",
       "Team         object\n",
       "Number      float64\n",
       "Position     object\n",
       "Age         float64\n",
       "Height       object\n",
       "Weight      float64\n",
       "College      object\n",
       "Salary      float64\n",
       "dtype: object"
      ]
     },
     "execution_count": 8,
     "metadata": {},
     "output_type": "execute_result"
    }
   ],
   "source": [
    "nba.dtypes"
   ]
  },
  {
   "cell_type": "markdown",
   "metadata": {},
   "source": [
    "---\n",
    "## Attributes and methods available for `DataFrame`"
   ]
  },
  {
   "cell_type": "markdown",
   "metadata": {},
   "source": [
    "### .columns, .axes attributes"
   ]
  },
  {
   "cell_type": "code",
   "execution_count": 9,
   "metadata": {},
   "outputs": [
    {
     "data": {
      "text/plain": [
       "Index(['Name', 'Team', 'Number', 'Position', 'Age', 'Height', 'Weight',\n",
       "       'College', 'Salary'],\n",
       "      dtype='object')"
      ]
     },
     "execution_count": 9,
     "metadata": {},
     "output_type": "execute_result"
    }
   ],
   "source": [
    "nba.columns"
   ]
  },
  {
   "cell_type": "code",
   "execution_count": 10,
   "metadata": {},
   "outputs": [
    {
     "data": {
      "text/plain": [
       "[RangeIndex(start=0, stop=458, step=1),\n",
       " Index(['Name', 'Team', 'Number', 'Position', 'Age', 'Height', 'Weight',\n",
       "        'College', 'Salary'],\n",
       "       dtype='object')]"
      ]
     },
     "execution_count": 10,
     "metadata": {},
     "output_type": "execute_result"
    }
   ],
   "source": [
    "nba.axes"
   ]
  },
  {
   "cell_type": "markdown",
   "metadata": {},
   "source": [
    "### `.info(..)` method\n",
    "Provides a summary of the `DataFrame`"
   ]
  },
  {
   "cell_type": "code",
   "execution_count": 11,
   "metadata": {},
   "outputs": [
    {
     "name": "stdout",
     "output_type": "stream",
     "text": [
      "<class 'pandas.core.frame.DataFrame'>\n",
      "RangeIndex: 458 entries, 0 to 457\n",
      "Data columns (total 9 columns):\n",
      "Name        457 non-null object\n",
      "Team        457 non-null object\n",
      "Number      457 non-null float64\n",
      "Position    457 non-null object\n",
      "Age         457 non-null float64\n",
      "Height      457 non-null object\n",
      "Weight      457 non-null float64\n",
      "College     373 non-null object\n",
      "Salary      446 non-null float64\n",
      "dtypes: float64(4), object(5)\n",
      "memory usage: 23.3+ KB\n"
     ]
    }
   ],
   "source": [
    "nba.info()"
   ]
  },
  {
   "cell_type": "markdown",
   "metadata": {},
   "source": [
    "### `.get_dtype_counts(..)` method\n",
    "- Returns the count of different datatypes that the columns belong to.\n",
    "- For example, 5 columns are `int64` type, 3 columns are `float32` type\n",
    "- Note that this information is already a part of the `.info(..)` method"
   ]
  },
  {
   "cell_type": "code",
   "execution_count": 12,
   "metadata": {},
   "outputs": [
    {
     "data": {
      "text/plain": [
       "float64    4\n",
       "object     5\n",
       "dtype: int64"
      ]
     },
     "execution_count": 12,
     "metadata": {},
     "output_type": "execute_result"
    }
   ],
   "source": [
    "nba.get_dtype_counts()"
   ]
  },
  {
   "cell_type": "markdown",
   "metadata": {},
   "source": [
    "---\n",
    "## Different behavior of the methods shared between `Series` and `DataFrame`"
   ]
  },
  {
   "cell_type": "code",
   "execution_count": 13,
   "metadata": {},
   "outputs": [
    {
     "data": {
      "text/html": [
       "<div>\n",
       "<style scoped>\n",
       "    .dataframe tbody tr th:only-of-type {\n",
       "        vertical-align: middle;\n",
       "    }\n",
       "\n",
       "    .dataframe tbody tr th {\n",
       "        vertical-align: top;\n",
       "    }\n",
       "\n",
       "    .dataframe thead th {\n",
       "        text-align: right;\n",
       "    }\n",
       "</style>\n",
       "<table border=\"1\" class=\"dataframe\">\n",
       "  <thead>\n",
       "    <tr style=\"text-align: right;\">\n",
       "      <th></th>\n",
       "      <th>New York</th>\n",
       "      <th>Los Angeles</th>\n",
       "      <th>Miami</th>\n",
       "    </tr>\n",
       "    <tr>\n",
       "      <th>Date</th>\n",
       "      <th></th>\n",
       "      <th></th>\n",
       "      <th></th>\n",
       "    </tr>\n",
       "  </thead>\n",
       "  <tbody>\n",
       "    <tr>\n",
       "      <th>1/1/16</th>\n",
       "      <td>985</td>\n",
       "      <td>122</td>\n",
       "      <td>499</td>\n",
       "    </tr>\n",
       "    <tr>\n",
       "      <th>1/2/16</th>\n",
       "      <td>738</td>\n",
       "      <td>788</td>\n",
       "      <td>534</td>\n",
       "    </tr>\n",
       "    <tr>\n",
       "      <th>1/3/16</th>\n",
       "      <td>14</td>\n",
       "      <td>20</td>\n",
       "      <td>933</td>\n",
       "    </tr>\n",
       "  </tbody>\n",
       "</table>\n",
       "</div>"
      ],
      "text/plain": [
       "        New York  Los Angeles  Miami\n",
       "Date                                \n",
       "1/1/16       985          122    499\n",
       "1/2/16       738          788    534\n",
       "1/3/16        14           20    933"
      ]
     },
     "execution_count": 13,
     "metadata": {},
     "output_type": "execute_result"
    }
   ],
   "source": [
    "rev = pd.read_csv('pandas/revenue.csv', index_col='Date')\n",
    "rev.head(3)"
   ]
  },
  {
   "cell_type": "markdown",
   "metadata": {},
   "source": [
    "### Calling `.sum(..)` on a `Series` versus on a `DataFrame`"
   ]
  },
  {
   "cell_type": "code",
   "execution_count": 14,
   "metadata": {},
   "outputs": [
    {
     "data": {
      "text/plain": [
       "10"
      ]
     },
     "execution_count": 14,
     "metadata": {},
     "output_type": "execute_result"
    }
   ],
   "source": [
    "s = pd.Series([1,2,3,4])\n",
    "s.sum()"
   ]
  },
  {
   "cell_type": "code",
   "execution_count": 15,
   "metadata": {},
   "outputs": [
    {
     "data": {
      "text/plain": [
       "New York       5475\n",
       "Los Angeles    5134\n",
       "Miami          5641\n",
       "dtype: int64"
      ]
     },
     "execution_count": 15,
     "metadata": {},
     "output_type": "execute_result"
    }
   ],
   "source": [
    "rev.sum() # Equivalent to rev.sum(axis=0) or rev.sum(axis='rows')"
   ]
  },
  {
   "cell_type": "markdown",
   "metadata": {},
   "source": [
    "**NOTE:** A `Series` is returned, in which columns from the `DataFrame` represent the indices of the `Series`, and sum is computed for all the columns that have numerical values\n",
    "\n",
    "But what if we want the sum across rows instead of a columns? In such a case, use the **`axis`** attribute."
   ]
  },
  {
   "cell_type": "code",
   "execution_count": 16,
   "metadata": {},
   "outputs": [
    {
     "data": {
      "text/plain": [
       "Date\n",
       "1/1/16     1606\n",
       "1/2/16     2060\n",
       "1/3/16      967\n",
       "1/4/16     2519\n",
       "1/5/16      438\n",
       "1/6/16     1935\n",
       "1/7/16     1234\n",
       "1/8/16     2313\n",
       "1/9/16     2623\n",
       "1/10/16     555\n",
       "dtype: int64"
      ]
     },
     "execution_count": 16,
     "metadata": {},
     "output_type": "execute_result"
    }
   ],
   "source": [
    "rev.sum(axis=1) # Equivalent to rev.sum(axis = 'columns')"
   ]
  },
  {
   "cell_type": "markdown",
   "metadata": {},
   "source": [
    "### Selecting a column from the `DataFrame`\n",
    "The following method of simply writing the Column name after the dot\n",
    "- returns a `Series`\n",
    "- is NOT the recommended way because it does not work if the column names have whitespaces"
   ]
  },
  {
   "cell_type": "code",
   "execution_count": 17,
   "metadata": {},
   "outputs": [
    {
     "data": {
      "text/plain": [
       "0                Avery Bradley\n",
       "1                  Jae Crowder\n",
       "2                 John Holland\n",
       "3                  R.J. Hunter\n",
       "4                Jonas Jerebko\n",
       "5                 Amir Johnson\n",
       "6                Jordan Mickey\n",
       "7                 Kelly Olynyk\n",
       "8                 Terry Rozier\n",
       "9                 Marcus Smart\n",
       "10             Jared Sullinger\n",
       "11               Isaiah Thomas\n",
       "12                 Evan Turner\n",
       "13                 James Young\n",
       "14                Tyler Zeller\n",
       "15            Bojan Bogdanovic\n",
       "16                Markel Brown\n",
       "17             Wayne Ellington\n",
       "18     Rondae Hollis-Jefferson\n",
       "19                Jarrett Jack\n",
       "20              Sergey Karasev\n",
       "21             Sean Kilpatrick\n",
       "22                Shane Larkin\n",
       "23                 Brook Lopez\n",
       "24            Chris McCullough\n",
       "25                 Willie Reed\n",
       "26             Thomas Robinson\n",
       "27                  Henry Sims\n",
       "28                Donald Sloan\n",
       "29              Thaddeus Young\n",
       "                ...           \n",
       "428            Al-Farouq Aminu\n",
       "429            Pat Connaughton\n",
       "430               Allen Crabbe\n",
       "431                   Ed Davis\n",
       "432           Maurice Harkless\n",
       "433           Gerald Henderson\n",
       "434                Chris Kaman\n",
       "435             Meyers Leonard\n",
       "436             Damian Lillard\n",
       "437              C.J. McCollum\n",
       "438               Luis Montero\n",
       "439              Mason Plumlee\n",
       "440              Brian Roberts\n",
       "441                Noah Vonleh\n",
       "442              Trevor Booker\n",
       "443                 Trey Burke\n",
       "444                 Alec Burks\n",
       "445                 Dante Exum\n",
       "446             Derrick Favors\n",
       "447                Rudy Gobert\n",
       "448             Gordon Hayward\n",
       "449                Rodney Hood\n",
       "450                 Joe Ingles\n",
       "451              Chris Johnson\n",
       "452                 Trey Lyles\n",
       "453               Shelvin Mack\n",
       "454                  Raul Neto\n",
       "455               Tibor Pleiss\n",
       "456                Jeff Withey\n",
       "457                        NaN\n",
       "Name: Name, Length: 458, dtype: object"
      ]
     },
     "execution_count": 17,
     "metadata": {},
     "output_type": "execute_result"
    }
   ],
   "source": [
    "nba.Name"
   ]
  },
  {
   "cell_type": "markdown",
   "metadata": {},
   "source": [
    "#### Using the bracket syntax\n",
    "Will work even if there are white spaces in the column names"
   ]
  },
  {
   "cell_type": "code",
   "execution_count": 18,
   "metadata": {},
   "outputs": [
    {
     "data": {
      "text/plain": [
       "0    Avery Bradley\n",
       "1      Jae Crowder\n",
       "2     John Holland\n",
       "Name: Name, dtype: object"
      ]
     },
     "execution_count": 18,
     "metadata": {},
     "output_type": "execute_result"
    }
   ],
   "source": [
    "nba['Name'].head(3)"
   ]
  },
  {
   "cell_type": "markdown",
   "metadata": {},
   "source": [
    "### Selecting two or more columns from a `DataFrame`\n",
    "Another `DataFrame` is returned."
   ]
  },
  {
   "cell_type": "code",
   "execution_count": 19,
   "metadata": {},
   "outputs": [
    {
     "data": {
      "text/html": [
       "<div>\n",
       "<style scoped>\n",
       "    .dataframe tbody tr th:only-of-type {\n",
       "        vertical-align: middle;\n",
       "    }\n",
       "\n",
       "    .dataframe tbody tr th {\n",
       "        vertical-align: top;\n",
       "    }\n",
       "\n",
       "    .dataframe thead th {\n",
       "        text-align: right;\n",
       "    }\n",
       "</style>\n",
       "<table border=\"1\" class=\"dataframe\">\n",
       "  <thead>\n",
       "    <tr style=\"text-align: right;\">\n",
       "      <th></th>\n",
       "      <th>Salary</th>\n",
       "      <th>Name</th>\n",
       "    </tr>\n",
       "  </thead>\n",
       "  <tbody>\n",
       "    <tr>\n",
       "      <th>0</th>\n",
       "      <td>7730337.0</td>\n",
       "      <td>Avery Bradley</td>\n",
       "    </tr>\n",
       "    <tr>\n",
       "      <th>1</th>\n",
       "      <td>6796117.0</td>\n",
       "      <td>Jae Crowder</td>\n",
       "    </tr>\n",
       "    <tr>\n",
       "      <th>2</th>\n",
       "      <td>NaN</td>\n",
       "      <td>John Holland</td>\n",
       "    </tr>\n",
       "  </tbody>\n",
       "</table>\n",
       "</div>"
      ],
      "text/plain": [
       "      Salary           Name\n",
       "0  7730337.0  Avery Bradley\n",
       "1  6796117.0    Jae Crowder\n",
       "2        NaN   John Holland"
      ]
     },
     "execution_count": 19,
     "metadata": {},
     "output_type": "execute_result"
    }
   ],
   "source": [
    "nba[['Salary', 'Name']].head(3) # Note, output appears in the same the order in which column names are provided."
   ]
  },
  {
   "cell_type": "markdown",
   "metadata": {},
   "source": [
    "## Adding new columns to a `DataFrame`\n",
    "### Method 1:"
   ]
  },
  {
   "cell_type": "code",
   "execution_count": 20,
   "metadata": {},
   "outputs": [
    {
     "data": {
      "text/html": [
       "<div>\n",
       "<style scoped>\n",
       "    .dataframe tbody tr th:only-of-type {\n",
       "        vertical-align: middle;\n",
       "    }\n",
       "\n",
       "    .dataframe tbody tr th {\n",
       "        vertical-align: top;\n",
       "    }\n",
       "\n",
       "    .dataframe thead th {\n",
       "        text-align: right;\n",
       "    }\n",
       "</style>\n",
       "<table border=\"1\" class=\"dataframe\">\n",
       "  <thead>\n",
       "    <tr style=\"text-align: right;\">\n",
       "      <th></th>\n",
       "      <th>Name</th>\n",
       "      <th>Team</th>\n",
       "      <th>Number</th>\n",
       "      <th>Position</th>\n",
       "      <th>Age</th>\n",
       "      <th>Height</th>\n",
       "      <th>Weight</th>\n",
       "      <th>College</th>\n",
       "      <th>Salary</th>\n",
       "      <th>Sport</th>\n",
       "    </tr>\n",
       "  </thead>\n",
       "  <tbody>\n",
       "    <tr>\n",
       "      <th>0</th>\n",
       "      <td>Avery Bradley</td>\n",
       "      <td>Boston Celtics</td>\n",
       "      <td>0.0</td>\n",
       "      <td>PG</td>\n",
       "      <td>25.0</td>\n",
       "      <td>6-2</td>\n",
       "      <td>180.0</td>\n",
       "      <td>Texas</td>\n",
       "      <td>7730337.0</td>\n",
       "      <td>Basketball</td>\n",
       "    </tr>\n",
       "    <tr>\n",
       "      <th>1</th>\n",
       "      <td>Jae Crowder</td>\n",
       "      <td>Boston Celtics</td>\n",
       "      <td>99.0</td>\n",
       "      <td>SF</td>\n",
       "      <td>25.0</td>\n",
       "      <td>6-6</td>\n",
       "      <td>235.0</td>\n",
       "      <td>Marquette</td>\n",
       "      <td>6796117.0</td>\n",
       "      <td>Basketball</td>\n",
       "    </tr>\n",
       "    <tr>\n",
       "      <th>2</th>\n",
       "      <td>John Holland</td>\n",
       "      <td>Boston Celtics</td>\n",
       "      <td>30.0</td>\n",
       "      <td>SG</td>\n",
       "      <td>27.0</td>\n",
       "      <td>6-5</td>\n",
       "      <td>205.0</td>\n",
       "      <td>Boston University</td>\n",
       "      <td>NaN</td>\n",
       "      <td>Basketball</td>\n",
       "    </tr>\n",
       "  </tbody>\n",
       "</table>\n",
       "</div>"
      ],
      "text/plain": [
       "            Name            Team  Number Position   Age Height  Weight  \\\n",
       "0  Avery Bradley  Boston Celtics     0.0       PG  25.0    6-2   180.0   \n",
       "1    Jae Crowder  Boston Celtics    99.0       SF  25.0    6-6   235.0   \n",
       "2   John Holland  Boston Celtics    30.0       SG  27.0    6-5   205.0   \n",
       "\n",
       "             College     Salary       Sport  \n",
       "0              Texas  7730337.0  Basketball  \n",
       "1          Marquette  6796117.0  Basketball  \n",
       "2  Boston University        NaN  Basketball  "
      ]
     },
     "execution_count": 20,
     "metadata": {},
     "output_type": "execute_result"
    }
   ],
   "source": [
    "nba['Sport'] = 'Basketball'\n",
    "nba.head(3)"
   ]
  },
  {
   "cell_type": "markdown",
   "metadata": {},
   "source": [
    "### Method 2: Using the `.insert(..)` method\n",
    "Automatically assigns back the value, hence no need to reassign or use inplace parameter."
   ]
  },
  {
   "cell_type": "code",
   "execution_count": 21,
   "metadata": {},
   "outputs": [
    {
     "data": {
      "text/html": [
       "<div>\n",
       "<style scoped>\n",
       "    .dataframe tbody tr th:only-of-type {\n",
       "        vertical-align: middle;\n",
       "    }\n",
       "\n",
       "    .dataframe tbody tr th {\n",
       "        vertical-align: top;\n",
       "    }\n",
       "\n",
       "    .dataframe thead th {\n",
       "        text-align: right;\n",
       "    }\n",
       "</style>\n",
       "<table border=\"1\" class=\"dataframe\">\n",
       "  <thead>\n",
       "    <tr style=\"text-align: right;\">\n",
       "      <th></th>\n",
       "      <th>Name</th>\n",
       "      <th>Team</th>\n",
       "      <th>Number</th>\n",
       "      <th>sport2</th>\n",
       "      <th>Position</th>\n",
       "      <th>Age</th>\n",
       "      <th>Height</th>\n",
       "      <th>Weight</th>\n",
       "      <th>College</th>\n",
       "      <th>Salary</th>\n",
       "      <th>Sport</th>\n",
       "    </tr>\n",
       "  </thead>\n",
       "  <tbody>\n",
       "    <tr>\n",
       "      <th>0</th>\n",
       "      <td>Avery Bradley</td>\n",
       "      <td>Boston Celtics</td>\n",
       "      <td>0.0</td>\n",
       "      <td>Basketball2</td>\n",
       "      <td>PG</td>\n",
       "      <td>25.0</td>\n",
       "      <td>6-2</td>\n",
       "      <td>180.0</td>\n",
       "      <td>Texas</td>\n",
       "      <td>7730337.0</td>\n",
       "      <td>Basketball</td>\n",
       "    </tr>\n",
       "    <tr>\n",
       "      <th>1</th>\n",
       "      <td>Jae Crowder</td>\n",
       "      <td>Boston Celtics</td>\n",
       "      <td>99.0</td>\n",
       "      <td>Basketball2</td>\n",
       "      <td>SF</td>\n",
       "      <td>25.0</td>\n",
       "      <td>6-6</td>\n",
       "      <td>235.0</td>\n",
       "      <td>Marquette</td>\n",
       "      <td>6796117.0</td>\n",
       "      <td>Basketball</td>\n",
       "    </tr>\n",
       "    <tr>\n",
       "      <th>2</th>\n",
       "      <td>John Holland</td>\n",
       "      <td>Boston Celtics</td>\n",
       "      <td>30.0</td>\n",
       "      <td>Basketball2</td>\n",
       "      <td>SG</td>\n",
       "      <td>27.0</td>\n",
       "      <td>6-5</td>\n",
       "      <td>205.0</td>\n",
       "      <td>Boston University</td>\n",
       "      <td>NaN</td>\n",
       "      <td>Basketball</td>\n",
       "    </tr>\n",
       "  </tbody>\n",
       "</table>\n",
       "</div>"
      ],
      "text/plain": [
       "            Name            Team  Number       sport2 Position   Age Height  \\\n",
       "0  Avery Bradley  Boston Celtics     0.0  Basketball2       PG  25.0    6-2   \n",
       "1    Jae Crowder  Boston Celtics    99.0  Basketball2       SF  25.0    6-6   \n",
       "2   John Holland  Boston Celtics    30.0  Basketball2       SG  27.0    6-5   \n",
       "\n",
       "   Weight            College     Salary       Sport  \n",
       "0   180.0              Texas  7730337.0  Basketball  \n",
       "1   235.0          Marquette  6796117.0  Basketball  \n",
       "2   205.0  Boston University        NaN  Basketball  "
      ]
     },
     "execution_count": 21,
     "metadata": {},
     "output_type": "execute_result"
    }
   ],
   "source": [
    "nba.insert(loc=3,column='sport2', value='Basketball2')\n",
    "nba.head(3)"
   ]
  },
  {
   "cell_type": "markdown",
   "metadata": {},
   "source": [
    "---\n",
    "## Broadcasting operations\n",
    "Applying methods to each value one by one"
   ]
  },
  {
   "cell_type": "code",
   "execution_count": 22,
   "metadata": {},
   "outputs": [
    {
     "data": {
      "text/html": [
       "<div>\n",
       "<style scoped>\n",
       "    .dataframe tbody tr th:only-of-type {\n",
       "        vertical-align: middle;\n",
       "    }\n",
       "\n",
       "    .dataframe tbody tr th {\n",
       "        vertical-align: top;\n",
       "    }\n",
       "\n",
       "    .dataframe thead th {\n",
       "        text-align: right;\n",
       "    }\n",
       "</style>\n",
       "<table border=\"1\" class=\"dataframe\">\n",
       "  <thead>\n",
       "    <tr style=\"text-align: right;\">\n",
       "      <th></th>\n",
       "      <th>Name</th>\n",
       "      <th>Team</th>\n",
       "      <th>Number</th>\n",
       "      <th>Position</th>\n",
       "      <th>Age</th>\n",
       "      <th>Height</th>\n",
       "      <th>Weight</th>\n",
       "      <th>College</th>\n",
       "      <th>Salary</th>\n",
       "    </tr>\n",
       "  </thead>\n",
       "  <tbody>\n",
       "    <tr>\n",
       "      <th>0</th>\n",
       "      <td>Avery Bradley</td>\n",
       "      <td>Boston Celtics</td>\n",
       "      <td>0.0</td>\n",
       "      <td>PG</td>\n",
       "      <td>25.0</td>\n",
       "      <td>6-2</td>\n",
       "      <td>180.0</td>\n",
       "      <td>Texas</td>\n",
       "      <td>7730337.0</td>\n",
       "    </tr>\n",
       "    <tr>\n",
       "      <th>1</th>\n",
       "      <td>Jae Crowder</td>\n",
       "      <td>Boston Celtics</td>\n",
       "      <td>99.0</td>\n",
       "      <td>SF</td>\n",
       "      <td>25.0</td>\n",
       "      <td>6-6</td>\n",
       "      <td>235.0</td>\n",
       "      <td>Marquette</td>\n",
       "      <td>6796117.0</td>\n",
       "    </tr>\n",
       "    <tr>\n",
       "      <th>2</th>\n",
       "      <td>John Holland</td>\n",
       "      <td>Boston Celtics</td>\n",
       "      <td>30.0</td>\n",
       "      <td>SG</td>\n",
       "      <td>27.0</td>\n",
       "      <td>6-5</td>\n",
       "      <td>205.0</td>\n",
       "      <td>Boston University</td>\n",
       "      <td>NaN</td>\n",
       "    </tr>\n",
       "  </tbody>\n",
       "</table>\n",
       "</div>"
      ],
      "text/plain": [
       "            Name            Team  Number Position   Age Height  Weight  \\\n",
       "0  Avery Bradley  Boston Celtics     0.0       PG  25.0    6-2   180.0   \n",
       "1    Jae Crowder  Boston Celtics    99.0       SF  25.0    6-6   235.0   \n",
       "2   John Holland  Boston Celtics    30.0       SG  27.0    6-5   205.0   \n",
       "\n",
       "             College     Salary  \n",
       "0              Texas  7730337.0  \n",
       "1          Marquette  6796117.0  \n",
       "2  Boston University        NaN  "
      ]
     },
     "execution_count": 22,
     "metadata": {},
     "output_type": "execute_result"
    }
   ],
   "source": [
    "nba = pd.read_csv('pandas/nba.csv')\n",
    "nba.head(3)"
   ]
  },
  {
   "cell_type": "markdown",
   "metadata": {},
   "source": [
    "**Adding 5 to the age of all the players** <br/>\n",
    "If the value is Null, then the addition will still result in a Null, and not an error."
   ]
  },
  {
   "cell_type": "code",
   "execution_count": 23,
   "metadata": {},
   "outputs": [
    {
     "data": {
      "text/plain": [
       "0    30.0\n",
       "1    30.0\n",
       "2    32.0\n",
       "3    27.0\n",
       "4    34.0\n",
       "Name: Age, dtype: float64"
      ]
     },
     "execution_count": 23,
     "metadata": {},
     "output_type": "execute_result"
    }
   ],
   "source": [
    "nba['Age'].add(5).head(5)"
   ]
  },
  {
   "cell_type": "markdown",
   "metadata": {},
   "source": [
    "**Similarly, `.sub(..)`, `.mul(..)`, `.div(..)` etc. are also available. **"
   ]
  },
  {
   "cell_type": "markdown",
   "metadata": {},
   "source": [
    "---\n",
    "## Dropping rows with null values"
   ]
  },
  {
   "cell_type": "code",
   "execution_count": 24,
   "metadata": {},
   "outputs": [
    {
     "data": {
      "text/html": [
       "<div>\n",
       "<style scoped>\n",
       "    .dataframe tbody tr th:only-of-type {\n",
       "        vertical-align: middle;\n",
       "    }\n",
       "\n",
       "    .dataframe tbody tr th {\n",
       "        vertical-align: top;\n",
       "    }\n",
       "\n",
       "    .dataframe thead th {\n",
       "        text-align: right;\n",
       "    }\n",
       "</style>\n",
       "<table border=\"1\" class=\"dataframe\">\n",
       "  <thead>\n",
       "    <tr style=\"text-align: right;\">\n",
       "      <th></th>\n",
       "      <th>Name</th>\n",
       "      <th>Team</th>\n",
       "      <th>Number</th>\n",
       "      <th>Position</th>\n",
       "      <th>Age</th>\n",
       "      <th>Height</th>\n",
       "      <th>Weight</th>\n",
       "      <th>College</th>\n",
       "      <th>Salary</th>\n",
       "    </tr>\n",
       "  </thead>\n",
       "  <tbody>\n",
       "    <tr>\n",
       "      <th>455</th>\n",
       "      <td>Tibor Pleiss</td>\n",
       "      <td>Utah Jazz</td>\n",
       "      <td>21.0</td>\n",
       "      <td>C</td>\n",
       "      <td>26.0</td>\n",
       "      <td>7-3</td>\n",
       "      <td>256.0</td>\n",
       "      <td>NaN</td>\n",
       "      <td>2900000.0</td>\n",
       "    </tr>\n",
       "    <tr>\n",
       "      <th>456</th>\n",
       "      <td>Jeff Withey</td>\n",
       "      <td>Utah Jazz</td>\n",
       "      <td>24.0</td>\n",
       "      <td>C</td>\n",
       "      <td>26.0</td>\n",
       "      <td>7-0</td>\n",
       "      <td>231.0</td>\n",
       "      <td>Kansas</td>\n",
       "      <td>947276.0</td>\n",
       "    </tr>\n",
       "    <tr>\n",
       "      <th>457</th>\n",
       "      <td>NaN</td>\n",
       "      <td>NaN</td>\n",
       "      <td>NaN</td>\n",
       "      <td>NaN</td>\n",
       "      <td>NaN</td>\n",
       "      <td>NaN</td>\n",
       "      <td>NaN</td>\n",
       "      <td>NaN</td>\n",
       "      <td>NaN</td>\n",
       "    </tr>\n",
       "  </tbody>\n",
       "</table>\n",
       "</div>"
      ],
      "text/plain": [
       "             Name       Team  Number Position   Age Height  Weight College  \\\n",
       "455  Tibor Pleiss  Utah Jazz    21.0        C  26.0    7-3   256.0     NaN   \n",
       "456   Jeff Withey  Utah Jazz    24.0        C  26.0    7-0   231.0  Kansas   \n",
       "457           NaN        NaN     NaN      NaN   NaN    NaN     NaN     NaN   \n",
       "\n",
       "        Salary  \n",
       "455  2900000.0  \n",
       "456   947276.0  \n",
       "457        NaN  "
      ]
     },
     "execution_count": 24,
     "metadata": {},
     "output_type": "execute_result"
    }
   ],
   "source": [
    "nba = pd.read_csv('pandas/nba.csv')\n",
    "nba.tail(3)"
   ]
  },
  {
   "cell_type": "markdown",
   "metadata": {},
   "source": [
    "### `.dropna(..)` method\n",
    "Simply calling `.dropna(..)` method on a `DataFrame` will remove all those rows in entirety that have one or more column values as null.\n",
    "\n",
    "**NOTE:** The `inplace` parameter can be used."
   ]
  },
  {
   "cell_type": "code",
   "execution_count": 25,
   "metadata": {},
   "outputs": [
    {
     "data": {
      "text/html": [
       "<div>\n",
       "<style scoped>\n",
       "    .dataframe tbody tr th:only-of-type {\n",
       "        vertical-align: middle;\n",
       "    }\n",
       "\n",
       "    .dataframe tbody tr th {\n",
       "        vertical-align: top;\n",
       "    }\n",
       "\n",
       "    .dataframe thead th {\n",
       "        text-align: right;\n",
       "    }\n",
       "</style>\n",
       "<table border=\"1\" class=\"dataframe\">\n",
       "  <thead>\n",
       "    <tr style=\"text-align: right;\">\n",
       "      <th></th>\n",
       "      <th>Name</th>\n",
       "      <th>Team</th>\n",
       "      <th>Number</th>\n",
       "      <th>Position</th>\n",
       "      <th>Age</th>\n",
       "      <th>Height</th>\n",
       "      <th>Weight</th>\n",
       "      <th>College</th>\n",
       "      <th>Salary</th>\n",
       "    </tr>\n",
       "  </thead>\n",
       "  <tbody>\n",
       "    <tr>\n",
       "      <th>452</th>\n",
       "      <td>Trey Lyles</td>\n",
       "      <td>Utah Jazz</td>\n",
       "      <td>41.0</td>\n",
       "      <td>PF</td>\n",
       "      <td>20.0</td>\n",
       "      <td>6-10</td>\n",
       "      <td>234.0</td>\n",
       "      <td>Kentucky</td>\n",
       "      <td>2239800.0</td>\n",
       "    </tr>\n",
       "    <tr>\n",
       "      <th>453</th>\n",
       "      <td>Shelvin Mack</td>\n",
       "      <td>Utah Jazz</td>\n",
       "      <td>8.0</td>\n",
       "      <td>PG</td>\n",
       "      <td>26.0</td>\n",
       "      <td>6-3</td>\n",
       "      <td>203.0</td>\n",
       "      <td>Butler</td>\n",
       "      <td>2433333.0</td>\n",
       "    </tr>\n",
       "    <tr>\n",
       "      <th>456</th>\n",
       "      <td>Jeff Withey</td>\n",
       "      <td>Utah Jazz</td>\n",
       "      <td>24.0</td>\n",
       "      <td>C</td>\n",
       "      <td>26.0</td>\n",
       "      <td>7-0</td>\n",
       "      <td>231.0</td>\n",
       "      <td>Kansas</td>\n",
       "      <td>947276.0</td>\n",
       "    </tr>\n",
       "  </tbody>\n",
       "</table>\n",
       "</div>"
      ],
      "text/plain": [
       "             Name       Team  Number Position   Age Height  Weight   College  \\\n",
       "452    Trey Lyles  Utah Jazz    41.0       PF  20.0   6-10   234.0  Kentucky   \n",
       "453  Shelvin Mack  Utah Jazz     8.0       PG  26.0    6-3   203.0    Butler   \n",
       "456   Jeff Withey  Utah Jazz    24.0        C  26.0    7-0   231.0    Kansas   \n",
       "\n",
       "        Salary  \n",
       "452  2239800.0  \n",
       "453  2433333.0  \n",
       "456   947276.0  "
      ]
     },
     "execution_count": 25,
     "metadata": {},
     "output_type": "execute_result"
    }
   ],
   "source": [
    "nba.dropna().tail(3)"
   ]
  },
  {
   "cell_type": "markdown",
   "metadata": {},
   "source": [
    "#### `.dropna(how='all')`\n",
    "Drops only those rows that have **ALL** the columns as null.\n",
    "\n",
    "#### `.dropna(how='any', axis=1)`\n",
    "To drop the entire COLUMN (instead of row) that has one or more null values.\n",
    "\n",
    "#### `.dropna(.., subset = )` parameter\n",
    "**Drop a row if the value in a particular column of that row is null.** <br/>\n",
    "The below code statement drops any row that has a null in the `Salary` column. It does not matter if any other column has a null value or not."
   ]
  },
  {
   "cell_type": "code",
   "execution_count": 26,
   "metadata": {},
   "outputs": [
    {
     "data": {
      "text/html": [
       "<div>\n",
       "<style scoped>\n",
       "    .dataframe tbody tr th:only-of-type {\n",
       "        vertical-align: middle;\n",
       "    }\n",
       "\n",
       "    .dataframe tbody tr th {\n",
       "        vertical-align: top;\n",
       "    }\n",
       "\n",
       "    .dataframe thead th {\n",
       "        text-align: right;\n",
       "    }\n",
       "</style>\n",
       "<table border=\"1\" class=\"dataframe\">\n",
       "  <thead>\n",
       "    <tr style=\"text-align: right;\">\n",
       "      <th></th>\n",
       "      <th>Name</th>\n",
       "      <th>Team</th>\n",
       "      <th>Number</th>\n",
       "      <th>Position</th>\n",
       "      <th>Age</th>\n",
       "      <th>Height</th>\n",
       "      <th>Weight</th>\n",
       "      <th>College</th>\n",
       "      <th>Salary</th>\n",
       "    </tr>\n",
       "  </thead>\n",
       "  <tbody>\n",
       "    <tr>\n",
       "      <th>0</th>\n",
       "      <td>Avery Bradley</td>\n",
       "      <td>Boston Celtics</td>\n",
       "      <td>0.0</td>\n",
       "      <td>PG</td>\n",
       "      <td>25.0</td>\n",
       "      <td>6-2</td>\n",
       "      <td>180.0</td>\n",
       "      <td>Texas</td>\n",
       "      <td>7730337.0</td>\n",
       "    </tr>\n",
       "    <tr>\n",
       "      <th>1</th>\n",
       "      <td>Jae Crowder</td>\n",
       "      <td>Boston Celtics</td>\n",
       "      <td>99.0</td>\n",
       "      <td>SF</td>\n",
       "      <td>25.0</td>\n",
       "      <td>6-6</td>\n",
       "      <td>235.0</td>\n",
       "      <td>Marquette</td>\n",
       "      <td>6796117.0</td>\n",
       "    </tr>\n",
       "    <tr>\n",
       "      <th>3</th>\n",
       "      <td>R.J. Hunter</td>\n",
       "      <td>Boston Celtics</td>\n",
       "      <td>28.0</td>\n",
       "      <td>SG</td>\n",
       "      <td>22.0</td>\n",
       "      <td>6-5</td>\n",
       "      <td>185.0</td>\n",
       "      <td>Georgia State</td>\n",
       "      <td>1148640.0</td>\n",
       "    </tr>\n",
       "  </tbody>\n",
       "</table>\n",
       "</div>"
      ],
      "text/plain": [
       "            Name            Team  Number Position   Age Height  Weight  \\\n",
       "0  Avery Bradley  Boston Celtics     0.0       PG  25.0    6-2   180.0   \n",
       "1    Jae Crowder  Boston Celtics    99.0       SF  25.0    6-6   235.0   \n",
       "3    R.J. Hunter  Boston Celtics    28.0       SG  22.0    6-5   185.0   \n",
       "\n",
       "         College     Salary  \n",
       "0          Texas  7730337.0  \n",
       "1      Marquette  6796117.0  \n",
       "3  Georgia State  1148640.0  "
      ]
     },
     "execution_count": 26,
     "metadata": {},
     "output_type": "execute_result"
    }
   ],
   "source": [
    "nba.dropna(subset=['Salary']).head(3)"
   ]
  },
  {
   "cell_type": "markdown",
   "metadata": {},
   "source": [
    "---\n",
    "## Filling in the null values with `.fillna(..)` method\n",
    "It is **NOT** recommended to execute the `.fillna(..)` method on the entire `DataFrame`.\n",
    "\n",
    "For example, if we execute `nba.fillna(0)`, all the `NaN` values from the `Salary` column will be replaced by 0.0 (which is intended). However, it will also replace the `NaN` values in the `College` column by **0**, which is undesirable as it does not make any sense to have a **0** in the `College` column. "
   ]
  },
  {
   "cell_type": "code",
   "execution_count": 27,
   "metadata": {},
   "outputs": [
    {
     "data": {
      "text/html": [
       "<div>\n",
       "<style scoped>\n",
       "    .dataframe tbody tr th:only-of-type {\n",
       "        vertical-align: middle;\n",
       "    }\n",
       "\n",
       "    .dataframe tbody tr th {\n",
       "        vertical-align: top;\n",
       "    }\n",
       "\n",
       "    .dataframe thead th {\n",
       "        text-align: right;\n",
       "    }\n",
       "</style>\n",
       "<table border=\"1\" class=\"dataframe\">\n",
       "  <thead>\n",
       "    <tr style=\"text-align: right;\">\n",
       "      <th></th>\n",
       "      <th>Name</th>\n",
       "      <th>Team</th>\n",
       "      <th>Number</th>\n",
       "      <th>Position</th>\n",
       "      <th>Age</th>\n",
       "      <th>Height</th>\n",
       "      <th>Weight</th>\n",
       "      <th>College</th>\n",
       "      <th>Salary</th>\n",
       "    </tr>\n",
       "  </thead>\n",
       "  <tbody>\n",
       "    <tr>\n",
       "      <th>0</th>\n",
       "      <td>Avery Bradley</td>\n",
       "      <td>Boston Celtics</td>\n",
       "      <td>0.0</td>\n",
       "      <td>PG</td>\n",
       "      <td>25.0</td>\n",
       "      <td>6-2</td>\n",
       "      <td>180.0</td>\n",
       "      <td>Texas</td>\n",
       "      <td>7730337.0</td>\n",
       "    </tr>\n",
       "    <tr>\n",
       "      <th>1</th>\n",
       "      <td>Jae Crowder</td>\n",
       "      <td>Boston Celtics</td>\n",
       "      <td>99.0</td>\n",
       "      <td>SF</td>\n",
       "      <td>25.0</td>\n",
       "      <td>6-6</td>\n",
       "      <td>235.0</td>\n",
       "      <td>Marquette</td>\n",
       "      <td>6796117.0</td>\n",
       "    </tr>\n",
       "    <tr>\n",
       "      <th>2</th>\n",
       "      <td>John Holland</td>\n",
       "      <td>Boston Celtics</td>\n",
       "      <td>30.0</td>\n",
       "      <td>SG</td>\n",
       "      <td>27.0</td>\n",
       "      <td>6-5</td>\n",
       "      <td>205.0</td>\n",
       "      <td>Boston University</td>\n",
       "      <td>NaN</td>\n",
       "    </tr>\n",
       "  </tbody>\n",
       "</table>\n",
       "</div>"
      ],
      "text/plain": [
       "            Name            Team  Number Position   Age Height  Weight  \\\n",
       "0  Avery Bradley  Boston Celtics     0.0       PG  25.0    6-2   180.0   \n",
       "1    Jae Crowder  Boston Celtics    99.0       SF  25.0    6-6   235.0   \n",
       "2   John Holland  Boston Celtics    30.0       SG  27.0    6-5   205.0   \n",
       "\n",
       "             College     Salary  \n",
       "0              Texas  7730337.0  \n",
       "1          Marquette  6796117.0  \n",
       "2  Boston University        NaN  "
      ]
     },
     "execution_count": 27,
     "metadata": {},
     "output_type": "execute_result"
    }
   ],
   "source": [
    "nba = pd.read_csv('pandas/nba.csv')\n",
    "nba.head(3)"
   ]
  },
  {
   "cell_type": "code",
   "execution_count": 28,
   "metadata": {},
   "outputs": [
    {
     "data": {
      "text/html": [
       "<div>\n",
       "<style scoped>\n",
       "    .dataframe tbody tr th:only-of-type {\n",
       "        vertical-align: middle;\n",
       "    }\n",
       "\n",
       "    .dataframe tbody tr th {\n",
       "        vertical-align: top;\n",
       "    }\n",
       "\n",
       "    .dataframe thead th {\n",
       "        text-align: right;\n",
       "    }\n",
       "</style>\n",
       "<table border=\"1\" class=\"dataframe\">\n",
       "  <thead>\n",
       "    <tr style=\"text-align: right;\">\n",
       "      <th></th>\n",
       "      <th>Name</th>\n",
       "      <th>Team</th>\n",
       "      <th>Number</th>\n",
       "      <th>Position</th>\n",
       "      <th>Age</th>\n",
       "      <th>Height</th>\n",
       "      <th>Weight</th>\n",
       "      <th>College</th>\n",
       "      <th>Salary</th>\n",
       "    </tr>\n",
       "  </thead>\n",
       "  <tbody>\n",
       "    <tr>\n",
       "      <th>0</th>\n",
       "      <td>Avery Bradley</td>\n",
       "      <td>Boston Celtics</td>\n",
       "      <td>0.0</td>\n",
       "      <td>PG</td>\n",
       "      <td>25.0</td>\n",
       "      <td>6-2</td>\n",
       "      <td>180.0</td>\n",
       "      <td>Texas</td>\n",
       "      <td>7730337.0</td>\n",
       "    </tr>\n",
       "    <tr>\n",
       "      <th>1</th>\n",
       "      <td>Jae Crowder</td>\n",
       "      <td>Boston Celtics</td>\n",
       "      <td>99.0</td>\n",
       "      <td>SF</td>\n",
       "      <td>25.0</td>\n",
       "      <td>6-6</td>\n",
       "      <td>235.0</td>\n",
       "      <td>Marquette</td>\n",
       "      <td>6796117.0</td>\n",
       "    </tr>\n",
       "    <tr>\n",
       "      <th>2</th>\n",
       "      <td>John Holland</td>\n",
       "      <td>Boston Celtics</td>\n",
       "      <td>30.0</td>\n",
       "      <td>SG</td>\n",
       "      <td>27.0</td>\n",
       "      <td>6-5</td>\n",
       "      <td>205.0</td>\n",
       "      <td>Boston University</td>\n",
       "      <td>0.0</td>\n",
       "    </tr>\n",
       "  </tbody>\n",
       "</table>\n",
       "</div>"
      ],
      "text/plain": [
       "            Name            Team  Number Position   Age Height  Weight  \\\n",
       "0  Avery Bradley  Boston Celtics     0.0       PG  25.0    6-2   180.0   \n",
       "1    Jae Crowder  Boston Celtics    99.0       SF  25.0    6-6   235.0   \n",
       "2   John Holland  Boston Celtics    30.0       SG  27.0    6-5   205.0   \n",
       "\n",
       "             College     Salary  \n",
       "0              Texas  7730337.0  \n",
       "1          Marquette  6796117.0  \n",
       "2  Boston University        0.0  "
      ]
     },
     "execution_count": 28,
     "metadata": {},
     "output_type": "execute_result"
    }
   ],
   "source": [
    "nba['Salary'].fillna(value=0, inplace=True)\n",
    "nba.head(3)"
   ]
  },
  {
   "cell_type": "markdown",
   "metadata": {},
   "source": [
    "**Similarly looking at the `College` column.**"
   ]
  },
  {
   "cell_type": "code",
   "execution_count": 29,
   "metadata": {},
   "outputs": [
    {
     "data": {
      "text/plain": [
       "0                Texas\n",
       "1            Marquette\n",
       "2    Boston University\n",
       "3        Georgia State\n",
       "4                  NaN\n",
       "5                  NaN\n",
       "Name: College, dtype: object"
      ]
     },
     "execution_count": 29,
     "metadata": {},
     "output_type": "execute_result"
    }
   ],
   "source": [
    "nba['College'].head(6)"
   ]
  },
  {
   "cell_type": "code",
   "execution_count": 30,
   "metadata": {},
   "outputs": [
    {
     "data": {
      "text/plain": [
       "0                Texas\n",
       "1            Marquette\n",
       "2    Boston University\n",
       "3        Georgia State\n",
       "4        Not available\n",
       "5        Not available\n",
       "Name: College, dtype: object"
      ]
     },
     "execution_count": 30,
     "metadata": {},
     "output_type": "execute_result"
    }
   ],
   "source": [
    "nba['College'].fillna(value='Not available', inplace=True)\n",
    "nba['College'].head(6)"
   ]
  },
  {
   "cell_type": "markdown",
   "metadata": {},
   "source": [
    "## `.astype(..)` method to convert the data type of a `Series`\n",
    "**NOTE:** The Series should **NOT** have any NULL values."
   ]
  },
  {
   "cell_type": "code",
   "execution_count": 31,
   "metadata": {},
   "outputs": [
    {
     "data": {
      "text/html": [
       "<div>\n",
       "<style scoped>\n",
       "    .dataframe tbody tr th:only-of-type {\n",
       "        vertical-align: middle;\n",
       "    }\n",
       "\n",
       "    .dataframe tbody tr th {\n",
       "        vertical-align: top;\n",
       "    }\n",
       "\n",
       "    .dataframe thead th {\n",
       "        text-align: right;\n",
       "    }\n",
       "</style>\n",
       "<table border=\"1\" class=\"dataframe\">\n",
       "  <thead>\n",
       "    <tr style=\"text-align: right;\">\n",
       "      <th></th>\n",
       "      <th>Name</th>\n",
       "      <th>Team</th>\n",
       "      <th>Number</th>\n",
       "      <th>Position</th>\n",
       "      <th>Age</th>\n",
       "      <th>Height</th>\n",
       "      <th>Weight</th>\n",
       "      <th>College</th>\n",
       "      <th>Salary</th>\n",
       "    </tr>\n",
       "  </thead>\n",
       "  <tbody>\n",
       "    <tr>\n",
       "      <th>0</th>\n",
       "      <td>Avery Bradley</td>\n",
       "      <td>Boston Celtics</td>\n",
       "      <td>0.0</td>\n",
       "      <td>PG</td>\n",
       "      <td>25.0</td>\n",
       "      <td>6-2</td>\n",
       "      <td>180.0</td>\n",
       "      <td>Texas</td>\n",
       "      <td>7730337.0</td>\n",
       "    </tr>\n",
       "    <tr>\n",
       "      <th>1</th>\n",
       "      <td>Jae Crowder</td>\n",
       "      <td>Boston Celtics</td>\n",
       "      <td>99.0</td>\n",
       "      <td>SF</td>\n",
       "      <td>25.0</td>\n",
       "      <td>6-6</td>\n",
       "      <td>235.0</td>\n",
       "      <td>Marquette</td>\n",
       "      <td>6796117.0</td>\n",
       "    </tr>\n",
       "    <tr>\n",
       "      <th>2</th>\n",
       "      <td>John Holland</td>\n",
       "      <td>Boston Celtics</td>\n",
       "      <td>30.0</td>\n",
       "      <td>SG</td>\n",
       "      <td>27.0</td>\n",
       "      <td>6-5</td>\n",
       "      <td>205.0</td>\n",
       "      <td>Boston University</td>\n",
       "      <td>0.0</td>\n",
       "    </tr>\n",
       "    <tr>\n",
       "      <th>3</th>\n",
       "      <td>R.J. Hunter</td>\n",
       "      <td>Boston Celtics</td>\n",
       "      <td>28.0</td>\n",
       "      <td>SG</td>\n",
       "      <td>22.0</td>\n",
       "      <td>6-5</td>\n",
       "      <td>185.0</td>\n",
       "      <td>Georgia State</td>\n",
       "      <td>1148640.0</td>\n",
       "    </tr>\n",
       "    <tr>\n",
       "      <th>4</th>\n",
       "      <td>Jonas Jerebko</td>\n",
       "      <td>Boston Celtics</td>\n",
       "      <td>8.0</td>\n",
       "      <td>PF</td>\n",
       "      <td>29.0</td>\n",
       "      <td>6-10</td>\n",
       "      <td>231.0</td>\n",
       "      <td>None</td>\n",
       "      <td>5000000.0</td>\n",
       "    </tr>\n",
       "    <tr>\n",
       "      <th>5</th>\n",
       "      <td>Amir Johnson</td>\n",
       "      <td>Boston Celtics</td>\n",
       "      <td>90.0</td>\n",
       "      <td>PF</td>\n",
       "      <td>29.0</td>\n",
       "      <td>6-9</td>\n",
       "      <td>240.0</td>\n",
       "      <td>None</td>\n",
       "      <td>12000000.0</td>\n",
       "    </tr>\n",
       "  </tbody>\n",
       "</table>\n",
       "</div>"
      ],
      "text/plain": [
       "            Name            Team  Number Position   Age Height  Weight  \\\n",
       "0  Avery Bradley  Boston Celtics     0.0       PG  25.0    6-2   180.0   \n",
       "1    Jae Crowder  Boston Celtics    99.0       SF  25.0    6-6   235.0   \n",
       "2   John Holland  Boston Celtics    30.0       SG  27.0    6-5   205.0   \n",
       "3    R.J. Hunter  Boston Celtics    28.0       SG  22.0    6-5   185.0   \n",
       "4  Jonas Jerebko  Boston Celtics     8.0       PF  29.0   6-10   231.0   \n",
       "5   Amir Johnson  Boston Celtics    90.0       PF  29.0    6-9   240.0   \n",
       "\n",
       "             College      Salary  \n",
       "0              Texas   7730337.0  \n",
       "1          Marquette   6796117.0  \n",
       "2  Boston University         0.0  \n",
       "3      Georgia State   1148640.0  \n",
       "4               None   5000000.0  \n",
       "5               None  12000000.0  "
      ]
     },
     "execution_count": 31,
     "metadata": {},
     "output_type": "execute_result"
    }
   ],
   "source": [
    "nba = pd.read_csv('pandas/nba.csv').dropna(how='all')\n",
    "nba['Salary'].fillna(0, inplace=True)\n",
    "nba['College'].fillna('None', inplace=True)\n",
    "\n",
    "nba.head(6)"
   ]
  },
  {
   "cell_type": "markdown",
   "metadata": {},
   "source": [
    "Checking the current data types of all columns"
   ]
  },
  {
   "cell_type": "code",
   "execution_count": 32,
   "metadata": {},
   "outputs": [
    {
     "data": {
      "text/plain": [
       "Name         object\n",
       "Team         object\n",
       "Number      float64\n",
       "Position     object\n",
       "Age         float64\n",
       "Height       object\n",
       "Weight      float64\n",
       "College      object\n",
       "Salary      float64\n",
       "dtype: object"
      ]
     },
     "execution_count": 32,
     "metadata": {},
     "output_type": "execute_result"
    }
   ],
   "source": [
    "nba.dtypes"
   ]
  },
  {
   "cell_type": "markdown",
   "metadata": {},
   "source": [
    "We can also use the `.info(..)` method, which in additon to giving information about the datatypes of the columns, also informs if there is any NULL in any column. <br/> Also note the current memory usage. Since we'll be converting some columns from float to int, we expect reduction in the overall memory usage for the DataFrame."
   ]
  },
  {
   "cell_type": "code",
   "execution_count": 33,
   "metadata": {},
   "outputs": [
    {
     "name": "stdout",
     "output_type": "stream",
     "text": [
      "<class 'pandas.core.frame.DataFrame'>\n",
      "Int64Index: 457 entries, 0 to 456\n",
      "Data columns (total 9 columns):\n",
      "Name        457 non-null object\n",
      "Team        457 non-null object\n",
      "Number      457 non-null float64\n",
      "Position    457 non-null object\n",
      "Age         457 non-null float64\n",
      "Height      457 non-null object\n",
      "Weight      457 non-null float64\n",
      "College     457 non-null object\n",
      "Salary      457 non-null float64\n",
      "dtypes: float64(4), object(5)\n",
      "memory usage: 26.8+ KB\n"
     ]
    }
   ],
   "source": [
    "nba.info()"
   ]
  },
  {
   "cell_type": "code",
   "execution_count": 34,
   "metadata": {},
   "outputs": [
    {
     "data": {
      "text/html": [
       "<div>\n",
       "<style scoped>\n",
       "    .dataframe tbody tr th:only-of-type {\n",
       "        vertical-align: middle;\n",
       "    }\n",
       "\n",
       "    .dataframe tbody tr th {\n",
       "        vertical-align: top;\n",
       "    }\n",
       "\n",
       "    .dataframe thead th {\n",
       "        text-align: right;\n",
       "    }\n",
       "</style>\n",
       "<table border=\"1\" class=\"dataframe\">\n",
       "  <thead>\n",
       "    <tr style=\"text-align: right;\">\n",
       "      <th></th>\n",
       "      <th>Name</th>\n",
       "      <th>Team</th>\n",
       "      <th>Number</th>\n",
       "      <th>Position</th>\n",
       "      <th>Age</th>\n",
       "      <th>Height</th>\n",
       "      <th>Weight</th>\n",
       "      <th>College</th>\n",
       "      <th>Salary</th>\n",
       "    </tr>\n",
       "  </thead>\n",
       "  <tbody>\n",
       "    <tr>\n",
       "      <th>0</th>\n",
       "      <td>Avery Bradley</td>\n",
       "      <td>Boston Celtics</td>\n",
       "      <td>0.0</td>\n",
       "      <td>PG</td>\n",
       "      <td>25.0</td>\n",
       "      <td>6-2</td>\n",
       "      <td>180.0</td>\n",
       "      <td>Texas</td>\n",
       "      <td>7730337</td>\n",
       "    </tr>\n",
       "    <tr>\n",
       "      <th>1</th>\n",
       "      <td>Jae Crowder</td>\n",
       "      <td>Boston Celtics</td>\n",
       "      <td>99.0</td>\n",
       "      <td>SF</td>\n",
       "      <td>25.0</td>\n",
       "      <td>6-6</td>\n",
       "      <td>235.0</td>\n",
       "      <td>Marquette</td>\n",
       "      <td>6796117</td>\n",
       "    </tr>\n",
       "    <tr>\n",
       "      <th>2</th>\n",
       "      <td>John Holland</td>\n",
       "      <td>Boston Celtics</td>\n",
       "      <td>30.0</td>\n",
       "      <td>SG</td>\n",
       "      <td>27.0</td>\n",
       "      <td>6-5</td>\n",
       "      <td>205.0</td>\n",
       "      <td>Boston University</td>\n",
       "      <td>0</td>\n",
       "    </tr>\n",
       "  </tbody>\n",
       "</table>\n",
       "</div>"
      ],
      "text/plain": [
       "            Name            Team  Number Position   Age Height  Weight  \\\n",
       "0  Avery Bradley  Boston Celtics     0.0       PG  25.0    6-2   180.0   \n",
       "1    Jae Crowder  Boston Celtics    99.0       SF  25.0    6-6   235.0   \n",
       "2   John Holland  Boston Celtics    30.0       SG  27.0    6-5   205.0   \n",
       "\n",
       "             College   Salary  \n",
       "0              Texas  7730337  \n",
       "1          Marquette  6796117  \n",
       "2  Boston University        0  "
      ]
     },
     "execution_count": 34,
     "metadata": {},
     "output_type": "execute_result"
    }
   ],
   "source": [
    "nba['Salary'] = nba['Salary'].astype('int')\n",
    "nba.head(3)"
   ]
  },
  {
   "cell_type": "code",
   "execution_count": 35,
   "metadata": {},
   "outputs": [],
   "source": [
    "nba[['Number', 'Age']] = nba[['Number', 'Age']].astype('int')"
   ]
  },
  {
   "cell_type": "markdown",
   "metadata": {},
   "source": [
    "**TIP:** Whenever you have small number of values in a DataFrame, convert them to Categorical as it helps in reducing the memory usage significantly.\n",
    "\n",
    "For example, if we have columns such as Gender, or Month in our DataFrame, always consider converting these columns to categorical."
   ]
  },
  {
   "cell_type": "code",
   "execution_count": 36,
   "metadata": {},
   "outputs": [
    {
     "name": "stdout",
     "output_type": "stream",
     "text": [
      "<class 'pandas.core.frame.DataFrame'>\n",
      "Int64Index: 457 entries, 0 to 456\n",
      "Data columns (total 9 columns):\n",
      "Name        457 non-null object\n",
      "Team        457 non-null object\n",
      "Number      457 non-null int32\n",
      "Position    457 non-null category\n",
      "Age         457 non-null int32\n",
      "Height      457 non-null object\n",
      "Weight      457 non-null float64\n",
      "College     457 non-null object\n",
      "Salary      457 non-null int32\n",
      "dtypes: category(1), float64(1), int32(3), object(4)\n",
      "memory usage: 20.2+ KB\n"
     ]
    }
   ],
   "source": [
    "nba['Position'] = nba['Position'].astype('category')\n",
    "nba.info()"
   ]
  },
  {
   "cell_type": "code",
   "execution_count": 37,
   "metadata": {},
   "outputs": [
    {
     "name": "stdout",
     "output_type": "stream",
     "text": [
      "<class 'pandas.core.frame.DataFrame'>\n",
      "Int64Index: 457 entries, 0 to 456\n",
      "Data columns (total 9 columns):\n",
      "Name        457 non-null object\n",
      "Team        457 non-null category\n",
      "Number      457 non-null int32\n",
      "Position    457 non-null category\n",
      "Age         457 non-null int32\n",
      "Height      457 non-null object\n",
      "Weight      457 non-null float64\n",
      "College     457 non-null object\n",
      "Salary      457 non-null int32\n",
      "dtypes: category(2), float64(1), int32(3), object(3)\n",
      "memory usage: 19.7+ KB\n"
     ]
    }
   ],
   "source": [
    "nba['Team'] = nba['Team'].astype('category')\n",
    "nba.info()"
   ]
  },
  {
   "cell_type": "markdown",
   "metadata": {},
   "source": [
    "---\n",
    "## Sorting a DataFrame\n",
    "### `.sort_values(..)` method to sort the `DataFrame` by a column"
   ]
  },
  {
   "cell_type": "code",
   "execution_count": 38,
   "metadata": {},
   "outputs": [
    {
     "data": {
      "text/html": [
       "<div>\n",
       "<style scoped>\n",
       "    .dataframe tbody tr th:only-of-type {\n",
       "        vertical-align: middle;\n",
       "    }\n",
       "\n",
       "    .dataframe tbody tr th {\n",
       "        vertical-align: top;\n",
       "    }\n",
       "\n",
       "    .dataframe thead th {\n",
       "        text-align: right;\n",
       "    }\n",
       "</style>\n",
       "<table border=\"1\" class=\"dataframe\">\n",
       "  <thead>\n",
       "    <tr style=\"text-align: right;\">\n",
       "      <th></th>\n",
       "      <th>Name</th>\n",
       "      <th>Team</th>\n",
       "      <th>Number</th>\n",
       "      <th>Position</th>\n",
       "      <th>Age</th>\n",
       "      <th>Height</th>\n",
       "      <th>Weight</th>\n",
       "      <th>College</th>\n",
       "      <th>Salary</th>\n",
       "    </tr>\n",
       "  </thead>\n",
       "  <tbody>\n",
       "    <tr>\n",
       "      <th>0</th>\n",
       "      <td>Avery Bradley</td>\n",
       "      <td>Boston Celtics</td>\n",
       "      <td>0.0</td>\n",
       "      <td>PG</td>\n",
       "      <td>25.0</td>\n",
       "      <td>6-2</td>\n",
       "      <td>180.0</td>\n",
       "      <td>Texas</td>\n",
       "      <td>7730337.0</td>\n",
       "    </tr>\n",
       "    <tr>\n",
       "      <th>1</th>\n",
       "      <td>Jae Crowder</td>\n",
       "      <td>Boston Celtics</td>\n",
       "      <td>99.0</td>\n",
       "      <td>SF</td>\n",
       "      <td>25.0</td>\n",
       "      <td>6-6</td>\n",
       "      <td>235.0</td>\n",
       "      <td>Marquette</td>\n",
       "      <td>6796117.0</td>\n",
       "    </tr>\n",
       "    <tr>\n",
       "      <th>2</th>\n",
       "      <td>John Holland</td>\n",
       "      <td>Boston Celtics</td>\n",
       "      <td>30.0</td>\n",
       "      <td>SG</td>\n",
       "      <td>27.0</td>\n",
       "      <td>6-5</td>\n",
       "      <td>205.0</td>\n",
       "      <td>Boston University</td>\n",
       "      <td>NaN</td>\n",
       "    </tr>\n",
       "  </tbody>\n",
       "</table>\n",
       "</div>"
      ],
      "text/plain": [
       "            Name            Team  Number Position   Age Height  Weight  \\\n",
       "0  Avery Bradley  Boston Celtics     0.0       PG  25.0    6-2   180.0   \n",
       "1    Jae Crowder  Boston Celtics    99.0       SF  25.0    6-6   235.0   \n",
       "2   John Holland  Boston Celtics    30.0       SG  27.0    6-5   205.0   \n",
       "\n",
       "             College     Salary  \n",
       "0              Texas  7730337.0  \n",
       "1          Marquette  6796117.0  \n",
       "2  Boston University        NaN  "
      ]
     },
     "execution_count": 38,
     "metadata": {},
     "output_type": "execute_result"
    }
   ],
   "source": [
    "nba = pd.read_csv('pandas/nba.csv')\n",
    "nba.head(3)"
   ]
  },
  {
   "cell_type": "markdown",
   "metadata": {},
   "source": [
    "#### Sort the values in the `DataFrame` by the `Name` column"
   ]
  },
  {
   "cell_type": "code",
   "execution_count": 39,
   "metadata": {},
   "outputs": [
    {
     "data": {
      "text/html": [
       "<div>\n",
       "<style scoped>\n",
       "    .dataframe tbody tr th:only-of-type {\n",
       "        vertical-align: middle;\n",
       "    }\n",
       "\n",
       "    .dataframe tbody tr th {\n",
       "        vertical-align: top;\n",
       "    }\n",
       "\n",
       "    .dataframe thead th {\n",
       "        text-align: right;\n",
       "    }\n",
       "</style>\n",
       "<table border=\"1\" class=\"dataframe\">\n",
       "  <thead>\n",
       "    <tr style=\"text-align: right;\">\n",
       "      <th></th>\n",
       "      <th>Name</th>\n",
       "      <th>Team</th>\n",
       "      <th>Number</th>\n",
       "      <th>Position</th>\n",
       "      <th>Age</th>\n",
       "      <th>Height</th>\n",
       "      <th>Weight</th>\n",
       "      <th>College</th>\n",
       "      <th>Salary</th>\n",
       "    </tr>\n",
       "  </thead>\n",
       "  <tbody>\n",
       "    <tr>\n",
       "      <th>152</th>\n",
       "      <td>Aaron Brooks</td>\n",
       "      <td>Chicago Bulls</td>\n",
       "      <td>0.0</td>\n",
       "      <td>PG</td>\n",
       "      <td>31.0</td>\n",
       "      <td>6-0</td>\n",
       "      <td>161.0</td>\n",
       "      <td>Oregon</td>\n",
       "      <td>2250000.0</td>\n",
       "    </tr>\n",
       "    <tr>\n",
       "      <th>356</th>\n",
       "      <td>Aaron Gordon</td>\n",
       "      <td>Orlando Magic</td>\n",
       "      <td>0.0</td>\n",
       "      <td>PF</td>\n",
       "      <td>20.0</td>\n",
       "      <td>6-9</td>\n",
       "      <td>220.0</td>\n",
       "      <td>Arizona</td>\n",
       "      <td>4171680.0</td>\n",
       "    </tr>\n",
       "    <tr>\n",
       "      <th>328</th>\n",
       "      <td>Aaron Harrison</td>\n",
       "      <td>Charlotte Hornets</td>\n",
       "      <td>9.0</td>\n",
       "      <td>SG</td>\n",
       "      <td>21.0</td>\n",
       "      <td>6-6</td>\n",
       "      <td>210.0</td>\n",
       "      <td>Kentucky</td>\n",
       "      <td>525093.0</td>\n",
       "    </tr>\n",
       "    <tr>\n",
       "      <th>404</th>\n",
       "      <td>Adreian Payne</td>\n",
       "      <td>Minnesota Timberwolves</td>\n",
       "      <td>33.0</td>\n",
       "      <td>PF</td>\n",
       "      <td>25.0</td>\n",
       "      <td>6-10</td>\n",
       "      <td>237.0</td>\n",
       "      <td>Michigan State</td>\n",
       "      <td>1938840.0</td>\n",
       "    </tr>\n",
       "  </tbody>\n",
       "</table>\n",
       "</div>"
      ],
      "text/plain": [
       "               Name                    Team  Number Position   Age Height  \\\n",
       "152    Aaron Brooks           Chicago Bulls     0.0       PG  31.0    6-0   \n",
       "356    Aaron Gordon           Orlando Magic     0.0       PF  20.0    6-9   \n",
       "328  Aaron Harrison       Charlotte Hornets     9.0       SG  21.0    6-6   \n",
       "404   Adreian Payne  Minnesota Timberwolves    33.0       PF  25.0   6-10   \n",
       "\n",
       "     Weight         College     Salary  \n",
       "152   161.0          Oregon  2250000.0  \n",
       "356   220.0         Arizona  4171680.0  \n",
       "328   210.0        Kentucky   525093.0  \n",
       "404   237.0  Michigan State  1938840.0  "
      ]
     },
     "execution_count": 39,
     "metadata": {},
     "output_type": "execute_result"
    }
   ],
   "source": [
    "nba.sort_values(by='Name').head(4)"
   ]
  },
  {
   "cell_type": "markdown",
   "metadata": {},
   "source": [
    "#### Sort the values in the `DataFrame` by the `Age` column in descending order"
   ]
  },
  {
   "cell_type": "code",
   "execution_count": 40,
   "metadata": {},
   "outputs": [
    {
     "data": {
      "text/html": [
       "<div>\n",
       "<style scoped>\n",
       "    .dataframe tbody tr th:only-of-type {\n",
       "        vertical-align: middle;\n",
       "    }\n",
       "\n",
       "    .dataframe tbody tr th {\n",
       "        vertical-align: top;\n",
       "    }\n",
       "\n",
       "    .dataframe thead th {\n",
       "        text-align: right;\n",
       "    }\n",
       "</style>\n",
       "<table border=\"1\" class=\"dataframe\">\n",
       "  <thead>\n",
       "    <tr style=\"text-align: right;\">\n",
       "      <th></th>\n",
       "      <th>Name</th>\n",
       "      <th>Team</th>\n",
       "      <th>Number</th>\n",
       "      <th>Position</th>\n",
       "      <th>Age</th>\n",
       "      <th>Height</th>\n",
       "      <th>Weight</th>\n",
       "      <th>College</th>\n",
       "      <th>Salary</th>\n",
       "    </tr>\n",
       "  </thead>\n",
       "  <tbody>\n",
       "    <tr>\n",
       "      <th>304</th>\n",
       "      <td>Andre Miller</td>\n",
       "      <td>San Antonio Spurs</td>\n",
       "      <td>24.0</td>\n",
       "      <td>PG</td>\n",
       "      <td>40.0</td>\n",
       "      <td>6-3</td>\n",
       "      <td>200.0</td>\n",
       "      <td>Utah</td>\n",
       "      <td>250750.0</td>\n",
       "    </tr>\n",
       "    <tr>\n",
       "      <th>400</th>\n",
       "      <td>Kevin Garnett</td>\n",
       "      <td>Minnesota Timberwolves</td>\n",
       "      <td>21.0</td>\n",
       "      <td>PF</td>\n",
       "      <td>40.0</td>\n",
       "      <td>6-11</td>\n",
       "      <td>240.0</td>\n",
       "      <td>NaN</td>\n",
       "      <td>8500000.0</td>\n",
       "    </tr>\n",
       "    <tr>\n",
       "      <th>298</th>\n",
       "      <td>Tim Duncan</td>\n",
       "      <td>San Antonio Spurs</td>\n",
       "      <td>21.0</td>\n",
       "      <td>C</td>\n",
       "      <td>40.0</td>\n",
       "      <td>6-11</td>\n",
       "      <td>250.0</td>\n",
       "      <td>Wake Forest</td>\n",
       "      <td>5250000.0</td>\n",
       "    </tr>\n",
       "    <tr>\n",
       "      <th>261</th>\n",
       "      <td>Vince Carter</td>\n",
       "      <td>Memphis Grizzlies</td>\n",
       "      <td>15.0</td>\n",
       "      <td>SG</td>\n",
       "      <td>39.0</td>\n",
       "      <td>6-6</td>\n",
       "      <td>220.0</td>\n",
       "      <td>North Carolina</td>\n",
       "      <td>4088019.0</td>\n",
       "    </tr>\n",
       "  </tbody>\n",
       "</table>\n",
       "</div>"
      ],
      "text/plain": [
       "              Name                    Team  Number Position   Age Height  \\\n",
       "304   Andre Miller       San Antonio Spurs    24.0       PG  40.0    6-3   \n",
       "400  Kevin Garnett  Minnesota Timberwolves    21.0       PF  40.0   6-11   \n",
       "298     Tim Duncan       San Antonio Spurs    21.0        C  40.0   6-11   \n",
       "261   Vince Carter       Memphis Grizzlies    15.0       SG  39.0    6-6   \n",
       "\n",
       "     Weight         College     Salary  \n",
       "304   200.0            Utah   250750.0  \n",
       "400   240.0             NaN  8500000.0  \n",
       "298   250.0     Wake Forest  5250000.0  \n",
       "261   220.0  North Carolina  4088019.0  "
      ]
     },
     "execution_count": 40,
     "metadata": {},
     "output_type": "execute_result"
    }
   ],
   "source": [
    "nba.sort_values(by='Age', ascending=False).head(4)"
   ]
  },
  {
   "cell_type": "markdown",
   "metadata": {},
   "source": [
    "**NOTE: If there are any NaN values in the column that we are sorting the DataFrame by, by-default they are placed at the end.**"
   ]
  },
  {
   "cell_type": "code",
   "execution_count": 41,
   "metadata": {},
   "outputs": [
    {
     "data": {
      "text/html": [
       "<div>\n",
       "<style scoped>\n",
       "    .dataframe tbody tr th:only-of-type {\n",
       "        vertical-align: middle;\n",
       "    }\n",
       "\n",
       "    .dataframe tbody tr th {\n",
       "        vertical-align: top;\n",
       "    }\n",
       "\n",
       "    .dataframe thead th {\n",
       "        text-align: right;\n",
       "    }\n",
       "</style>\n",
       "<table border=\"1\" class=\"dataframe\">\n",
       "  <thead>\n",
       "    <tr style=\"text-align: right;\">\n",
       "      <th></th>\n",
       "      <th>Name</th>\n",
       "      <th>Team</th>\n",
       "      <th>Number</th>\n",
       "      <th>Position</th>\n",
       "      <th>Age</th>\n",
       "      <th>Height</th>\n",
       "      <th>Weight</th>\n",
       "      <th>College</th>\n",
       "      <th>Salary</th>\n",
       "    </tr>\n",
       "  </thead>\n",
       "  <tbody>\n",
       "    <tr>\n",
       "      <th>397</th>\n",
       "      <td>Axel Toupane</td>\n",
       "      <td>Denver Nuggets</td>\n",
       "      <td>6.0</td>\n",
       "      <td>SG</td>\n",
       "      <td>23.0</td>\n",
       "      <td>6-7</td>\n",
       "      <td>210.0</td>\n",
       "      <td>NaN</td>\n",
       "      <td>NaN</td>\n",
       "    </tr>\n",
       "    <tr>\n",
       "      <th>409</th>\n",
       "      <td>Greg Smith</td>\n",
       "      <td>Minnesota Timberwolves</td>\n",
       "      <td>4.0</td>\n",
       "      <td>PF</td>\n",
       "      <td>25.0</td>\n",
       "      <td>6-10</td>\n",
       "      <td>250.0</td>\n",
       "      <td>Fresno State</td>\n",
       "      <td>NaN</td>\n",
       "    </tr>\n",
       "    <tr>\n",
       "      <th>457</th>\n",
       "      <td>NaN</td>\n",
       "      <td>NaN</td>\n",
       "      <td>NaN</td>\n",
       "      <td>NaN</td>\n",
       "      <td>NaN</td>\n",
       "      <td>NaN</td>\n",
       "      <td>NaN</td>\n",
       "      <td>NaN</td>\n",
       "      <td>NaN</td>\n",
       "    </tr>\n",
       "  </tbody>\n",
       "</table>\n",
       "</div>"
      ],
      "text/plain": [
       "             Name                    Team  Number Position   Age Height  \\\n",
       "397  Axel Toupane          Denver Nuggets     6.0       SG  23.0    6-7   \n",
       "409    Greg Smith  Minnesota Timberwolves     4.0       PF  25.0   6-10   \n",
       "457           NaN                     NaN     NaN      NaN   NaN    NaN   \n",
       "\n",
       "     Weight       College  Salary  \n",
       "397   210.0           NaN     NaN  \n",
       "409   250.0  Fresno State     NaN  \n",
       "457     NaN           NaN     NaN  "
      ]
     },
     "execution_count": 41,
     "metadata": {},
     "output_type": "execute_result"
    }
   ],
   "source": [
    "nba.sort_values('Salary').tail(3)"
   ]
  },
  {
   "cell_type": "markdown",
   "metadata": {},
   "source": [
    "**However, if we want the null values to be at the beginning of the column being sorted, use the `na_position = 'first'` parameter**"
   ]
  },
  {
   "cell_type": "code",
   "execution_count": 42,
   "metadata": {},
   "outputs": [
    {
     "data": {
      "text/html": [
       "<div>\n",
       "<style scoped>\n",
       "    .dataframe tbody tr th:only-of-type {\n",
       "        vertical-align: middle;\n",
       "    }\n",
       "\n",
       "    .dataframe tbody tr th {\n",
       "        vertical-align: top;\n",
       "    }\n",
       "\n",
       "    .dataframe thead th {\n",
       "        text-align: right;\n",
       "    }\n",
       "</style>\n",
       "<table border=\"1\" class=\"dataframe\">\n",
       "  <thead>\n",
       "    <tr style=\"text-align: right;\">\n",
       "      <th></th>\n",
       "      <th>Name</th>\n",
       "      <th>Team</th>\n",
       "      <th>Number</th>\n",
       "      <th>Position</th>\n",
       "      <th>Age</th>\n",
       "      <th>Height</th>\n",
       "      <th>Weight</th>\n",
       "      <th>College</th>\n",
       "      <th>Salary</th>\n",
       "    </tr>\n",
       "  </thead>\n",
       "  <tbody>\n",
       "    <tr>\n",
       "      <th>169</th>\n",
       "      <td>LeBron James</td>\n",
       "      <td>Cleveland Cavaliers</td>\n",
       "      <td>23.0</td>\n",
       "      <td>SF</td>\n",
       "      <td>31.0</td>\n",
       "      <td>6-8</td>\n",
       "      <td>250.0</td>\n",
       "      <td>NaN</td>\n",
       "      <td>22970500.0</td>\n",
       "    </tr>\n",
       "    <tr>\n",
       "      <th>109</th>\n",
       "      <td>Kobe Bryant</td>\n",
       "      <td>Los Angeles Lakers</td>\n",
       "      <td>24.0</td>\n",
       "      <td>SF</td>\n",
       "      <td>37.0</td>\n",
       "      <td>6-6</td>\n",
       "      <td>212.0</td>\n",
       "      <td>NaN</td>\n",
       "      <td>25000000.0</td>\n",
       "    </tr>\n",
       "  </tbody>\n",
       "</table>\n",
       "</div>"
      ],
      "text/plain": [
       "             Name                 Team  Number Position   Age Height  Weight  \\\n",
       "169  LeBron James  Cleveland Cavaliers    23.0       SF  31.0    6-8   250.0   \n",
       "109   Kobe Bryant   Los Angeles Lakers    24.0       SF  37.0    6-6   212.0   \n",
       "\n",
       "    College      Salary  \n",
       "169     NaN  22970500.0  \n",
       "109     NaN  25000000.0  "
      ]
     },
     "execution_count": 42,
     "metadata": {},
     "output_type": "execute_result"
    }
   ],
   "source": [
    "nba.sort_values('Salary', na_position='first').tail(2)"
   ]
  },
  {
   "cell_type": "code",
   "execution_count": 43,
   "metadata": {},
   "outputs": [
    {
     "data": {
      "text/html": [
       "<div>\n",
       "<style scoped>\n",
       "    .dataframe tbody tr th:only-of-type {\n",
       "        vertical-align: middle;\n",
       "    }\n",
       "\n",
       "    .dataframe tbody tr th {\n",
       "        vertical-align: top;\n",
       "    }\n",
       "\n",
       "    .dataframe thead th {\n",
       "        text-align: right;\n",
       "    }\n",
       "</style>\n",
       "<table border=\"1\" class=\"dataframe\">\n",
       "  <thead>\n",
       "    <tr style=\"text-align: right;\">\n",
       "      <th></th>\n",
       "      <th>Name</th>\n",
       "      <th>Team</th>\n",
       "      <th>Number</th>\n",
       "      <th>Position</th>\n",
       "      <th>Age</th>\n",
       "      <th>Height</th>\n",
       "      <th>Weight</th>\n",
       "      <th>College</th>\n",
       "      <th>Salary</th>\n",
       "    </tr>\n",
       "  </thead>\n",
       "  <tbody>\n",
       "    <tr>\n",
       "      <th>2</th>\n",
       "      <td>John Holland</td>\n",
       "      <td>Boston Celtics</td>\n",
       "      <td>30.0</td>\n",
       "      <td>SG</td>\n",
       "      <td>27.0</td>\n",
       "      <td>6-5</td>\n",
       "      <td>205.0</td>\n",
       "      <td>Boston University</td>\n",
       "      <td>NaN</td>\n",
       "    </tr>\n",
       "    <tr>\n",
       "      <th>46</th>\n",
       "      <td>Elton Brand</td>\n",
       "      <td>Philadelphia 76ers</td>\n",
       "      <td>42.0</td>\n",
       "      <td>PF</td>\n",
       "      <td>37.0</td>\n",
       "      <td>6-9</td>\n",
       "      <td>254.0</td>\n",
       "      <td>Duke</td>\n",
       "      <td>NaN</td>\n",
       "    </tr>\n",
       "  </tbody>\n",
       "</table>\n",
       "</div>"
      ],
      "text/plain": [
       "            Name                Team  Number Position   Age Height  Weight  \\\n",
       "2   John Holland      Boston Celtics    30.0       SG  27.0    6-5   205.0   \n",
       "46   Elton Brand  Philadelphia 76ers    42.0       PF  37.0    6-9   254.0   \n",
       "\n",
       "              College  Salary  \n",
       "2   Boston University     NaN  \n",
       "46               Duke     NaN  "
      ]
     },
     "execution_count": 43,
     "metadata": {},
     "output_type": "execute_result"
    }
   ],
   "source": [
    "nba.sort_values('Salary', na_position='first').head(2)"
   ]
  },
  {
   "cell_type": "markdown",
   "metadata": {},
   "source": [
    "---\n",
    "### `.sort_values(..)` method to sort the `DataFrame` by multiple columns"
   ]
  },
  {
   "cell_type": "code",
   "execution_count": 44,
   "metadata": {},
   "outputs": [
    {
     "data": {
      "text/html": [
       "<div>\n",
       "<style scoped>\n",
       "    .dataframe tbody tr th:only-of-type {\n",
       "        vertical-align: middle;\n",
       "    }\n",
       "\n",
       "    .dataframe tbody tr th {\n",
       "        vertical-align: top;\n",
       "    }\n",
       "\n",
       "    .dataframe thead th {\n",
       "        text-align: right;\n",
       "    }\n",
       "</style>\n",
       "<table border=\"1\" class=\"dataframe\">\n",
       "  <thead>\n",
       "    <tr style=\"text-align: right;\">\n",
       "      <th></th>\n",
       "      <th>Name</th>\n",
       "      <th>Team</th>\n",
       "      <th>Number</th>\n",
       "      <th>Position</th>\n",
       "      <th>Age</th>\n",
       "      <th>Height</th>\n",
       "      <th>Weight</th>\n",
       "      <th>College</th>\n",
       "      <th>Salary</th>\n",
       "    </tr>\n",
       "  </thead>\n",
       "  <tbody>\n",
       "    <tr>\n",
       "      <th>0</th>\n",
       "      <td>Avery Bradley</td>\n",
       "      <td>Boston Celtics</td>\n",
       "      <td>0.0</td>\n",
       "      <td>PG</td>\n",
       "      <td>25.0</td>\n",
       "      <td>6-2</td>\n",
       "      <td>180.0</td>\n",
       "      <td>Texas</td>\n",
       "      <td>7730337.0</td>\n",
       "    </tr>\n",
       "    <tr>\n",
       "      <th>1</th>\n",
       "      <td>Jae Crowder</td>\n",
       "      <td>Boston Celtics</td>\n",
       "      <td>99.0</td>\n",
       "      <td>SF</td>\n",
       "      <td>25.0</td>\n",
       "      <td>6-6</td>\n",
       "      <td>235.0</td>\n",
       "      <td>Marquette</td>\n",
       "      <td>6796117.0</td>\n",
       "    </tr>\n",
       "    <tr>\n",
       "      <th>2</th>\n",
       "      <td>John Holland</td>\n",
       "      <td>Boston Celtics</td>\n",
       "      <td>30.0</td>\n",
       "      <td>SG</td>\n",
       "      <td>27.0</td>\n",
       "      <td>6-5</td>\n",
       "      <td>205.0</td>\n",
       "      <td>Boston University</td>\n",
       "      <td>NaN</td>\n",
       "    </tr>\n",
       "  </tbody>\n",
       "</table>\n",
       "</div>"
      ],
      "text/plain": [
       "            Name            Team  Number Position   Age Height  Weight  \\\n",
       "0  Avery Bradley  Boston Celtics     0.0       PG  25.0    6-2   180.0   \n",
       "1    Jae Crowder  Boston Celtics    99.0       SF  25.0    6-6   235.0   \n",
       "2   John Holland  Boston Celtics    30.0       SG  27.0    6-5   205.0   \n",
       "\n",
       "             College     Salary  \n",
       "0              Texas  7730337.0  \n",
       "1          Marquette  6796117.0  \n",
       "2  Boston University        NaN  "
      ]
     },
     "execution_count": 44,
     "metadata": {},
     "output_type": "execute_result"
    }
   ],
   "source": [
    "nba = pd.read_csv('pandas/nba.csv')\n",
    "nba.head(3)"
   ]
  },
  {
   "cell_type": "markdown",
   "metadata": {},
   "source": [
    "**First sort by `Team` and then by `Name`**"
   ]
  },
  {
   "cell_type": "code",
   "execution_count": 45,
   "metadata": {},
   "outputs": [
    {
     "data": {
      "text/html": [
       "<div>\n",
       "<style scoped>\n",
       "    .dataframe tbody tr th:only-of-type {\n",
       "        vertical-align: middle;\n",
       "    }\n",
       "\n",
       "    .dataframe tbody tr th {\n",
       "        vertical-align: top;\n",
       "    }\n",
       "\n",
       "    .dataframe thead th {\n",
       "        text-align: right;\n",
       "    }\n",
       "</style>\n",
       "<table border=\"1\" class=\"dataframe\">\n",
       "  <thead>\n",
       "    <tr style=\"text-align: right;\">\n",
       "      <th></th>\n",
       "      <th>Name</th>\n",
       "      <th>Team</th>\n",
       "      <th>Number</th>\n",
       "      <th>Position</th>\n",
       "      <th>Age</th>\n",
       "      <th>Height</th>\n",
       "      <th>Weight</th>\n",
       "      <th>College</th>\n",
       "      <th>Salary</th>\n",
       "    </tr>\n",
       "  </thead>\n",
       "  <tbody>\n",
       "    <tr>\n",
       "      <th>312</th>\n",
       "      <td>Al Horford</td>\n",
       "      <td>Atlanta Hawks</td>\n",
       "      <td>15.0</td>\n",
       "      <td>C</td>\n",
       "      <td>30.0</td>\n",
       "      <td>6-10</td>\n",
       "      <td>245.0</td>\n",
       "      <td>Florida</td>\n",
       "      <td>12000000.0</td>\n",
       "    </tr>\n",
       "    <tr>\n",
       "      <th>318</th>\n",
       "      <td>Dennis Schroder</td>\n",
       "      <td>Atlanta Hawks</td>\n",
       "      <td>17.0</td>\n",
       "      <td>PG</td>\n",
       "      <td>22.0</td>\n",
       "      <td>6-1</td>\n",
       "      <td>172.0</td>\n",
       "      <td>NaN</td>\n",
       "      <td>1763400.0</td>\n",
       "    </tr>\n",
       "    <tr>\n",
       "      <th>323</th>\n",
       "      <td>Jeff Teague</td>\n",
       "      <td>Atlanta Hawks</td>\n",
       "      <td>0.0</td>\n",
       "      <td>PG</td>\n",
       "      <td>27.0</td>\n",
       "      <td>6-2</td>\n",
       "      <td>186.0</td>\n",
       "      <td>Wake Forest</td>\n",
       "      <td>8000000.0</td>\n",
       "    </tr>\n",
       "    <tr>\n",
       "      <th>309</th>\n",
       "      <td>Kent Bazemore</td>\n",
       "      <td>Atlanta Hawks</td>\n",
       "      <td>24.0</td>\n",
       "      <td>SF</td>\n",
       "      <td>26.0</td>\n",
       "      <td>6-5</td>\n",
       "      <td>201.0</td>\n",
       "      <td>Old Dominion</td>\n",
       "      <td>2000000.0</td>\n",
       "    </tr>\n",
       "    <tr>\n",
       "      <th>311</th>\n",
       "      <td>Kirk Hinrich</td>\n",
       "      <td>Atlanta Hawks</td>\n",
       "      <td>12.0</td>\n",
       "      <td>SG</td>\n",
       "      <td>35.0</td>\n",
       "      <td>6-4</td>\n",
       "      <td>190.0</td>\n",
       "      <td>Kansas</td>\n",
       "      <td>2854940.0</td>\n",
       "    </tr>\n",
       "    <tr>\n",
       "      <th>313</th>\n",
       "      <td>Kris Humphries</td>\n",
       "      <td>Atlanta Hawks</td>\n",
       "      <td>43.0</td>\n",
       "      <td>PF</td>\n",
       "      <td>31.0</td>\n",
       "      <td>6-9</td>\n",
       "      <td>235.0</td>\n",
       "      <td>Minnesota</td>\n",
       "      <td>1000000.0</td>\n",
       "    </tr>\n",
       "  </tbody>\n",
       "</table>\n",
       "</div>"
      ],
      "text/plain": [
       "                Name           Team  Number Position   Age Height  Weight  \\\n",
       "312       Al Horford  Atlanta Hawks    15.0        C  30.0   6-10   245.0   \n",
       "318  Dennis Schroder  Atlanta Hawks    17.0       PG  22.0    6-1   172.0   \n",
       "323      Jeff Teague  Atlanta Hawks     0.0       PG  27.0    6-2   186.0   \n",
       "309    Kent Bazemore  Atlanta Hawks    24.0       SF  26.0    6-5   201.0   \n",
       "311     Kirk Hinrich  Atlanta Hawks    12.0       SG  35.0    6-4   190.0   \n",
       "313   Kris Humphries  Atlanta Hawks    43.0       PF  31.0    6-9   235.0   \n",
       "\n",
       "          College      Salary  \n",
       "312       Florida  12000000.0  \n",
       "318           NaN   1763400.0  \n",
       "323   Wake Forest   8000000.0  \n",
       "309  Old Dominion   2000000.0  \n",
       "311        Kansas   2854940.0  \n",
       "313     Minnesota   1000000.0  "
      ]
     },
     "execution_count": 45,
     "metadata": {},
     "output_type": "execute_result"
    }
   ],
   "source": [
    "nba.sort_values(['Team', 'Name']).head(6)"
   ]
  },
  {
   "cell_type": "markdown",
   "metadata": {},
   "source": [
    "**NOTE:** In both the cases the columns were sorted in ascending order by default.\n",
    "\n",
    "However, If we want the `Team` to be sorted in ascending order and `Name` in descending order..."
   ]
  },
  {
   "cell_type": "code",
   "execution_count": 46,
   "metadata": {},
   "outputs": [
    {
     "data": {
      "text/html": [
       "<div>\n",
       "<style scoped>\n",
       "    .dataframe tbody tr th:only-of-type {\n",
       "        vertical-align: middle;\n",
       "    }\n",
       "\n",
       "    .dataframe tbody tr th {\n",
       "        vertical-align: top;\n",
       "    }\n",
       "\n",
       "    .dataframe thead th {\n",
       "        text-align: right;\n",
       "    }\n",
       "</style>\n",
       "<table border=\"1\" class=\"dataframe\">\n",
       "  <thead>\n",
       "    <tr style=\"text-align: right;\">\n",
       "      <th></th>\n",
       "      <th>Name</th>\n",
       "      <th>Team</th>\n",
       "      <th>Number</th>\n",
       "      <th>Position</th>\n",
       "      <th>Age</th>\n",
       "      <th>Height</th>\n",
       "      <th>Weight</th>\n",
       "      <th>College</th>\n",
       "      <th>Salary</th>\n",
       "    </tr>\n",
       "  </thead>\n",
       "  <tbody>\n",
       "    <tr>\n",
       "      <th>322</th>\n",
       "      <td>Walter Tavares</td>\n",
       "      <td>Atlanta Hawks</td>\n",
       "      <td>22.0</td>\n",
       "      <td>C</td>\n",
       "      <td>24.0</td>\n",
       "      <td>7-3</td>\n",
       "      <td>260.0</td>\n",
       "      <td>NaN</td>\n",
       "      <td>1000000.0</td>\n",
       "    </tr>\n",
       "    <tr>\n",
       "      <th>310</th>\n",
       "      <td>Tim Hardaway Jr.</td>\n",
       "      <td>Atlanta Hawks</td>\n",
       "      <td>10.0</td>\n",
       "      <td>SG</td>\n",
       "      <td>24.0</td>\n",
       "      <td>6-6</td>\n",
       "      <td>205.0</td>\n",
       "      <td>Michigan</td>\n",
       "      <td>1304520.0</td>\n",
       "    </tr>\n",
       "    <tr>\n",
       "      <th>321</th>\n",
       "      <td>Tiago Splitter</td>\n",
       "      <td>Atlanta Hawks</td>\n",
       "      <td>11.0</td>\n",
       "      <td>C</td>\n",
       "      <td>31.0</td>\n",
       "      <td>6-11</td>\n",
       "      <td>245.0</td>\n",
       "      <td>NaN</td>\n",
       "      <td>9756250.0</td>\n",
       "    </tr>\n",
       "    <tr>\n",
       "      <th>320</th>\n",
       "      <td>Thabo Sefolosha</td>\n",
       "      <td>Atlanta Hawks</td>\n",
       "      <td>25.0</td>\n",
       "      <td>SF</td>\n",
       "      <td>32.0</td>\n",
       "      <td>6-7</td>\n",
       "      <td>220.0</td>\n",
       "      <td>NaN</td>\n",
       "      <td>4000000.0</td>\n",
       "    </tr>\n",
       "    <tr>\n",
       "      <th>315</th>\n",
       "      <td>Paul Millsap</td>\n",
       "      <td>Atlanta Hawks</td>\n",
       "      <td>4.0</td>\n",
       "      <td>PF</td>\n",
       "      <td>31.0</td>\n",
       "      <td>6-8</td>\n",
       "      <td>246.0</td>\n",
       "      <td>Louisiana Tech</td>\n",
       "      <td>18671659.0</td>\n",
       "    </tr>\n",
       "    <tr>\n",
       "      <th>319</th>\n",
       "      <td>Mike Scott</td>\n",
       "      <td>Atlanta Hawks</td>\n",
       "      <td>32.0</td>\n",
       "      <td>PF</td>\n",
       "      <td>27.0</td>\n",
       "      <td>6-8</td>\n",
       "      <td>237.0</td>\n",
       "      <td>Virginia</td>\n",
       "      <td>3333333.0</td>\n",
       "    </tr>\n",
       "  </tbody>\n",
       "</table>\n",
       "</div>"
      ],
      "text/plain": [
       "                 Name           Team  Number Position   Age Height  Weight  \\\n",
       "322    Walter Tavares  Atlanta Hawks    22.0        C  24.0    7-3   260.0   \n",
       "310  Tim Hardaway Jr.  Atlanta Hawks    10.0       SG  24.0    6-6   205.0   \n",
       "321    Tiago Splitter  Atlanta Hawks    11.0        C  31.0   6-11   245.0   \n",
       "320   Thabo Sefolosha  Atlanta Hawks    25.0       SF  32.0    6-7   220.0   \n",
       "315      Paul Millsap  Atlanta Hawks     4.0       PF  31.0    6-8   246.0   \n",
       "319        Mike Scott  Atlanta Hawks    32.0       PF  27.0    6-8   237.0   \n",
       "\n",
       "            College      Salary  \n",
       "322             NaN   1000000.0  \n",
       "310        Michigan   1304520.0  \n",
       "321             NaN   9756250.0  \n",
       "320             NaN   4000000.0  \n",
       "315  Louisiana Tech  18671659.0  \n",
       "319        Virginia   3333333.0  "
      ]
     },
     "execution_count": 46,
     "metadata": {},
     "output_type": "execute_result"
    }
   ],
   "source": [
    "nba.sort_values(['Team', 'Name'], ascending=[True, False]).head(6)"
   ]
  },
  {
   "cell_type": "markdown",
   "metadata": {},
   "source": [
    "---\n",
    "## Ranking values using the `.rank(..)` method\n",
    "Ranking the rows based on the values in a particular column.\n",
    "\n",
    "For example, ranking the players by their salaries, that is, the player with the highest salary gets a rank of 1 and so on.\n",
    "\n",
    "- Reading the CSV\n",
    "- Dropping all Null values\n",
    "- Converting columns to appropriate datatypes"
   ]
  },
  {
   "cell_type": "code",
   "execution_count": 47,
   "metadata": {},
   "outputs": [
    {
     "data": {
      "text/html": [
       "<div>\n",
       "<style scoped>\n",
       "    .dataframe tbody tr th:only-of-type {\n",
       "        vertical-align: middle;\n",
       "    }\n",
       "\n",
       "    .dataframe tbody tr th {\n",
       "        vertical-align: top;\n",
       "    }\n",
       "\n",
       "    .dataframe thead th {\n",
       "        text-align: right;\n",
       "    }\n",
       "</style>\n",
       "<table border=\"1\" class=\"dataframe\">\n",
       "  <thead>\n",
       "    <tr style=\"text-align: right;\">\n",
       "      <th></th>\n",
       "      <th>Name</th>\n",
       "      <th>Team</th>\n",
       "      <th>Number</th>\n",
       "      <th>Position</th>\n",
       "      <th>Age</th>\n",
       "      <th>Height</th>\n",
       "      <th>Weight</th>\n",
       "      <th>College</th>\n",
       "      <th>Salary</th>\n",
       "    </tr>\n",
       "  </thead>\n",
       "  <tbody>\n",
       "    <tr>\n",
       "      <th>0</th>\n",
       "      <td>Avery Bradley</td>\n",
       "      <td>Boston Celtics</td>\n",
       "      <td>0.0</td>\n",
       "      <td>PG</td>\n",
       "      <td>25.0</td>\n",
       "      <td>6-2</td>\n",
       "      <td>180.0</td>\n",
       "      <td>Texas</td>\n",
       "      <td>7730337</td>\n",
       "    </tr>\n",
       "    <tr>\n",
       "      <th>1</th>\n",
       "      <td>Jae Crowder</td>\n",
       "      <td>Boston Celtics</td>\n",
       "      <td>99.0</td>\n",
       "      <td>SF</td>\n",
       "      <td>25.0</td>\n",
       "      <td>6-6</td>\n",
       "      <td>235.0</td>\n",
       "      <td>Marquette</td>\n",
       "      <td>6796117</td>\n",
       "    </tr>\n",
       "    <tr>\n",
       "      <th>2</th>\n",
       "      <td>John Holland</td>\n",
       "      <td>Boston Celtics</td>\n",
       "      <td>30.0</td>\n",
       "      <td>SG</td>\n",
       "      <td>27.0</td>\n",
       "      <td>6-5</td>\n",
       "      <td>205.0</td>\n",
       "      <td>Boston University</td>\n",
       "      <td>0</td>\n",
       "    </tr>\n",
       "  </tbody>\n",
       "</table>\n",
       "</div>"
      ],
      "text/plain": [
       "            Name            Team  Number Position   Age Height  Weight  \\\n",
       "0  Avery Bradley  Boston Celtics     0.0       PG  25.0    6-2   180.0   \n",
       "1    Jae Crowder  Boston Celtics    99.0       SF  25.0    6-6   235.0   \n",
       "2   John Holland  Boston Celtics    30.0       SG  27.0    6-5   205.0   \n",
       "\n",
       "             College   Salary  \n",
       "0              Texas  7730337  \n",
       "1          Marquette  6796117  \n",
       "2  Boston University        0  "
      ]
     },
     "execution_count": 47,
     "metadata": {},
     "output_type": "execute_result"
    }
   ],
   "source": [
    "nba = pd.read_csv('pandas/nba.csv').dropna(how='all')\n",
    "nba['Salary'] = nba['Salary'].fillna(0).astype('int')\n",
    "\n",
    "nba.head(3)"
   ]
  },
  {
   "cell_type": "code",
   "execution_count": 48,
   "metadata": {},
   "outputs": [
    {
     "data": {
      "text/plain": [
       "0     97\n",
       "1    110\n",
       "2    452\n",
       "3    322\n",
       "4    147\n",
       "Name: Salary, dtype: int32"
      ]
     },
     "execution_count": 48,
     "metadata": {},
     "output_type": "execute_result"
    }
   ],
   "source": [
    "nba['Salary'].rank(ascending=False).astype(int).head(5)"
   ]
  },
  {
   "cell_type": "markdown",
   "metadata": {},
   "source": [
    "**Interpretting the result:** <br/>\n",
    "Refer to the original DataFrame, the player at index position of 0 has a rank of 97 based on our salary criteria. Similarly, the player at index position of 1 has a rank of 110 ad so on.\n",
    "\n",
    "To verify, we first save the ranks obtained as another column of the `DataFrame` and then sort the `DataFrame` by `Salary`. We expect the first row of the resulting `DataFrame` to have a salary rank of 1 and so on.."
   ]
  },
  {
   "cell_type": "code",
   "execution_count": 49,
   "metadata": {},
   "outputs": [],
   "source": [
    "nba['Salary Rank'] = nba['Salary'].rank(ascending=False).astype(int)"
   ]
  },
  {
   "cell_type": "code",
   "execution_count": 50,
   "metadata": {},
   "outputs": [
    {
     "data": {
      "text/html": [
       "<div>\n",
       "<style scoped>\n",
       "    .dataframe tbody tr th:only-of-type {\n",
       "        vertical-align: middle;\n",
       "    }\n",
       "\n",
       "    .dataframe tbody tr th {\n",
       "        vertical-align: top;\n",
       "    }\n",
       "\n",
       "    .dataframe thead th {\n",
       "        text-align: right;\n",
       "    }\n",
       "</style>\n",
       "<table border=\"1\" class=\"dataframe\">\n",
       "  <thead>\n",
       "    <tr style=\"text-align: right;\">\n",
       "      <th></th>\n",
       "      <th>Name</th>\n",
       "      <th>Team</th>\n",
       "      <th>Number</th>\n",
       "      <th>Position</th>\n",
       "      <th>Age</th>\n",
       "      <th>Height</th>\n",
       "      <th>Weight</th>\n",
       "      <th>College</th>\n",
       "      <th>Salary</th>\n",
       "      <th>Salary Rank</th>\n",
       "    </tr>\n",
       "  </thead>\n",
       "  <tbody>\n",
       "    <tr>\n",
       "      <th>109</th>\n",
       "      <td>Kobe Bryant</td>\n",
       "      <td>Los Angeles Lakers</td>\n",
       "      <td>24.0</td>\n",
       "      <td>SF</td>\n",
       "      <td>37.0</td>\n",
       "      <td>6-6</td>\n",
       "      <td>212.0</td>\n",
       "      <td>NaN</td>\n",
       "      <td>25000000</td>\n",
       "      <td>1</td>\n",
       "    </tr>\n",
       "    <tr>\n",
       "      <th>169</th>\n",
       "      <td>LeBron James</td>\n",
       "      <td>Cleveland Cavaliers</td>\n",
       "      <td>23.0</td>\n",
       "      <td>SF</td>\n",
       "      <td>31.0</td>\n",
       "      <td>6-8</td>\n",
       "      <td>250.0</td>\n",
       "      <td>NaN</td>\n",
       "      <td>22970500</td>\n",
       "      <td>2</td>\n",
       "    </tr>\n",
       "    <tr>\n",
       "      <th>33</th>\n",
       "      <td>Carmelo Anthony</td>\n",
       "      <td>New York Knicks</td>\n",
       "      <td>7.0</td>\n",
       "      <td>SF</td>\n",
       "      <td>32.0</td>\n",
       "      <td>6-8</td>\n",
       "      <td>240.0</td>\n",
       "      <td>Syracuse</td>\n",
       "      <td>22875000</td>\n",
       "      <td>3</td>\n",
       "    </tr>\n",
       "  </tbody>\n",
       "</table>\n",
       "</div>"
      ],
      "text/plain": [
       "                Name                 Team  Number Position   Age Height  \\\n",
       "109      Kobe Bryant   Los Angeles Lakers    24.0       SF  37.0    6-6   \n",
       "169     LeBron James  Cleveland Cavaliers    23.0       SF  31.0    6-8   \n",
       "33   Carmelo Anthony      New York Knicks     7.0       SF  32.0    6-8   \n",
       "\n",
       "     Weight   College    Salary  Salary Rank  \n",
       "109   212.0       NaN  25000000            1  \n",
       "169   250.0       NaN  22970500            2  \n",
       "33    240.0  Syracuse  22875000            3  "
      ]
     },
     "execution_count": 50,
     "metadata": {},
     "output_type": "execute_result"
    }
   ],
   "source": [
    "nba.sort_values(by='Salary', ascending=False).head(3)"
   ]
  },
  {
   "cell_type": "markdown",
   "metadata": {},
   "source": [
    "**NOTE:** Same rank is assigned to the values having the same value. For example, in the above example, all the players having the same particular value of salary, will be assigned the same rank by the `.rank(..)` method"
   ]
  },
  {
   "cell_type": "markdown",
   "metadata": {},
   "source": [
    "---\n",
    "---\n",
    "# Extracting data from a DataFrame"
   ]
  },
  {
   "cell_type": "code",
   "execution_count": 51,
   "metadata": {},
   "outputs": [],
   "source": [
    "import pandas as pd"
   ]
  },
  {
   "cell_type": "markdown",
   "metadata": {},
   "source": [
    "**Reading the `DataFrame`**"
   ]
  },
  {
   "cell_type": "code",
   "execution_count": 52,
   "metadata": {},
   "outputs": [
    {
     "data": {
      "text/html": [
       "<div>\n",
       "<style scoped>\n",
       "    .dataframe tbody tr th:only-of-type {\n",
       "        vertical-align: middle;\n",
       "    }\n",
       "\n",
       "    .dataframe tbody tr th {\n",
       "        vertical-align: top;\n",
       "    }\n",
       "\n",
       "    .dataframe thead th {\n",
       "        text-align: right;\n",
       "    }\n",
       "</style>\n",
       "<table border=\"1\" class=\"dataframe\">\n",
       "  <thead>\n",
       "    <tr style=\"text-align: right;\">\n",
       "      <th></th>\n",
       "      <th>First Name</th>\n",
       "      <th>Gender</th>\n",
       "      <th>Start Date</th>\n",
       "      <th>Last Login Time</th>\n",
       "      <th>Salary</th>\n",
       "      <th>Bonus %</th>\n",
       "      <th>Senior Management</th>\n",
       "      <th>Team</th>\n",
       "    </tr>\n",
       "  </thead>\n",
       "  <tbody>\n",
       "    <tr>\n",
       "      <th>0</th>\n",
       "      <td>Douglas</td>\n",
       "      <td>Male</td>\n",
       "      <td>8/6/1993</td>\n",
       "      <td>12:42 PM</td>\n",
       "      <td>97308</td>\n",
       "      <td>6.945</td>\n",
       "      <td>True</td>\n",
       "      <td>Marketing</td>\n",
       "    </tr>\n",
       "    <tr>\n",
       "      <th>1</th>\n",
       "      <td>Thomas</td>\n",
       "      <td>Male</td>\n",
       "      <td>3/31/1996</td>\n",
       "      <td>6:53 AM</td>\n",
       "      <td>61933</td>\n",
       "      <td>4.170</td>\n",
       "      <td>True</td>\n",
       "      <td>NaN</td>\n",
       "    </tr>\n",
       "    <tr>\n",
       "      <th>2</th>\n",
       "      <td>Maria</td>\n",
       "      <td>Female</td>\n",
       "      <td>4/23/1993</td>\n",
       "      <td>11:17 AM</td>\n",
       "      <td>130590</td>\n",
       "      <td>11.858</td>\n",
       "      <td>False</td>\n",
       "      <td>Finance</td>\n",
       "    </tr>\n",
       "  </tbody>\n",
       "</table>\n",
       "</div>"
      ],
      "text/plain": [
       "  First Name  Gender Start Date Last Login Time  Salary  Bonus %  \\\n",
       "0    Douglas    Male   8/6/1993        12:42 PM   97308    6.945   \n",
       "1     Thomas    Male  3/31/1996         6:53 AM   61933    4.170   \n",
       "2      Maria  Female  4/23/1993        11:17 AM  130590   11.858   \n",
       "\n",
       "  Senior Management       Team  \n",
       "0              True  Marketing  \n",
       "1              True        NaN  \n",
       "2             False    Finance  "
      ]
     },
     "execution_count": 52,
     "metadata": {},
     "output_type": "execute_result"
    }
   ],
   "source": [
    "df = pd.read_csv('pandas/employees.csv')\n",
    "df.head(3)"
   ]
  },
  {
   "cell_type": "markdown",
   "metadata": {},
   "source": [
    "**Calling the `.info(..)` method to see the datatypes of columns and change the datatypes if required**"
   ]
  },
  {
   "cell_type": "code",
   "execution_count": 53,
   "metadata": {},
   "outputs": [
    {
     "name": "stdout",
     "output_type": "stream",
     "text": [
      "<class 'pandas.core.frame.DataFrame'>\n",
      "RangeIndex: 1000 entries, 0 to 999\n",
      "Data columns (total 8 columns):\n",
      "First Name           933 non-null object\n",
      "Gender               855 non-null object\n",
      "Start Date           1000 non-null object\n",
      "Last Login Time      1000 non-null object\n",
      "Salary               1000 non-null int64\n",
      "Bonus %              1000 non-null float64\n",
      "Senior Management    933 non-null object\n",
      "Team                 957 non-null object\n",
      "dtypes: float64(1), int64(1), object(6)\n",
      "memory usage: 39.1+ KB\n"
     ]
    }
   ],
   "source": [
    "df.info()"
   ]
  },
  {
   "cell_type": "code",
   "execution_count": 54,
   "metadata": {},
   "outputs": [
    {
     "name": "stdout",
     "output_type": "stream",
     "text": [
      "<class 'pandas.core.frame.DataFrame'>\n",
      "RangeIndex: 1000 entries, 0 to 999\n",
      "Data columns (total 8 columns):\n",
      "First Name           933 non-null object\n",
      "Gender               855 non-null category\n",
      "Start Date           1000 non-null datetime64[ns]\n",
      "Last Login Time      1000 non-null datetime64[ns]\n",
      "Salary               1000 non-null int64\n",
      "Bonus %              1000 non-null float64\n",
      "Senior Management    1000 non-null bool\n",
      "Team                 957 non-null object\n",
      "dtypes: bool(1), category(1), datetime64[ns](2), float64(1), int64(1), object(2)\n",
      "memory usage: 41.1+ KB\n"
     ]
    }
   ],
   "source": [
    "df['Gender'] = df['Gender'].astype('category')\n",
    "df['Start Date'] = pd.to_datetime(df['Start Date'])\n",
    "df['Last Login Time'] = pd.to_datetime(df['Last Login Time'])\n",
    "df['Senior Management'] = df['Senior Management'].astype('bool')\n",
    "df.info()"
   ]
  },
  {
   "cell_type": "markdown",
   "metadata": {},
   "source": [
    "**NOTE:** Since the column `Last Login Time` only has time and no date, converting to datetime will add the computer's current date."
   ]
  },
  {
   "cell_type": "code",
   "execution_count": 55,
   "metadata": {},
   "outputs": [
    {
     "data": {
      "text/html": [
       "<div>\n",
       "<style scoped>\n",
       "    .dataframe tbody tr th:only-of-type {\n",
       "        vertical-align: middle;\n",
       "    }\n",
       "\n",
       "    .dataframe tbody tr th {\n",
       "        vertical-align: top;\n",
       "    }\n",
       "\n",
       "    .dataframe thead th {\n",
       "        text-align: right;\n",
       "    }\n",
       "</style>\n",
       "<table border=\"1\" class=\"dataframe\">\n",
       "  <thead>\n",
       "    <tr style=\"text-align: right;\">\n",
       "      <th></th>\n",
       "      <th>First Name</th>\n",
       "      <th>Gender</th>\n",
       "      <th>Start Date</th>\n",
       "      <th>Last Login Time</th>\n",
       "      <th>Salary</th>\n",
       "      <th>Bonus %</th>\n",
       "      <th>Senior Management</th>\n",
       "      <th>Team</th>\n",
       "    </tr>\n",
       "  </thead>\n",
       "  <tbody>\n",
       "    <tr>\n",
       "      <th>0</th>\n",
       "      <td>Douglas</td>\n",
       "      <td>Male</td>\n",
       "      <td>1993-08-06</td>\n",
       "      <td>2018-06-08 12:42:00</td>\n",
       "      <td>97308</td>\n",
       "      <td>6.945</td>\n",
       "      <td>True</td>\n",
       "      <td>Marketing</td>\n",
       "    </tr>\n",
       "    <tr>\n",
       "      <th>1</th>\n",
       "      <td>Thomas</td>\n",
       "      <td>Male</td>\n",
       "      <td>1996-03-31</td>\n",
       "      <td>2018-06-08 06:53:00</td>\n",
       "      <td>61933</td>\n",
       "      <td>4.170</td>\n",
       "      <td>True</td>\n",
       "      <td>NaN</td>\n",
       "    </tr>\n",
       "    <tr>\n",
       "      <th>2</th>\n",
       "      <td>Maria</td>\n",
       "      <td>Female</td>\n",
       "      <td>1993-04-23</td>\n",
       "      <td>2018-06-08 11:17:00</td>\n",
       "      <td>130590</td>\n",
       "      <td>11.858</td>\n",
       "      <td>False</td>\n",
       "      <td>Finance</td>\n",
       "    </tr>\n",
       "  </tbody>\n",
       "</table>\n",
       "</div>"
      ],
      "text/plain": [
       "  First Name  Gender Start Date     Last Login Time  Salary  Bonus %  \\\n",
       "0    Douglas    Male 1993-08-06 2018-06-08 12:42:00   97308    6.945   \n",
       "1     Thomas    Male 1996-03-31 2018-06-08 06:53:00   61933    4.170   \n",
       "2      Maria  Female 1993-04-23 2018-06-08 11:17:00  130590   11.858   \n",
       "\n",
       "   Senior Management       Team  \n",
       "0               True  Marketing  \n",
       "1               True        NaN  \n",
       "2              False    Finance  "
      ]
     },
     "execution_count": 55,
     "metadata": {},
     "output_type": "execute_result"
    }
   ],
   "source": [
    "df.head(3)"
   ]
  },
  {
   "cell_type": "markdown",
   "metadata": {},
   "source": [
    "**However, there is a better way to convert to datetime than the one showed above. \n",
    "While reading the CSV, we can pass the `parse_dates` argument to convert the columns from string/object to datetime type while the `DataFrame` is read.**"
   ]
  },
  {
   "cell_type": "code",
   "execution_count": 56,
   "metadata": {},
   "outputs": [],
   "source": [
    "employees = pd.read_csv('pandas/employees.csv', parse_dates=['Start Date','Last Login Time'])"
   ]
  },
  {
   "cell_type": "markdown",
   "metadata": {},
   "source": [
    "---\n",
    "## Filtering (or subsetting) data from a Dataframe based on some condition"
   ]
  },
  {
   "cell_type": "code",
   "execution_count": 57,
   "metadata": {},
   "outputs": [
    {
     "data": {
      "text/html": [
       "<div>\n",
       "<style scoped>\n",
       "    .dataframe tbody tr th:only-of-type {\n",
       "        vertical-align: middle;\n",
       "    }\n",
       "\n",
       "    .dataframe tbody tr th {\n",
       "        vertical-align: top;\n",
       "    }\n",
       "\n",
       "    .dataframe thead th {\n",
       "        text-align: right;\n",
       "    }\n",
       "</style>\n",
       "<table border=\"1\" class=\"dataframe\">\n",
       "  <thead>\n",
       "    <tr style=\"text-align: right;\">\n",
       "      <th></th>\n",
       "      <th>First Name</th>\n",
       "      <th>Gender</th>\n",
       "      <th>Start Date</th>\n",
       "      <th>Last Login Time</th>\n",
       "      <th>Salary</th>\n",
       "      <th>Bonus %</th>\n",
       "      <th>Senior Management</th>\n",
       "      <th>Team</th>\n",
       "    </tr>\n",
       "  </thead>\n",
       "  <tbody>\n",
       "    <tr>\n",
       "      <th>0</th>\n",
       "      <td>Douglas</td>\n",
       "      <td>Male</td>\n",
       "      <td>1993-08-06</td>\n",
       "      <td>2018-06-08 12:42:00</td>\n",
       "      <td>97308</td>\n",
       "      <td>6.945</td>\n",
       "      <td>True</td>\n",
       "      <td>Marketing</td>\n",
       "    </tr>\n",
       "    <tr>\n",
       "      <th>1</th>\n",
       "      <td>Thomas</td>\n",
       "      <td>Male</td>\n",
       "      <td>1996-03-31</td>\n",
       "      <td>2018-06-08 06:53:00</td>\n",
       "      <td>61933</td>\n",
       "      <td>4.170</td>\n",
       "      <td>True</td>\n",
       "      <td>NaN</td>\n",
       "    </tr>\n",
       "    <tr>\n",
       "      <th>2</th>\n",
       "      <td>Maria</td>\n",
       "      <td>Female</td>\n",
       "      <td>1993-04-23</td>\n",
       "      <td>2018-06-08 11:17:00</td>\n",
       "      <td>130590</td>\n",
       "      <td>11.858</td>\n",
       "      <td>False</td>\n",
       "      <td>Finance</td>\n",
       "    </tr>\n",
       "  </tbody>\n",
       "</table>\n",
       "</div>"
      ],
      "text/plain": [
       "  First Name  Gender Start Date     Last Login Time  Salary  Bonus %  \\\n",
       "0    Douglas    Male 1993-08-06 2018-06-08 12:42:00   97308    6.945   \n",
       "1     Thomas    Male 1996-03-31 2018-06-08 06:53:00   61933    4.170   \n",
       "2      Maria  Female 1993-04-23 2018-06-08 11:17:00  130590   11.858   \n",
       "\n",
       "  Senior Management       Team  \n",
       "0              True  Marketing  \n",
       "1              True        NaN  \n",
       "2             False    Finance  "
      ]
     },
     "execution_count": 57,
     "metadata": {},
     "output_type": "execute_result"
    }
   ],
   "source": [
    "df = pd.read_csv('pandas/employees.csv', parse_dates=['Start Date', 'Last Login Time'])\n",
    "df[['Gender','Senior Management','Team']] = df[['Gender','Senior Management','Team']].astype('category')\n",
    "df.head(3)"
   ]
  },
  {
   "cell_type": "markdown",
   "metadata": {},
   "source": [
    "**Let's say we want all the male employees of the company, that is only those rows where the `Gender` column is `Male`**"
   ]
  },
  {
   "cell_type": "code",
   "execution_count": 58,
   "metadata": {},
   "outputs": [
    {
     "data": {
      "text/html": [
       "<div>\n",
       "<style scoped>\n",
       "    .dataframe tbody tr th:only-of-type {\n",
       "        vertical-align: middle;\n",
       "    }\n",
       "\n",
       "    .dataframe tbody tr th {\n",
       "        vertical-align: top;\n",
       "    }\n",
       "\n",
       "    .dataframe thead th {\n",
       "        text-align: right;\n",
       "    }\n",
       "</style>\n",
       "<table border=\"1\" class=\"dataframe\">\n",
       "  <thead>\n",
       "    <tr style=\"text-align: right;\">\n",
       "      <th></th>\n",
       "      <th>First Name</th>\n",
       "      <th>Gender</th>\n",
       "      <th>Start Date</th>\n",
       "      <th>Last Login Time</th>\n",
       "      <th>Salary</th>\n",
       "      <th>Bonus %</th>\n",
       "      <th>Senior Management</th>\n",
       "      <th>Team</th>\n",
       "    </tr>\n",
       "  </thead>\n",
       "  <tbody>\n",
       "    <tr>\n",
       "      <th>0</th>\n",
       "      <td>Douglas</td>\n",
       "      <td>Male</td>\n",
       "      <td>1993-08-06</td>\n",
       "      <td>2018-06-08 12:42:00</td>\n",
       "      <td>97308</td>\n",
       "      <td>6.945</td>\n",
       "      <td>True</td>\n",
       "      <td>Marketing</td>\n",
       "    </tr>\n",
       "    <tr>\n",
       "      <th>1</th>\n",
       "      <td>Thomas</td>\n",
       "      <td>Male</td>\n",
       "      <td>1996-03-31</td>\n",
       "      <td>2018-06-08 06:53:00</td>\n",
       "      <td>61933</td>\n",
       "      <td>4.170</td>\n",
       "      <td>True</td>\n",
       "      <td>NaN</td>\n",
       "    </tr>\n",
       "    <tr>\n",
       "      <th>3</th>\n",
       "      <td>Jerry</td>\n",
       "      <td>Male</td>\n",
       "      <td>2005-03-04</td>\n",
       "      <td>2018-06-08 13:00:00</td>\n",
       "      <td>138705</td>\n",
       "      <td>9.340</td>\n",
       "      <td>True</td>\n",
       "      <td>Finance</td>\n",
       "    </tr>\n",
       "  </tbody>\n",
       "</table>\n",
       "</div>"
      ],
      "text/plain": [
       "  First Name Gender Start Date     Last Login Time  Salary  Bonus %  \\\n",
       "0    Douglas   Male 1993-08-06 2018-06-08 12:42:00   97308    6.945   \n",
       "1     Thomas   Male 1996-03-31 2018-06-08 06:53:00   61933    4.170   \n",
       "3      Jerry   Male 2005-03-04 2018-06-08 13:00:00  138705    9.340   \n",
       "\n",
       "  Senior Management       Team  \n",
       "0              True  Marketing  \n",
       "1              True        NaN  \n",
       "3              True    Finance  "
      ]
     },
     "execution_count": 58,
     "metadata": {},
     "output_type": "execute_result"
    }
   ],
   "source": [
    "df[df['Gender'] == 'Male'].head(3)"
   ]
  },
  {
   "cell_type": "markdown",
   "metadata": {},
   "source": [
    "**Let's say we want all the male employees of the company, that is only those rows where the `Senior Management` column is `True`**. <br/>\n",
    "Since, the `Senior Management` column is already boolean type, the desired result can be obtained in a straighforward way without the need to use the equality operator**.\n",
    "\n",
    "However, take note of the datatype of the column. It should be bool and not categorical."
   ]
  },
  {
   "cell_type": "code",
   "execution_count": 59,
   "metadata": {},
   "outputs": [
    {
     "data": {
      "text/plain": [
       "CategoricalDtype(categories=[False, True], ordered=False)"
      ]
     },
     "execution_count": 59,
     "metadata": {},
     "output_type": "execute_result"
    }
   ],
   "source": [
    "df['Senior Management'].dtype"
   ]
  },
  {
   "cell_type": "markdown",
   "metadata": {},
   "source": [
    "**Converting to bool**"
   ]
  },
  {
   "cell_type": "code",
   "execution_count": 60,
   "metadata": {},
   "outputs": [],
   "source": [
    "df['Senior Management'] = df['Senior Management'].astype('bool')"
   ]
  },
  {
   "cell_type": "markdown",
   "metadata": {},
   "source": [
    "**Now extracting only those from the original `DataFrame` where `Senior Management` is `True`**"
   ]
  },
  {
   "cell_type": "code",
   "execution_count": 61,
   "metadata": {},
   "outputs": [
    {
     "data": {
      "text/html": [
       "<div>\n",
       "<style scoped>\n",
       "    .dataframe tbody tr th:only-of-type {\n",
       "        vertical-align: middle;\n",
       "    }\n",
       "\n",
       "    .dataframe tbody tr th {\n",
       "        vertical-align: top;\n",
       "    }\n",
       "\n",
       "    .dataframe thead th {\n",
       "        text-align: right;\n",
       "    }\n",
       "</style>\n",
       "<table border=\"1\" class=\"dataframe\">\n",
       "  <thead>\n",
       "    <tr style=\"text-align: right;\">\n",
       "      <th></th>\n",
       "      <th>First Name</th>\n",
       "      <th>Gender</th>\n",
       "      <th>Start Date</th>\n",
       "      <th>Last Login Time</th>\n",
       "      <th>Salary</th>\n",
       "      <th>Bonus %</th>\n",
       "      <th>Senior Management</th>\n",
       "      <th>Team</th>\n",
       "    </tr>\n",
       "  </thead>\n",
       "  <tbody>\n",
       "    <tr>\n",
       "      <th>0</th>\n",
       "      <td>Douglas</td>\n",
       "      <td>Male</td>\n",
       "      <td>1993-08-06</td>\n",
       "      <td>2018-06-08 12:42:00</td>\n",
       "      <td>97308</td>\n",
       "      <td>6.945</td>\n",
       "      <td>True</td>\n",
       "      <td>Marketing</td>\n",
       "    </tr>\n",
       "    <tr>\n",
       "      <th>1</th>\n",
       "      <td>Thomas</td>\n",
       "      <td>Male</td>\n",
       "      <td>1996-03-31</td>\n",
       "      <td>2018-06-08 06:53:00</td>\n",
       "      <td>61933</td>\n",
       "      <td>4.170</td>\n",
       "      <td>True</td>\n",
       "      <td>NaN</td>\n",
       "    </tr>\n",
       "    <tr>\n",
       "      <th>3</th>\n",
       "      <td>Jerry</td>\n",
       "      <td>Male</td>\n",
       "      <td>2005-03-04</td>\n",
       "      <td>2018-06-08 13:00:00</td>\n",
       "      <td>138705</td>\n",
       "      <td>9.340</td>\n",
       "      <td>True</td>\n",
       "      <td>Finance</td>\n",
       "    </tr>\n",
       "  </tbody>\n",
       "</table>\n",
       "</div>"
      ],
      "text/plain": [
       "  First Name Gender Start Date     Last Login Time  Salary  Bonus %  \\\n",
       "0    Douglas   Male 1993-08-06 2018-06-08 12:42:00   97308    6.945   \n",
       "1     Thomas   Male 1996-03-31 2018-06-08 06:53:00   61933    4.170   \n",
       "3      Jerry   Male 2005-03-04 2018-06-08 13:00:00  138705    9.340   \n",
       "\n",
       "   Senior Management       Team  \n",
       "0               True  Marketing  \n",
       "1               True        NaN  \n",
       "3               True    Finance  "
      ]
     },
     "execution_count": 61,
     "metadata": {},
     "output_type": "execute_result"
    }
   ],
   "source": [
    "df[df['Senior Management']].head(3)"
   ]
  },
  {
   "cell_type": "markdown",
   "metadata": {},
   "source": [
    "### Extracting the records using multiple filter conditions\n",
    "**We can use the & and | to combine different filter conditions** <br/>\n",
    "For example, extracting those records where `Gender` is `Female` **and** `Senior Management` is `True`"
   ]
  },
  {
   "cell_type": "code",
   "execution_count": 62,
   "metadata": {},
   "outputs": [
    {
     "data": {
      "text/html": [
       "<div>\n",
       "<style scoped>\n",
       "    .dataframe tbody tr th:only-of-type {\n",
       "        vertical-align: middle;\n",
       "    }\n",
       "\n",
       "    .dataframe tbody tr th {\n",
       "        vertical-align: top;\n",
       "    }\n",
       "\n",
       "    .dataframe thead th {\n",
       "        text-align: right;\n",
       "    }\n",
       "</style>\n",
       "<table border=\"1\" class=\"dataframe\">\n",
       "  <thead>\n",
       "    <tr style=\"text-align: right;\">\n",
       "      <th></th>\n",
       "      <th>First Name</th>\n",
       "      <th>Gender</th>\n",
       "      <th>Start Date</th>\n",
       "      <th>Last Login Time</th>\n",
       "      <th>Salary</th>\n",
       "      <th>Bonus %</th>\n",
       "      <th>Senior Management</th>\n",
       "      <th>Team</th>\n",
       "    </tr>\n",
       "  </thead>\n",
       "  <tbody>\n",
       "    <tr>\n",
       "      <th>0</th>\n",
       "      <td>Douglas</td>\n",
       "      <td>Male</td>\n",
       "      <td>1993-08-06</td>\n",
       "      <td>2018-06-08 12:42:00</td>\n",
       "      <td>97308</td>\n",
       "      <td>6.945</td>\n",
       "      <td>True</td>\n",
       "      <td>Marketing</td>\n",
       "    </tr>\n",
       "    <tr>\n",
       "      <th>1</th>\n",
       "      <td>Thomas</td>\n",
       "      <td>Male</td>\n",
       "      <td>1996-03-31</td>\n",
       "      <td>2018-06-08 06:53:00</td>\n",
       "      <td>61933</td>\n",
       "      <td>4.170</td>\n",
       "      <td>True</td>\n",
       "      <td>NaN</td>\n",
       "    </tr>\n",
       "    <tr>\n",
       "      <th>3</th>\n",
       "      <td>Jerry</td>\n",
       "      <td>Male</td>\n",
       "      <td>2005-03-04</td>\n",
       "      <td>2018-06-08 13:00:00</td>\n",
       "      <td>138705</td>\n",
       "      <td>9.340</td>\n",
       "      <td>True</td>\n",
       "      <td>Finance</td>\n",
       "    </tr>\n",
       "  </tbody>\n",
       "</table>\n",
       "</div>"
      ],
      "text/plain": [
       "  First Name Gender Start Date     Last Login Time  Salary  Bonus %  \\\n",
       "0    Douglas   Male 1993-08-06 2018-06-08 12:42:00   97308    6.945   \n",
       "1     Thomas   Male 1996-03-31 2018-06-08 06:53:00   61933    4.170   \n",
       "3      Jerry   Male 2005-03-04 2018-06-08 13:00:00  138705    9.340   \n",
       "\n",
       "   Senior Management       Team  \n",
       "0               True  Marketing  \n",
       "1               True        NaN  \n",
       "3               True    Finance  "
      ]
     },
     "execution_count": 62,
     "metadata": {},
     "output_type": "execute_result"
    }
   ],
   "source": [
    "mask1 = df['Gender'] == 'Male'\n",
    "mask2 = df['Senior Management'] == True\n",
    "df[mask1 & mask2].head(3)"
   ]
  },
  {
   "cell_type": "markdown",
   "metadata": {},
   "source": [
    "Now extracting only those records where the `Senior Management` is `True` **or** `Start Date` is before `1-Jan-2000`"
   ]
  },
  {
   "cell_type": "code",
   "execution_count": 63,
   "metadata": {},
   "outputs": [
    {
     "data": {
      "text/html": [
       "<div>\n",
       "<style scoped>\n",
       "    .dataframe tbody tr th:only-of-type {\n",
       "        vertical-align: middle;\n",
       "    }\n",
       "\n",
       "    .dataframe tbody tr th {\n",
       "        vertical-align: top;\n",
       "    }\n",
       "\n",
       "    .dataframe thead th {\n",
       "        text-align: right;\n",
       "    }\n",
       "</style>\n",
       "<table border=\"1\" class=\"dataframe\">\n",
       "  <thead>\n",
       "    <tr style=\"text-align: right;\">\n",
       "      <th></th>\n",
       "      <th>First Name</th>\n",
       "      <th>Gender</th>\n",
       "      <th>Start Date</th>\n",
       "      <th>Last Login Time</th>\n",
       "      <th>Salary</th>\n",
       "      <th>Bonus %</th>\n",
       "      <th>Senior Management</th>\n",
       "      <th>Team</th>\n",
       "    </tr>\n",
       "  </thead>\n",
       "  <tbody>\n",
       "    <tr>\n",
       "      <th>0</th>\n",
       "      <td>Douglas</td>\n",
       "      <td>Male</td>\n",
       "      <td>1993-08-06</td>\n",
       "      <td>2018-06-08 12:42:00</td>\n",
       "      <td>97308</td>\n",
       "      <td>6.945</td>\n",
       "      <td>True</td>\n",
       "      <td>Marketing</td>\n",
       "    </tr>\n",
       "    <tr>\n",
       "      <th>1</th>\n",
       "      <td>Thomas</td>\n",
       "      <td>Male</td>\n",
       "      <td>1996-03-31</td>\n",
       "      <td>2018-06-08 06:53:00</td>\n",
       "      <td>61933</td>\n",
       "      <td>4.170</td>\n",
       "      <td>True</td>\n",
       "      <td>NaN</td>\n",
       "    </tr>\n",
       "    <tr>\n",
       "      <th>2</th>\n",
       "      <td>Maria</td>\n",
       "      <td>Female</td>\n",
       "      <td>1993-04-23</td>\n",
       "      <td>2018-06-08 11:17:00</td>\n",
       "      <td>130590</td>\n",
       "      <td>11.858</td>\n",
       "      <td>False</td>\n",
       "      <td>Finance</td>\n",
       "    </tr>\n",
       "  </tbody>\n",
       "</table>\n",
       "</div>"
      ],
      "text/plain": [
       "  First Name  Gender Start Date     Last Login Time  Salary  Bonus %  \\\n",
       "0    Douglas    Male 1993-08-06 2018-06-08 12:42:00   97308    6.945   \n",
       "1     Thomas    Male 1996-03-31 2018-06-08 06:53:00   61933    4.170   \n",
       "2      Maria  Female 1993-04-23 2018-06-08 11:17:00  130590   11.858   \n",
       "\n",
       "   Senior Management       Team  \n",
       "0               True  Marketing  \n",
       "1               True        NaN  \n",
       "2              False    Finance  "
      ]
     },
     "execution_count": 63,
     "metadata": {},
     "output_type": "execute_result"
    }
   ],
   "source": [
    "mask1 = df['Senior Management'] == True\n",
    "mask2 = df['Start Date'] < '2000-01-01'\n",
    "df[mask1 | mask2].head(3)"
   ]
  },
  {
   "cell_type": "markdown",
   "metadata": {},
   "source": [
    "**These operators can also be combined** <br/>\n",
    "It is better to wrap the conditions in parenthesis in the order we want them to be executed so as to avoid confusion."
   ]
  },
  {
   "cell_type": "code",
   "execution_count": 64,
   "metadata": {},
   "outputs": [
    {
     "data": {
      "text/html": [
       "<div>\n",
       "<style scoped>\n",
       "    .dataframe tbody tr th:only-of-type {\n",
       "        vertical-align: middle;\n",
       "    }\n",
       "\n",
       "    .dataframe tbody tr th {\n",
       "        vertical-align: top;\n",
       "    }\n",
       "\n",
       "    .dataframe thead th {\n",
       "        text-align: right;\n",
       "    }\n",
       "</style>\n",
       "<table border=\"1\" class=\"dataframe\">\n",
       "  <thead>\n",
       "    <tr style=\"text-align: right;\">\n",
       "      <th></th>\n",
       "      <th>First Name</th>\n",
       "      <th>Gender</th>\n",
       "      <th>Start Date</th>\n",
       "      <th>Last Login Time</th>\n",
       "      <th>Salary</th>\n",
       "      <th>Bonus %</th>\n",
       "      <th>Senior Management</th>\n",
       "      <th>Team</th>\n",
       "    </tr>\n",
       "  </thead>\n",
       "  <tbody>\n",
       "    <tr>\n",
       "      <th>15</th>\n",
       "      <td>Lillian</td>\n",
       "      <td>Female</td>\n",
       "      <td>2016-06-05</td>\n",
       "      <td>2018-06-08 06:09:00</td>\n",
       "      <td>59414</td>\n",
       "      <td>1.256</td>\n",
       "      <td>False</td>\n",
       "      <td>Product</td>\n",
       "    </tr>\n",
       "    <tr>\n",
       "      <th>98</th>\n",
       "      <td>Tina</td>\n",
       "      <td>Female</td>\n",
       "      <td>2016-06-16</td>\n",
       "      <td>2018-06-08 19:47:00</td>\n",
       "      <td>100705</td>\n",
       "      <td>16.961</td>\n",
       "      <td>True</td>\n",
       "      <td>Marketing</td>\n",
       "    </tr>\n",
       "    <tr>\n",
       "      <th>387</th>\n",
       "      <td>Robert</td>\n",
       "      <td>Male</td>\n",
       "      <td>1994-10-29</td>\n",
       "      <td>2018-06-08 04:26:00</td>\n",
       "      <td>123294</td>\n",
       "      <td>19.894</td>\n",
       "      <td>False</td>\n",
       "      <td>Client Services</td>\n",
       "    </tr>\n",
       "    <tr>\n",
       "      <th>451</th>\n",
       "      <td>Terry</td>\n",
       "      <td>NaN</td>\n",
       "      <td>2016-07-15</td>\n",
       "      <td>2018-06-08 00:29:00</td>\n",
       "      <td>140002</td>\n",
       "      <td>19.490</td>\n",
       "      <td>True</td>\n",
       "      <td>Marketing</td>\n",
       "    </tr>\n",
       "  </tbody>\n",
       "</table>\n",
       "</div>"
      ],
      "text/plain": [
       "    First Name  Gender Start Date     Last Login Time  Salary  Bonus %  \\\n",
       "15     Lillian  Female 2016-06-05 2018-06-08 06:09:00   59414    1.256   \n",
       "98        Tina  Female 2016-06-16 2018-06-08 19:47:00  100705   16.961   \n",
       "387     Robert    Male 1994-10-29 2018-06-08 04:26:00  123294   19.894   \n",
       "451      Terry     NaN 2016-07-15 2018-06-08 00:29:00  140002   19.490   \n",
       "\n",
       "     Senior Management             Team  \n",
       "15               False          Product  \n",
       "98                True        Marketing  \n",
       "387              False  Client Services  \n",
       "451               True        Marketing  "
      ]
     },
     "execution_count": 64,
     "metadata": {},
     "output_type": "execute_result"
    }
   ],
   "source": [
    "mask1 = df['First Name'] == 'Robert'\n",
    "mask2 = df['Team'] == 'Client Services'\n",
    "mask3 = df['Start Date'] > '2016-06-01'\n",
    "\n",
    "df[(mask1 & mask2) | mask3]"
   ]
  },
  {
   "cell_type": "markdown",
   "metadata": {},
   "source": [
    "---\n",
    "## The `.isin(..)` method\n",
    "\n",
    "Let's say we want to extract records of only the employees from `Finance`, `Product` and `Sales` Teams"
   ]
  },
  {
   "cell_type": "code",
   "execution_count": 65,
   "metadata": {},
   "outputs": [
    {
     "data": {
      "text/html": [
       "<div>\n",
       "<style scoped>\n",
       "    .dataframe tbody tr th:only-of-type {\n",
       "        vertical-align: middle;\n",
       "    }\n",
       "\n",
       "    .dataframe tbody tr th {\n",
       "        vertical-align: top;\n",
       "    }\n",
       "\n",
       "    .dataframe thead th {\n",
       "        text-align: right;\n",
       "    }\n",
       "</style>\n",
       "<table border=\"1\" class=\"dataframe\">\n",
       "  <thead>\n",
       "    <tr style=\"text-align: right;\">\n",
       "      <th></th>\n",
       "      <th>First Name</th>\n",
       "      <th>Gender</th>\n",
       "      <th>Start Date</th>\n",
       "      <th>Last Login Time</th>\n",
       "      <th>Salary</th>\n",
       "      <th>Bonus %</th>\n",
       "      <th>Senior Management</th>\n",
       "      <th>Team</th>\n",
       "    </tr>\n",
       "  </thead>\n",
       "  <tbody>\n",
       "    <tr>\n",
       "      <th>0</th>\n",
       "      <td>Douglas</td>\n",
       "      <td>Male</td>\n",
       "      <td>1993-08-06</td>\n",
       "      <td>2018-06-08 12:42:00</td>\n",
       "      <td>97308</td>\n",
       "      <td>6.945</td>\n",
       "      <td>True</td>\n",
       "      <td>Marketing</td>\n",
       "    </tr>\n",
       "    <tr>\n",
       "      <th>1</th>\n",
       "      <td>Thomas</td>\n",
       "      <td>Male</td>\n",
       "      <td>1996-03-31</td>\n",
       "      <td>2018-06-08 06:53:00</td>\n",
       "      <td>61933</td>\n",
       "      <td>4.170</td>\n",
       "      <td>True</td>\n",
       "      <td>NaN</td>\n",
       "    </tr>\n",
       "    <tr>\n",
       "      <th>2</th>\n",
       "      <td>Maria</td>\n",
       "      <td>Female</td>\n",
       "      <td>1993-04-23</td>\n",
       "      <td>2018-06-08 11:17:00</td>\n",
       "      <td>130590</td>\n",
       "      <td>11.858</td>\n",
       "      <td>False</td>\n",
       "      <td>Finance</td>\n",
       "    </tr>\n",
       "  </tbody>\n",
       "</table>\n",
       "</div>"
      ],
      "text/plain": [
       "  First Name  Gender Start Date     Last Login Time  Salary  Bonus %  \\\n",
       "0    Douglas    Male 1993-08-06 2018-06-08 12:42:00   97308    6.945   \n",
       "1     Thomas    Male 1996-03-31 2018-06-08 06:53:00   61933    4.170   \n",
       "2      Maria  Female 1993-04-23 2018-06-08 11:17:00  130590   11.858   \n",
       "\n",
       "   Senior Management       Team  \n",
       "0               True  Marketing  \n",
       "1               True        NaN  \n",
       "2              False    Finance  "
      ]
     },
     "execution_count": 65,
     "metadata": {},
     "output_type": "execute_result"
    }
   ],
   "source": [
    "df = pd.read_csv('pandas/employees.csv', parse_dates=['Start Date', 'Last Login Time'])\n",
    "df['Senior Management'] = df['Senior Management'].astype('bool')\n",
    "df['Gender'] = df['Gender'].astype('category')\n",
    "df.head(3)"
   ]
  },
  {
   "cell_type": "markdown",
   "metadata": {},
   "source": [
    "### Method 1: Create masks based on the desired filter required and then combine them using boolean OR operator"
   ]
  },
  {
   "cell_type": "code",
   "execution_count": 66,
   "metadata": {},
   "outputs": [
    {
     "data": {
      "text/html": [
       "<div>\n",
       "<style scoped>\n",
       "    .dataframe tbody tr th:only-of-type {\n",
       "        vertical-align: middle;\n",
       "    }\n",
       "\n",
       "    .dataframe tbody tr th {\n",
       "        vertical-align: top;\n",
       "    }\n",
       "\n",
       "    .dataframe thead th {\n",
       "        text-align: right;\n",
       "    }\n",
       "</style>\n",
       "<table border=\"1\" class=\"dataframe\">\n",
       "  <thead>\n",
       "    <tr style=\"text-align: right;\">\n",
       "      <th></th>\n",
       "      <th>First Name</th>\n",
       "      <th>Gender</th>\n",
       "      <th>Start Date</th>\n",
       "      <th>Last Login Time</th>\n",
       "      <th>Salary</th>\n",
       "      <th>Bonus %</th>\n",
       "      <th>Senior Management</th>\n",
       "      <th>Team</th>\n",
       "    </tr>\n",
       "  </thead>\n",
       "  <tbody>\n",
       "    <tr>\n",
       "      <th>2</th>\n",
       "      <td>Maria</td>\n",
       "      <td>Female</td>\n",
       "      <td>1993-04-23</td>\n",
       "      <td>2018-06-08 11:17:00</td>\n",
       "      <td>130590</td>\n",
       "      <td>11.858</td>\n",
       "      <td>False</td>\n",
       "      <td>Finance</td>\n",
       "    </tr>\n",
       "    <tr>\n",
       "      <th>3</th>\n",
       "      <td>Jerry</td>\n",
       "      <td>Male</td>\n",
       "      <td>2005-03-04</td>\n",
       "      <td>2018-06-08 13:00:00</td>\n",
       "      <td>138705</td>\n",
       "      <td>9.340</td>\n",
       "      <td>True</td>\n",
       "      <td>Finance</td>\n",
       "    </tr>\n",
       "    <tr>\n",
       "      <th>6</th>\n",
       "      <td>Ruby</td>\n",
       "      <td>Female</td>\n",
       "      <td>1987-08-17</td>\n",
       "      <td>2018-06-08 16:20:00</td>\n",
       "      <td>65476</td>\n",
       "      <td>10.012</td>\n",
       "      <td>True</td>\n",
       "      <td>Product</td>\n",
       "    </tr>\n",
       "    <tr>\n",
       "      <th>7</th>\n",
       "      <td>NaN</td>\n",
       "      <td>Female</td>\n",
       "      <td>2015-07-20</td>\n",
       "      <td>2018-06-08 10:43:00</td>\n",
       "      <td>45906</td>\n",
       "      <td>11.598</td>\n",
       "      <td>True</td>\n",
       "      <td>Finance</td>\n",
       "    </tr>\n",
       "    <tr>\n",
       "      <th>13</th>\n",
       "      <td>Gary</td>\n",
       "      <td>Male</td>\n",
       "      <td>2008-01-27</td>\n",
       "      <td>2018-06-08 23:40:00</td>\n",
       "      <td>109831</td>\n",
       "      <td>5.831</td>\n",
       "      <td>False</td>\n",
       "      <td>Sales</td>\n",
       "    </tr>\n",
       "  </tbody>\n",
       "</table>\n",
       "</div>"
      ],
      "text/plain": [
       "   First Name  Gender Start Date     Last Login Time  Salary  Bonus %  \\\n",
       "2       Maria  Female 1993-04-23 2018-06-08 11:17:00  130590   11.858   \n",
       "3       Jerry    Male 2005-03-04 2018-06-08 13:00:00  138705    9.340   \n",
       "6        Ruby  Female 1987-08-17 2018-06-08 16:20:00   65476   10.012   \n",
       "7         NaN  Female 2015-07-20 2018-06-08 10:43:00   45906   11.598   \n",
       "13       Gary    Male 2008-01-27 2018-06-08 23:40:00  109831    5.831   \n",
       "\n",
       "    Senior Management     Team  \n",
       "2               False  Finance  \n",
       "3                True  Finance  \n",
       "6                True  Product  \n",
       "7                True  Finance  \n",
       "13              False    Sales  "
      ]
     },
     "execution_count": 66,
     "metadata": {},
     "output_type": "execute_result"
    }
   ],
   "source": [
    "mask1 = df['Team'] == 'Finance'\n",
    "mask2 = df['Team'] == 'Product'\n",
    "mask3 = df['Team'] == 'Sales'\n",
    "\n",
    "df[mask1 | mask2 | mask3].head(5)"
   ]
  },
  {
   "cell_type": "markdown",
   "metadata": {},
   "source": [
    "### Method 2: Use `.isin(..)` method"
   ]
  },
  {
   "cell_type": "code",
   "execution_count": 67,
   "metadata": {},
   "outputs": [
    {
     "data": {
      "text/html": [
       "<div>\n",
       "<style scoped>\n",
       "    .dataframe tbody tr th:only-of-type {\n",
       "        vertical-align: middle;\n",
       "    }\n",
       "\n",
       "    .dataframe tbody tr th {\n",
       "        vertical-align: top;\n",
       "    }\n",
       "\n",
       "    .dataframe thead th {\n",
       "        text-align: right;\n",
       "    }\n",
       "</style>\n",
       "<table border=\"1\" class=\"dataframe\">\n",
       "  <thead>\n",
       "    <tr style=\"text-align: right;\">\n",
       "      <th></th>\n",
       "      <th>First Name</th>\n",
       "      <th>Gender</th>\n",
       "      <th>Start Date</th>\n",
       "      <th>Last Login Time</th>\n",
       "      <th>Salary</th>\n",
       "      <th>Bonus %</th>\n",
       "      <th>Senior Management</th>\n",
       "      <th>Team</th>\n",
       "    </tr>\n",
       "  </thead>\n",
       "  <tbody>\n",
       "    <tr>\n",
       "      <th>2</th>\n",
       "      <td>Maria</td>\n",
       "      <td>Female</td>\n",
       "      <td>1993-04-23</td>\n",
       "      <td>2018-06-08 11:17:00</td>\n",
       "      <td>130590</td>\n",
       "      <td>11.858</td>\n",
       "      <td>False</td>\n",
       "      <td>Finance</td>\n",
       "    </tr>\n",
       "    <tr>\n",
       "      <th>3</th>\n",
       "      <td>Jerry</td>\n",
       "      <td>Male</td>\n",
       "      <td>2005-03-04</td>\n",
       "      <td>2018-06-08 13:00:00</td>\n",
       "      <td>138705</td>\n",
       "      <td>9.340</td>\n",
       "      <td>True</td>\n",
       "      <td>Finance</td>\n",
       "    </tr>\n",
       "    <tr>\n",
       "      <th>6</th>\n",
       "      <td>Ruby</td>\n",
       "      <td>Female</td>\n",
       "      <td>1987-08-17</td>\n",
       "      <td>2018-06-08 16:20:00</td>\n",
       "      <td>65476</td>\n",
       "      <td>10.012</td>\n",
       "      <td>True</td>\n",
       "      <td>Product</td>\n",
       "    </tr>\n",
       "    <tr>\n",
       "      <th>7</th>\n",
       "      <td>NaN</td>\n",
       "      <td>Female</td>\n",
       "      <td>2015-07-20</td>\n",
       "      <td>2018-06-08 10:43:00</td>\n",
       "      <td>45906</td>\n",
       "      <td>11.598</td>\n",
       "      <td>True</td>\n",
       "      <td>Finance</td>\n",
       "    </tr>\n",
       "    <tr>\n",
       "      <th>13</th>\n",
       "      <td>Gary</td>\n",
       "      <td>Male</td>\n",
       "      <td>2008-01-27</td>\n",
       "      <td>2018-06-08 23:40:00</td>\n",
       "      <td>109831</td>\n",
       "      <td>5.831</td>\n",
       "      <td>False</td>\n",
       "      <td>Sales</td>\n",
       "    </tr>\n",
       "  </tbody>\n",
       "</table>\n",
       "</div>"
      ],
      "text/plain": [
       "   First Name  Gender Start Date     Last Login Time  Salary  Bonus %  \\\n",
       "2       Maria  Female 1993-04-23 2018-06-08 11:17:00  130590   11.858   \n",
       "3       Jerry    Male 2005-03-04 2018-06-08 13:00:00  138705    9.340   \n",
       "6        Ruby  Female 1987-08-17 2018-06-08 16:20:00   65476   10.012   \n",
       "7         NaN  Female 2015-07-20 2018-06-08 10:43:00   45906   11.598   \n",
       "13       Gary    Male 2008-01-27 2018-06-08 23:40:00  109831    5.831   \n",
       "\n",
       "    Senior Management     Team  \n",
       "2               False  Finance  \n",
       "3                True  Finance  \n",
       "6                True  Product  \n",
       "7                True  Finance  \n",
       "13              False    Sales  "
      ]
     },
     "execution_count": 67,
     "metadata": {},
     "output_type": "execute_result"
    }
   ],
   "source": [
    "mask = df['Team'].isin(['Finance', 'Sales', 'Product'])\n",
    "df[mask].head(5)"
   ]
  },
  {
   "cell_type": "markdown",
   "metadata": {},
   "source": [
    "---\n",
    "## The `.isnull(..)`,  `.notnull(..)` methods\n",
    "Very useful to filter out the null values"
   ]
  },
  {
   "cell_type": "code",
   "execution_count": 68,
   "metadata": {},
   "outputs": [
    {
     "data": {
      "text/html": [
       "<div>\n",
       "<style scoped>\n",
       "    .dataframe tbody tr th:only-of-type {\n",
       "        vertical-align: middle;\n",
       "    }\n",
       "\n",
       "    .dataframe tbody tr th {\n",
       "        vertical-align: top;\n",
       "    }\n",
       "\n",
       "    .dataframe thead th {\n",
       "        text-align: right;\n",
       "    }\n",
       "</style>\n",
       "<table border=\"1\" class=\"dataframe\">\n",
       "  <thead>\n",
       "    <tr style=\"text-align: right;\">\n",
       "      <th></th>\n",
       "      <th>First Name</th>\n",
       "      <th>Gender</th>\n",
       "      <th>Start Date</th>\n",
       "      <th>Last Login Time</th>\n",
       "      <th>Salary</th>\n",
       "      <th>Bonus %</th>\n",
       "      <th>Senior Management</th>\n",
       "      <th>Team</th>\n",
       "    </tr>\n",
       "  </thead>\n",
       "  <tbody>\n",
       "    <tr>\n",
       "      <th>0</th>\n",
       "      <td>Douglas</td>\n",
       "      <td>Male</td>\n",
       "      <td>1993-08-06</td>\n",
       "      <td>2018-06-08 12:42:00</td>\n",
       "      <td>97308</td>\n",
       "      <td>6.945</td>\n",
       "      <td>True</td>\n",
       "      <td>Marketing</td>\n",
       "    </tr>\n",
       "    <tr>\n",
       "      <th>1</th>\n",
       "      <td>Thomas</td>\n",
       "      <td>Male</td>\n",
       "      <td>1996-03-31</td>\n",
       "      <td>2018-06-08 06:53:00</td>\n",
       "      <td>61933</td>\n",
       "      <td>4.170</td>\n",
       "      <td>True</td>\n",
       "      <td>NaN</td>\n",
       "    </tr>\n",
       "    <tr>\n",
       "      <th>2</th>\n",
       "      <td>Maria</td>\n",
       "      <td>Female</td>\n",
       "      <td>1993-04-23</td>\n",
       "      <td>2018-06-08 11:17:00</td>\n",
       "      <td>130590</td>\n",
       "      <td>11.858</td>\n",
       "      <td>False</td>\n",
       "      <td>Finance</td>\n",
       "    </tr>\n",
       "  </tbody>\n",
       "</table>\n",
       "</div>"
      ],
      "text/plain": [
       "  First Name  Gender Start Date     Last Login Time  Salary  Bonus %  \\\n",
       "0    Douglas    Male 1993-08-06 2018-06-08 12:42:00   97308    6.945   \n",
       "1     Thomas    Male 1996-03-31 2018-06-08 06:53:00   61933    4.170   \n",
       "2      Maria  Female 1993-04-23 2018-06-08 11:17:00  130590   11.858   \n",
       "\n",
       "   Senior Management       Team  \n",
       "0               True  Marketing  \n",
       "1               True        NaN  \n",
       "2              False    Finance  "
      ]
     },
     "execution_count": 68,
     "metadata": {},
     "output_type": "execute_result"
    }
   ],
   "source": [
    "df = pd.read_csv('pandas/employees.csv', parse_dates=['Last Login Time', 'Start Date'])\n",
    "df['Gender'] = df['Gender'].astype('category')\n",
    "df['Senior Management'] = df['Senior Management'].astype('bool')\n",
    "df.head(3)"
   ]
  },
  {
   "cell_type": "markdown",
   "metadata": {},
   "source": [
    "**Pulling out all the records that have null, that is, `NaN` in the `Team` column**"
   ]
  },
  {
   "cell_type": "code",
   "execution_count": 69,
   "metadata": {},
   "outputs": [
    {
     "data": {
      "text/html": [
       "<div>\n",
       "<style scoped>\n",
       "    .dataframe tbody tr th:only-of-type {\n",
       "        vertical-align: middle;\n",
       "    }\n",
       "\n",
       "    .dataframe tbody tr th {\n",
       "        vertical-align: top;\n",
       "    }\n",
       "\n",
       "    .dataframe thead th {\n",
       "        text-align: right;\n",
       "    }\n",
       "</style>\n",
       "<table border=\"1\" class=\"dataframe\">\n",
       "  <thead>\n",
       "    <tr style=\"text-align: right;\">\n",
       "      <th></th>\n",
       "      <th>First Name</th>\n",
       "      <th>Gender</th>\n",
       "      <th>Start Date</th>\n",
       "      <th>Last Login Time</th>\n",
       "      <th>Salary</th>\n",
       "      <th>Bonus %</th>\n",
       "      <th>Senior Management</th>\n",
       "      <th>Team</th>\n",
       "    </tr>\n",
       "  </thead>\n",
       "  <tbody>\n",
       "    <tr>\n",
       "      <th>1</th>\n",
       "      <td>Thomas</td>\n",
       "      <td>Male</td>\n",
       "      <td>1996-03-31</td>\n",
       "      <td>2018-06-08 06:53:00</td>\n",
       "      <td>61933</td>\n",
       "      <td>4.170</td>\n",
       "      <td>True</td>\n",
       "      <td>NaN</td>\n",
       "    </tr>\n",
       "    <tr>\n",
       "      <th>10</th>\n",
       "      <td>Louise</td>\n",
       "      <td>Female</td>\n",
       "      <td>1980-08-12</td>\n",
       "      <td>2018-06-08 09:01:00</td>\n",
       "      <td>63241</td>\n",
       "      <td>15.132</td>\n",
       "      <td>True</td>\n",
       "      <td>NaN</td>\n",
       "    </tr>\n",
       "    <tr>\n",
       "      <th>23</th>\n",
       "      <td>NaN</td>\n",
       "      <td>Male</td>\n",
       "      <td>2012-06-14</td>\n",
       "      <td>2018-06-08 16:19:00</td>\n",
       "      <td>125792</td>\n",
       "      <td>5.042</td>\n",
       "      <td>True</td>\n",
       "      <td>NaN</td>\n",
       "    </tr>\n",
       "  </tbody>\n",
       "</table>\n",
       "</div>"
      ],
      "text/plain": [
       "   First Name  Gender Start Date     Last Login Time  Salary  Bonus %  \\\n",
       "1      Thomas    Male 1996-03-31 2018-06-08 06:53:00   61933    4.170   \n",
       "10     Louise  Female 1980-08-12 2018-06-08 09:01:00   63241   15.132   \n",
       "23        NaN    Male 2012-06-14 2018-06-08 16:19:00  125792    5.042   \n",
       "\n",
       "    Senior Management Team  \n",
       "1                True  NaN  \n",
       "10               True  NaN  \n",
       "23               True  NaN  "
      ]
     },
     "execution_count": 69,
     "metadata": {},
     "output_type": "execute_result"
    }
   ],
   "source": [
    "df[ df['Team'].isnull() ].head(3)"
   ]
  },
  {
   "cell_type": "markdown",
   "metadata": {},
   "source": [
    "**Only extracting the rows that DO NOT have a null in the `Gender` column**"
   ]
  },
  {
   "cell_type": "code",
   "execution_count": 70,
   "metadata": {},
   "outputs": [
    {
     "data": {
      "text/html": [
       "<div>\n",
       "<style scoped>\n",
       "    .dataframe tbody tr th:only-of-type {\n",
       "        vertical-align: middle;\n",
       "    }\n",
       "\n",
       "    .dataframe tbody tr th {\n",
       "        vertical-align: top;\n",
       "    }\n",
       "\n",
       "    .dataframe thead th {\n",
       "        text-align: right;\n",
       "    }\n",
       "</style>\n",
       "<table border=\"1\" class=\"dataframe\">\n",
       "  <thead>\n",
       "    <tr style=\"text-align: right;\">\n",
       "      <th></th>\n",
       "      <th>First Name</th>\n",
       "      <th>Gender</th>\n",
       "      <th>Start Date</th>\n",
       "      <th>Last Login Time</th>\n",
       "      <th>Salary</th>\n",
       "      <th>Bonus %</th>\n",
       "      <th>Senior Management</th>\n",
       "      <th>Team</th>\n",
       "    </tr>\n",
       "  </thead>\n",
       "  <tbody>\n",
       "    <tr>\n",
       "      <th>0</th>\n",
       "      <td>Douglas</td>\n",
       "      <td>Male</td>\n",
       "      <td>1993-08-06</td>\n",
       "      <td>2018-06-08 12:42:00</td>\n",
       "      <td>97308</td>\n",
       "      <td>6.945</td>\n",
       "      <td>True</td>\n",
       "      <td>Marketing</td>\n",
       "    </tr>\n",
       "    <tr>\n",
       "      <th>1</th>\n",
       "      <td>Thomas</td>\n",
       "      <td>Male</td>\n",
       "      <td>1996-03-31</td>\n",
       "      <td>2018-06-08 06:53:00</td>\n",
       "      <td>61933</td>\n",
       "      <td>4.170</td>\n",
       "      <td>True</td>\n",
       "      <td>NaN</td>\n",
       "    </tr>\n",
       "    <tr>\n",
       "      <th>2</th>\n",
       "      <td>Maria</td>\n",
       "      <td>Female</td>\n",
       "      <td>1993-04-23</td>\n",
       "      <td>2018-06-08 11:17:00</td>\n",
       "      <td>130590</td>\n",
       "      <td>11.858</td>\n",
       "      <td>False</td>\n",
       "      <td>Finance</td>\n",
       "    </tr>\n",
       "  </tbody>\n",
       "</table>\n",
       "</div>"
      ],
      "text/plain": [
       "  First Name  Gender Start Date     Last Login Time  Salary  Bonus %  \\\n",
       "0    Douglas    Male 1993-08-06 2018-06-08 12:42:00   97308    6.945   \n",
       "1     Thomas    Male 1996-03-31 2018-06-08 06:53:00   61933    4.170   \n",
       "2      Maria  Female 1993-04-23 2018-06-08 11:17:00  130590   11.858   \n",
       "\n",
       "   Senior Management       Team  \n",
       "0               True  Marketing  \n",
       "1               True        NaN  \n",
       "2              False    Finance  "
      ]
     },
     "execution_count": 70,
     "metadata": {},
     "output_type": "execute_result"
    }
   ],
   "source": [
    "df[ df['Gender'].notnull() ].head(3)"
   ]
  },
  {
   "cell_type": "markdown",
   "metadata": {},
   "source": [
    "---\n",
    "### The `.between(..)` method\n",
    "**NOTE:** The lower bound and upper bound provided to the `.between(..)` method are included into the results."
   ]
  },
  {
   "cell_type": "code",
   "execution_count": 71,
   "metadata": {},
   "outputs": [
    {
     "data": {
      "text/html": [
       "<div>\n",
       "<style scoped>\n",
       "    .dataframe tbody tr th:only-of-type {\n",
       "        vertical-align: middle;\n",
       "    }\n",
       "\n",
       "    .dataframe tbody tr th {\n",
       "        vertical-align: top;\n",
       "    }\n",
       "\n",
       "    .dataframe thead th {\n",
       "        text-align: right;\n",
       "    }\n",
       "</style>\n",
       "<table border=\"1\" class=\"dataframe\">\n",
       "  <thead>\n",
       "    <tr style=\"text-align: right;\">\n",
       "      <th></th>\n",
       "      <th>First Name</th>\n",
       "      <th>Gender</th>\n",
       "      <th>Start Date</th>\n",
       "      <th>Last Login Time</th>\n",
       "      <th>Salary</th>\n",
       "      <th>Bonus %</th>\n",
       "      <th>Senior Management</th>\n",
       "      <th>Team</th>\n",
       "    </tr>\n",
       "  </thead>\n",
       "  <tbody>\n",
       "    <tr>\n",
       "      <th>0</th>\n",
       "      <td>Douglas</td>\n",
       "      <td>Male</td>\n",
       "      <td>1993-08-06</td>\n",
       "      <td>2018-06-08 12:42:00</td>\n",
       "      <td>97308</td>\n",
       "      <td>6.945</td>\n",
       "      <td>True</td>\n",
       "      <td>Marketing</td>\n",
       "    </tr>\n",
       "    <tr>\n",
       "      <th>1</th>\n",
       "      <td>Thomas</td>\n",
       "      <td>Male</td>\n",
       "      <td>1996-03-31</td>\n",
       "      <td>2018-06-08 06:53:00</td>\n",
       "      <td>61933</td>\n",
       "      <td>4.170</td>\n",
       "      <td>True</td>\n",
       "      <td>NaN</td>\n",
       "    </tr>\n",
       "    <tr>\n",
       "      <th>2</th>\n",
       "      <td>Maria</td>\n",
       "      <td>Female</td>\n",
       "      <td>1993-04-23</td>\n",
       "      <td>2018-06-08 11:17:00</td>\n",
       "      <td>130590</td>\n",
       "      <td>11.858</td>\n",
       "      <td>False</td>\n",
       "      <td>Finance</td>\n",
       "    </tr>\n",
       "  </tbody>\n",
       "</table>\n",
       "</div>"
      ],
      "text/plain": [
       "  First Name  Gender Start Date     Last Login Time  Salary  Bonus %  \\\n",
       "0    Douglas    Male 1993-08-06 2018-06-08 12:42:00   97308    6.945   \n",
       "1     Thomas    Male 1996-03-31 2018-06-08 06:53:00   61933    4.170   \n",
       "2      Maria  Female 1993-04-23 2018-06-08 11:17:00  130590   11.858   \n",
       "\n",
       "   Senior Management       Team  \n",
       "0               True  Marketing  \n",
       "1               True        NaN  \n",
       "2              False    Finance  "
      ]
     },
     "execution_count": 71,
     "metadata": {},
     "output_type": "execute_result"
    }
   ],
   "source": [
    "df = pd.read_csv('pandas/employees.csv', parse_dates=['Start Date', 'Last Login Time'])\n",
    "df['Gender'] = df['Gender'].astype('category')\n",
    "df['Senior Management'] = df['Senior Management'].astype('bool')\n",
    "df.head(3)"
   ]
  },
  {
   "cell_type": "markdown",
   "metadata": {},
   "source": [
    "**Let's say we want all the employees whose salary lie BETWEEN 60,000 and 70,000 (both inclusive)**"
   ]
  },
  {
   "cell_type": "code",
   "execution_count": 72,
   "metadata": {},
   "outputs": [
    {
     "data": {
      "text/html": [
       "<div>\n",
       "<style scoped>\n",
       "    .dataframe tbody tr th:only-of-type {\n",
       "        vertical-align: middle;\n",
       "    }\n",
       "\n",
       "    .dataframe tbody tr th {\n",
       "        vertical-align: top;\n",
       "    }\n",
       "\n",
       "    .dataframe thead th {\n",
       "        text-align: right;\n",
       "    }\n",
       "</style>\n",
       "<table border=\"1\" class=\"dataframe\">\n",
       "  <thead>\n",
       "    <tr style=\"text-align: right;\">\n",
       "      <th></th>\n",
       "      <th>First Name</th>\n",
       "      <th>Gender</th>\n",
       "      <th>Start Date</th>\n",
       "      <th>Last Login Time</th>\n",
       "      <th>Salary</th>\n",
       "      <th>Bonus %</th>\n",
       "      <th>Senior Management</th>\n",
       "      <th>Team</th>\n",
       "    </tr>\n",
       "  </thead>\n",
       "  <tbody>\n",
       "    <tr>\n",
       "      <th>1</th>\n",
       "      <td>Thomas</td>\n",
       "      <td>Male</td>\n",
       "      <td>1996-03-31</td>\n",
       "      <td>2018-06-08 06:53:00</td>\n",
       "      <td>61933</td>\n",
       "      <td>4.170</td>\n",
       "      <td>True</td>\n",
       "      <td>NaN</td>\n",
       "    </tr>\n",
       "    <tr>\n",
       "      <th>6</th>\n",
       "      <td>Ruby</td>\n",
       "      <td>Female</td>\n",
       "      <td>1987-08-17</td>\n",
       "      <td>2018-06-08 16:20:00</td>\n",
       "      <td>65476</td>\n",
       "      <td>10.012</td>\n",
       "      <td>True</td>\n",
       "      <td>Product</td>\n",
       "    </tr>\n",
       "    <tr>\n",
       "      <th>10</th>\n",
       "      <td>Louise</td>\n",
       "      <td>Female</td>\n",
       "      <td>1980-08-12</td>\n",
       "      <td>2018-06-08 09:01:00</td>\n",
       "      <td>63241</td>\n",
       "      <td>15.132</td>\n",
       "      <td>True</td>\n",
       "      <td>NaN</td>\n",
       "    </tr>\n",
       "    <tr>\n",
       "      <th>20</th>\n",
       "      <td>Lois</td>\n",
       "      <td>NaN</td>\n",
       "      <td>1995-04-22</td>\n",
       "      <td>2018-06-08 19:18:00</td>\n",
       "      <td>64714</td>\n",
       "      <td>4.934</td>\n",
       "      <td>True</td>\n",
       "      <td>Legal</td>\n",
       "    </tr>\n",
       "    <tr>\n",
       "      <th>41</th>\n",
       "      <td>Christine</td>\n",
       "      <td>NaN</td>\n",
       "      <td>2015-06-28</td>\n",
       "      <td>2018-06-08 01:08:00</td>\n",
       "      <td>66582</td>\n",
       "      <td>11.308</td>\n",
       "      <td>True</td>\n",
       "      <td>Business Development</td>\n",
       "    </tr>\n",
       "  </tbody>\n",
       "</table>\n",
       "</div>"
      ],
      "text/plain": [
       "   First Name  Gender Start Date     Last Login Time  Salary  Bonus %  \\\n",
       "1      Thomas    Male 1996-03-31 2018-06-08 06:53:00   61933    4.170   \n",
       "6        Ruby  Female 1987-08-17 2018-06-08 16:20:00   65476   10.012   \n",
       "10     Louise  Female 1980-08-12 2018-06-08 09:01:00   63241   15.132   \n",
       "20       Lois     NaN 1995-04-22 2018-06-08 19:18:00   64714    4.934   \n",
       "41  Christine     NaN 2015-06-28 2018-06-08 01:08:00   66582   11.308   \n",
       "\n",
       "    Senior Management                  Team  \n",
       "1                True                   NaN  \n",
       "6                True               Product  \n",
       "10               True                   NaN  \n",
       "20               True                 Legal  \n",
       "41               True  Business Development  "
      ]
     },
     "execution_count": 72,
     "metadata": {},
     "output_type": "execute_result"
    }
   ],
   "source": [
    "mask = df['Salary'].between(60000,70000)\n",
    "df[mask].head(5)"
   ]
  },
  {
   "cell_type": "markdown",
   "metadata": {},
   "source": [
    "**As for another example, let's say we want those employees whose `Bonus%` lie between 2% to 5%**"
   ]
  },
  {
   "cell_type": "code",
   "execution_count": 73,
   "metadata": {},
   "outputs": [
    {
     "data": {
      "text/html": [
       "<div>\n",
       "<style scoped>\n",
       "    .dataframe tbody tr th:only-of-type {\n",
       "        vertical-align: middle;\n",
       "    }\n",
       "\n",
       "    .dataframe tbody tr th {\n",
       "        vertical-align: top;\n",
       "    }\n",
       "\n",
       "    .dataframe thead th {\n",
       "        text-align: right;\n",
       "    }\n",
       "</style>\n",
       "<table border=\"1\" class=\"dataframe\">\n",
       "  <thead>\n",
       "    <tr style=\"text-align: right;\">\n",
       "      <th></th>\n",
       "      <th>First Name</th>\n",
       "      <th>Gender</th>\n",
       "      <th>Start Date</th>\n",
       "      <th>Last Login Time</th>\n",
       "      <th>Salary</th>\n",
       "      <th>Bonus %</th>\n",
       "      <th>Senior Management</th>\n",
       "      <th>Team</th>\n",
       "    </tr>\n",
       "  </thead>\n",
       "  <tbody>\n",
       "    <tr>\n",
       "      <th>1</th>\n",
       "      <td>Thomas</td>\n",
       "      <td>Male</td>\n",
       "      <td>1996-03-31</td>\n",
       "      <td>2018-06-08 06:53:00</td>\n",
       "      <td>61933</td>\n",
       "      <td>4.170</td>\n",
       "      <td>True</td>\n",
       "      <td>NaN</td>\n",
       "    </tr>\n",
       "    <tr>\n",
       "      <th>20</th>\n",
       "      <td>Lois</td>\n",
       "      <td>NaN</td>\n",
       "      <td>1995-04-22</td>\n",
       "      <td>2018-06-08 19:18:00</td>\n",
       "      <td>64714</td>\n",
       "      <td>4.934</td>\n",
       "      <td>True</td>\n",
       "      <td>Legal</td>\n",
       "    </tr>\n",
       "    <tr>\n",
       "      <th>40</th>\n",
       "      <td>Michael</td>\n",
       "      <td>Male</td>\n",
       "      <td>2008-10-10</td>\n",
       "      <td>2018-06-08 11:25:00</td>\n",
       "      <td>99283</td>\n",
       "      <td>2.665</td>\n",
       "      <td>True</td>\n",
       "      <td>Distribution</td>\n",
       "    </tr>\n",
       "  </tbody>\n",
       "</table>\n",
       "</div>"
      ],
      "text/plain": [
       "   First Name Gender Start Date     Last Login Time  Salary  Bonus %  \\\n",
       "1      Thomas   Male 1996-03-31 2018-06-08 06:53:00   61933    4.170   \n",
       "20       Lois    NaN 1995-04-22 2018-06-08 19:18:00   64714    4.934   \n",
       "40    Michael   Male 2008-10-10 2018-06-08 11:25:00   99283    2.665   \n",
       "\n",
       "    Senior Management          Team  \n",
       "1                True           NaN  \n",
       "20               True         Legal  \n",
       "40               True  Distribution  "
      ]
     },
     "execution_count": 73,
     "metadata": {},
     "output_type": "execute_result"
    }
   ],
   "source": [
    "mask = df['Bonus %'].between(2,5)\n",
    "df[mask].head(3)"
   ]
  },
  {
   "cell_type": "markdown",
   "metadata": {},
   "source": [
    "**We can also use the `.between(..)` method when working with dates**"
   ]
  },
  {
   "cell_type": "code",
   "execution_count": 74,
   "metadata": {},
   "outputs": [
    {
     "data": {
      "text/html": [
       "<div>\n",
       "<style scoped>\n",
       "    .dataframe tbody tr th:only-of-type {\n",
       "        vertical-align: middle;\n",
       "    }\n",
       "\n",
       "    .dataframe tbody tr th {\n",
       "        vertical-align: top;\n",
       "    }\n",
       "\n",
       "    .dataframe thead th {\n",
       "        text-align: right;\n",
       "    }\n",
       "</style>\n",
       "<table border=\"1\" class=\"dataframe\">\n",
       "  <thead>\n",
       "    <tr style=\"text-align: right;\">\n",
       "      <th></th>\n",
       "      <th>First Name</th>\n",
       "      <th>Gender</th>\n",
       "      <th>Start Date</th>\n",
       "      <th>Last Login Time</th>\n",
       "      <th>Salary</th>\n",
       "      <th>Bonus %</th>\n",
       "      <th>Senior Management</th>\n",
       "      <th>Team</th>\n",
       "    </tr>\n",
       "  </thead>\n",
       "  <tbody>\n",
       "    <tr>\n",
       "      <th>27</th>\n",
       "      <td>Scott</td>\n",
       "      <td>NaN</td>\n",
       "      <td>1991-07-11</td>\n",
       "      <td>2018-06-08 18:58:00</td>\n",
       "      <td>122367</td>\n",
       "      <td>5.218</td>\n",
       "      <td>False</td>\n",
       "      <td>Legal</td>\n",
       "    </tr>\n",
       "    <tr>\n",
       "      <th>75</th>\n",
       "      <td>Bonnie</td>\n",
       "      <td>Female</td>\n",
       "      <td>1991-07-02</td>\n",
       "      <td>2018-06-08 01:27:00</td>\n",
       "      <td>104897</td>\n",
       "      <td>5.118</td>\n",
       "      <td>True</td>\n",
       "      <td>Human Resources</td>\n",
       "    </tr>\n",
       "    <tr>\n",
       "      <th>88</th>\n",
       "      <td>Donna</td>\n",
       "      <td>Female</td>\n",
       "      <td>1991-11-27</td>\n",
       "      <td>2018-06-08 13:59:00</td>\n",
       "      <td>64088</td>\n",
       "      <td>6.155</td>\n",
       "      <td>True</td>\n",
       "      <td>Legal</td>\n",
       "    </tr>\n",
       "  </tbody>\n",
       "</table>\n",
       "</div>"
      ],
      "text/plain": [
       "   First Name  Gender Start Date     Last Login Time  Salary  Bonus %  \\\n",
       "27      Scott     NaN 1991-07-11 2018-06-08 18:58:00  122367    5.218   \n",
       "75     Bonnie  Female 1991-07-02 2018-06-08 01:27:00  104897    5.118   \n",
       "88      Donna  Female 1991-11-27 2018-06-08 13:59:00   64088    6.155   \n",
       "\n",
       "    Senior Management             Team  \n",
       "27              False            Legal  \n",
       "75               True  Human Resources  \n",
       "88               True            Legal  "
      ]
     },
     "execution_count": 74,
     "metadata": {},
     "output_type": "execute_result"
    }
   ],
   "source": [
    "mask = df['Start Date'].between('1991-01-01', '1992-01-01')\n",
    "df[mask].head(3)"
   ]
  },
  {
   "cell_type": "markdown",
   "metadata": {},
   "source": [
    "**Employees who last logged in between 8:30AM and 5:00PM**"
   ]
  },
  {
   "cell_type": "code",
   "execution_count": 75,
   "metadata": {},
   "outputs": [
    {
     "data": {
      "text/html": [
       "<div>\n",
       "<style scoped>\n",
       "    .dataframe tbody tr th:only-of-type {\n",
       "        vertical-align: middle;\n",
       "    }\n",
       "\n",
       "    .dataframe tbody tr th {\n",
       "        vertical-align: top;\n",
       "    }\n",
       "\n",
       "    .dataframe thead th {\n",
       "        text-align: right;\n",
       "    }\n",
       "</style>\n",
       "<table border=\"1\" class=\"dataframe\">\n",
       "  <thead>\n",
       "    <tr style=\"text-align: right;\">\n",
       "      <th></th>\n",
       "      <th>First Name</th>\n",
       "      <th>Gender</th>\n",
       "      <th>Start Date</th>\n",
       "      <th>Last Login Time</th>\n",
       "      <th>Salary</th>\n",
       "      <th>Bonus %</th>\n",
       "      <th>Senior Management</th>\n",
       "      <th>Team</th>\n",
       "    </tr>\n",
       "  </thead>\n",
       "  <tbody>\n",
       "    <tr>\n",
       "      <th>0</th>\n",
       "      <td>Douglas</td>\n",
       "      <td>Male</td>\n",
       "      <td>1993-08-06</td>\n",
       "      <td>2018-06-08 12:42:00</td>\n",
       "      <td>97308</td>\n",
       "      <td>6.945</td>\n",
       "      <td>True</td>\n",
       "      <td>Marketing</td>\n",
       "    </tr>\n",
       "    <tr>\n",
       "      <th>2</th>\n",
       "      <td>Maria</td>\n",
       "      <td>Female</td>\n",
       "      <td>1993-04-23</td>\n",
       "      <td>2018-06-08 11:17:00</td>\n",
       "      <td>130590</td>\n",
       "      <td>11.858</td>\n",
       "      <td>False</td>\n",
       "      <td>Finance</td>\n",
       "    </tr>\n",
       "    <tr>\n",
       "      <th>3</th>\n",
       "      <td>Jerry</td>\n",
       "      <td>Male</td>\n",
       "      <td>2005-03-04</td>\n",
       "      <td>2018-06-08 13:00:00</td>\n",
       "      <td>138705</td>\n",
       "      <td>9.340</td>\n",
       "      <td>True</td>\n",
       "      <td>Finance</td>\n",
       "    </tr>\n",
       "  </tbody>\n",
       "</table>\n",
       "</div>"
      ],
      "text/plain": [
       "  First Name  Gender Start Date     Last Login Time  Salary  Bonus %  \\\n",
       "0    Douglas    Male 1993-08-06 2018-06-08 12:42:00   97308    6.945   \n",
       "2      Maria  Female 1993-04-23 2018-06-08 11:17:00  130590   11.858   \n",
       "3      Jerry    Male 2005-03-04 2018-06-08 13:00:00  138705    9.340   \n",
       "\n",
       "   Senior Management       Team  \n",
       "0               True  Marketing  \n",
       "2              False    Finance  \n",
       "3               True    Finance  "
      ]
     },
     "execution_count": 75,
     "metadata": {},
     "output_type": "execute_result"
    }
   ],
   "source": [
    "mask = df['Last Login Time'].between('8:30:00', '17:00:00')\n",
    "df[mask].head(3)"
   ]
  },
  {
   "cell_type": "markdown",
   "metadata": {},
   "source": [
    "----\n",
    "## The `.duplicated(..)` method\n",
    "**This method allows us to find/remove duplicates in our dataframe**"
   ]
  },
  {
   "cell_type": "code",
   "execution_count": 76,
   "metadata": {},
   "outputs": [
    {
     "data": {
      "text/html": [
       "<div>\n",
       "<style scoped>\n",
       "    .dataframe tbody tr th:only-of-type {\n",
       "        vertical-align: middle;\n",
       "    }\n",
       "\n",
       "    .dataframe tbody tr th {\n",
       "        vertical-align: top;\n",
       "    }\n",
       "\n",
       "    .dataframe thead th {\n",
       "        text-align: right;\n",
       "    }\n",
       "</style>\n",
       "<table border=\"1\" class=\"dataframe\">\n",
       "  <thead>\n",
       "    <tr style=\"text-align: right;\">\n",
       "      <th></th>\n",
       "      <th>First Name</th>\n",
       "      <th>Gender</th>\n",
       "      <th>Start Date</th>\n",
       "      <th>Last Login Time</th>\n",
       "      <th>Salary</th>\n",
       "      <th>Bonus %</th>\n",
       "      <th>Senior Management</th>\n",
       "      <th>Team</th>\n",
       "    </tr>\n",
       "  </thead>\n",
       "  <tbody>\n",
       "    <tr>\n",
       "      <th>0</th>\n",
       "      <td>Douglas</td>\n",
       "      <td>Male</td>\n",
       "      <td>1993-08-06</td>\n",
       "      <td>2018-06-08 12:42:00</td>\n",
       "      <td>97308</td>\n",
       "      <td>6.945</td>\n",
       "      <td>True</td>\n",
       "      <td>Marketing</td>\n",
       "    </tr>\n",
       "    <tr>\n",
       "      <th>1</th>\n",
       "      <td>Thomas</td>\n",
       "      <td>Male</td>\n",
       "      <td>1996-03-31</td>\n",
       "      <td>2018-06-08 06:53:00</td>\n",
       "      <td>61933</td>\n",
       "      <td>4.170</td>\n",
       "      <td>True</td>\n",
       "      <td>NaN</td>\n",
       "    </tr>\n",
       "    <tr>\n",
       "      <th>2</th>\n",
       "      <td>Maria</td>\n",
       "      <td>Female</td>\n",
       "      <td>1993-04-23</td>\n",
       "      <td>2018-06-08 11:17:00</td>\n",
       "      <td>130590</td>\n",
       "      <td>11.858</td>\n",
       "      <td>False</td>\n",
       "      <td>Finance</td>\n",
       "    </tr>\n",
       "  </tbody>\n",
       "</table>\n",
       "</div>"
      ],
      "text/plain": [
       "  First Name  Gender Start Date     Last Login Time  Salary  Bonus %  \\\n",
       "0    Douglas    Male 1993-08-06 2018-06-08 12:42:00   97308    6.945   \n",
       "1     Thomas    Male 1996-03-31 2018-06-08 06:53:00   61933    4.170   \n",
       "2      Maria  Female 1993-04-23 2018-06-08 11:17:00  130590   11.858   \n",
       "\n",
       "   Senior Management       Team  \n",
       "0               True  Marketing  \n",
       "1               True        NaN  \n",
       "2              False    Finance  "
      ]
     },
     "execution_count": 76,
     "metadata": {},
     "output_type": "execute_result"
    }
   ],
   "source": [
    "df = pd.read_csv('pandas/employees.csv', parse_dates=['Start Date','Last Login Time'])\n",
    "df['Gender'] = df['Gender'].astype('category')\n",
    "df['Senior Management'] = df['Senior Management'].astype('bool')\n",
    "df.head(3)"
   ]
  },
  {
   "cell_type": "markdown",
   "metadata": {},
   "source": [
    "**We are going to find duplicates in the `First Name` column**"
   ]
  },
  {
   "cell_type": "code",
   "execution_count": 77,
   "metadata": {},
   "outputs": [
    {
     "data": {
      "text/plain": [
       "101    False\n",
       "327     True\n",
       "440     True\n",
       "937     True\n",
       "137    False\n",
       "Name: First Name, dtype: bool"
      ]
     },
     "execution_count": 77,
     "metadata": {},
     "output_type": "execute_result"
    }
   ],
   "source": [
    "# First sorting the enployees dataframe by `First Name`\n",
    "df.sort_values('First Name', inplace=True)\n",
    "\n",
    "# Using finding duplicated values\n",
    "df['First Name'].duplicated().head(5)"
   ]
  },
  {
   "cell_type": "markdown",
   "metadata": {},
   "source": [
    "See how this method returns `True` if a value is duplicated in the `Series`, else returns `False`.\n",
    "The first occurence is returned as False, subsequent occurrences are returned as `False`\n",
    "\n",
    "By-default, the `keep` parameter in the `.duplicated(..)` method is set to `first`. This means that the first occurrence of a value in the Series will be returned as `False`, and subsequent occurrences of the same is returned as `True`. <br/>\n",
    "Changing this parameter to `last`, will lead only the last occurrence of a value to be not marked as duplicate. If a value occurs only once, it is returned as non-duplicate."
   ]
  },
  {
   "cell_type": "code",
   "execution_count": 78,
   "metadata": {},
   "outputs": [
    {
     "data": {
      "text/plain": [
       "101     True\n",
       "327     True\n",
       "440     True\n",
       "937    False\n",
       "137     True\n",
       "Name: First Name, dtype: bool"
      ]
     },
     "execution_count": 78,
     "metadata": {},
     "output_type": "execute_result"
    }
   ],
   "source": [
    "df['First Name'].duplicated(keep='last').head(5)"
   ]
  },
  {
   "cell_type": "code",
   "execution_count": 79,
   "metadata": {},
   "outputs": [
    {
     "data": {
      "text/html": [
       "<div>\n",
       "<style scoped>\n",
       "    .dataframe tbody tr th:only-of-type {\n",
       "        vertical-align: middle;\n",
       "    }\n",
       "\n",
       "    .dataframe tbody tr th {\n",
       "        vertical-align: top;\n",
       "    }\n",
       "\n",
       "    .dataframe thead th {\n",
       "        text-align: right;\n",
       "    }\n",
       "</style>\n",
       "<table border=\"1\" class=\"dataframe\">\n",
       "  <thead>\n",
       "    <tr style=\"text-align: right;\">\n",
       "      <th></th>\n",
       "      <th>First Name</th>\n",
       "      <th>Gender</th>\n",
       "      <th>Start Date</th>\n",
       "      <th>Last Login Time</th>\n",
       "      <th>Salary</th>\n",
       "      <th>Bonus %</th>\n",
       "      <th>Senior Management</th>\n",
       "      <th>Team</th>\n",
       "    </tr>\n",
       "  </thead>\n",
       "  <tbody>\n",
       "    <tr>\n",
       "      <th>101</th>\n",
       "      <td>Aaron</td>\n",
       "      <td>Male</td>\n",
       "      <td>2012-02-17</td>\n",
       "      <td>2018-06-08 10:20:00</td>\n",
       "      <td>61602</td>\n",
       "      <td>11.849</td>\n",
       "      <td>True</td>\n",
       "      <td>Marketing</td>\n",
       "    </tr>\n",
       "    <tr>\n",
       "      <th>327</th>\n",
       "      <td>Aaron</td>\n",
       "      <td>Male</td>\n",
       "      <td>1994-01-29</td>\n",
       "      <td>2018-06-08 18:48:00</td>\n",
       "      <td>58755</td>\n",
       "      <td>5.097</td>\n",
       "      <td>True</td>\n",
       "      <td>Marketing</td>\n",
       "    </tr>\n",
       "    <tr>\n",
       "      <th>440</th>\n",
       "      <td>Aaron</td>\n",
       "      <td>Male</td>\n",
       "      <td>1990-07-22</td>\n",
       "      <td>2018-06-08 14:53:00</td>\n",
       "      <td>52119</td>\n",
       "      <td>11.343</td>\n",
       "      <td>True</td>\n",
       "      <td>Client Services</td>\n",
       "    </tr>\n",
       "    <tr>\n",
       "      <th>137</th>\n",
       "      <td>Adam</td>\n",
       "      <td>Male</td>\n",
       "      <td>2011-05-21</td>\n",
       "      <td>2018-06-08 01:45:00</td>\n",
       "      <td>95327</td>\n",
       "      <td>15.120</td>\n",
       "      <td>False</td>\n",
       "      <td>Distribution</td>\n",
       "    </tr>\n",
       "    <tr>\n",
       "      <th>141</th>\n",
       "      <td>Adam</td>\n",
       "      <td>Male</td>\n",
       "      <td>1990-12-24</td>\n",
       "      <td>2018-06-08 20:57:00</td>\n",
       "      <td>110194</td>\n",
       "      <td>14.727</td>\n",
       "      <td>True</td>\n",
       "      <td>Product</td>\n",
       "    </tr>\n",
       "  </tbody>\n",
       "</table>\n",
       "</div>"
      ],
      "text/plain": [
       "    First Name Gender Start Date     Last Login Time  Salary  Bonus %  \\\n",
       "101      Aaron   Male 2012-02-17 2018-06-08 10:20:00   61602   11.849   \n",
       "327      Aaron   Male 1994-01-29 2018-06-08 18:48:00   58755    5.097   \n",
       "440      Aaron   Male 1990-07-22 2018-06-08 14:53:00   52119   11.343   \n",
       "137       Adam   Male 2011-05-21 2018-06-08 01:45:00   95327   15.120   \n",
       "141       Adam   Male 1990-12-24 2018-06-08 20:57:00  110194   14.727   \n",
       "\n",
       "     Senior Management             Team  \n",
       "101               True        Marketing  \n",
       "327               True        Marketing  \n",
       "440               True  Client Services  \n",
       "137              False     Distribution  \n",
       "141               True          Product  "
      ]
     },
     "execution_count": 79,
     "metadata": {},
     "output_type": "execute_result"
    }
   ],
   "source": [
    "df[ df['First Name'].duplicated(keep='last') ].head(5)"
   ]
  },
  {
   "cell_type": "markdown",
   "metadata": {},
   "source": [
    "**If we want to mark all the values as duplicate if they occur more than once no matter if they occur first or last, `keep` paramter has to be set to `False`**"
   ]
  },
  {
   "cell_type": "code",
   "execution_count": 80,
   "metadata": {},
   "outputs": [
    {
     "data": {
      "text/plain": [
       "101    True\n",
       "327    True\n",
       "440    True\n",
       "937    True\n",
       "137    True\n",
       "Name: First Name, dtype: bool"
      ]
     },
     "execution_count": 80,
     "metadata": {},
     "output_type": "execute_result"
    }
   ],
   "source": [
    "df['First Name'].duplicated(keep=False).head(5)"
   ]
  },
  {
   "cell_type": "markdown",
   "metadata": {},
   "source": [
    "---\n",
    "## `.drop_duplicates(..)` method\n",
    "Can be called on a `DataFrame` instead of just a `Series`."
   ]
  },
  {
   "cell_type": "code",
   "execution_count": 81,
   "metadata": {},
   "outputs": [
    {
     "data": {
      "text/html": [
       "<div>\n",
       "<style scoped>\n",
       "    .dataframe tbody tr th:only-of-type {\n",
       "        vertical-align: middle;\n",
       "    }\n",
       "\n",
       "    .dataframe tbody tr th {\n",
       "        vertical-align: top;\n",
       "    }\n",
       "\n",
       "    .dataframe thead th {\n",
       "        text-align: right;\n",
       "    }\n",
       "</style>\n",
       "<table border=\"1\" class=\"dataframe\">\n",
       "  <thead>\n",
       "    <tr style=\"text-align: right;\">\n",
       "      <th></th>\n",
       "      <th>First Name</th>\n",
       "      <th>Gender</th>\n",
       "      <th>Start Date</th>\n",
       "      <th>Last Login Time</th>\n",
       "      <th>Salary</th>\n",
       "      <th>Bonus %</th>\n",
       "      <th>Senior Management</th>\n",
       "      <th>Team</th>\n",
       "    </tr>\n",
       "  </thead>\n",
       "  <tbody>\n",
       "    <tr>\n",
       "      <th>101</th>\n",
       "      <td>Aaron</td>\n",
       "      <td>Male</td>\n",
       "      <td>2012-02-17</td>\n",
       "      <td>2018-06-08 10:20:00</td>\n",
       "      <td>61602</td>\n",
       "      <td>11.849</td>\n",
       "      <td>True</td>\n",
       "      <td>Marketing</td>\n",
       "    </tr>\n",
       "    <tr>\n",
       "      <th>327</th>\n",
       "      <td>Aaron</td>\n",
       "      <td>Male</td>\n",
       "      <td>1994-01-29</td>\n",
       "      <td>2018-06-08 18:48:00</td>\n",
       "      <td>58755</td>\n",
       "      <td>5.097</td>\n",
       "      <td>True</td>\n",
       "      <td>Marketing</td>\n",
       "    </tr>\n",
       "    <tr>\n",
       "      <th>440</th>\n",
       "      <td>Aaron</td>\n",
       "      <td>Male</td>\n",
       "      <td>1990-07-22</td>\n",
       "      <td>2018-06-08 14:53:00</td>\n",
       "      <td>52119</td>\n",
       "      <td>11.343</td>\n",
       "      <td>True</td>\n",
       "      <td>Client Services</td>\n",
       "    </tr>\n",
       "  </tbody>\n",
       "</table>\n",
       "</div>"
      ],
      "text/plain": [
       "    First Name Gender Start Date     Last Login Time  Salary  Bonus %  \\\n",
       "101      Aaron   Male 2012-02-17 2018-06-08 10:20:00   61602   11.849   \n",
       "327      Aaron   Male 1994-01-29 2018-06-08 18:48:00   58755    5.097   \n",
       "440      Aaron   Male 1990-07-22 2018-06-08 14:53:00   52119   11.343   \n",
       "\n",
       "    Senior Management             Team  \n",
       "101              True        Marketing  \n",
       "327              True        Marketing  \n",
       "440              True  Client Services  "
      ]
     },
     "execution_count": 81,
     "metadata": {},
     "output_type": "execute_result"
    }
   ],
   "source": [
    "df = pd.read_csv('pandas/employees.csv', parse_dates=['Start Date','Last Login Time'])\n",
    "df['Gender'] = df['Gender'].astype('category')\n",
    "df['Senior Management'].astype('bool')\n",
    "df.sort_values('First Name', inplace=True)\n",
    "df.head(3)"
   ]
  },
  {
   "cell_type": "code",
   "execution_count": 82,
   "metadata": {},
   "outputs": [
    {
     "data": {
      "text/plain": [
       "1000"
      ]
     },
     "execution_count": 82,
     "metadata": {},
     "output_type": "execute_result"
    }
   ],
   "source": [
    "len(df)"
   ]
  },
  {
   "cell_type": "markdown",
   "metadata": {},
   "source": [
    "See that currently have 1000 rows in our `DataFrame`."
   ]
  },
  {
   "cell_type": "code",
   "execution_count": 83,
   "metadata": {},
   "outputs": [
    {
     "data": {
      "text/plain": [
       "1000"
      ]
     },
     "execution_count": 83,
     "metadata": {},
     "output_type": "execute_result"
    }
   ],
   "source": [
    "len(df.drop_duplicates())"
   ]
  },
  {
   "cell_type": "markdown",
   "metadata": {},
   "source": [
    "Note that even after calling the `drop_duplicates` method, the total number of rows in our DataFrame still remained the same even though we have duplicates in the First Name column, Gender column, Senior Management Column, Team column etc. \n",
    "\n",
    "This is because by-default only those rows are dropped that have the values duplicated across ALL of the columns, and there are no two rows in this dataframe that are identical across all of the columns."
   ]
  },
  {
   "cell_type": "code",
   "execution_count": 84,
   "metadata": {},
   "outputs": [
    {
     "data": {
      "text/html": [
       "<div>\n",
       "<style scoped>\n",
       "    .dataframe tbody tr th:only-of-type {\n",
       "        vertical-align: middle;\n",
       "    }\n",
       "\n",
       "    .dataframe tbody tr th {\n",
       "        vertical-align: top;\n",
       "    }\n",
       "\n",
       "    .dataframe thead th {\n",
       "        text-align: right;\n",
       "    }\n",
       "</style>\n",
       "<table border=\"1\" class=\"dataframe\">\n",
       "  <thead>\n",
       "    <tr style=\"text-align: right;\">\n",
       "      <th></th>\n",
       "      <th>First Name</th>\n",
       "      <th>Gender</th>\n",
       "      <th>Start Date</th>\n",
       "      <th>Last Login Time</th>\n",
       "      <th>Salary</th>\n",
       "      <th>Bonus %</th>\n",
       "      <th>Senior Management</th>\n",
       "      <th>Team</th>\n",
       "    </tr>\n",
       "  </thead>\n",
       "  <tbody>\n",
       "    <tr>\n",
       "      <th>101</th>\n",
       "      <td>Aaron</td>\n",
       "      <td>Male</td>\n",
       "      <td>2012-02-17</td>\n",
       "      <td>2018-06-08 10:20:00</td>\n",
       "      <td>61602</td>\n",
       "      <td>11.849</td>\n",
       "      <td>True</td>\n",
       "      <td>Marketing</td>\n",
       "    </tr>\n",
       "    <tr>\n",
       "      <th>137</th>\n",
       "      <td>Adam</td>\n",
       "      <td>Male</td>\n",
       "      <td>2011-05-21</td>\n",
       "      <td>2018-06-08 01:45:00</td>\n",
       "      <td>95327</td>\n",
       "      <td>15.120</td>\n",
       "      <td>False</td>\n",
       "      <td>Distribution</td>\n",
       "    </tr>\n",
       "    <tr>\n",
       "      <th>300</th>\n",
       "      <td>Alan</td>\n",
       "      <td>Male</td>\n",
       "      <td>1988-06-26</td>\n",
       "      <td>2018-06-08 03:54:00</td>\n",
       "      <td>111786</td>\n",
       "      <td>3.592</td>\n",
       "      <td>True</td>\n",
       "      <td>Engineering</td>\n",
       "    </tr>\n",
       "  </tbody>\n",
       "</table>\n",
       "</div>"
      ],
      "text/plain": [
       "    First Name Gender Start Date     Last Login Time  Salary  Bonus %  \\\n",
       "101      Aaron   Male 2012-02-17 2018-06-08 10:20:00   61602   11.849   \n",
       "137       Adam   Male 2011-05-21 2018-06-08 01:45:00   95327   15.120   \n",
       "300       Alan   Male 1988-06-26 2018-06-08 03:54:00  111786    3.592   \n",
       "\n",
       "    Senior Management          Team  \n",
       "101              True     Marketing  \n",
       "137             False  Distribution  \n",
       "300              True   Engineering  "
      ]
     },
     "execution_count": 84,
     "metadata": {},
     "output_type": "execute_result"
    }
   ],
   "source": [
    "df.drop_duplicates(subset=['First Name'], keep='first').head(3)"
   ]
  },
  {
   "cell_type": "markdown",
   "metadata": {},
   "source": [
    "**Just like while calling the `duplicated` method, the value of the `keep` parameter can be set to `last` or a boolean `False`**\n",
    "\n",
    "----\n"
   ]
  },
  {
   "cell_type": "markdown",
   "metadata": {},
   "source": [
    "## The `.unique(..) and .nunique(..) methods\n",
    "Both the above methods deal with unique values in a `Series`."
   ]
  },
  {
   "cell_type": "code",
   "execution_count": 85,
   "metadata": {},
   "outputs": [
    {
     "data": {
      "text/html": [
       "<div>\n",
       "<style scoped>\n",
       "    .dataframe tbody tr th:only-of-type {\n",
       "        vertical-align: middle;\n",
       "    }\n",
       "\n",
       "    .dataframe tbody tr th {\n",
       "        vertical-align: top;\n",
       "    }\n",
       "\n",
       "    .dataframe thead th {\n",
       "        text-align: right;\n",
       "    }\n",
       "</style>\n",
       "<table border=\"1\" class=\"dataframe\">\n",
       "  <thead>\n",
       "    <tr style=\"text-align: right;\">\n",
       "      <th></th>\n",
       "      <th>First Name</th>\n",
       "      <th>Gender</th>\n",
       "      <th>Start Date</th>\n",
       "      <th>Last Login Time</th>\n",
       "      <th>Salary</th>\n",
       "      <th>Bonus %</th>\n",
       "      <th>Senior Management</th>\n",
       "      <th>Team</th>\n",
       "    </tr>\n",
       "  </thead>\n",
       "  <tbody>\n",
       "    <tr>\n",
       "      <th>0</th>\n",
       "      <td>Douglas</td>\n",
       "      <td>Male</td>\n",
       "      <td>1993-08-06</td>\n",
       "      <td>2018-06-08 12:42:00</td>\n",
       "      <td>97308</td>\n",
       "      <td>6.945</td>\n",
       "      <td>True</td>\n",
       "      <td>Marketing</td>\n",
       "    </tr>\n",
       "    <tr>\n",
       "      <th>1</th>\n",
       "      <td>Thomas</td>\n",
       "      <td>Male</td>\n",
       "      <td>1996-03-31</td>\n",
       "      <td>2018-06-08 06:53:00</td>\n",
       "      <td>61933</td>\n",
       "      <td>4.170</td>\n",
       "      <td>True</td>\n",
       "      <td>NaN</td>\n",
       "    </tr>\n",
       "    <tr>\n",
       "      <th>2</th>\n",
       "      <td>Maria</td>\n",
       "      <td>Female</td>\n",
       "      <td>1993-04-23</td>\n",
       "      <td>2018-06-08 11:17:00</td>\n",
       "      <td>130590</td>\n",
       "      <td>11.858</td>\n",
       "      <td>False</td>\n",
       "      <td>Finance</td>\n",
       "    </tr>\n",
       "  </tbody>\n",
       "</table>\n",
       "</div>"
      ],
      "text/plain": [
       "  First Name  Gender Start Date     Last Login Time  Salary  Bonus %  \\\n",
       "0    Douglas    Male 1993-08-06 2018-06-08 12:42:00   97308    6.945   \n",
       "1     Thomas    Male 1996-03-31 2018-06-08 06:53:00   61933    4.170   \n",
       "2      Maria  Female 1993-04-23 2018-06-08 11:17:00  130590   11.858   \n",
       "\n",
       "   Senior Management       Team  \n",
       "0               True  Marketing  \n",
       "1               True        NaN  \n",
       "2              False    Finance  "
      ]
     },
     "execution_count": 85,
     "metadata": {},
     "output_type": "execute_result"
    }
   ],
   "source": [
    "df = pd.read_csv('pandas/employees.csv', parse_dates=['Start Date','Last Login Time'])\n",
    "df['Senior Management'] = df['Senior Management'].astype('bool')\n",
    "df['Gender'] = df['Gender'].astype('category')\n",
    "df.head(3)"
   ]
  },
  {
   "cell_type": "code",
   "execution_count": 86,
   "metadata": {},
   "outputs": [
    {
     "data": {
      "text/plain": [
       "0      Male\n",
       "1      Male\n",
       "2    Female\n",
       "3      Male\n",
       "4      Male\n",
       "Name: Gender, dtype: category\n",
       "Categories (2, object): [Female, Male]"
      ]
     },
     "execution_count": 86,
     "metadata": {},
     "output_type": "execute_result"
    }
   ],
   "source": [
    "df['Gender'].head(5)"
   ]
  },
  {
   "cell_type": "code",
   "execution_count": 87,
   "metadata": {},
   "outputs": [
    {
     "data": {
      "text/plain": [
       "[Male, Female, NaN]\n",
       "Categories (2, object): [Male, Female]"
      ]
     },
     "execution_count": 87,
     "metadata": {},
     "output_type": "execute_result"
    }
   ],
   "source": [
    "df['Gender'].unique()"
   ]
  },
  {
   "cell_type": "code",
   "execution_count": 88,
   "metadata": {},
   "outputs": [
    {
     "data": {
      "text/plain": [
       "array(['Marketing', nan, 'Finance', 'Client Services', 'Legal', 'Product',\n",
       "       'Engineering', 'Business Development', 'Human Resources', 'Sales',\n",
       "       'Distribution'], dtype=object)"
      ]
     },
     "execution_count": 88,
     "metadata": {},
     "output_type": "execute_result"
    }
   ],
   "source": [
    "df['Team'].unique()"
   ]
  },
  {
   "cell_type": "code",
   "execution_count": 89,
   "metadata": {},
   "outputs": [
    {
     "data": {
      "text/plain": [
       "11"
      ]
     },
     "execution_count": 89,
     "metadata": {},
     "output_type": "execute_result"
    }
   ],
   "source": [
    "len(df['Team'].unique())"
   ]
  },
  {
   "cell_type": "markdown",
   "metadata": {},
   "source": [
    "This means that there are a total of 11 unique Teams present. We can also use the `.nunique()` method instead of alling `len()` on `.unique(..)` method. "
   ]
  },
  {
   "cell_type": "code",
   "execution_count": 90,
   "metadata": {},
   "outputs": [
    {
     "data": {
      "text/plain": [
       "10"
      ]
     },
     "execution_count": 90,
     "metadata": {},
     "output_type": "execute_result"
    }
   ],
   "source": [
    "df['Team'].nunique()"
   ]
  },
  {
   "cell_type": "markdown",
   "metadata": {},
   "source": [
    "**NOTE:** By default, nunique does not count NaN."
   ]
  },
  {
   "cell_type": "code",
   "execution_count": 91,
   "metadata": {},
   "outputs": [
    {
     "data": {
      "text/plain": [
       "11"
      ]
     },
     "execution_count": 91,
     "metadata": {},
     "output_type": "execute_result"
    }
   ],
   "source": [
    "df['Team'].nunique(dropna=False)"
   ]
  },
  {
   "cell_type": "markdown",
   "metadata": {},
   "source": [
    "---\n",
    "# More on `DataFrames`"
   ]
  },
  {
   "cell_type": "code",
   "execution_count": 92,
   "metadata": {},
   "outputs": [],
   "source": [
    "import pandas as pd"
   ]
  },
  {
   "cell_type": "code",
   "execution_count": 93,
   "metadata": {},
   "outputs": [
    {
     "data": {
      "text/html": [
       "<div>\n",
       "<style scoped>\n",
       "    .dataframe tbody tr th:only-of-type {\n",
       "        vertical-align: middle;\n",
       "    }\n",
       "\n",
       "    .dataframe tbody tr th {\n",
       "        vertical-align: top;\n",
       "    }\n",
       "\n",
       "    .dataframe thead th {\n",
       "        text-align: right;\n",
       "    }\n",
       "</style>\n",
       "<table border=\"1\" class=\"dataframe\">\n",
       "  <thead>\n",
       "    <tr style=\"text-align: right;\">\n",
       "      <th></th>\n",
       "      <th>Film</th>\n",
       "      <th>Year</th>\n",
       "      <th>Actor</th>\n",
       "      <th>Director</th>\n",
       "      <th>Box Office</th>\n",
       "      <th>Budget</th>\n",
       "      <th>Bond Actor Salary</th>\n",
       "    </tr>\n",
       "  </thead>\n",
       "  <tbody>\n",
       "    <tr>\n",
       "      <th>0</th>\n",
       "      <td>Dr. No</td>\n",
       "      <td>1962</td>\n",
       "      <td>Sean Connery</td>\n",
       "      <td>Terence Young</td>\n",
       "      <td>448.8</td>\n",
       "      <td>7.0</td>\n",
       "      <td>0.6</td>\n",
       "    </tr>\n",
       "    <tr>\n",
       "      <th>1</th>\n",
       "      <td>From Russia with Love</td>\n",
       "      <td>1963</td>\n",
       "      <td>Sean Connery</td>\n",
       "      <td>Terence Young</td>\n",
       "      <td>543.8</td>\n",
       "      <td>12.6</td>\n",
       "      <td>1.6</td>\n",
       "    </tr>\n",
       "    <tr>\n",
       "      <th>2</th>\n",
       "      <td>Goldfinger</td>\n",
       "      <td>1964</td>\n",
       "      <td>Sean Connery</td>\n",
       "      <td>Guy Hamilton</td>\n",
       "      <td>820.4</td>\n",
       "      <td>18.6</td>\n",
       "      <td>3.2</td>\n",
       "    </tr>\n",
       "  </tbody>\n",
       "</table>\n",
       "</div>"
      ],
      "text/plain": [
       "                    Film  Year         Actor       Director  Box Office  \\\n",
       "0                 Dr. No  1962  Sean Connery  Terence Young       448.8   \n",
       "1  From Russia with Love  1963  Sean Connery  Terence Young       543.8   \n",
       "2             Goldfinger  1964  Sean Connery   Guy Hamilton       820.4   \n",
       "\n",
       "   Budget  Bond Actor Salary  \n",
       "0     7.0                0.6  \n",
       "1    12.6                1.6  \n",
       "2    18.6                3.2  "
      ]
     },
     "execution_count": 93,
     "metadata": {},
     "output_type": "execute_result"
    }
   ],
   "source": [
    "# Loading and previewing the dataset\n",
    "bond = pd.read_csv('pandas/jamesbond.csv')\n",
    "bond.head(3)"
   ]
  },
  {
   "cell_type": "markdown",
   "metadata": {},
   "source": [
    "### The `setindex(..)` and `resetindex(..)` methods"
   ]
  },
  {
   "cell_type": "code",
   "execution_count": 94,
   "metadata": {},
   "outputs": [
    {
     "data": {
      "text/html": [
       "<div>\n",
       "<style scoped>\n",
       "    .dataframe tbody tr th:only-of-type {\n",
       "        vertical-align: middle;\n",
       "    }\n",
       "\n",
       "    .dataframe tbody tr th {\n",
       "        vertical-align: top;\n",
       "    }\n",
       "\n",
       "    .dataframe thead th {\n",
       "        text-align: right;\n",
       "    }\n",
       "</style>\n",
       "<table border=\"1\" class=\"dataframe\">\n",
       "  <thead>\n",
       "    <tr style=\"text-align: right;\">\n",
       "      <th></th>\n",
       "      <th>Year</th>\n",
       "      <th>Actor</th>\n",
       "      <th>Director</th>\n",
       "      <th>Box Office</th>\n",
       "      <th>Budget</th>\n",
       "      <th>Bond Actor Salary</th>\n",
       "    </tr>\n",
       "    <tr>\n",
       "      <th>Film</th>\n",
       "      <th></th>\n",
       "      <th></th>\n",
       "      <th></th>\n",
       "      <th></th>\n",
       "      <th></th>\n",
       "      <th></th>\n",
       "    </tr>\n",
       "  </thead>\n",
       "  <tbody>\n",
       "    <tr>\n",
       "      <th>Dr. No</th>\n",
       "      <td>1962</td>\n",
       "      <td>Sean Connery</td>\n",
       "      <td>Terence Young</td>\n",
       "      <td>448.8</td>\n",
       "      <td>7.0</td>\n",
       "      <td>0.6</td>\n",
       "    </tr>\n",
       "    <tr>\n",
       "      <th>From Russia with Love</th>\n",
       "      <td>1963</td>\n",
       "      <td>Sean Connery</td>\n",
       "      <td>Terence Young</td>\n",
       "      <td>543.8</td>\n",
       "      <td>12.6</td>\n",
       "      <td>1.6</td>\n",
       "    </tr>\n",
       "    <tr>\n",
       "      <th>Goldfinger</th>\n",
       "      <td>1964</td>\n",
       "      <td>Sean Connery</td>\n",
       "      <td>Guy Hamilton</td>\n",
       "      <td>820.4</td>\n",
       "      <td>18.6</td>\n",
       "      <td>3.2</td>\n",
       "    </tr>\n",
       "    <tr>\n",
       "      <th>Thunderball</th>\n",
       "      <td>1965</td>\n",
       "      <td>Sean Connery</td>\n",
       "      <td>Terence Young</td>\n",
       "      <td>848.1</td>\n",
       "      <td>41.9</td>\n",
       "      <td>4.7</td>\n",
       "    </tr>\n",
       "  </tbody>\n",
       "</table>\n",
       "</div>"
      ],
      "text/plain": [
       "                       Year         Actor       Director  Box Office  Budget  \\\n",
       "Film                                                                           \n",
       "Dr. No                 1962  Sean Connery  Terence Young       448.8     7.0   \n",
       "From Russia with Love  1963  Sean Connery  Terence Young       543.8    12.6   \n",
       "Goldfinger             1964  Sean Connery   Guy Hamilton       820.4    18.6   \n",
       "Thunderball            1965  Sean Connery  Terence Young       848.1    41.9   \n",
       "\n",
       "                       Bond Actor Salary  \n",
       "Film                                      \n",
       "Dr. No                               0.6  \n",
       "From Russia with Love                1.6  \n",
       "Goldfinger                           3.2  \n",
       "Thunderball                          4.7  "
      ]
     },
     "execution_count": 94,
     "metadata": {},
     "output_type": "execute_result"
    }
   ],
   "source": [
    "bond.set_index('Film').head(4)"
   ]
  },
  {
   "cell_type": "code",
   "execution_count": 95,
   "metadata": {},
   "outputs": [
    {
     "data": {
      "text/html": [
       "<div>\n",
       "<style scoped>\n",
       "    .dataframe tbody tr th:only-of-type {\n",
       "        vertical-align: middle;\n",
       "    }\n",
       "\n",
       "    .dataframe tbody tr th {\n",
       "        vertical-align: top;\n",
       "    }\n",
       "\n",
       "    .dataframe thead th {\n",
       "        text-align: right;\n",
       "    }\n",
       "</style>\n",
       "<table border=\"1\" class=\"dataframe\">\n",
       "  <thead>\n",
       "    <tr style=\"text-align: right;\">\n",
       "      <th></th>\n",
       "      <th>index</th>\n",
       "      <th>Film</th>\n",
       "      <th>Year</th>\n",
       "      <th>Actor</th>\n",
       "      <th>Director</th>\n",
       "      <th>Box Office</th>\n",
       "      <th>Budget</th>\n",
       "      <th>Bond Actor Salary</th>\n",
       "    </tr>\n",
       "  </thead>\n",
       "  <tbody>\n",
       "    <tr>\n",
       "      <th>0</th>\n",
       "      <td>0</td>\n",
       "      <td>Dr. No</td>\n",
       "      <td>1962</td>\n",
       "      <td>Sean Connery</td>\n",
       "      <td>Terence Young</td>\n",
       "      <td>448.8</td>\n",
       "      <td>7.0</td>\n",
       "      <td>0.6</td>\n",
       "    </tr>\n",
       "    <tr>\n",
       "      <th>1</th>\n",
       "      <td>1</td>\n",
       "      <td>From Russia with Love</td>\n",
       "      <td>1963</td>\n",
       "      <td>Sean Connery</td>\n",
       "      <td>Terence Young</td>\n",
       "      <td>543.8</td>\n",
       "      <td>12.6</td>\n",
       "      <td>1.6</td>\n",
       "    </tr>\n",
       "    <tr>\n",
       "      <th>2</th>\n",
       "      <td>2</td>\n",
       "      <td>Goldfinger</td>\n",
       "      <td>1964</td>\n",
       "      <td>Sean Connery</td>\n",
       "      <td>Guy Hamilton</td>\n",
       "      <td>820.4</td>\n",
       "      <td>18.6</td>\n",
       "      <td>3.2</td>\n",
       "    </tr>\n",
       "  </tbody>\n",
       "</table>\n",
       "</div>"
      ],
      "text/plain": [
       "   index                   Film  Year         Actor       Director  \\\n",
       "0      0                 Dr. No  1962  Sean Connery  Terence Young   \n",
       "1      1  From Russia with Love  1963  Sean Connery  Terence Young   \n",
       "2      2             Goldfinger  1964  Sean Connery   Guy Hamilton   \n",
       "\n",
       "   Box Office  Budget  Bond Actor Salary  \n",
       "0       448.8     7.0                0.6  \n",
       "1       543.8    12.6                1.6  \n",
       "2       820.4    18.6                3.2  "
      ]
     },
     "execution_count": 95,
     "metadata": {},
     "output_type": "execute_result"
    }
   ],
   "source": [
    "bond.reset_index().head(3) # We can use the inplace parameter"
   ]
  },
  {
   "cell_type": "markdown",
   "metadata": {},
   "source": [
    "**Note how we got another column of numeric indices. These can be avoided by using the `drop=True` parameter**"
   ]
  },
  {
   "cell_type": "code",
   "execution_count": 96,
   "metadata": {},
   "outputs": [
    {
     "data": {
      "text/html": [
       "<div>\n",
       "<style scoped>\n",
       "    .dataframe tbody tr th:only-of-type {\n",
       "        vertical-align: middle;\n",
       "    }\n",
       "\n",
       "    .dataframe tbody tr th {\n",
       "        vertical-align: top;\n",
       "    }\n",
       "\n",
       "    .dataframe thead th {\n",
       "        text-align: right;\n",
       "    }\n",
       "</style>\n",
       "<table border=\"1\" class=\"dataframe\">\n",
       "  <thead>\n",
       "    <tr style=\"text-align: right;\">\n",
       "      <th></th>\n",
       "      <th>Film</th>\n",
       "      <th>Year</th>\n",
       "      <th>Actor</th>\n",
       "      <th>Director</th>\n",
       "      <th>Box Office</th>\n",
       "      <th>Budget</th>\n",
       "      <th>Bond Actor Salary</th>\n",
       "    </tr>\n",
       "  </thead>\n",
       "  <tbody>\n",
       "    <tr>\n",
       "      <th>0</th>\n",
       "      <td>Dr. No</td>\n",
       "      <td>1962</td>\n",
       "      <td>Sean Connery</td>\n",
       "      <td>Terence Young</td>\n",
       "      <td>448.8</td>\n",
       "      <td>7.0</td>\n",
       "      <td>0.6</td>\n",
       "    </tr>\n",
       "    <tr>\n",
       "      <th>1</th>\n",
       "      <td>From Russia with Love</td>\n",
       "      <td>1963</td>\n",
       "      <td>Sean Connery</td>\n",
       "      <td>Terence Young</td>\n",
       "      <td>543.8</td>\n",
       "      <td>12.6</td>\n",
       "      <td>1.6</td>\n",
       "    </tr>\n",
       "    <tr>\n",
       "      <th>2</th>\n",
       "      <td>Goldfinger</td>\n",
       "      <td>1964</td>\n",
       "      <td>Sean Connery</td>\n",
       "      <td>Guy Hamilton</td>\n",
       "      <td>820.4</td>\n",
       "      <td>18.6</td>\n",
       "      <td>3.2</td>\n",
       "    </tr>\n",
       "  </tbody>\n",
       "</table>\n",
       "</div>"
      ],
      "text/plain": [
       "                    Film  Year         Actor       Director  Box Office  \\\n",
       "0                 Dr. No  1962  Sean Connery  Terence Young       448.8   \n",
       "1  From Russia with Love  1963  Sean Connery  Terence Young       543.8   \n",
       "2             Goldfinger  1964  Sean Connery   Guy Hamilton       820.4   \n",
       "\n",
       "   Budget  Bond Actor Salary  \n",
       "0     7.0                0.6  \n",
       "1    12.6                1.6  \n",
       "2    18.6                3.2  "
      ]
     },
     "execution_count": 96,
     "metadata": {},
     "output_type": "execute_result"
    }
   ],
   "source": [
    "bond.reset_index(drop=True).head(3)"
   ]
  },
  {
   "cell_type": "markdown",
   "metadata": {},
   "source": [
    "**If we have one of the columns as index and if we wish to now set another column as index, it is important to first use the reset_index() method. Else, the previous index column is simply overwritten and data is lost.**"
   ]
  },
  {
   "cell_type": "markdown",
   "metadata": {},
   "source": [
    "---\n",
    "## Retrieving rows by index label using `.loc[]`"
   ]
  },
  {
   "cell_type": "code",
   "execution_count": 97,
   "metadata": {},
   "outputs": [
    {
     "data": {
      "text/html": [
       "<div>\n",
       "<style scoped>\n",
       "    .dataframe tbody tr th:only-of-type {\n",
       "        vertical-align: middle;\n",
       "    }\n",
       "\n",
       "    .dataframe tbody tr th {\n",
       "        vertical-align: top;\n",
       "    }\n",
       "\n",
       "    .dataframe thead th {\n",
       "        text-align: right;\n",
       "    }\n",
       "</style>\n",
       "<table border=\"1\" class=\"dataframe\">\n",
       "  <thead>\n",
       "    <tr style=\"text-align: right;\">\n",
       "      <th></th>\n",
       "      <th>Year</th>\n",
       "      <th>Actor</th>\n",
       "      <th>Director</th>\n",
       "      <th>Box Office</th>\n",
       "      <th>Budget</th>\n",
       "      <th>Bond Actor Salary</th>\n",
       "    </tr>\n",
       "    <tr>\n",
       "      <th>Film</th>\n",
       "      <th></th>\n",
       "      <th></th>\n",
       "      <th></th>\n",
       "      <th></th>\n",
       "      <th></th>\n",
       "      <th></th>\n",
       "    </tr>\n",
       "  </thead>\n",
       "  <tbody>\n",
       "    <tr>\n",
       "      <th>A View to a Kill</th>\n",
       "      <td>1985</td>\n",
       "      <td>Roger Moore</td>\n",
       "      <td>John Glen</td>\n",
       "      <td>275.2</td>\n",
       "      <td>54.5</td>\n",
       "      <td>9.1</td>\n",
       "    </tr>\n",
       "    <tr>\n",
       "      <th>Casino Royale</th>\n",
       "      <td>2006</td>\n",
       "      <td>Daniel Craig</td>\n",
       "      <td>Martin Campbell</td>\n",
       "      <td>581.5</td>\n",
       "      <td>145.3</td>\n",
       "      <td>3.3</td>\n",
       "    </tr>\n",
       "    <tr>\n",
       "      <th>Casino Royale</th>\n",
       "      <td>1967</td>\n",
       "      <td>David Niven</td>\n",
       "      <td>Ken Hughes</td>\n",
       "      <td>315.0</td>\n",
       "      <td>85.0</td>\n",
       "      <td>NaN</td>\n",
       "    </tr>\n",
       "  </tbody>\n",
       "</table>\n",
       "</div>"
      ],
      "text/plain": [
       "                  Year         Actor         Director  Box Office  Budget  \\\n",
       "Film                                                                        \n",
       "A View to a Kill  1985   Roger Moore        John Glen       275.2    54.5   \n",
       "Casino Royale     2006  Daniel Craig  Martin Campbell       581.5   145.3   \n",
       "Casino Royale     1967   David Niven       Ken Hughes       315.0    85.0   \n",
       "\n",
       "                  Bond Actor Salary  \n",
       "Film                                 \n",
       "A View to a Kill                9.1  \n",
       "Casino Royale                   3.3  \n",
       "Casino Royale                   NaN  "
      ]
     },
     "execution_count": 97,
     "metadata": {},
     "output_type": "execute_result"
    }
   ],
   "source": [
    "bond = pd.read_csv('pandas/jamesbond.csv', index_col='Film')\n",
    "bond.sort_index(inplace=True)\n",
    "bond.head(3)"
   ]
  },
  {
   "cell_type": "markdown",
   "metadata": {},
   "source": [
    "When `DataFrames` are very large, sorting the `DataFrame` first accelerate several other operations performed subsequently."
   ]
  },
  {
   "cell_type": "code",
   "execution_count": 98,
   "metadata": {},
   "outputs": [
    {
     "data": {
      "text/plain": [
       "Year                         1964\n",
       "Actor                Sean Connery\n",
       "Director             Guy Hamilton\n",
       "Box Office                  820.4\n",
       "Budget                       18.6\n",
       "Bond Actor Salary             3.2\n",
       "Name: Goldfinger, dtype: object"
      ]
     },
     "execution_count": 98,
     "metadata": {},
     "output_type": "execute_result"
    }
   ],
   "source": [
    "bond.loc['Goldfinger']"
   ]
  },
  {
   "cell_type": "markdown",
   "metadata": {},
   "source": [
    "As in the above case, since only one `Goldfinger` exists in our `DataFrame`, a `Series` is returned.\n",
    "\n",
    "All the column names from that particular row of the Dataframe become the indices of the Series and the values of columns from that row become the values in the Series being returned.\n",
    "\n",
    "If the index name passed to the `loc[..]` does not exist in the DataFrame, it results in an **error**.\n",
    "\n",
    "If the index name passed to the `loc[..]` occurs more than once, a DataFrame is returned."
   ]
  },
  {
   "cell_type": "code",
   "execution_count": 99,
   "metadata": {},
   "outputs": [
    {
     "data": {
      "text/html": [
       "<div>\n",
       "<style scoped>\n",
       "    .dataframe tbody tr th:only-of-type {\n",
       "        vertical-align: middle;\n",
       "    }\n",
       "\n",
       "    .dataframe tbody tr th {\n",
       "        vertical-align: top;\n",
       "    }\n",
       "\n",
       "    .dataframe thead th {\n",
       "        text-align: right;\n",
       "    }\n",
       "</style>\n",
       "<table border=\"1\" class=\"dataframe\">\n",
       "  <thead>\n",
       "    <tr style=\"text-align: right;\">\n",
       "      <th></th>\n",
       "      <th>Year</th>\n",
       "      <th>Actor</th>\n",
       "      <th>Director</th>\n",
       "      <th>Box Office</th>\n",
       "      <th>Budget</th>\n",
       "      <th>Bond Actor Salary</th>\n",
       "    </tr>\n",
       "    <tr>\n",
       "      <th>Film</th>\n",
       "      <th></th>\n",
       "      <th></th>\n",
       "      <th></th>\n",
       "      <th></th>\n",
       "      <th></th>\n",
       "      <th></th>\n",
       "    </tr>\n",
       "  </thead>\n",
       "  <tbody>\n",
       "    <tr>\n",
       "      <th>Casino Royale</th>\n",
       "      <td>2006</td>\n",
       "      <td>Daniel Craig</td>\n",
       "      <td>Martin Campbell</td>\n",
       "      <td>581.5</td>\n",
       "      <td>145.3</td>\n",
       "      <td>3.3</td>\n",
       "    </tr>\n",
       "    <tr>\n",
       "      <th>Casino Royale</th>\n",
       "      <td>1967</td>\n",
       "      <td>David Niven</td>\n",
       "      <td>Ken Hughes</td>\n",
       "      <td>315.0</td>\n",
       "      <td>85.0</td>\n",
       "      <td>NaN</td>\n",
       "    </tr>\n",
       "  </tbody>\n",
       "</table>\n",
       "</div>"
      ],
      "text/plain": [
       "               Year         Actor         Director  Box Office  Budget  \\\n",
       "Film                                                                     \n",
       "Casino Royale  2006  Daniel Craig  Martin Campbell       581.5   145.3   \n",
       "Casino Royale  1967   David Niven       Ken Hughes       315.0    85.0   \n",
       "\n",
       "               Bond Actor Salary  \n",
       "Film                              \n",
       "Casino Royale                3.3  \n",
       "Casino Royale                NaN  "
      ]
     },
     "execution_count": 99,
     "metadata": {},
     "output_type": "execute_result"
    }
   ],
   "source": [
    "bond.loc['Casino Royale']"
   ]
  },
  {
   "cell_type": "markdown",
   "metadata": {},
   "source": [
    "**We an also extract multiple indexes using the `:`**"
   ]
  },
  {
   "cell_type": "code",
   "execution_count": 100,
   "metadata": {},
   "outputs": [
    {
     "data": {
      "text/html": [
       "<div>\n",
       "<style scoped>\n",
       "    .dataframe tbody tr th:only-of-type {\n",
       "        vertical-align: middle;\n",
       "    }\n",
       "\n",
       "    .dataframe tbody tr th {\n",
       "        vertical-align: top;\n",
       "    }\n",
       "\n",
       "    .dataframe thead th {\n",
       "        text-align: right;\n",
       "    }\n",
       "</style>\n",
       "<table border=\"1\" class=\"dataframe\">\n",
       "  <thead>\n",
       "    <tr style=\"text-align: right;\">\n",
       "      <th></th>\n",
       "      <th>Year</th>\n",
       "      <th>Actor</th>\n",
       "      <th>Director</th>\n",
       "      <th>Box Office</th>\n",
       "      <th>Budget</th>\n",
       "      <th>Bond Actor Salary</th>\n",
       "    </tr>\n",
       "    <tr>\n",
       "      <th>Film</th>\n",
       "      <th></th>\n",
       "      <th></th>\n",
       "      <th></th>\n",
       "      <th></th>\n",
       "      <th></th>\n",
       "      <th></th>\n",
       "    </tr>\n",
       "  </thead>\n",
       "  <tbody>\n",
       "    <tr>\n",
       "      <th>Diamonds Are Forever</th>\n",
       "      <td>1971</td>\n",
       "      <td>Sean Connery</td>\n",
       "      <td>Guy Hamilton</td>\n",
       "      <td>442.5</td>\n",
       "      <td>34.7</td>\n",
       "      <td>5.8</td>\n",
       "    </tr>\n",
       "    <tr>\n",
       "      <th>Die Another Day</th>\n",
       "      <td>2002</td>\n",
       "      <td>Pierce Brosnan</td>\n",
       "      <td>Lee Tamahori</td>\n",
       "      <td>465.4</td>\n",
       "      <td>154.2</td>\n",
       "      <td>17.9</td>\n",
       "    </tr>\n",
       "    <tr>\n",
       "      <th>Dr. No</th>\n",
       "      <td>1962</td>\n",
       "      <td>Sean Connery</td>\n",
       "      <td>Terence Young</td>\n",
       "      <td>448.8</td>\n",
       "      <td>7.0</td>\n",
       "      <td>0.6</td>\n",
       "    </tr>\n",
       "    <tr>\n",
       "      <th>For Your Eyes Only</th>\n",
       "      <td>1981</td>\n",
       "      <td>Roger Moore</td>\n",
       "      <td>John Glen</td>\n",
       "      <td>449.4</td>\n",
       "      <td>60.2</td>\n",
       "      <td>NaN</td>\n",
       "    </tr>\n",
       "    <tr>\n",
       "      <th>From Russia with Love</th>\n",
       "      <td>1963</td>\n",
       "      <td>Sean Connery</td>\n",
       "      <td>Terence Young</td>\n",
       "      <td>543.8</td>\n",
       "      <td>12.6</td>\n",
       "      <td>1.6</td>\n",
       "    </tr>\n",
       "    <tr>\n",
       "      <th>GoldenEye</th>\n",
       "      <td>1995</td>\n",
       "      <td>Pierce Brosnan</td>\n",
       "      <td>Martin Campbell</td>\n",
       "      <td>518.5</td>\n",
       "      <td>76.9</td>\n",
       "      <td>5.1</td>\n",
       "    </tr>\n",
       "    <tr>\n",
       "      <th>Goldfinger</th>\n",
       "      <td>1964</td>\n",
       "      <td>Sean Connery</td>\n",
       "      <td>Guy Hamilton</td>\n",
       "      <td>820.4</td>\n",
       "      <td>18.6</td>\n",
       "      <td>3.2</td>\n",
       "    </tr>\n",
       "    <tr>\n",
       "      <th>Licence to Kill</th>\n",
       "      <td>1989</td>\n",
       "      <td>Timothy Dalton</td>\n",
       "      <td>John Glen</td>\n",
       "      <td>250.9</td>\n",
       "      <td>56.7</td>\n",
       "      <td>7.9</td>\n",
       "    </tr>\n",
       "    <tr>\n",
       "      <th>Live and Let Die</th>\n",
       "      <td>1973</td>\n",
       "      <td>Roger Moore</td>\n",
       "      <td>Guy Hamilton</td>\n",
       "      <td>460.3</td>\n",
       "      <td>30.8</td>\n",
       "      <td>NaN</td>\n",
       "    </tr>\n",
       "    <tr>\n",
       "      <th>Moonraker</th>\n",
       "      <td>1979</td>\n",
       "      <td>Roger Moore</td>\n",
       "      <td>Lewis Gilbert</td>\n",
       "      <td>535.0</td>\n",
       "      <td>91.5</td>\n",
       "      <td>NaN</td>\n",
       "    </tr>\n",
       "  </tbody>\n",
       "</table>\n",
       "</div>"
      ],
      "text/plain": [
       "                       Year           Actor         Director  Box Office  \\\n",
       "Film                                                                       \n",
       "Diamonds Are Forever   1971    Sean Connery     Guy Hamilton       442.5   \n",
       "Die Another Day        2002  Pierce Brosnan     Lee Tamahori       465.4   \n",
       "Dr. No                 1962    Sean Connery    Terence Young       448.8   \n",
       "For Your Eyes Only     1981     Roger Moore        John Glen       449.4   \n",
       "From Russia with Love  1963    Sean Connery    Terence Young       543.8   \n",
       "GoldenEye              1995  Pierce Brosnan  Martin Campbell       518.5   \n",
       "Goldfinger             1964    Sean Connery     Guy Hamilton       820.4   \n",
       "Licence to Kill        1989  Timothy Dalton        John Glen       250.9   \n",
       "Live and Let Die       1973     Roger Moore     Guy Hamilton       460.3   \n",
       "Moonraker              1979     Roger Moore    Lewis Gilbert       535.0   \n",
       "\n",
       "                       Budget  Bond Actor Salary  \n",
       "Film                                              \n",
       "Diamonds Are Forever     34.7                5.8  \n",
       "Die Another Day         154.2               17.9  \n",
       "Dr. No                    7.0                0.6  \n",
       "For Your Eyes Only       60.2                NaN  \n",
       "From Russia with Love    12.6                1.6  \n",
       "GoldenEye                76.9                5.1  \n",
       "Goldfinger               18.6                3.2  \n",
       "Licence to Kill          56.7                7.9  \n",
       "Live and Let Die         30.8                NaN  \n",
       "Moonraker                91.5                NaN  "
      ]
     },
     "execution_count": 100,
     "metadata": {},
     "output_type": "execute_result"
    }
   ],
   "source": [
    "bond.loc['Diamonds Are Forever':'Moonraker']"
   ]
  },
  {
   "cell_type": "markdown",
   "metadata": {},
   "source": [
    "**Extracting rows with only specific index names**"
   ]
  },
  {
   "cell_type": "code",
   "execution_count": 101,
   "metadata": {},
   "outputs": [
    {
     "data": {
      "text/html": [
       "<div>\n",
       "<style scoped>\n",
       "    .dataframe tbody tr th:only-of-type {\n",
       "        vertical-align: middle;\n",
       "    }\n",
       "\n",
       "    .dataframe tbody tr th {\n",
       "        vertical-align: top;\n",
       "    }\n",
       "\n",
       "    .dataframe thead th {\n",
       "        text-align: right;\n",
       "    }\n",
       "</style>\n",
       "<table border=\"1\" class=\"dataframe\">\n",
       "  <thead>\n",
       "    <tr style=\"text-align: right;\">\n",
       "      <th></th>\n",
       "      <th>Year</th>\n",
       "      <th>Actor</th>\n",
       "      <th>Director</th>\n",
       "      <th>Box Office</th>\n",
       "      <th>Budget</th>\n",
       "      <th>Bond Actor Salary</th>\n",
       "    </tr>\n",
       "    <tr>\n",
       "      <th>Film</th>\n",
       "      <th></th>\n",
       "      <th></th>\n",
       "      <th></th>\n",
       "      <th></th>\n",
       "      <th></th>\n",
       "      <th></th>\n",
       "    </tr>\n",
       "  </thead>\n",
       "  <tbody>\n",
       "    <tr>\n",
       "      <th>Moonraker</th>\n",
       "      <td>1979</td>\n",
       "      <td>Roger Moore</td>\n",
       "      <td>Lewis Gilbert</td>\n",
       "      <td>535.0</td>\n",
       "      <td>91.5</td>\n",
       "      <td>NaN</td>\n",
       "    </tr>\n",
       "    <tr>\n",
       "      <th>Octopussy</th>\n",
       "      <td>1983</td>\n",
       "      <td>Roger Moore</td>\n",
       "      <td>John Glen</td>\n",
       "      <td>373.8</td>\n",
       "      <td>53.9</td>\n",
       "      <td>7.8</td>\n",
       "    </tr>\n",
       "  </tbody>\n",
       "</table>\n",
       "</div>"
      ],
      "text/plain": [
       "           Year        Actor       Director  Box Office  Budget  \\\n",
       "Film                                                              \n",
       "Moonraker  1979  Roger Moore  Lewis Gilbert       535.0    91.5   \n",
       "Octopussy  1983  Roger Moore      John Glen       373.8    53.9   \n",
       "\n",
       "           Bond Actor Salary  \n",
       "Film                          \n",
       "Moonraker                NaN  \n",
       "Octopussy                7.8  "
      ]
     },
     "execution_count": 101,
     "metadata": {},
     "output_type": "execute_result"
    }
   ],
   "source": [
    "bond.loc[['Moonraker','Octopussy']]"
   ]
  },
  {
   "cell_type": "markdown",
   "metadata": {},
   "source": [
    "**If we provide multiple index names, of which one or more does not exist in the DataFrame, NaN is returned for all columns** <br/>\n",
    "In the code below, 'Goldfinger' and 'License to Kill' exist. However, 'Goldbond' does not exist."
   ]
  },
  {
   "cell_type": "code",
   "execution_count": 102,
   "metadata": {},
   "outputs": [
    {
     "data": {
      "text/plain": [
       "False"
      ]
     },
     "execution_count": 102,
     "metadata": {},
     "output_type": "execute_result"
    }
   ],
   "source": [
    "'Goldbond' in bond.index"
   ]
  },
  {
   "cell_type": "code",
   "execution_count": 103,
   "metadata": {},
   "outputs": [
    {
     "name": "stderr",
     "output_type": "stream",
     "text": [
      "C:\\Users\\272159\\AppData\\Local\\Continuum\\anaconda3\\lib\\site-packages\\ipykernel_launcher.py:1: FutureWarning: \n",
      "Passing list-likes to .loc or [] with any missing label will raise\n",
      "KeyError in the future, you can use .reindex() as an alternative.\n",
      "\n",
      "See the documentation here:\n",
      "https://pandas.pydata.org/pandas-docs/stable/indexing.html#deprecate-loc-reindex-listlike\n",
      "  \"\"\"Entry point for launching an IPython kernel.\n"
     ]
    },
    {
     "data": {
      "text/html": [
       "<div>\n",
       "<style scoped>\n",
       "    .dataframe tbody tr th:only-of-type {\n",
       "        vertical-align: middle;\n",
       "    }\n",
       "\n",
       "    .dataframe tbody tr th {\n",
       "        vertical-align: top;\n",
       "    }\n",
       "\n",
       "    .dataframe thead th {\n",
       "        text-align: right;\n",
       "    }\n",
       "</style>\n",
       "<table border=\"1\" class=\"dataframe\">\n",
       "  <thead>\n",
       "    <tr style=\"text-align: right;\">\n",
       "      <th></th>\n",
       "      <th>Year</th>\n",
       "      <th>Actor</th>\n",
       "      <th>Director</th>\n",
       "      <th>Box Office</th>\n",
       "      <th>Budget</th>\n",
       "      <th>Bond Actor Salary</th>\n",
       "    </tr>\n",
       "    <tr>\n",
       "      <th>Film</th>\n",
       "      <th></th>\n",
       "      <th></th>\n",
       "      <th></th>\n",
       "      <th></th>\n",
       "      <th></th>\n",
       "      <th></th>\n",
       "    </tr>\n",
       "  </thead>\n",
       "  <tbody>\n",
       "    <tr>\n",
       "      <th>Goldfinger</th>\n",
       "      <td>1964.0</td>\n",
       "      <td>Sean Connery</td>\n",
       "      <td>Guy Hamilton</td>\n",
       "      <td>820.4</td>\n",
       "      <td>18.6</td>\n",
       "      <td>3.2</td>\n",
       "    </tr>\n",
       "    <tr>\n",
       "      <th>Licence to Kill</th>\n",
       "      <td>1989.0</td>\n",
       "      <td>Timothy Dalton</td>\n",
       "      <td>John Glen</td>\n",
       "      <td>250.9</td>\n",
       "      <td>56.7</td>\n",
       "      <td>7.9</td>\n",
       "    </tr>\n",
       "    <tr>\n",
       "      <th>Goldbond</th>\n",
       "      <td>NaN</td>\n",
       "      <td>NaN</td>\n",
       "      <td>NaN</td>\n",
       "      <td>NaN</td>\n",
       "      <td>NaN</td>\n",
       "      <td>NaN</td>\n",
       "    </tr>\n",
       "  </tbody>\n",
       "</table>\n",
       "</div>"
      ],
      "text/plain": [
       "                   Year           Actor      Director  Box Office  Budget  \\\n",
       "Film                                                                        \n",
       "Goldfinger       1964.0    Sean Connery  Guy Hamilton       820.4    18.6   \n",
       "Licence to Kill  1989.0  Timothy Dalton     John Glen       250.9    56.7   \n",
       "Goldbond            NaN             NaN           NaN         NaN     NaN   \n",
       "\n",
       "                 Bond Actor Salary  \n",
       "Film                                \n",
       "Goldfinger                     3.2  \n",
       "Licence to Kill                7.9  \n",
       "Goldbond                       NaN  "
      ]
     },
     "execution_count": 103,
     "metadata": {},
     "output_type": "execute_result"
    }
   ],
   "source": [
    "bond.loc[['Goldfinger','Licence to Kill','Goldbond']]"
   ]
  },
  {
   "cell_type": "markdown",
   "metadata": {},
   "source": [
    "The order in which the values are returned in the Dataframe is exactly the same as they were passed to the `.loc[..]`.\n",
    "-----"
   ]
  },
  {
   "cell_type": "markdown",
   "metadata": {},
   "source": [
    "----\n",
    "## Retrieve row(s) by index position with `iloc[..]`"
   ]
  },
  {
   "cell_type": "code",
   "execution_count": 104,
   "metadata": {},
   "outputs": [
    {
     "data": {
      "text/html": [
       "<div>\n",
       "<style scoped>\n",
       "    .dataframe tbody tr th:only-of-type {\n",
       "        vertical-align: middle;\n",
       "    }\n",
       "\n",
       "    .dataframe tbody tr th {\n",
       "        vertical-align: top;\n",
       "    }\n",
       "\n",
       "    .dataframe thead th {\n",
       "        text-align: right;\n",
       "    }\n",
       "</style>\n",
       "<table border=\"1\" class=\"dataframe\">\n",
       "  <thead>\n",
       "    <tr style=\"text-align: right;\">\n",
       "      <th></th>\n",
       "      <th>Film</th>\n",
       "      <th>Year</th>\n",
       "      <th>Actor</th>\n",
       "      <th>Director</th>\n",
       "      <th>Box Office</th>\n",
       "      <th>Budget</th>\n",
       "      <th>Bond Actor Salary</th>\n",
       "    </tr>\n",
       "  </thead>\n",
       "  <tbody>\n",
       "    <tr>\n",
       "      <th>0</th>\n",
       "      <td>Dr. No</td>\n",
       "      <td>1962</td>\n",
       "      <td>Sean Connery</td>\n",
       "      <td>Terence Young</td>\n",
       "      <td>448.8</td>\n",
       "      <td>7.0</td>\n",
       "      <td>0.6</td>\n",
       "    </tr>\n",
       "    <tr>\n",
       "      <th>1</th>\n",
       "      <td>From Russia with Love</td>\n",
       "      <td>1963</td>\n",
       "      <td>Sean Connery</td>\n",
       "      <td>Terence Young</td>\n",
       "      <td>543.8</td>\n",
       "      <td>12.6</td>\n",
       "      <td>1.6</td>\n",
       "    </tr>\n",
       "    <tr>\n",
       "      <th>2</th>\n",
       "      <td>Goldfinger</td>\n",
       "      <td>1964</td>\n",
       "      <td>Sean Connery</td>\n",
       "      <td>Guy Hamilton</td>\n",
       "      <td>820.4</td>\n",
       "      <td>18.6</td>\n",
       "      <td>3.2</td>\n",
       "    </tr>\n",
       "  </tbody>\n",
       "</table>\n",
       "</div>"
      ],
      "text/plain": [
       "                    Film  Year         Actor       Director  Box Office  \\\n",
       "0                 Dr. No  1962  Sean Connery  Terence Young       448.8   \n",
       "1  From Russia with Love  1963  Sean Connery  Terence Young       543.8   \n",
       "2             Goldfinger  1964  Sean Connery   Guy Hamilton       820.4   \n",
       "\n",
       "   Budget  Bond Actor Salary  \n",
       "0     7.0                0.6  \n",
       "1    12.6                1.6  \n",
       "2    18.6                3.2  "
      ]
     },
     "execution_count": 104,
     "metadata": {},
     "output_type": "execute_result"
    }
   ],
   "source": [
    "bond =  pd.read_csv('pandas/jamesbond.csv')\n",
    "bond.head(3)"
   ]
  },
  {
   "cell_type": "code",
   "execution_count": 105,
   "metadata": {},
   "outputs": [
    {
     "data": {
      "text/plain": [
       "Film                   Goldfinger\n",
       "Year                         1964\n",
       "Actor                Sean Connery\n",
       "Director             Guy Hamilton\n",
       "Box Office                  820.4\n",
       "Budget                       18.6\n",
       "Bond Actor Salary             3.2\n",
       "Name: 2, dtype: object"
      ]
     },
     "execution_count": 105,
     "metadata": {},
     "output_type": "execute_result"
    }
   ],
   "source": [
    "bond.iloc[2]"
   ]
  },
  {
   "cell_type": "markdown",
   "metadata": {},
   "source": [
    "Since right now the indices are numerical starting from zero, the behavior of `.loc[..]` will be the same as that for `iloc[..]`"
   ]
  },
  {
   "cell_type": "code",
   "execution_count": 106,
   "metadata": {},
   "outputs": [
    {
     "data": {
      "text/plain": [
       "Film                   Goldfinger\n",
       "Year                         1964\n",
       "Actor                Sean Connery\n",
       "Director             Guy Hamilton\n",
       "Box Office                  820.4\n",
       "Budget                       18.6\n",
       "Bond Actor Salary             3.2\n",
       "Name: 2, dtype: object"
      ]
     },
     "execution_count": 106,
     "metadata": {},
     "output_type": "execute_result"
    }
   ],
   "source": [
    "bond.loc[2]"
   ]
  },
  {
   "cell_type": "markdown",
   "metadata": {},
   "source": [
    "**Multiple values using `iloc[..]`**"
   ]
  },
  {
   "cell_type": "code",
   "execution_count": 107,
   "metadata": {},
   "outputs": [
    {
     "data": {
      "text/html": [
       "<div>\n",
       "<style scoped>\n",
       "    .dataframe tbody tr th:only-of-type {\n",
       "        vertical-align: middle;\n",
       "    }\n",
       "\n",
       "    .dataframe tbody tr th {\n",
       "        vertical-align: top;\n",
       "    }\n",
       "\n",
       "    .dataframe thead th {\n",
       "        text-align: right;\n",
       "    }\n",
       "</style>\n",
       "<table border=\"1\" class=\"dataframe\">\n",
       "  <thead>\n",
       "    <tr style=\"text-align: right;\">\n",
       "      <th></th>\n",
       "      <th>Film</th>\n",
       "      <th>Year</th>\n",
       "      <th>Actor</th>\n",
       "      <th>Director</th>\n",
       "      <th>Box Office</th>\n",
       "      <th>Budget</th>\n",
       "      <th>Bond Actor Salary</th>\n",
       "    </tr>\n",
       "  </thead>\n",
       "  <tbody>\n",
       "    <tr>\n",
       "      <th>2</th>\n",
       "      <td>Goldfinger</td>\n",
       "      <td>1964</td>\n",
       "      <td>Sean Connery</td>\n",
       "      <td>Guy Hamilton</td>\n",
       "      <td>820.4</td>\n",
       "      <td>18.6</td>\n",
       "      <td>3.2</td>\n",
       "    </tr>\n",
       "    <tr>\n",
       "      <th>4</th>\n",
       "      <td>Casino Royale</td>\n",
       "      <td>1967</td>\n",
       "      <td>David Niven</td>\n",
       "      <td>Ken Hughes</td>\n",
       "      <td>315.0</td>\n",
       "      <td>85.0</td>\n",
       "      <td>NaN</td>\n",
       "    </tr>\n",
       "    <tr>\n",
       "      <th>5</th>\n",
       "      <td>You Only Live Twice</td>\n",
       "      <td>1967</td>\n",
       "      <td>Sean Connery</td>\n",
       "      <td>Lewis Gilbert</td>\n",
       "      <td>514.2</td>\n",
       "      <td>59.9</td>\n",
       "      <td>4.4</td>\n",
       "    </tr>\n",
       "  </tbody>\n",
       "</table>\n",
       "</div>"
      ],
      "text/plain": [
       "                  Film  Year         Actor       Director  Box Office  Budget  \\\n",
       "2           Goldfinger  1964  Sean Connery   Guy Hamilton       820.4    18.6   \n",
       "4        Casino Royale  1967   David Niven     Ken Hughes       315.0    85.0   \n",
       "5  You Only Live Twice  1967  Sean Connery  Lewis Gilbert       514.2    59.9   \n",
       "\n",
       "   Bond Actor Salary  \n",
       "2                3.2  \n",
       "4                NaN  \n",
       "5                4.4  "
      ]
     },
     "execution_count": 107,
     "metadata": {},
     "output_type": "execute_result"
    }
   ],
   "source": [
    "bond.iloc[[2,4,5]] # NOTE, another DataFrame is returned"
   ]
  },
  {
   "cell_type": "code",
   "execution_count": 108,
   "metadata": {},
   "outputs": [
    {
     "data": {
      "text/html": [
       "<div>\n",
       "<style scoped>\n",
       "    .dataframe tbody tr th:only-of-type {\n",
       "        vertical-align: middle;\n",
       "    }\n",
       "\n",
       "    .dataframe tbody tr th {\n",
       "        vertical-align: top;\n",
       "    }\n",
       "\n",
       "    .dataframe thead th {\n",
       "        text-align: right;\n",
       "    }\n",
       "</style>\n",
       "<table border=\"1\" class=\"dataframe\">\n",
       "  <thead>\n",
       "    <tr style=\"text-align: right;\">\n",
       "      <th></th>\n",
       "      <th>Film</th>\n",
       "      <th>Year</th>\n",
       "      <th>Actor</th>\n",
       "      <th>Director</th>\n",
       "      <th>Box Office</th>\n",
       "      <th>Budget</th>\n",
       "      <th>Bond Actor Salary</th>\n",
       "    </tr>\n",
       "  </thead>\n",
       "  <tbody>\n",
       "    <tr>\n",
       "      <th>0</th>\n",
       "      <td>Dr. No</td>\n",
       "      <td>1962</td>\n",
       "      <td>Sean Connery</td>\n",
       "      <td>Terence Young</td>\n",
       "      <td>448.8</td>\n",
       "      <td>7.0</td>\n",
       "      <td>0.6</td>\n",
       "    </tr>\n",
       "    <tr>\n",
       "      <th>1</th>\n",
       "      <td>From Russia with Love</td>\n",
       "      <td>1963</td>\n",
       "      <td>Sean Connery</td>\n",
       "      <td>Terence Young</td>\n",
       "      <td>543.8</td>\n",
       "      <td>12.6</td>\n",
       "      <td>1.6</td>\n",
       "    </tr>\n",
       "    <tr>\n",
       "      <th>2</th>\n",
       "      <td>Goldfinger</td>\n",
       "      <td>1964</td>\n",
       "      <td>Sean Connery</td>\n",
       "      <td>Guy Hamilton</td>\n",
       "      <td>820.4</td>\n",
       "      <td>18.6</td>\n",
       "      <td>3.2</td>\n",
       "    </tr>\n",
       "  </tbody>\n",
       "</table>\n",
       "</div>"
      ],
      "text/plain": [
       "                    Film  Year         Actor       Director  Box Office  \\\n",
       "0                 Dr. No  1962  Sean Connery  Terence Young       448.8   \n",
       "1  From Russia with Love  1963  Sean Connery  Terence Young       543.8   \n",
       "2             Goldfinger  1964  Sean Connery   Guy Hamilton       820.4   \n",
       "\n",
       "   Budget  Bond Actor Salary  \n",
       "0     7.0                0.6  \n",
       "1    12.6                1.6  \n",
       "2    18.6                3.2  "
      ]
     },
     "execution_count": 108,
     "metadata": {},
     "output_type": "execute_result"
    }
   ],
   "source": [
    "bond.iloc[:3]"
   ]
  },
  {
   "cell_type": "markdown",
   "metadata": {},
   "source": [
    "**Reading the CSV again this time with `Film` column set as index**"
   ]
  },
  {
   "cell_type": "code",
   "execution_count": 109,
   "metadata": {},
   "outputs": [
    {
     "data": {
      "text/html": [
       "<div>\n",
       "<style scoped>\n",
       "    .dataframe tbody tr th:only-of-type {\n",
       "        vertical-align: middle;\n",
       "    }\n",
       "\n",
       "    .dataframe tbody tr th {\n",
       "        vertical-align: top;\n",
       "    }\n",
       "\n",
       "    .dataframe thead th {\n",
       "        text-align: right;\n",
       "    }\n",
       "</style>\n",
       "<table border=\"1\" class=\"dataframe\">\n",
       "  <thead>\n",
       "    <tr style=\"text-align: right;\">\n",
       "      <th></th>\n",
       "      <th>Year</th>\n",
       "      <th>Actor</th>\n",
       "      <th>Director</th>\n",
       "      <th>Box Office</th>\n",
       "      <th>Budget</th>\n",
       "      <th>Bond Actor Salary</th>\n",
       "    </tr>\n",
       "    <tr>\n",
       "      <th>Film</th>\n",
       "      <th></th>\n",
       "      <th></th>\n",
       "      <th></th>\n",
       "      <th></th>\n",
       "      <th></th>\n",
       "      <th></th>\n",
       "    </tr>\n",
       "  </thead>\n",
       "  <tbody>\n",
       "    <tr>\n",
       "      <th>A View to a Kill</th>\n",
       "      <td>1985</td>\n",
       "      <td>Roger Moore</td>\n",
       "      <td>John Glen</td>\n",
       "      <td>275.2</td>\n",
       "      <td>54.5</td>\n",
       "      <td>9.1</td>\n",
       "    </tr>\n",
       "    <tr>\n",
       "      <th>Casino Royale</th>\n",
       "      <td>2006</td>\n",
       "      <td>Daniel Craig</td>\n",
       "      <td>Martin Campbell</td>\n",
       "      <td>581.5</td>\n",
       "      <td>145.3</td>\n",
       "      <td>3.3</td>\n",
       "    </tr>\n",
       "    <tr>\n",
       "      <th>Casino Royale</th>\n",
       "      <td>1967</td>\n",
       "      <td>David Niven</td>\n",
       "      <td>Ken Hughes</td>\n",
       "      <td>315.0</td>\n",
       "      <td>85.0</td>\n",
       "      <td>NaN</td>\n",
       "    </tr>\n",
       "  </tbody>\n",
       "</table>\n",
       "</div>"
      ],
      "text/plain": [
       "                  Year         Actor         Director  Box Office  Budget  \\\n",
       "Film                                                                        \n",
       "A View to a Kill  1985   Roger Moore        John Glen       275.2    54.5   \n",
       "Casino Royale     2006  Daniel Craig  Martin Campbell       581.5   145.3   \n",
       "Casino Royale     1967   David Niven       Ken Hughes       315.0    85.0   \n",
       "\n",
       "                  Bond Actor Salary  \n",
       "Film                                 \n",
       "A View to a Kill                9.1  \n",
       "Casino Royale                   3.3  \n",
       "Casino Royale                   NaN  "
      ]
     },
     "execution_count": 109,
     "metadata": {},
     "output_type": "execute_result"
    }
   ],
   "source": [
    "bond = pd.read_csv('pandas/jamesbond.csv', index_col='Film')\n",
    "bond.sort_index(inplace=True)\n",
    "bond.head(3)"
   ]
  },
  {
   "cell_type": "markdown",
   "metadata": {},
   "source": [
    "**Using the `loc[..]` to obtain the specific row as demonstrated above**"
   ]
  },
  {
   "cell_type": "code",
   "execution_count": 110,
   "metadata": {},
   "outputs": [
    {
     "data": {
      "text/plain": [
       "Year                         1964\n",
       "Actor                Sean Connery\n",
       "Director             Guy Hamilton\n",
       "Box Office                  820.4\n",
       "Budget                       18.6\n",
       "Bond Actor Salary             3.2\n",
       "Name: Goldfinger, dtype: object"
      ]
     },
     "execution_count": 110,
     "metadata": {},
     "output_type": "execute_result"
    }
   ],
   "source": [
    "bond.loc['Goldfinger']"
   ]
  },
  {
   "cell_type": "markdown",
   "metadata": {},
   "source": [
    "**Interesting** <br/>\n",
    "Even though we have string indices now in our `bond` DataFrame, we can still use the `.iloc[..]` and obtain the records by passing numerical index values. "
   ]
  },
  {
   "cell_type": "code",
   "execution_count": 111,
   "metadata": {},
   "outputs": [
    {
     "data": {
      "text/plain": [
       "Year                        1985\n",
       "Actor                Roger Moore\n",
       "Director               John Glen\n",
       "Box Office                 275.2\n",
       "Budget                      54.5\n",
       "Bond Actor Salary            9.1\n",
       "Name: A View to a Kill, dtype: object"
      ]
     },
     "execution_count": 111,
     "metadata": {},
     "output_type": "execute_result"
    }
   ],
   "source": [
    "bond.iloc[0]"
   ]
  },
  {
   "cell_type": "code",
   "execution_count": 112,
   "metadata": {},
   "outputs": [
    {
     "data": {
      "text/html": [
       "<div>\n",
       "<style scoped>\n",
       "    .dataframe tbody tr th:only-of-type {\n",
       "        vertical-align: middle;\n",
       "    }\n",
       "\n",
       "    .dataframe tbody tr th {\n",
       "        vertical-align: top;\n",
       "    }\n",
       "\n",
       "    .dataframe thead th {\n",
       "        text-align: right;\n",
       "    }\n",
       "</style>\n",
       "<table border=\"1\" class=\"dataframe\">\n",
       "  <thead>\n",
       "    <tr style=\"text-align: right;\">\n",
       "      <th></th>\n",
       "      <th>Year</th>\n",
       "      <th>Actor</th>\n",
       "      <th>Director</th>\n",
       "      <th>Box Office</th>\n",
       "      <th>Budget</th>\n",
       "      <th>Bond Actor Salary</th>\n",
       "    </tr>\n",
       "    <tr>\n",
       "      <th>Film</th>\n",
       "      <th></th>\n",
       "      <th></th>\n",
       "      <th></th>\n",
       "      <th></th>\n",
       "      <th></th>\n",
       "      <th></th>\n",
       "    </tr>\n",
       "  </thead>\n",
       "  <tbody>\n",
       "    <tr>\n",
       "      <th>A View to a Kill</th>\n",
       "      <td>1985</td>\n",
       "      <td>Roger Moore</td>\n",
       "      <td>John Glen</td>\n",
       "      <td>275.2</td>\n",
       "      <td>54.5</td>\n",
       "      <td>9.1</td>\n",
       "    </tr>\n",
       "    <tr>\n",
       "      <th>Casino Royale</th>\n",
       "      <td>2006</td>\n",
       "      <td>Daniel Craig</td>\n",
       "      <td>Martin Campbell</td>\n",
       "      <td>581.5</td>\n",
       "      <td>145.3</td>\n",
       "      <td>3.3</td>\n",
       "    </tr>\n",
       "    <tr>\n",
       "      <th>Casino Royale</th>\n",
       "      <td>1967</td>\n",
       "      <td>David Niven</td>\n",
       "      <td>Ken Hughes</td>\n",
       "      <td>315.0</td>\n",
       "      <td>85.0</td>\n",
       "      <td>NaN</td>\n",
       "    </tr>\n",
       "    <tr>\n",
       "      <th>Diamonds Are Forever</th>\n",
       "      <td>1971</td>\n",
       "      <td>Sean Connery</td>\n",
       "      <td>Guy Hamilton</td>\n",
       "      <td>442.5</td>\n",
       "      <td>34.7</td>\n",
       "      <td>5.8</td>\n",
       "    </tr>\n",
       "    <tr>\n",
       "      <th>Die Another Day</th>\n",
       "      <td>2002</td>\n",
       "      <td>Pierce Brosnan</td>\n",
       "      <td>Lee Tamahori</td>\n",
       "      <td>465.4</td>\n",
       "      <td>154.2</td>\n",
       "      <td>17.9</td>\n",
       "    </tr>\n",
       "  </tbody>\n",
       "</table>\n",
       "</div>"
      ],
      "text/plain": [
       "                      Year           Actor         Director  Box Office  \\\n",
       "Film                                                                      \n",
       "A View to a Kill      1985     Roger Moore        John Glen       275.2   \n",
       "Casino Royale         2006    Daniel Craig  Martin Campbell       581.5   \n",
       "Casino Royale         1967     David Niven       Ken Hughes       315.0   \n",
       "Diamonds Are Forever  1971    Sean Connery     Guy Hamilton       442.5   \n",
       "Die Another Day       2002  Pierce Brosnan     Lee Tamahori       465.4   \n",
       "\n",
       "                      Budget  Bond Actor Salary  \n",
       "Film                                             \n",
       "A View to a Kill        54.5                9.1  \n",
       "Casino Royale          145.3                3.3  \n",
       "Casino Royale           85.0                NaN  \n",
       "Diamonds Are Forever    34.7                5.8  \n",
       "Die Another Day        154.2               17.9  "
      ]
     },
     "execution_count": 112,
     "metadata": {},
     "output_type": "execute_result"
    }
   ],
   "source": [
    "bond.iloc[:5]"
   ]
  },
  {
   "cell_type": "markdown",
   "metadata": {},
   "source": [
    "---\n",
    "## The catch-all `.ix[..]` method (Depreciated)\n",
    "Combines the working of `.loc[..]` and `.iloc[..]` methods"
   ]
  },
  {
   "cell_type": "code",
   "execution_count": 113,
   "metadata": {},
   "outputs": [
    {
     "data": {
      "text/html": [
       "<div>\n",
       "<style scoped>\n",
       "    .dataframe tbody tr th:only-of-type {\n",
       "        vertical-align: middle;\n",
       "    }\n",
       "\n",
       "    .dataframe tbody tr th {\n",
       "        vertical-align: top;\n",
       "    }\n",
       "\n",
       "    .dataframe thead th {\n",
       "        text-align: right;\n",
       "    }\n",
       "</style>\n",
       "<table border=\"1\" class=\"dataframe\">\n",
       "  <thead>\n",
       "    <tr style=\"text-align: right;\">\n",
       "      <th></th>\n",
       "      <th>Year</th>\n",
       "      <th>Actor</th>\n",
       "      <th>Director</th>\n",
       "      <th>Box Office</th>\n",
       "      <th>Budget</th>\n",
       "      <th>Bond Actor Salary</th>\n",
       "    </tr>\n",
       "    <tr>\n",
       "      <th>Film</th>\n",
       "      <th></th>\n",
       "      <th></th>\n",
       "      <th></th>\n",
       "      <th></th>\n",
       "      <th></th>\n",
       "      <th></th>\n",
       "    </tr>\n",
       "  </thead>\n",
       "  <tbody>\n",
       "    <tr>\n",
       "      <th>A View to a Kill</th>\n",
       "      <td>1985</td>\n",
       "      <td>Roger Moore</td>\n",
       "      <td>John Glen</td>\n",
       "      <td>275.2</td>\n",
       "      <td>54.5</td>\n",
       "      <td>9.1</td>\n",
       "    </tr>\n",
       "    <tr>\n",
       "      <th>Casino Royale</th>\n",
       "      <td>2006</td>\n",
       "      <td>Daniel Craig</td>\n",
       "      <td>Martin Campbell</td>\n",
       "      <td>581.5</td>\n",
       "      <td>145.3</td>\n",
       "      <td>3.3</td>\n",
       "    </tr>\n",
       "    <tr>\n",
       "      <th>Casino Royale</th>\n",
       "      <td>1967</td>\n",
       "      <td>David Niven</td>\n",
       "      <td>Ken Hughes</td>\n",
       "      <td>315.0</td>\n",
       "      <td>85.0</td>\n",
       "      <td>NaN</td>\n",
       "    </tr>\n",
       "  </tbody>\n",
       "</table>\n",
       "</div>"
      ],
      "text/plain": [
       "                  Year         Actor         Director  Box Office  Budget  \\\n",
       "Film                                                                        \n",
       "A View to a Kill  1985   Roger Moore        John Glen       275.2    54.5   \n",
       "Casino Royale     2006  Daniel Craig  Martin Campbell       581.5   145.3   \n",
       "Casino Royale     1967   David Niven       Ken Hughes       315.0    85.0   \n",
       "\n",
       "                  Bond Actor Salary  \n",
       "Film                                 \n",
       "A View to a Kill                9.1  \n",
       "Casino Royale                   3.3  \n",
       "Casino Royale                   NaN  "
      ]
     },
     "execution_count": 113,
     "metadata": {},
     "output_type": "execute_result"
    }
   ],
   "source": [
    "bond = pd.read_csv('pandas/jamesbond.csv', index_col='Film')\n",
    "bond.sort_index(inplace=True)\n",
    "bond.head(3)"
   ]
  },
  {
   "cell_type": "code",
   "execution_count": 114,
   "metadata": {},
   "outputs": [
    {
     "name": "stderr",
     "output_type": "stream",
     "text": [
      "C:\\Users\\272159\\AppData\\Local\\Continuum\\anaconda3\\lib\\site-packages\\ipykernel_launcher.py:1: DeprecationWarning: \n",
      ".ix is deprecated. Please use\n",
      ".loc for label based indexing or\n",
      ".iloc for positional indexing\n",
      "\n",
      "See the documentation here:\n",
      "http://pandas.pydata.org/pandas-docs/stable/indexing.html#ix-indexer-is-deprecated\n",
      "  \"\"\"Entry point for launching an IPython kernel.\n"
     ]
    },
    {
     "data": {
      "text/plain": [
       "Year                            1995\n",
       "Actor                 Pierce Brosnan\n",
       "Director             Martin Campbell\n",
       "Box Office                     518.5\n",
       "Budget                          76.9\n",
       "Bond Actor Salary                5.1\n",
       "Name: GoldenEye, dtype: object"
      ]
     },
     "execution_count": 114,
     "metadata": {},
     "output_type": "execute_result"
    }
   ],
   "source": [
    "bond.ix['GoldenEye']"
   ]
  },
  {
   "cell_type": "code",
   "execution_count": 115,
   "metadata": {},
   "outputs": [
    {
     "name": "stderr",
     "output_type": "stream",
     "text": [
      "C:\\Users\\272159\\AppData\\Local\\Continuum\\anaconda3\\lib\\site-packages\\ipykernel_launcher.py:1: DeprecationWarning: \n",
      ".ix is deprecated. Please use\n",
      ".loc for label based indexing or\n",
      ".iloc for positional indexing\n",
      "\n",
      "See the documentation here:\n",
      "http://pandas.pydata.org/pandas-docs/stable/indexing.html#ix-indexer-is-deprecated\n",
      "  \"\"\"Entry point for launching an IPython kernel.\n"
     ]
    },
    {
     "data": {
      "text/plain": [
       "Year                        1967\n",
       "Actor                David Niven\n",
       "Director              Ken Hughes\n",
       "Box Office                   315\n",
       "Budget                        85\n",
       "Bond Actor Salary            NaN\n",
       "Name: Casino Royale, dtype: object"
      ]
     },
     "execution_count": 115,
     "metadata": {},
     "output_type": "execute_result"
    }
   ],
   "source": [
    "bond.ix[2]"
   ]
  },
  {
   "cell_type": "markdown",
   "metadata": {},
   "source": [
    "### Second parameter to the `.loc[..]`, `.iloc[..]` and `.ix[..]` methods"
   ]
  },
  {
   "cell_type": "code",
   "execution_count": 116,
   "metadata": {},
   "outputs": [
    {
     "data": {
      "text/html": [
       "<div>\n",
       "<style scoped>\n",
       "    .dataframe tbody tr th:only-of-type {\n",
       "        vertical-align: middle;\n",
       "    }\n",
       "\n",
       "    .dataframe tbody tr th {\n",
       "        vertical-align: top;\n",
       "    }\n",
       "\n",
       "    .dataframe thead th {\n",
       "        text-align: right;\n",
       "    }\n",
       "</style>\n",
       "<table border=\"1\" class=\"dataframe\">\n",
       "  <thead>\n",
       "    <tr style=\"text-align: right;\">\n",
       "      <th></th>\n",
       "      <th>Year</th>\n",
       "      <th>Actor</th>\n",
       "      <th>Director</th>\n",
       "      <th>Box Office</th>\n",
       "      <th>Budget</th>\n",
       "      <th>Bond Actor Salary</th>\n",
       "    </tr>\n",
       "    <tr>\n",
       "      <th>Film</th>\n",
       "      <th></th>\n",
       "      <th></th>\n",
       "      <th></th>\n",
       "      <th></th>\n",
       "      <th></th>\n",
       "      <th></th>\n",
       "    </tr>\n",
       "  </thead>\n",
       "  <tbody>\n",
       "    <tr>\n",
       "      <th>A View to a Kill</th>\n",
       "      <td>1985</td>\n",
       "      <td>Roger Moore</td>\n",
       "      <td>John Glen</td>\n",
       "      <td>275.2</td>\n",
       "      <td>54.5</td>\n",
       "      <td>9.1</td>\n",
       "    </tr>\n",
       "    <tr>\n",
       "      <th>Casino Royale</th>\n",
       "      <td>2006</td>\n",
       "      <td>Daniel Craig</td>\n",
       "      <td>Martin Campbell</td>\n",
       "      <td>581.5</td>\n",
       "      <td>145.3</td>\n",
       "      <td>3.3</td>\n",
       "    </tr>\n",
       "    <tr>\n",
       "      <th>Casino Royale</th>\n",
       "      <td>1967</td>\n",
       "      <td>David Niven</td>\n",
       "      <td>Ken Hughes</td>\n",
       "      <td>315.0</td>\n",
       "      <td>85.0</td>\n",
       "      <td>NaN</td>\n",
       "    </tr>\n",
       "  </tbody>\n",
       "</table>\n",
       "</div>"
      ],
      "text/plain": [
       "                  Year         Actor         Director  Box Office  Budget  \\\n",
       "Film                                                                        \n",
       "A View to a Kill  1985   Roger Moore        John Glen       275.2    54.5   \n",
       "Casino Royale     2006  Daniel Craig  Martin Campbell       581.5   145.3   \n",
       "Casino Royale     1967   David Niven       Ken Hughes       315.0    85.0   \n",
       "\n",
       "                  Bond Actor Salary  \n",
       "Film                                 \n",
       "A View to a Kill                9.1  \n",
       "Casino Royale                   3.3  \n",
       "Casino Royale                   NaN  "
      ]
     },
     "execution_count": 116,
     "metadata": {},
     "output_type": "execute_result"
    }
   ],
   "source": [
    "bond = pd.read_csv('pandas/jamesbond.csv', index_col='Film')\n",
    "bond.sort_index(inplace=True)\n",
    "bond.head(3)"
   ]
  },
  {
   "cell_type": "code",
   "execution_count": 117,
   "metadata": {},
   "outputs": [
    {
     "data": {
      "text/plain": [
       "'Roger Moore'"
      ]
     },
     "execution_count": 117,
     "metadata": {},
     "output_type": "execute_result"
    }
   ],
   "source": [
    "bond.loc['A View to a Kill', 'Actor']"
   ]
  },
  {
   "cell_type": "code",
   "execution_count": 118,
   "metadata": {},
   "outputs": [
    {
     "data": {
      "text/plain": [
       "'Martin Campbell'"
      ]
     },
     "execution_count": 118,
     "metadata": {},
     "output_type": "execute_result"
    }
   ],
   "source": [
    "bond.iloc[1, 2]"
   ]
  },
  {
   "cell_type": "code",
   "execution_count": 119,
   "metadata": {},
   "outputs": [
    {
     "name": "stderr",
     "output_type": "stream",
     "text": [
      "C:\\Users\\272159\\AppData\\Local\\Continuum\\anaconda3\\lib\\site-packages\\ipykernel_launcher.py:1: DeprecationWarning: \n",
      ".ix is deprecated. Please use\n",
      ".loc for label based indexing or\n",
      ".iloc for positional indexing\n",
      "\n",
      "See the documentation here:\n",
      "http://pandas.pydata.org/pandas-docs/stable/indexing.html#ix-indexer-is-deprecated\n",
      "  \"\"\"Entry point for launching an IPython kernel.\n"
     ]
    },
    {
     "data": {
      "text/plain": [
       "'Daniel Craig'"
      ]
     },
     "execution_count": 119,
     "metadata": {},
     "output_type": "execute_result"
    }
   ],
   "source": [
    "bond.ix[1,'Actor']"
   ]
  },
  {
   "cell_type": "markdown",
   "metadata": {},
   "source": [
    "---\n",
    "## Set new values for specific rows or cells"
   ]
  },
  {
   "cell_type": "code",
   "execution_count": 120,
   "metadata": {},
   "outputs": [
    {
     "data": {
      "text/html": [
       "<div>\n",
       "<style scoped>\n",
       "    .dataframe tbody tr th:only-of-type {\n",
       "        vertical-align: middle;\n",
       "    }\n",
       "\n",
       "    .dataframe tbody tr th {\n",
       "        vertical-align: top;\n",
       "    }\n",
       "\n",
       "    .dataframe thead th {\n",
       "        text-align: right;\n",
       "    }\n",
       "</style>\n",
       "<table border=\"1\" class=\"dataframe\">\n",
       "  <thead>\n",
       "    <tr style=\"text-align: right;\">\n",
       "      <th></th>\n",
       "      <th>Year</th>\n",
       "      <th>Actor</th>\n",
       "      <th>Director</th>\n",
       "      <th>Box Office</th>\n",
       "      <th>Budget</th>\n",
       "      <th>Bond Actor Salary</th>\n",
       "    </tr>\n",
       "    <tr>\n",
       "      <th>Film</th>\n",
       "      <th></th>\n",
       "      <th></th>\n",
       "      <th></th>\n",
       "      <th></th>\n",
       "      <th></th>\n",
       "      <th></th>\n",
       "    </tr>\n",
       "  </thead>\n",
       "  <tbody>\n",
       "    <tr>\n",
       "      <th>A View to a Kill</th>\n",
       "      <td>1985</td>\n",
       "      <td>Roger Moore</td>\n",
       "      <td>John Glen</td>\n",
       "      <td>275.2</td>\n",
       "      <td>54.5</td>\n",
       "      <td>9.1</td>\n",
       "    </tr>\n",
       "    <tr>\n",
       "      <th>Casino Royale</th>\n",
       "      <td>2006</td>\n",
       "      <td>Daniel Craig</td>\n",
       "      <td>Martin Campbell</td>\n",
       "      <td>581.5</td>\n",
       "      <td>145.3</td>\n",
       "      <td>3.3</td>\n",
       "    </tr>\n",
       "    <tr>\n",
       "      <th>Casino Royale</th>\n",
       "      <td>1967</td>\n",
       "      <td>David Niven</td>\n",
       "      <td>Ken Hughes</td>\n",
       "      <td>315.0</td>\n",
       "      <td>85.0</td>\n",
       "      <td>NaN</td>\n",
       "    </tr>\n",
       "  </tbody>\n",
       "</table>\n",
       "</div>"
      ],
      "text/plain": [
       "                  Year         Actor         Director  Box Office  Budget  \\\n",
       "Film                                                                        \n",
       "A View to a Kill  1985   Roger Moore        John Glen       275.2    54.5   \n",
       "Casino Royale     2006  Daniel Craig  Martin Campbell       581.5   145.3   \n",
       "Casino Royale     1967   David Niven       Ken Hughes       315.0    85.0   \n",
       "\n",
       "                  Bond Actor Salary  \n",
       "Film                                 \n",
       "A View to a Kill                9.1  \n",
       "Casino Royale                   3.3  \n",
       "Casino Royale                   NaN  "
      ]
     },
     "execution_count": 120,
     "metadata": {},
     "output_type": "execute_result"
    }
   ],
   "source": [
    "bond = pd.read_csv('pandas/jamesbond.csv', index_col='Film')\n",
    "bond.sort_index(inplace=True)\n",
    "bond.head(3)"
   ]
  },
  {
   "cell_type": "code",
   "execution_count": 121,
   "metadata": {},
   "outputs": [
    {
     "data": {
      "text/plain": [
       "Year                          1962\n",
       "Actor                 Sean Connery\n",
       "Director             Terence Young\n",
       "Box Office                   448.8\n",
       "Budget                           7\n",
       "Bond Actor Salary              0.6\n",
       "Name: Dr. No, dtype: object"
      ]
     },
     "execution_count": 121,
     "metadata": {},
     "output_type": "execute_result"
    }
   ],
   "source": [
    "bond.loc['Dr. No']"
   ]
  },
  {
   "cell_type": "code",
   "execution_count": 122,
   "metadata": {},
   "outputs": [
    {
     "data": {
      "text/plain": [
       "'Sean Connery'"
      ]
     },
     "execution_count": 122,
     "metadata": {},
     "output_type": "execute_result"
    }
   ],
   "source": [
    "bond.loc['Dr. No','Actor']"
   ]
  },
  {
   "cell_type": "code",
   "execution_count": 123,
   "metadata": {},
   "outputs": [],
   "source": [
    "bond.loc['Dr. No','Actor'] = 'Sir Sean Connery'"
   ]
  },
  {
   "cell_type": "code",
   "execution_count": 124,
   "metadata": {},
   "outputs": [
    {
     "data": {
      "text/plain": [
       "Year                             1962\n",
       "Actor                Sir Sean Connery\n",
       "Director                Terence Young\n",
       "Box Office                      448.8\n",
       "Budget                              7\n",
       "Bond Actor Salary                 0.6\n",
       "Name: Dr. No, dtype: object"
      ]
     },
     "execution_count": 124,
     "metadata": {},
     "output_type": "execute_result"
    }
   ],
   "source": [
    "bond.loc['Dr. No']"
   ]
  },
  {
   "cell_type": "markdown",
   "metadata": {},
   "source": [
    "### Changing multiple values"
   ]
  },
  {
   "cell_type": "code",
   "execution_count": 125,
   "metadata": {},
   "outputs": [
    {
     "data": {
      "text/plain": [
       "Year                             1962\n",
       "Actor                Sir Sean Connery\n",
       "Director                Terence Young\n",
       "Box Office                      448.8\n",
       "Budget                              7\n",
       "Bond Actor Salary                 0.6\n",
       "Name: Dr. No, dtype: object"
      ]
     },
     "execution_count": 125,
     "metadata": {},
     "output_type": "execute_result"
    }
   ],
   "source": [
    "bond.loc['Dr. No']"
   ]
  },
  {
   "cell_type": "code",
   "execution_count": 126,
   "metadata": {},
   "outputs": [],
   "source": [
    "bond.loc['Dr. No',['Year', 'Budget']] = [1966, 9]"
   ]
  },
  {
   "cell_type": "code",
   "execution_count": 127,
   "metadata": {},
   "outputs": [
    {
     "data": {
      "text/plain": [
       "Year                             1966\n",
       "Actor                Sir Sean Connery\n",
       "Director                Terence Young\n",
       "Box Office                      448.8\n",
       "Budget                              9\n",
       "Bond Actor Salary                 0.6\n",
       "Name: Dr. No, dtype: object"
      ]
     },
     "execution_count": 127,
     "metadata": {},
     "output_type": "execute_result"
    }
   ],
   "source": [
    "bond.loc['Dr. No']"
   ]
  },
  {
   "cell_type": "markdown",
   "metadata": {},
   "source": [
    "### Set values of a column across multiple rows in a DataFrame"
   ]
  },
  {
   "cell_type": "code",
   "execution_count": 128,
   "metadata": {},
   "outputs": [
    {
     "data": {
      "text/html": [
       "<div>\n",
       "<style scoped>\n",
       "    .dataframe tbody tr th:only-of-type {\n",
       "        vertical-align: middle;\n",
       "    }\n",
       "\n",
       "    .dataframe tbody tr th {\n",
       "        vertical-align: top;\n",
       "    }\n",
       "\n",
       "    .dataframe thead th {\n",
       "        text-align: right;\n",
       "    }\n",
       "</style>\n",
       "<table border=\"1\" class=\"dataframe\">\n",
       "  <thead>\n",
       "    <tr style=\"text-align: right;\">\n",
       "      <th></th>\n",
       "      <th>Year</th>\n",
       "      <th>Actor</th>\n",
       "      <th>Director</th>\n",
       "      <th>Box Office</th>\n",
       "      <th>Budget</th>\n",
       "      <th>Bond Actor Salary</th>\n",
       "    </tr>\n",
       "    <tr>\n",
       "      <th>Film</th>\n",
       "      <th></th>\n",
       "      <th></th>\n",
       "      <th></th>\n",
       "      <th></th>\n",
       "      <th></th>\n",
       "      <th></th>\n",
       "    </tr>\n",
       "  </thead>\n",
       "  <tbody>\n",
       "    <tr>\n",
       "      <th>A View to a Kill</th>\n",
       "      <td>1985</td>\n",
       "      <td>Roger Moore</td>\n",
       "      <td>John Glen</td>\n",
       "      <td>275.2</td>\n",
       "      <td>54.5</td>\n",
       "      <td>9.1</td>\n",
       "    </tr>\n",
       "    <tr>\n",
       "      <th>Casino Royale</th>\n",
       "      <td>2006</td>\n",
       "      <td>Daniel Craig</td>\n",
       "      <td>Martin Campbell</td>\n",
       "      <td>581.5</td>\n",
       "      <td>145.3</td>\n",
       "      <td>3.3</td>\n",
       "    </tr>\n",
       "    <tr>\n",
       "      <th>Casino Royale</th>\n",
       "      <td>1967</td>\n",
       "      <td>David Niven</td>\n",
       "      <td>Ken Hughes</td>\n",
       "      <td>315.0</td>\n",
       "      <td>85.0</td>\n",
       "      <td>NaN</td>\n",
       "    </tr>\n",
       "  </tbody>\n",
       "</table>\n",
       "</div>"
      ],
      "text/plain": [
       "                  Year         Actor         Director  Box Office  Budget  \\\n",
       "Film                                                                        \n",
       "A View to a Kill  1985   Roger Moore        John Glen       275.2    54.5   \n",
       "Casino Royale     2006  Daniel Craig  Martin Campbell       581.5   145.3   \n",
       "Casino Royale     1967   David Niven       Ken Hughes       315.0    85.0   \n",
       "\n",
       "                  Bond Actor Salary  \n",
       "Film                                 \n",
       "A View to a Kill                9.1  \n",
       "Casino Royale                   3.3  \n",
       "Casino Royale                   NaN  "
      ]
     },
     "execution_count": 128,
     "metadata": {},
     "output_type": "execute_result"
    }
   ],
   "source": [
    "bond = pd.read_csv('pandas/jamesbond.csv', index_col='Film')\n",
    "bond.sort_index(inplace=True)\n",
    "bond.head(3)"
   ]
  },
  {
   "cell_type": "code",
   "execution_count": 129,
   "metadata": {},
   "outputs": [
    {
     "data": {
      "text/plain": [
       "Film\n",
       "A View to a Kill     Roger Moore\n",
       "Casino Royale       Daniel Craig\n",
       "Casino Royale        David Niven\n",
       "Name: Actor, dtype: object"
      ]
     },
     "execution_count": 129,
     "metadata": {},
     "output_type": "execute_result"
    }
   ],
   "source": [
    "bond['Actor'].head(3)"
   ]
  },
  {
   "cell_type": "code",
   "execution_count": 130,
   "metadata": {},
   "outputs": [
    {
     "data": {
      "text/plain": [
       "Film\n",
       "A View to a Kill        False\n",
       "Casino Royale           False\n",
       "Casino Royale           False\n",
       "Diamonds Are Forever     True\n",
       "Die Another Day         False\n",
       "Name: Actor, dtype: bool"
      ]
     },
     "execution_count": 130,
     "metadata": {},
     "output_type": "execute_result"
    }
   ],
   "source": [
    "mask = bond['Actor'] == 'Sean Connery'\n",
    "mask.head(5)"
   ]
  },
  {
   "cell_type": "code",
   "execution_count": 131,
   "metadata": {},
   "outputs": [
    {
     "data": {
      "text/html": [
       "<div>\n",
       "<style scoped>\n",
       "    .dataframe tbody tr th:only-of-type {\n",
       "        vertical-align: middle;\n",
       "    }\n",
       "\n",
       "    .dataframe tbody tr th {\n",
       "        vertical-align: top;\n",
       "    }\n",
       "\n",
       "    .dataframe thead th {\n",
       "        text-align: right;\n",
       "    }\n",
       "</style>\n",
       "<table border=\"1\" class=\"dataframe\">\n",
       "  <thead>\n",
       "    <tr style=\"text-align: right;\">\n",
       "      <th></th>\n",
       "      <th>Year</th>\n",
       "      <th>Actor</th>\n",
       "      <th>Director</th>\n",
       "      <th>Box Office</th>\n",
       "      <th>Budget</th>\n",
       "      <th>Bond Actor Salary</th>\n",
       "    </tr>\n",
       "    <tr>\n",
       "      <th>Film</th>\n",
       "      <th></th>\n",
       "      <th></th>\n",
       "      <th></th>\n",
       "      <th></th>\n",
       "      <th></th>\n",
       "      <th></th>\n",
       "    </tr>\n",
       "  </thead>\n",
       "  <tbody>\n",
       "    <tr>\n",
       "      <th>Diamonds Are Forever</th>\n",
       "      <td>1971</td>\n",
       "      <td>Sean Connery</td>\n",
       "      <td>Guy Hamilton</td>\n",
       "      <td>442.5</td>\n",
       "      <td>34.7</td>\n",
       "      <td>5.8</td>\n",
       "    </tr>\n",
       "    <tr>\n",
       "      <th>Dr. No</th>\n",
       "      <td>1962</td>\n",
       "      <td>Sean Connery</td>\n",
       "      <td>Terence Young</td>\n",
       "      <td>448.8</td>\n",
       "      <td>7.0</td>\n",
       "      <td>0.6</td>\n",
       "    </tr>\n",
       "    <tr>\n",
       "      <th>From Russia with Love</th>\n",
       "      <td>1963</td>\n",
       "      <td>Sean Connery</td>\n",
       "      <td>Terence Young</td>\n",
       "      <td>543.8</td>\n",
       "      <td>12.6</td>\n",
       "      <td>1.6</td>\n",
       "    </tr>\n",
       "  </tbody>\n",
       "</table>\n",
       "</div>"
      ],
      "text/plain": [
       "                       Year         Actor       Director  Box Office  Budget  \\\n",
       "Film                                                                           \n",
       "Diamonds Are Forever   1971  Sean Connery   Guy Hamilton       442.5    34.7   \n",
       "Dr. No                 1962  Sean Connery  Terence Young       448.8     7.0   \n",
       "From Russia with Love  1963  Sean Connery  Terence Young       543.8    12.6   \n",
       "\n",
       "                       Bond Actor Salary  \n",
       "Film                                      \n",
       "Diamonds Are Forever                 5.8  \n",
       "Dr. No                               0.6  \n",
       "From Russia with Love                1.6  "
      ]
     },
     "execution_count": 131,
     "metadata": {},
     "output_type": "execute_result"
    }
   ],
   "source": [
    "bond.loc[mask].head(3)"
   ]
  },
  {
   "cell_type": "code",
   "execution_count": 132,
   "metadata": {},
   "outputs": [
    {
     "data": {
      "text/plain": [
       "Film\n",
       "Diamonds Are Forever     Sean Connery\n",
       "Dr. No                   Sean Connery\n",
       "From Russia with Love    Sean Connery\n",
       "Name: Actor, dtype: object"
      ]
     },
     "execution_count": 132,
     "metadata": {},
     "output_type": "execute_result"
    }
   ],
   "source": [
    "bond.loc[mask]['Actor'].head(3)"
   ]
  },
  {
   "cell_type": "code",
   "execution_count": 133,
   "metadata": {},
   "outputs": [],
   "source": [
    "bond.loc[mask, 'Actor'] = 'Sir Sean Connery'"
   ]
  },
  {
   "cell_type": "code",
   "execution_count": 134,
   "metadata": {},
   "outputs": [
    {
     "data": {
      "text/html": [
       "<div>\n",
       "<style scoped>\n",
       "    .dataframe tbody tr th:only-of-type {\n",
       "        vertical-align: middle;\n",
       "    }\n",
       "\n",
       "    .dataframe tbody tr th {\n",
       "        vertical-align: top;\n",
       "    }\n",
       "\n",
       "    .dataframe thead th {\n",
       "        text-align: right;\n",
       "    }\n",
       "</style>\n",
       "<table border=\"1\" class=\"dataframe\">\n",
       "  <thead>\n",
       "    <tr style=\"text-align: right;\">\n",
       "      <th></th>\n",
       "      <th>Year</th>\n",
       "      <th>Actor</th>\n",
       "      <th>Director</th>\n",
       "      <th>Box Office</th>\n",
       "      <th>Budget</th>\n",
       "      <th>Bond Actor Salary</th>\n",
       "    </tr>\n",
       "    <tr>\n",
       "      <th>Film</th>\n",
       "      <th></th>\n",
       "      <th></th>\n",
       "      <th></th>\n",
       "      <th></th>\n",
       "      <th></th>\n",
       "      <th></th>\n",
       "    </tr>\n",
       "  </thead>\n",
       "  <tbody>\n",
       "    <tr>\n",
       "      <th>A View to a Kill</th>\n",
       "      <td>1985</td>\n",
       "      <td>Roger Moore</td>\n",
       "      <td>John Glen</td>\n",
       "      <td>275.2</td>\n",
       "      <td>54.5</td>\n",
       "      <td>9.1</td>\n",
       "    </tr>\n",
       "    <tr>\n",
       "      <th>Casino Royale</th>\n",
       "      <td>2006</td>\n",
       "      <td>Daniel Craig</td>\n",
       "      <td>Martin Campbell</td>\n",
       "      <td>581.5</td>\n",
       "      <td>145.3</td>\n",
       "      <td>3.3</td>\n",
       "    </tr>\n",
       "    <tr>\n",
       "      <th>Casino Royale</th>\n",
       "      <td>1967</td>\n",
       "      <td>David Niven</td>\n",
       "      <td>Ken Hughes</td>\n",
       "      <td>315.0</td>\n",
       "      <td>85.0</td>\n",
       "      <td>NaN</td>\n",
       "    </tr>\n",
       "    <tr>\n",
       "      <th>Diamonds Are Forever</th>\n",
       "      <td>1971</td>\n",
       "      <td>Sir Sean Connery</td>\n",
       "      <td>Guy Hamilton</td>\n",
       "      <td>442.5</td>\n",
       "      <td>34.7</td>\n",
       "      <td>5.8</td>\n",
       "    </tr>\n",
       "    <tr>\n",
       "      <th>Die Another Day</th>\n",
       "      <td>2002</td>\n",
       "      <td>Pierce Brosnan</td>\n",
       "      <td>Lee Tamahori</td>\n",
       "      <td>465.4</td>\n",
       "      <td>154.2</td>\n",
       "      <td>17.9</td>\n",
       "    </tr>\n",
       "  </tbody>\n",
       "</table>\n",
       "</div>"
      ],
      "text/plain": [
       "                      Year             Actor         Director  Box Office  \\\n",
       "Film                                                                        \n",
       "A View to a Kill      1985       Roger Moore        John Glen       275.2   \n",
       "Casino Royale         2006      Daniel Craig  Martin Campbell       581.5   \n",
       "Casino Royale         1967       David Niven       Ken Hughes       315.0   \n",
       "Diamonds Are Forever  1971  Sir Sean Connery     Guy Hamilton       442.5   \n",
       "Die Another Day       2002    Pierce Brosnan     Lee Tamahori       465.4   \n",
       "\n",
       "                      Budget  Bond Actor Salary  \n",
       "Film                                             \n",
       "A View to a Kill        54.5                9.1  \n",
       "Casino Royale          145.3                3.3  \n",
       "Casino Royale           85.0                NaN  \n",
       "Diamonds Are Forever    34.7                5.8  \n",
       "Die Another Day        154.2               17.9  "
      ]
     },
     "execution_count": 134,
     "metadata": {},
     "output_type": "execute_result"
    }
   ],
   "source": [
    "bond.head(5)"
   ]
  },
  {
   "cell_type": "markdown",
   "metadata": {},
   "source": [
    "---\n",
    "## Renaming index values or column values in a DataFrame"
   ]
  },
  {
   "cell_type": "code",
   "execution_count": 135,
   "metadata": {},
   "outputs": [
    {
     "data": {
      "text/html": [
       "<div>\n",
       "<style scoped>\n",
       "    .dataframe tbody tr th:only-of-type {\n",
       "        vertical-align: middle;\n",
       "    }\n",
       "\n",
       "    .dataframe tbody tr th {\n",
       "        vertical-align: top;\n",
       "    }\n",
       "\n",
       "    .dataframe thead th {\n",
       "        text-align: right;\n",
       "    }\n",
       "</style>\n",
       "<table border=\"1\" class=\"dataframe\">\n",
       "  <thead>\n",
       "    <tr style=\"text-align: right;\">\n",
       "      <th></th>\n",
       "      <th>Year</th>\n",
       "      <th>Actor</th>\n",
       "      <th>Director</th>\n",
       "      <th>Box Office</th>\n",
       "      <th>Budget</th>\n",
       "      <th>Bond Actor Salary</th>\n",
       "    </tr>\n",
       "    <tr>\n",
       "      <th>Film</th>\n",
       "      <th></th>\n",
       "      <th></th>\n",
       "      <th></th>\n",
       "      <th></th>\n",
       "      <th></th>\n",
       "      <th></th>\n",
       "    </tr>\n",
       "  </thead>\n",
       "  <tbody>\n",
       "    <tr>\n",
       "      <th>A View to a Kill</th>\n",
       "      <td>1985</td>\n",
       "      <td>Roger Moore</td>\n",
       "      <td>John Glen</td>\n",
       "      <td>275.2</td>\n",
       "      <td>54.5</td>\n",
       "      <td>9.1</td>\n",
       "    </tr>\n",
       "    <tr>\n",
       "      <th>Casino Royale</th>\n",
       "      <td>2006</td>\n",
       "      <td>Daniel Craig</td>\n",
       "      <td>Martin Campbell</td>\n",
       "      <td>581.5</td>\n",
       "      <td>145.3</td>\n",
       "      <td>3.3</td>\n",
       "    </tr>\n",
       "    <tr>\n",
       "      <th>Casino Royale</th>\n",
       "      <td>1967</td>\n",
       "      <td>David Niven</td>\n",
       "      <td>Ken Hughes</td>\n",
       "      <td>315.0</td>\n",
       "      <td>85.0</td>\n",
       "      <td>NaN</td>\n",
       "    </tr>\n",
       "  </tbody>\n",
       "</table>\n",
       "</div>"
      ],
      "text/plain": [
       "                  Year         Actor         Director  Box Office  Budget  \\\n",
       "Film                                                                        \n",
       "A View to a Kill  1985   Roger Moore        John Glen       275.2    54.5   \n",
       "Casino Royale     2006  Daniel Craig  Martin Campbell       581.5   145.3   \n",
       "Casino Royale     1967   David Niven       Ken Hughes       315.0    85.0   \n",
       "\n",
       "                  Bond Actor Salary  \n",
       "Film                                 \n",
       "A View to a Kill                9.1  \n",
       "Casino Royale                   3.3  \n",
       "Casino Royale                   NaN  "
      ]
     },
     "execution_count": 135,
     "metadata": {},
     "output_type": "execute_result"
    }
   ],
   "source": [
    "bond = pd.read_csv('pandas/jamesbond.csv',index_col='Film')\n",
    "bond.sort_index(inplace=True)\n",
    "bond.head(3)"
   ]
  },
  {
   "cell_type": "markdown",
   "metadata": {},
   "source": [
    "### `.rename(..)` method to rename column headers\n",
    "The rename method requires a Python Dictionary to be passed to the `column` paramter where the key(s) is the old name, and the corresponding value(s) is the new name to be assigned to that particular column."
   ]
  },
  {
   "cell_type": "code",
   "execution_count": 136,
   "metadata": {},
   "outputs": [
    {
     "data": {
      "text/html": [
       "<div>\n",
       "<style scoped>\n",
       "    .dataframe tbody tr th:only-of-type {\n",
       "        vertical-align: middle;\n",
       "    }\n",
       "\n",
       "    .dataframe tbody tr th {\n",
       "        vertical-align: top;\n",
       "    }\n",
       "\n",
       "    .dataframe thead th {\n",
       "        text-align: right;\n",
       "    }\n",
       "</style>\n",
       "<table border=\"1\" class=\"dataframe\">\n",
       "  <thead>\n",
       "    <tr style=\"text-align: right;\">\n",
       "      <th></th>\n",
       "      <th>Release Date</th>\n",
       "      <th>Actor</th>\n",
       "      <th>Director</th>\n",
       "      <th>Revenue</th>\n",
       "      <th>Budget</th>\n",
       "      <th>Bond Actor Salary</th>\n",
       "    </tr>\n",
       "    <tr>\n",
       "      <th>Film</th>\n",
       "      <th></th>\n",
       "      <th></th>\n",
       "      <th></th>\n",
       "      <th></th>\n",
       "      <th></th>\n",
       "      <th></th>\n",
       "    </tr>\n",
       "  </thead>\n",
       "  <tbody>\n",
       "    <tr>\n",
       "      <th>A View to a Kill</th>\n",
       "      <td>1985</td>\n",
       "      <td>Roger Moore</td>\n",
       "      <td>John Glen</td>\n",
       "      <td>275.2</td>\n",
       "      <td>54.5</td>\n",
       "      <td>9.1</td>\n",
       "    </tr>\n",
       "    <tr>\n",
       "      <th>Casino Royale</th>\n",
       "      <td>2006</td>\n",
       "      <td>Daniel Craig</td>\n",
       "      <td>Martin Campbell</td>\n",
       "      <td>581.5</td>\n",
       "      <td>145.3</td>\n",
       "      <td>3.3</td>\n",
       "    </tr>\n",
       "  </tbody>\n",
       "</table>\n",
       "</div>"
      ],
      "text/plain": [
       "                  Release Date         Actor         Director  Revenue  \\\n",
       "Film                                                                     \n",
       "A View to a Kill          1985   Roger Moore        John Glen    275.2   \n",
       "Casino Royale             2006  Daniel Craig  Martin Campbell    581.5   \n",
       "\n",
       "                  Budget  Bond Actor Salary  \n",
       "Film                                         \n",
       "A View to a Kill    54.5                9.1  \n",
       "Casino Royale      145.3                3.3  "
      ]
     },
     "execution_count": 136,
     "metadata": {},
     "output_type": "execute_result"
    }
   ],
   "source": [
    "bond.rename(columns={'Year':'Release Date', 'Box Office':'Revenue'}, inplace=True)\n",
    "bond.head(2)"
   ]
  },
  {
   "cell_type": "markdown",
   "metadata": {},
   "source": [
    "### `.rename(..)` method to rename index labels"
   ]
  },
  {
   "cell_type": "code",
   "execution_count": 137,
   "metadata": {},
   "outputs": [],
   "source": [
    "bond.rename(index = {'Dr. No': 'Doctor No', \n",
    "                     'GolddenEye':'Golden Eye',\n",
    "                    'The World Is Not Enough':'Best Bond Movie Ever'}, inplace=True)"
   ]
  },
  {
   "cell_type": "code",
   "execution_count": 138,
   "metadata": {},
   "outputs": [
    {
     "data": {
      "text/plain": [
       "Release Date                   1999\n",
       "Actor                Pierce Brosnan\n",
       "Director              Michael Apted\n",
       "Revenue                       439.5\n",
       "Budget                        158.3\n",
       "Bond Actor Salary              13.5\n",
       "Name: Best Bond Movie Ever, dtype: object"
      ]
     },
     "execution_count": 138,
     "metadata": {},
     "output_type": "execute_result"
    }
   ],
   "source": [
    "bond.loc['Best Bond Movie Ever']"
   ]
  },
  {
   "cell_type": "markdown",
   "metadata": {},
   "source": [
    "**We can also simply assign values to the `.columns` attribute of the DataFrame. However in this case, ALL of the column names will have to be provided as a Python List in their order of occurrence in the DataFrame. **"
   ]
  },
  {
   "cell_type": "code",
   "execution_count": 139,
   "metadata": {},
   "outputs": [
    {
     "data": {
      "text/plain": [
       "Index(['Release Date', 'Actor', 'Director', 'Revenue', 'Budget',\n",
       "       'Bond Actor Salary'],\n",
       "      dtype='object')"
      ]
     },
     "execution_count": 139,
     "metadata": {},
     "output_type": "execute_result"
    }
   ],
   "source": [
    "bond.columns"
   ]
  },
  {
   "cell_type": "markdown",
   "metadata": {},
   "source": [
    "---\n",
    "# Deleting rows or columns from a DataFrame"
   ]
  },
  {
   "cell_type": "code",
   "execution_count": 140,
   "metadata": {},
   "outputs": [
    {
     "data": {
      "text/html": [
       "<div>\n",
       "<style scoped>\n",
       "    .dataframe tbody tr th:only-of-type {\n",
       "        vertical-align: middle;\n",
       "    }\n",
       "\n",
       "    .dataframe tbody tr th {\n",
       "        vertical-align: top;\n",
       "    }\n",
       "\n",
       "    .dataframe thead th {\n",
       "        text-align: right;\n",
       "    }\n",
       "</style>\n",
       "<table border=\"1\" class=\"dataframe\">\n",
       "  <thead>\n",
       "    <tr style=\"text-align: right;\">\n",
       "      <th></th>\n",
       "      <th>Year</th>\n",
       "      <th>Actor</th>\n",
       "      <th>Director</th>\n",
       "      <th>Box Office</th>\n",
       "      <th>Budget</th>\n",
       "      <th>Bond Actor Salary</th>\n",
       "    </tr>\n",
       "    <tr>\n",
       "      <th>Film</th>\n",
       "      <th></th>\n",
       "      <th></th>\n",
       "      <th></th>\n",
       "      <th></th>\n",
       "      <th></th>\n",
       "      <th></th>\n",
       "    </tr>\n",
       "  </thead>\n",
       "  <tbody>\n",
       "    <tr>\n",
       "      <th>A View to a Kill</th>\n",
       "      <td>1985</td>\n",
       "      <td>Roger Moore</td>\n",
       "      <td>John Glen</td>\n",
       "      <td>275.2</td>\n",
       "      <td>54.5</td>\n",
       "      <td>9.1</td>\n",
       "    </tr>\n",
       "    <tr>\n",
       "      <th>Casino Royale</th>\n",
       "      <td>2006</td>\n",
       "      <td>Daniel Craig</td>\n",
       "      <td>Martin Campbell</td>\n",
       "      <td>581.5</td>\n",
       "      <td>145.3</td>\n",
       "      <td>3.3</td>\n",
       "    </tr>\n",
       "    <tr>\n",
       "      <th>Casino Royale</th>\n",
       "      <td>1967</td>\n",
       "      <td>David Niven</td>\n",
       "      <td>Ken Hughes</td>\n",
       "      <td>315.0</td>\n",
       "      <td>85.0</td>\n",
       "      <td>NaN</td>\n",
       "    </tr>\n",
       "  </tbody>\n",
       "</table>\n",
       "</div>"
      ],
      "text/plain": [
       "                  Year         Actor         Director  Box Office  Budget  \\\n",
       "Film                                                                        \n",
       "A View to a Kill  1985   Roger Moore        John Glen       275.2    54.5   \n",
       "Casino Royale     2006  Daniel Craig  Martin Campbell       581.5   145.3   \n",
       "Casino Royale     1967   David Niven       Ken Hughes       315.0    85.0   \n",
       "\n",
       "                  Bond Actor Salary  \n",
       "Film                                 \n",
       "A View to a Kill                9.1  \n",
       "Casino Royale                   3.3  \n",
       "Casino Royale                   NaN  "
      ]
     },
     "execution_count": 140,
     "metadata": {},
     "output_type": "execute_result"
    }
   ],
   "source": [
    "bond = pd.read_csv('pandas/jamesbond.csv',index_col='Film')\n",
    "bond.sort_index(inplace=True)\n",
    "bond.head(3)"
   ]
  },
  {
   "cell_type": "markdown",
   "metadata": {},
   "source": [
    "## Removing rows using the `.drop(..)` method\n",
    "- A new DataFrame is returned\n",
    "- `inplace` parameter is also available"
   ]
  },
  {
   "cell_type": "code",
   "execution_count": 141,
   "metadata": {},
   "outputs": [
    {
     "data": {
      "text/html": [
       "<div>\n",
       "<style scoped>\n",
       "    .dataframe tbody tr th:only-of-type {\n",
       "        vertical-align: middle;\n",
       "    }\n",
       "\n",
       "    .dataframe tbody tr th {\n",
       "        vertical-align: top;\n",
       "    }\n",
       "\n",
       "    .dataframe thead th {\n",
       "        text-align: right;\n",
       "    }\n",
       "</style>\n",
       "<table border=\"1\" class=\"dataframe\">\n",
       "  <thead>\n",
       "    <tr style=\"text-align: right;\">\n",
       "      <th></th>\n",
       "      <th>Year</th>\n",
       "      <th>Actor</th>\n",
       "      <th>Director</th>\n",
       "      <th>Box Office</th>\n",
       "      <th>Budget</th>\n",
       "      <th>Bond Actor Salary</th>\n",
       "    </tr>\n",
       "    <tr>\n",
       "      <th>Film</th>\n",
       "      <th></th>\n",
       "      <th></th>\n",
       "      <th></th>\n",
       "      <th></th>\n",
       "      <th></th>\n",
       "      <th></th>\n",
       "    </tr>\n",
       "  </thead>\n",
       "  <tbody>\n",
       "    <tr>\n",
       "      <th>Casino Royale</th>\n",
       "      <td>2006</td>\n",
       "      <td>Daniel Craig</td>\n",
       "      <td>Martin Campbell</td>\n",
       "      <td>581.5</td>\n",
       "      <td>145.3</td>\n",
       "      <td>3.3</td>\n",
       "    </tr>\n",
       "    <tr>\n",
       "      <th>Casino Royale</th>\n",
       "      <td>1967</td>\n",
       "      <td>David Niven</td>\n",
       "      <td>Ken Hughes</td>\n",
       "      <td>315.0</td>\n",
       "      <td>85.0</td>\n",
       "      <td>NaN</td>\n",
       "    </tr>\n",
       "    <tr>\n",
       "      <th>Diamonds Are Forever</th>\n",
       "      <td>1971</td>\n",
       "      <td>Sean Connery</td>\n",
       "      <td>Guy Hamilton</td>\n",
       "      <td>442.5</td>\n",
       "      <td>34.7</td>\n",
       "      <td>5.8</td>\n",
       "    </tr>\n",
       "  </tbody>\n",
       "</table>\n",
       "</div>"
      ],
      "text/plain": [
       "                      Year         Actor         Director  Box Office  Budget  \\\n",
       "Film                                                                            \n",
       "Casino Royale         2006  Daniel Craig  Martin Campbell       581.5   145.3   \n",
       "Casino Royale         1967   David Niven       Ken Hughes       315.0    85.0   \n",
       "Diamonds Are Forever  1971  Sean Connery     Guy Hamilton       442.5    34.7   \n",
       "\n",
       "                      Bond Actor Salary  \n",
       "Film                                     \n",
       "Casino Royale                       3.3  \n",
       "Casino Royale                       NaN  \n",
       "Diamonds Are Forever                5.8  "
      ]
     },
     "execution_count": 141,
     "metadata": {},
     "output_type": "execute_result"
    }
   ],
   "source": [
    "result = bond.drop(labels='A View to a Kill')\n",
    "result.head(3)"
   ]
  },
  {
   "cell_type": "markdown",
   "metadata": {},
   "source": [
    "**To delete multiple values, a Python list of labels acan be passed to the `.drop(..)` method**"
   ]
  },
  {
   "cell_type": "code",
   "execution_count": 142,
   "metadata": {},
   "outputs": [
    {
     "data": {
      "text/html": [
       "<div>\n",
       "<style scoped>\n",
       "    .dataframe tbody tr th:only-of-type {\n",
       "        vertical-align: middle;\n",
       "    }\n",
       "\n",
       "    .dataframe tbody tr th {\n",
       "        vertical-align: top;\n",
       "    }\n",
       "\n",
       "    .dataframe thead th {\n",
       "        text-align: right;\n",
       "    }\n",
       "</style>\n",
       "<table border=\"1\" class=\"dataframe\">\n",
       "  <thead>\n",
       "    <tr style=\"text-align: right;\">\n",
       "      <th></th>\n",
       "      <th>Year</th>\n",
       "      <th>Actor</th>\n",
       "      <th>Director</th>\n",
       "      <th>Box Office</th>\n",
       "      <th>Budget</th>\n",
       "      <th>Bond Actor Salary</th>\n",
       "    </tr>\n",
       "    <tr>\n",
       "      <th>Film</th>\n",
       "      <th></th>\n",
       "      <th></th>\n",
       "      <th></th>\n",
       "      <th></th>\n",
       "      <th></th>\n",
       "      <th></th>\n",
       "    </tr>\n",
       "  </thead>\n",
       "  <tbody>\n",
       "    <tr>\n",
       "      <th>Thunderball</th>\n",
       "      <td>1965</td>\n",
       "      <td>Sean Connery</td>\n",
       "      <td>Terence Young</td>\n",
       "      <td>848.1</td>\n",
       "      <td>41.9</td>\n",
       "      <td>4.7</td>\n",
       "    </tr>\n",
       "    <tr>\n",
       "      <th>Tomorrow Never Dies</th>\n",
       "      <td>1997</td>\n",
       "      <td>Pierce Brosnan</td>\n",
       "      <td>Roger Spottiswoode</td>\n",
       "      <td>463.2</td>\n",
       "      <td>133.9</td>\n",
       "      <td>10.0</td>\n",
       "    </tr>\n",
       "    <tr>\n",
       "      <th>You Only Live Twice</th>\n",
       "      <td>1967</td>\n",
       "      <td>Sean Connery</td>\n",
       "      <td>Lewis Gilbert</td>\n",
       "      <td>514.2</td>\n",
       "      <td>59.9</td>\n",
       "      <td>4.4</td>\n",
       "    </tr>\n",
       "  </tbody>\n",
       "</table>\n",
       "</div>"
      ],
      "text/plain": [
       "                     Year           Actor            Director  Box Office  \\\n",
       "Film                                                                        \n",
       "Thunderball          1965    Sean Connery       Terence Young       848.1   \n",
       "Tomorrow Never Dies  1997  Pierce Brosnan  Roger Spottiswoode       463.2   \n",
       "You Only Live Twice  1967    Sean Connery       Lewis Gilbert       514.2   \n",
       "\n",
       "                     Budget  Bond Actor Salary  \n",
       "Film                                            \n",
       "Thunderball            41.9                4.7  \n",
       "Tomorrow Never Dies   133.9               10.0  \n",
       "You Only Live Twice    59.9                4.4  "
      ]
     },
     "execution_count": 142,
     "metadata": {},
     "output_type": "execute_result"
    }
   ],
   "source": [
    "bond.tail(3)"
   ]
  },
  {
   "cell_type": "code",
   "execution_count": 143,
   "metadata": {},
   "outputs": [
    {
     "data": {
      "text/html": [
       "<div>\n",
       "<style scoped>\n",
       "    .dataframe tbody tr th:only-of-type {\n",
       "        vertical-align: middle;\n",
       "    }\n",
       "\n",
       "    .dataframe tbody tr th {\n",
       "        vertical-align: top;\n",
       "    }\n",
       "\n",
       "    .dataframe thead th {\n",
       "        text-align: right;\n",
       "    }\n",
       "</style>\n",
       "<table border=\"1\" class=\"dataframe\">\n",
       "  <thead>\n",
       "    <tr style=\"text-align: right;\">\n",
       "      <th></th>\n",
       "      <th>Year</th>\n",
       "      <th>Actor</th>\n",
       "      <th>Director</th>\n",
       "      <th>Box Office</th>\n",
       "      <th>Budget</th>\n",
       "      <th>Bond Actor Salary</th>\n",
       "    </tr>\n",
       "    <tr>\n",
       "      <th>Film</th>\n",
       "      <th></th>\n",
       "      <th></th>\n",
       "      <th></th>\n",
       "      <th></th>\n",
       "      <th></th>\n",
       "      <th></th>\n",
       "    </tr>\n",
       "  </thead>\n",
       "  <tbody>\n",
       "    <tr>\n",
       "      <th>The Spy Who Loved Me</th>\n",
       "      <td>1977</td>\n",
       "      <td>Roger Moore</td>\n",
       "      <td>Lewis Gilbert</td>\n",
       "      <td>533.0</td>\n",
       "      <td>45.1</td>\n",
       "      <td>NaN</td>\n",
       "    </tr>\n",
       "    <tr>\n",
       "      <th>The World Is Not Enough</th>\n",
       "      <td>1999</td>\n",
       "      <td>Pierce Brosnan</td>\n",
       "      <td>Michael Apted</td>\n",
       "      <td>439.5</td>\n",
       "      <td>158.3</td>\n",
       "      <td>13.5</td>\n",
       "    </tr>\n",
       "    <tr>\n",
       "      <th>Thunderball</th>\n",
       "      <td>1965</td>\n",
       "      <td>Sean Connery</td>\n",
       "      <td>Terence Young</td>\n",
       "      <td>848.1</td>\n",
       "      <td>41.9</td>\n",
       "      <td>4.7</td>\n",
       "    </tr>\n",
       "  </tbody>\n",
       "</table>\n",
       "</div>"
      ],
      "text/plain": [
       "                         Year           Actor       Director  Box Office  \\\n",
       "Film                                                                       \n",
       "The Spy Who Loved Me     1977     Roger Moore  Lewis Gilbert       533.0   \n",
       "The World Is Not Enough  1999  Pierce Brosnan  Michael Apted       439.5   \n",
       "Thunderball              1965    Sean Connery  Terence Young       848.1   \n",
       "\n",
       "                         Budget  Bond Actor Salary  \n",
       "Film                                                \n",
       "The Spy Who Loved Me       45.1                NaN  \n",
       "The World Is Not Enough   158.3               13.5  \n",
       "Thunderball                41.9                4.7  "
      ]
     },
     "execution_count": 143,
     "metadata": {},
     "output_type": "execute_result"
    }
   ],
   "source": [
    "result = bond.drop(labels= ['You Only Live Twice', 'Tomorrow Never Dies'])\n",
    "result.tail(3)"
   ]
  },
  {
   "cell_type": "markdown",
   "metadata": {},
   "source": [
    "**If there are multiple occurrences of an index label, and `.drop(..)` method is called on that label, ALL the occurrences of that will be removed from the DataFrame.**"
   ]
  },
  {
   "cell_type": "code",
   "execution_count": 144,
   "metadata": {},
   "outputs": [
    {
     "data": {
      "text/html": [
       "<div>\n",
       "<style scoped>\n",
       "    .dataframe tbody tr th:only-of-type {\n",
       "        vertical-align: middle;\n",
       "    }\n",
       "\n",
       "    .dataframe tbody tr th {\n",
       "        vertical-align: top;\n",
       "    }\n",
       "\n",
       "    .dataframe thead th {\n",
       "        text-align: right;\n",
       "    }\n",
       "</style>\n",
       "<table border=\"1\" class=\"dataframe\">\n",
       "  <thead>\n",
       "    <tr style=\"text-align: right;\">\n",
       "      <th></th>\n",
       "      <th>Year</th>\n",
       "      <th>Actor</th>\n",
       "      <th>Director</th>\n",
       "      <th>Box Office</th>\n",
       "      <th>Budget</th>\n",
       "      <th>Bond Actor Salary</th>\n",
       "    </tr>\n",
       "    <tr>\n",
       "      <th>Film</th>\n",
       "      <th></th>\n",
       "      <th></th>\n",
       "      <th></th>\n",
       "      <th></th>\n",
       "      <th></th>\n",
       "      <th></th>\n",
       "    </tr>\n",
       "  </thead>\n",
       "  <tbody>\n",
       "    <tr>\n",
       "      <th>A View to a Kill</th>\n",
       "      <td>1985</td>\n",
       "      <td>Roger Moore</td>\n",
       "      <td>John Glen</td>\n",
       "      <td>275.2</td>\n",
       "      <td>54.5</td>\n",
       "      <td>9.1</td>\n",
       "    </tr>\n",
       "    <tr>\n",
       "      <th>Casino Royale</th>\n",
       "      <td>2006</td>\n",
       "      <td>Daniel Craig</td>\n",
       "      <td>Martin Campbell</td>\n",
       "      <td>581.5</td>\n",
       "      <td>145.3</td>\n",
       "      <td>3.3</td>\n",
       "    </tr>\n",
       "    <tr>\n",
       "      <th>Casino Royale</th>\n",
       "      <td>1967</td>\n",
       "      <td>David Niven</td>\n",
       "      <td>Ken Hughes</td>\n",
       "      <td>315.0</td>\n",
       "      <td>85.0</td>\n",
       "      <td>NaN</td>\n",
       "    </tr>\n",
       "  </tbody>\n",
       "</table>\n",
       "</div>"
      ],
      "text/plain": [
       "                  Year         Actor         Director  Box Office  Budget  \\\n",
       "Film                                                                        \n",
       "A View to a Kill  1985   Roger Moore        John Glen       275.2    54.5   \n",
       "Casino Royale     2006  Daniel Craig  Martin Campbell       581.5   145.3   \n",
       "Casino Royale     1967   David Niven       Ken Hughes       315.0    85.0   \n",
       "\n",
       "                  Bond Actor Salary  \n",
       "Film                                 \n",
       "A View to a Kill                9.1  \n",
       "Casino Royale                   3.3  \n",
       "Casino Royale                   NaN  "
      ]
     },
     "execution_count": 144,
     "metadata": {},
     "output_type": "execute_result"
    }
   ],
   "source": [
    "bond.head(3)"
   ]
  },
  {
   "cell_type": "code",
   "execution_count": 145,
   "metadata": {},
   "outputs": [
    {
     "data": {
      "text/html": [
       "<div>\n",
       "<style scoped>\n",
       "    .dataframe tbody tr th:only-of-type {\n",
       "        vertical-align: middle;\n",
       "    }\n",
       "\n",
       "    .dataframe tbody tr th {\n",
       "        vertical-align: top;\n",
       "    }\n",
       "\n",
       "    .dataframe thead th {\n",
       "        text-align: right;\n",
       "    }\n",
       "</style>\n",
       "<table border=\"1\" class=\"dataframe\">\n",
       "  <thead>\n",
       "    <tr style=\"text-align: right;\">\n",
       "      <th></th>\n",
       "      <th>Year</th>\n",
       "      <th>Actor</th>\n",
       "      <th>Director</th>\n",
       "      <th>Box Office</th>\n",
       "      <th>Budget</th>\n",
       "      <th>Bond Actor Salary</th>\n",
       "    </tr>\n",
       "    <tr>\n",
       "      <th>Film</th>\n",
       "      <th></th>\n",
       "      <th></th>\n",
       "      <th></th>\n",
       "      <th></th>\n",
       "      <th></th>\n",
       "      <th></th>\n",
       "    </tr>\n",
       "  </thead>\n",
       "  <tbody>\n",
       "    <tr>\n",
       "      <th>A View to a Kill</th>\n",
       "      <td>1985</td>\n",
       "      <td>Roger Moore</td>\n",
       "      <td>John Glen</td>\n",
       "      <td>275.2</td>\n",
       "      <td>54.5</td>\n",
       "      <td>9.1</td>\n",
       "    </tr>\n",
       "    <tr>\n",
       "      <th>Diamonds Are Forever</th>\n",
       "      <td>1971</td>\n",
       "      <td>Sean Connery</td>\n",
       "      <td>Guy Hamilton</td>\n",
       "      <td>442.5</td>\n",
       "      <td>34.7</td>\n",
       "      <td>5.8</td>\n",
       "    </tr>\n",
       "    <tr>\n",
       "      <th>Die Another Day</th>\n",
       "      <td>2002</td>\n",
       "      <td>Pierce Brosnan</td>\n",
       "      <td>Lee Tamahori</td>\n",
       "      <td>465.4</td>\n",
       "      <td>154.2</td>\n",
       "      <td>17.9</td>\n",
       "    </tr>\n",
       "  </tbody>\n",
       "</table>\n",
       "</div>"
      ],
      "text/plain": [
       "                      Year           Actor      Director  Box Office  Budget  \\\n",
       "Film                                                                           \n",
       "A View to a Kill      1985     Roger Moore     John Glen       275.2    54.5   \n",
       "Diamonds Are Forever  1971    Sean Connery  Guy Hamilton       442.5    34.7   \n",
       "Die Another Day       2002  Pierce Brosnan  Lee Tamahori       465.4   154.2   \n",
       "\n",
       "                      Bond Actor Salary  \n",
       "Film                                     \n",
       "A View to a Kill                    9.1  \n",
       "Diamonds Are Forever                5.8  \n",
       "Die Another Day                    17.9  "
      ]
     },
     "execution_count": 145,
     "metadata": {},
     "output_type": "execute_result"
    }
   ],
   "source": [
    "result = bond.drop(labels='Casino Royale')\n",
    "result.head(3)"
   ]
  },
  {
   "cell_type": "markdown",
   "metadata": {},
   "source": [
    "## Removing columns using the `.drop(..)` method\n",
    "### Method 1"
   ]
  },
  {
   "cell_type": "code",
   "execution_count": 146,
   "metadata": {},
   "outputs": [
    {
     "data": {
      "text/html": [
       "<div>\n",
       "<style scoped>\n",
       "    .dataframe tbody tr th:only-of-type {\n",
       "        vertical-align: middle;\n",
       "    }\n",
       "\n",
       "    .dataframe tbody tr th {\n",
       "        vertical-align: top;\n",
       "    }\n",
       "\n",
       "    .dataframe thead th {\n",
       "        text-align: right;\n",
       "    }\n",
       "</style>\n",
       "<table border=\"1\" class=\"dataframe\">\n",
       "  <thead>\n",
       "    <tr style=\"text-align: right;\">\n",
       "      <th></th>\n",
       "      <th>Year</th>\n",
       "      <th>Actor</th>\n",
       "      <th>Director</th>\n",
       "      <th>Box Office</th>\n",
       "      <th>Budget</th>\n",
       "      <th>Bond Actor Salary</th>\n",
       "    </tr>\n",
       "    <tr>\n",
       "      <th>Film</th>\n",
       "      <th></th>\n",
       "      <th></th>\n",
       "      <th></th>\n",
       "      <th></th>\n",
       "      <th></th>\n",
       "      <th></th>\n",
       "    </tr>\n",
       "  </thead>\n",
       "  <tbody>\n",
       "    <tr>\n",
       "      <th>A View to a Kill</th>\n",
       "      <td>1985</td>\n",
       "      <td>Roger Moore</td>\n",
       "      <td>John Glen</td>\n",
       "      <td>275.2</td>\n",
       "      <td>54.5</td>\n",
       "      <td>9.1</td>\n",
       "    </tr>\n",
       "    <tr>\n",
       "      <th>Casino Royale</th>\n",
       "      <td>2006</td>\n",
       "      <td>Daniel Craig</td>\n",
       "      <td>Martin Campbell</td>\n",
       "      <td>581.5</td>\n",
       "      <td>145.3</td>\n",
       "      <td>3.3</td>\n",
       "    </tr>\n",
       "    <tr>\n",
       "      <th>Casino Royale</th>\n",
       "      <td>1967</td>\n",
       "      <td>David Niven</td>\n",
       "      <td>Ken Hughes</td>\n",
       "      <td>315.0</td>\n",
       "      <td>85.0</td>\n",
       "      <td>NaN</td>\n",
       "    </tr>\n",
       "  </tbody>\n",
       "</table>\n",
       "</div>"
      ],
      "text/plain": [
       "                  Year         Actor         Director  Box Office  Budget  \\\n",
       "Film                                                                        \n",
       "A View to a Kill  1985   Roger Moore        John Glen       275.2    54.5   \n",
       "Casino Royale     2006  Daniel Craig  Martin Campbell       581.5   145.3   \n",
       "Casino Royale     1967   David Niven       Ken Hughes       315.0    85.0   \n",
       "\n",
       "                  Bond Actor Salary  \n",
       "Film                                 \n",
       "A View to a Kill                9.1  \n",
       "Casino Royale                   3.3  \n",
       "Casino Royale                   NaN  "
      ]
     },
     "execution_count": 146,
     "metadata": {},
     "output_type": "execute_result"
    }
   ],
   "source": [
    "bond.head(3)"
   ]
  },
  {
   "cell_type": "markdown",
   "metadata": {},
   "source": [
    "**Removing the `Box Office` column**"
   ]
  },
  {
   "cell_type": "code",
   "execution_count": 147,
   "metadata": {},
   "outputs": [
    {
     "data": {
      "text/html": [
       "<div>\n",
       "<style scoped>\n",
       "    .dataframe tbody tr th:only-of-type {\n",
       "        vertical-align: middle;\n",
       "    }\n",
       "\n",
       "    .dataframe tbody tr th {\n",
       "        vertical-align: top;\n",
       "    }\n",
       "\n",
       "    .dataframe thead th {\n",
       "        text-align: right;\n",
       "    }\n",
       "</style>\n",
       "<table border=\"1\" class=\"dataframe\">\n",
       "  <thead>\n",
       "    <tr style=\"text-align: right;\">\n",
       "      <th></th>\n",
       "      <th>Year</th>\n",
       "      <th>Actor</th>\n",
       "      <th>Director</th>\n",
       "      <th>Budget</th>\n",
       "      <th>Bond Actor Salary</th>\n",
       "    </tr>\n",
       "    <tr>\n",
       "      <th>Film</th>\n",
       "      <th></th>\n",
       "      <th></th>\n",
       "      <th></th>\n",
       "      <th></th>\n",
       "      <th></th>\n",
       "    </tr>\n",
       "  </thead>\n",
       "  <tbody>\n",
       "    <tr>\n",
       "      <th>A View to a Kill</th>\n",
       "      <td>1985</td>\n",
       "      <td>Roger Moore</td>\n",
       "      <td>John Glen</td>\n",
       "      <td>54.5</td>\n",
       "      <td>9.1</td>\n",
       "    </tr>\n",
       "    <tr>\n",
       "      <th>Casino Royale</th>\n",
       "      <td>2006</td>\n",
       "      <td>Daniel Craig</td>\n",
       "      <td>Martin Campbell</td>\n",
       "      <td>145.3</td>\n",
       "      <td>3.3</td>\n",
       "    </tr>\n",
       "  </tbody>\n",
       "</table>\n",
       "</div>"
      ],
      "text/plain": [
       "                  Year         Actor         Director  Budget  \\\n",
       "Film                                                            \n",
       "A View to a Kill  1985   Roger Moore        John Glen    54.5   \n",
       "Casino Royale     2006  Daniel Craig  Martin Campbell   145.3   \n",
       "\n",
       "                  Bond Actor Salary  \n",
       "Film                                 \n",
       "A View to a Kill                9.1  \n",
       "Casino Royale                   3.3  "
      ]
     },
     "execution_count": 147,
     "metadata": {},
     "output_type": "execute_result"
    }
   ],
   "source": [
    "result = bond.drop(columns='Box Office')\n",
    "result.head(2)"
   ]
  },
  {
   "cell_type": "markdown",
   "metadata": {},
   "source": [
    "### Method 2: passing numerical value to the `axis` parameter\n",
    "**`axis = 1` signifies columns**"
   ]
  },
  {
   "cell_type": "code",
   "execution_count": 148,
   "metadata": {},
   "outputs": [
    {
     "data": {
      "text/html": [
       "<div>\n",
       "<style scoped>\n",
       "    .dataframe tbody tr th:only-of-type {\n",
       "        vertical-align: middle;\n",
       "    }\n",
       "\n",
       "    .dataframe tbody tr th {\n",
       "        vertical-align: top;\n",
       "    }\n",
       "\n",
       "    .dataframe thead th {\n",
       "        text-align: right;\n",
       "    }\n",
       "</style>\n",
       "<table border=\"1\" class=\"dataframe\">\n",
       "  <thead>\n",
       "    <tr style=\"text-align: right;\">\n",
       "      <th></th>\n",
       "      <th>Year</th>\n",
       "      <th>Actor</th>\n",
       "      <th>Director</th>\n",
       "      <th>Box Office</th>\n",
       "      <th>Budget</th>\n",
       "      <th>Bond Actor Salary</th>\n",
       "    </tr>\n",
       "    <tr>\n",
       "      <th>Film</th>\n",
       "      <th></th>\n",
       "      <th></th>\n",
       "      <th></th>\n",
       "      <th></th>\n",
       "      <th></th>\n",
       "      <th></th>\n",
       "    </tr>\n",
       "  </thead>\n",
       "  <tbody>\n",
       "    <tr>\n",
       "      <th>A View to a Kill</th>\n",
       "      <td>1985</td>\n",
       "      <td>Roger Moore</td>\n",
       "      <td>John Glen</td>\n",
       "      <td>275.2</td>\n",
       "      <td>54.5</td>\n",
       "      <td>9.1</td>\n",
       "    </tr>\n",
       "    <tr>\n",
       "      <th>Casino Royale</th>\n",
       "      <td>2006</td>\n",
       "      <td>Daniel Craig</td>\n",
       "      <td>Martin Campbell</td>\n",
       "      <td>581.5</td>\n",
       "      <td>145.3</td>\n",
       "      <td>3.3</td>\n",
       "    </tr>\n",
       "  </tbody>\n",
       "</table>\n",
       "</div>"
      ],
      "text/plain": [
       "                  Year         Actor         Director  Box Office  Budget  \\\n",
       "Film                                                                        \n",
       "A View to a Kill  1985   Roger Moore        John Glen       275.2    54.5   \n",
       "Casino Royale     2006  Daniel Craig  Martin Campbell       581.5   145.3   \n",
       "\n",
       "                  Bond Actor Salary  \n",
       "Film                                 \n",
       "A View to a Kill                9.1  \n",
       "Casino Royale                   3.3  "
      ]
     },
     "execution_count": 148,
     "metadata": {},
     "output_type": "execute_result"
    }
   ],
   "source": [
    "bond.head(2)"
   ]
  },
  {
   "cell_type": "code",
   "execution_count": 149,
   "metadata": {},
   "outputs": [
    {
     "data": {
      "text/html": [
       "<div>\n",
       "<style scoped>\n",
       "    .dataframe tbody tr th:only-of-type {\n",
       "        vertical-align: middle;\n",
       "    }\n",
       "\n",
       "    .dataframe tbody tr th {\n",
       "        vertical-align: top;\n",
       "    }\n",
       "\n",
       "    .dataframe thead th {\n",
       "        text-align: right;\n",
       "    }\n",
       "</style>\n",
       "<table border=\"1\" class=\"dataframe\">\n",
       "  <thead>\n",
       "    <tr style=\"text-align: right;\">\n",
       "      <th></th>\n",
       "      <th>Year</th>\n",
       "      <th>Actor</th>\n",
       "      <th>Director</th>\n",
       "      <th>Budget</th>\n",
       "      <th>Bond Actor Salary</th>\n",
       "    </tr>\n",
       "    <tr>\n",
       "      <th>Film</th>\n",
       "      <th></th>\n",
       "      <th></th>\n",
       "      <th></th>\n",
       "      <th></th>\n",
       "      <th></th>\n",
       "    </tr>\n",
       "  </thead>\n",
       "  <tbody>\n",
       "    <tr>\n",
       "      <th>A View to a Kill</th>\n",
       "      <td>1985</td>\n",
       "      <td>Roger Moore</td>\n",
       "      <td>John Glen</td>\n",
       "      <td>54.5</td>\n",
       "      <td>9.1</td>\n",
       "    </tr>\n",
       "    <tr>\n",
       "      <th>Casino Royale</th>\n",
       "      <td>2006</td>\n",
       "      <td>Daniel Craig</td>\n",
       "      <td>Martin Campbell</td>\n",
       "      <td>145.3</td>\n",
       "      <td>3.3</td>\n",
       "    </tr>\n",
       "  </tbody>\n",
       "</table>\n",
       "</div>"
      ],
      "text/plain": [
       "                  Year         Actor         Director  Budget  \\\n",
       "Film                                                            \n",
       "A View to a Kill  1985   Roger Moore        John Glen    54.5   \n",
       "Casino Royale     2006  Daniel Craig  Martin Campbell   145.3   \n",
       "\n",
       "                  Bond Actor Salary  \n",
       "Film                                 \n",
       "A View to a Kill                9.1  \n",
       "Casino Royale                   3.3  "
      ]
     },
     "execution_count": 149,
     "metadata": {},
     "output_type": "execute_result"
    }
   ],
   "source": [
    "result = bond.drop(labels='Box Office', axis=1)\n",
    "result.head(2)"
   ]
  },
  {
   "cell_type": "markdown",
   "metadata": {},
   "source": [
    "### Passing `'columns'` to the `axis` parameter"
   ]
  },
  {
   "cell_type": "code",
   "execution_count": 150,
   "metadata": {},
   "outputs": [
    {
     "data": {
      "text/html": [
       "<div>\n",
       "<style scoped>\n",
       "    .dataframe tbody tr th:only-of-type {\n",
       "        vertical-align: middle;\n",
       "    }\n",
       "\n",
       "    .dataframe tbody tr th {\n",
       "        vertical-align: top;\n",
       "    }\n",
       "\n",
       "    .dataframe thead th {\n",
       "        text-align: right;\n",
       "    }\n",
       "</style>\n",
       "<table border=\"1\" class=\"dataframe\">\n",
       "  <thead>\n",
       "    <tr style=\"text-align: right;\">\n",
       "      <th></th>\n",
       "      <th>Year</th>\n",
       "      <th>Actor</th>\n",
       "      <th>Director</th>\n",
       "      <th>Box Office</th>\n",
       "      <th>Budget</th>\n",
       "      <th>Bond Actor Salary</th>\n",
       "    </tr>\n",
       "    <tr>\n",
       "      <th>Film</th>\n",
       "      <th></th>\n",
       "      <th></th>\n",
       "      <th></th>\n",
       "      <th></th>\n",
       "      <th></th>\n",
       "      <th></th>\n",
       "    </tr>\n",
       "  </thead>\n",
       "  <tbody>\n",
       "    <tr>\n",
       "      <th>A View to a Kill</th>\n",
       "      <td>1985</td>\n",
       "      <td>Roger Moore</td>\n",
       "      <td>John Glen</td>\n",
       "      <td>275.2</td>\n",
       "      <td>54.5</td>\n",
       "      <td>9.1</td>\n",
       "    </tr>\n",
       "    <tr>\n",
       "      <th>Casino Royale</th>\n",
       "      <td>2006</td>\n",
       "      <td>Daniel Craig</td>\n",
       "      <td>Martin Campbell</td>\n",
       "      <td>581.5</td>\n",
       "      <td>145.3</td>\n",
       "      <td>3.3</td>\n",
       "    </tr>\n",
       "  </tbody>\n",
       "</table>\n",
       "</div>"
      ],
      "text/plain": [
       "                  Year         Actor         Director  Box Office  Budget  \\\n",
       "Film                                                                        \n",
       "A View to a Kill  1985   Roger Moore        John Glen       275.2    54.5   \n",
       "Casino Royale     2006  Daniel Craig  Martin Campbell       581.5   145.3   \n",
       "\n",
       "                  Bond Actor Salary  \n",
       "Film                                 \n",
       "A View to a Kill                9.1  \n",
       "Casino Royale                   3.3  "
      ]
     },
     "execution_count": 150,
     "metadata": {},
     "output_type": "execute_result"
    }
   ],
   "source": [
    "bond.head(2)"
   ]
  },
  {
   "cell_type": "code",
   "execution_count": 151,
   "metadata": {},
   "outputs": [
    {
     "data": {
      "text/html": [
       "<div>\n",
       "<style scoped>\n",
       "    .dataframe tbody tr th:only-of-type {\n",
       "        vertical-align: middle;\n",
       "    }\n",
       "\n",
       "    .dataframe tbody tr th {\n",
       "        vertical-align: top;\n",
       "    }\n",
       "\n",
       "    .dataframe thead th {\n",
       "        text-align: right;\n",
       "    }\n",
       "</style>\n",
       "<table border=\"1\" class=\"dataframe\">\n",
       "  <thead>\n",
       "    <tr style=\"text-align: right;\">\n",
       "      <th></th>\n",
       "      <th>Year</th>\n",
       "      <th>Actor</th>\n",
       "      <th>Director</th>\n",
       "      <th>Budget</th>\n",
       "      <th>Bond Actor Salary</th>\n",
       "    </tr>\n",
       "    <tr>\n",
       "      <th>Film</th>\n",
       "      <th></th>\n",
       "      <th></th>\n",
       "      <th></th>\n",
       "      <th></th>\n",
       "      <th></th>\n",
       "    </tr>\n",
       "  </thead>\n",
       "  <tbody>\n",
       "    <tr>\n",
       "      <th>A View to a Kill</th>\n",
       "      <td>1985</td>\n",
       "      <td>Roger Moore</td>\n",
       "      <td>John Glen</td>\n",
       "      <td>54.5</td>\n",
       "      <td>9.1</td>\n",
       "    </tr>\n",
       "    <tr>\n",
       "      <th>Casino Royale</th>\n",
       "      <td>2006</td>\n",
       "      <td>Daniel Craig</td>\n",
       "      <td>Martin Campbell</td>\n",
       "      <td>145.3</td>\n",
       "      <td>3.3</td>\n",
       "    </tr>\n",
       "  </tbody>\n",
       "</table>\n",
       "</div>"
      ],
      "text/plain": [
       "                  Year         Actor         Director  Budget  \\\n",
       "Film                                                            \n",
       "A View to a Kill  1985   Roger Moore        John Glen    54.5   \n",
       "Casino Royale     2006  Daniel Craig  Martin Campbell   145.3   \n",
       "\n",
       "                  Bond Actor Salary  \n",
       "Film                                 \n",
       "A View to a Kill                9.1  \n",
       "Casino Royale                   3.3  "
      ]
     },
     "execution_count": 151,
     "metadata": {},
     "output_type": "execute_result"
    }
   ],
   "source": [
    "result = bond.drop(labels='Box Office', axis='columns')\n",
    "result.head(2)"
   ]
  },
  {
   "cell_type": "markdown",
   "metadata": {},
   "source": [
    "**To remove multiple columns, a Python List can be passed to the `drop(..)` method, with `axis = 1` parameter**"
   ]
  },
  {
   "cell_type": "markdown",
   "metadata": {},
   "source": [
    "## Removing rows using the `.pop(..)` method\n",
    "- This operation is permanent, hence, no need to use the `inplace = True` parameter.\n",
    "- The popped out row is returned as a Series."
   ]
  },
  {
   "cell_type": "code",
   "execution_count": 152,
   "metadata": {},
   "outputs": [
    {
     "data": {
      "text/html": [
       "<div>\n",
       "<style scoped>\n",
       "    .dataframe tbody tr th:only-of-type {\n",
       "        vertical-align: middle;\n",
       "    }\n",
       "\n",
       "    .dataframe tbody tr th {\n",
       "        vertical-align: top;\n",
       "    }\n",
       "\n",
       "    .dataframe thead th {\n",
       "        text-align: right;\n",
       "    }\n",
       "</style>\n",
       "<table border=\"1\" class=\"dataframe\">\n",
       "  <thead>\n",
       "    <tr style=\"text-align: right;\">\n",
       "      <th></th>\n",
       "      <th>Year</th>\n",
       "      <th>Actor</th>\n",
       "      <th>Director</th>\n",
       "      <th>Box Office</th>\n",
       "      <th>Budget</th>\n",
       "      <th>Bond Actor Salary</th>\n",
       "    </tr>\n",
       "    <tr>\n",
       "      <th>Film</th>\n",
       "      <th></th>\n",
       "      <th></th>\n",
       "      <th></th>\n",
       "      <th></th>\n",
       "      <th></th>\n",
       "      <th></th>\n",
       "    </tr>\n",
       "  </thead>\n",
       "  <tbody>\n",
       "    <tr>\n",
       "      <th>A View to a Kill</th>\n",
       "      <td>1985</td>\n",
       "      <td>Roger Moore</td>\n",
       "      <td>John Glen</td>\n",
       "      <td>275.2</td>\n",
       "      <td>54.5</td>\n",
       "      <td>9.1</td>\n",
       "    </tr>\n",
       "    <tr>\n",
       "      <th>Casino Royale</th>\n",
       "      <td>2006</td>\n",
       "      <td>Daniel Craig</td>\n",
       "      <td>Martin Campbell</td>\n",
       "      <td>581.5</td>\n",
       "      <td>145.3</td>\n",
       "      <td>3.3</td>\n",
       "    </tr>\n",
       "  </tbody>\n",
       "</table>\n",
       "</div>"
      ],
      "text/plain": [
       "                  Year         Actor         Director  Box Office  Budget  \\\n",
       "Film                                                                        \n",
       "A View to a Kill  1985   Roger Moore        John Glen       275.2    54.5   \n",
       "Casino Royale     2006  Daniel Craig  Martin Campbell       581.5   145.3   \n",
       "\n",
       "                  Bond Actor Salary  \n",
       "Film                                 \n",
       "A View to a Kill                9.1  \n",
       "Casino Royale                   3.3  "
      ]
     },
     "execution_count": 152,
     "metadata": {},
     "output_type": "execute_result"
    }
   ],
   "source": [
    "bond = pd.read_csv('pandas/jamesbond.csv', index_col='Film')\n",
    "bond.sort_index(inplace=True)\n",
    "bond.head(2)"
   ]
  },
  {
   "cell_type": "code",
   "execution_count": 153,
   "metadata": {},
   "outputs": [],
   "source": [
    "actor = bond.pop('Actor')"
   ]
  },
  {
   "cell_type": "code",
   "execution_count": 154,
   "metadata": {},
   "outputs": [
    {
     "data": {
      "text/html": [
       "<div>\n",
       "<style scoped>\n",
       "    .dataframe tbody tr th:only-of-type {\n",
       "        vertical-align: middle;\n",
       "    }\n",
       "\n",
       "    .dataframe tbody tr th {\n",
       "        vertical-align: top;\n",
       "    }\n",
       "\n",
       "    .dataframe thead th {\n",
       "        text-align: right;\n",
       "    }\n",
       "</style>\n",
       "<table border=\"1\" class=\"dataframe\">\n",
       "  <thead>\n",
       "    <tr style=\"text-align: right;\">\n",
       "      <th></th>\n",
       "      <th>Year</th>\n",
       "      <th>Director</th>\n",
       "      <th>Box Office</th>\n",
       "      <th>Budget</th>\n",
       "      <th>Bond Actor Salary</th>\n",
       "    </tr>\n",
       "    <tr>\n",
       "      <th>Film</th>\n",
       "      <th></th>\n",
       "      <th></th>\n",
       "      <th></th>\n",
       "      <th></th>\n",
       "      <th></th>\n",
       "    </tr>\n",
       "  </thead>\n",
       "  <tbody>\n",
       "    <tr>\n",
       "      <th>A View to a Kill</th>\n",
       "      <td>1985</td>\n",
       "      <td>John Glen</td>\n",
       "      <td>275.2</td>\n",
       "      <td>54.5</td>\n",
       "      <td>9.1</td>\n",
       "    </tr>\n",
       "    <tr>\n",
       "      <th>Casino Royale</th>\n",
       "      <td>2006</td>\n",
       "      <td>Martin Campbell</td>\n",
       "      <td>581.5</td>\n",
       "      <td>145.3</td>\n",
       "      <td>3.3</td>\n",
       "    </tr>\n",
       "  </tbody>\n",
       "</table>\n",
       "</div>"
      ],
      "text/plain": [
       "                  Year         Director  Box Office  Budget  Bond Actor Salary\n",
       "Film                                                                          \n",
       "A View to a Kill  1985        John Glen       275.2    54.5                9.1\n",
       "Casino Royale     2006  Martin Campbell       581.5   145.3                3.3"
      ]
     },
     "execution_count": 154,
     "metadata": {},
     "output_type": "execute_result"
    }
   ],
   "source": [
    "bond.head(2)"
   ]
  },
  {
   "cell_type": "code",
   "execution_count": 155,
   "metadata": {},
   "outputs": [
    {
     "data": {
      "text/plain": [
       "Film\n",
       "A View to a Kill                      Roger Moore\n",
       "Casino Royale                        Daniel Craig\n",
       "Casino Royale                         David Niven\n",
       "Diamonds Are Forever                 Sean Connery\n",
       "Die Another Day                    Pierce Brosnan\n",
       "Dr. No                               Sean Connery\n",
       "For Your Eyes Only                    Roger Moore\n",
       "From Russia with Love                Sean Connery\n",
       "GoldenEye                          Pierce Brosnan\n",
       "Goldfinger                           Sean Connery\n",
       "Licence to Kill                    Timothy Dalton\n",
       "Live and Let Die                      Roger Moore\n",
       "Moonraker                             Roger Moore\n",
       "Never Say Never Again                Sean Connery\n",
       "Octopussy                             Roger Moore\n",
       "On Her Majesty's Secret Service    George Lazenby\n",
       "Quantum of Solace                    Daniel Craig\n",
       "Skyfall                              Daniel Craig\n",
       "Spectre                              Daniel Craig\n",
       "The Living Daylights               Timothy Dalton\n",
       "The Man with the Golden Gun           Roger Moore\n",
       "The Spy Who Loved Me                  Roger Moore\n",
       "The World Is Not Enough            Pierce Brosnan\n",
       "Thunderball                          Sean Connery\n",
       "Tomorrow Never Dies                Pierce Brosnan\n",
       "You Only Live Twice                  Sean Connery\n",
       "Name: Actor, dtype: object"
      ]
     },
     "execution_count": 155,
     "metadata": {},
     "output_type": "execute_result"
    }
   ],
   "source": [
    "actor"
   ]
  },
  {
   "cell_type": "markdown",
   "metadata": {},
   "source": [
    "## Python `del` operator to delete columns"
   ]
  },
  {
   "cell_type": "code",
   "execution_count": 156,
   "metadata": {},
   "outputs": [
    {
     "data": {
      "text/html": [
       "<div>\n",
       "<style scoped>\n",
       "    .dataframe tbody tr th:only-of-type {\n",
       "        vertical-align: middle;\n",
       "    }\n",
       "\n",
       "    .dataframe tbody tr th {\n",
       "        vertical-align: top;\n",
       "    }\n",
       "\n",
       "    .dataframe thead th {\n",
       "        text-align: right;\n",
       "    }\n",
       "</style>\n",
       "<table border=\"1\" class=\"dataframe\">\n",
       "  <thead>\n",
       "    <tr style=\"text-align: right;\">\n",
       "      <th></th>\n",
       "      <th>Year</th>\n",
       "      <th>Director</th>\n",
       "      <th>Box Office</th>\n",
       "      <th>Budget</th>\n",
       "      <th>Bond Actor Salary</th>\n",
       "    </tr>\n",
       "    <tr>\n",
       "      <th>Film</th>\n",
       "      <th></th>\n",
       "      <th></th>\n",
       "      <th></th>\n",
       "      <th></th>\n",
       "      <th></th>\n",
       "    </tr>\n",
       "  </thead>\n",
       "  <tbody>\n",
       "    <tr>\n",
       "      <th>A View to a Kill</th>\n",
       "      <td>1985</td>\n",
       "      <td>John Glen</td>\n",
       "      <td>275.2</td>\n",
       "      <td>54.5</td>\n",
       "      <td>9.1</td>\n",
       "    </tr>\n",
       "    <tr>\n",
       "      <th>Casino Royale</th>\n",
       "      <td>2006</td>\n",
       "      <td>Martin Campbell</td>\n",
       "      <td>581.5</td>\n",
       "      <td>145.3</td>\n",
       "      <td>3.3</td>\n",
       "    </tr>\n",
       "  </tbody>\n",
       "</table>\n",
       "</div>"
      ],
      "text/plain": [
       "                  Year         Director  Box Office  Budget  Bond Actor Salary\n",
       "Film                                                                          \n",
       "A View to a Kill  1985        John Glen       275.2    54.5                9.1\n",
       "Casino Royale     2006  Martin Campbell       581.5   145.3                3.3"
      ]
     },
     "execution_count": 156,
     "metadata": {},
     "output_type": "execute_result"
    }
   ],
   "source": [
    "bond.head(2)"
   ]
  },
  {
   "cell_type": "code",
   "execution_count": 157,
   "metadata": {},
   "outputs": [
    {
     "data": {
      "text/html": [
       "<div>\n",
       "<style scoped>\n",
       "    .dataframe tbody tr th:only-of-type {\n",
       "        vertical-align: middle;\n",
       "    }\n",
       "\n",
       "    .dataframe tbody tr th {\n",
       "        vertical-align: top;\n",
       "    }\n",
       "\n",
       "    .dataframe thead th {\n",
       "        text-align: right;\n",
       "    }\n",
       "</style>\n",
       "<table border=\"1\" class=\"dataframe\">\n",
       "  <thead>\n",
       "    <tr style=\"text-align: right;\">\n",
       "      <th></th>\n",
       "      <th>Year</th>\n",
       "      <th>Box Office</th>\n",
       "      <th>Budget</th>\n",
       "      <th>Bond Actor Salary</th>\n",
       "    </tr>\n",
       "    <tr>\n",
       "      <th>Film</th>\n",
       "      <th></th>\n",
       "      <th></th>\n",
       "      <th></th>\n",
       "      <th></th>\n",
       "    </tr>\n",
       "  </thead>\n",
       "  <tbody>\n",
       "    <tr>\n",
       "      <th>A View to a Kill</th>\n",
       "      <td>1985</td>\n",
       "      <td>275.2</td>\n",
       "      <td>54.5</td>\n",
       "      <td>9.1</td>\n",
       "    </tr>\n",
       "    <tr>\n",
       "      <th>Casino Royale</th>\n",
       "      <td>2006</td>\n",
       "      <td>581.5</td>\n",
       "      <td>145.3</td>\n",
       "      <td>3.3</td>\n",
       "    </tr>\n",
       "  </tbody>\n",
       "</table>\n",
       "</div>"
      ],
      "text/plain": [
       "                  Year  Box Office  Budget  Bond Actor Salary\n",
       "Film                                                         \n",
       "A View to a Kill  1985       275.2    54.5                9.1\n",
       "Casino Royale     2006       581.5   145.3                3.3"
      ]
     },
     "execution_count": 157,
     "metadata": {},
     "output_type": "execute_result"
    }
   ],
   "source": [
    "del bond['Director']\n",
    "bond.head(2)"
   ]
  },
  {
   "cell_type": "markdown",
   "metadata": {},
   "source": [
    "---\n",
    "# Creating a random sample from a DataFrame"
   ]
  },
  {
   "cell_type": "code",
   "execution_count": 158,
   "metadata": {},
   "outputs": [
    {
     "data": {
      "text/html": [
       "<div>\n",
       "<style scoped>\n",
       "    .dataframe tbody tr th:only-of-type {\n",
       "        vertical-align: middle;\n",
       "    }\n",
       "\n",
       "    .dataframe tbody tr th {\n",
       "        vertical-align: top;\n",
       "    }\n",
       "\n",
       "    .dataframe thead th {\n",
       "        text-align: right;\n",
       "    }\n",
       "</style>\n",
       "<table border=\"1\" class=\"dataframe\">\n",
       "  <thead>\n",
       "    <tr style=\"text-align: right;\">\n",
       "      <th></th>\n",
       "      <th>Year</th>\n",
       "      <th>Actor</th>\n",
       "      <th>Director</th>\n",
       "      <th>Box Office</th>\n",
       "      <th>Budget</th>\n",
       "      <th>Bond Actor Salary</th>\n",
       "    </tr>\n",
       "    <tr>\n",
       "      <th>Film</th>\n",
       "      <th></th>\n",
       "      <th></th>\n",
       "      <th></th>\n",
       "      <th></th>\n",
       "      <th></th>\n",
       "      <th></th>\n",
       "    </tr>\n",
       "  </thead>\n",
       "  <tbody>\n",
       "    <tr>\n",
       "      <th>A View to a Kill</th>\n",
       "      <td>1985</td>\n",
       "      <td>Roger Moore</td>\n",
       "      <td>John Glen</td>\n",
       "      <td>275.2</td>\n",
       "      <td>54.5</td>\n",
       "      <td>9.1</td>\n",
       "    </tr>\n",
       "    <tr>\n",
       "      <th>Casino Royale</th>\n",
       "      <td>2006</td>\n",
       "      <td>Daniel Craig</td>\n",
       "      <td>Martin Campbell</td>\n",
       "      <td>581.5</td>\n",
       "      <td>145.3</td>\n",
       "      <td>3.3</td>\n",
       "    </tr>\n",
       "  </tbody>\n",
       "</table>\n",
       "</div>"
      ],
      "text/plain": [
       "                  Year         Actor         Director  Box Office  Budget  \\\n",
       "Film                                                                        \n",
       "A View to a Kill  1985   Roger Moore        John Glen       275.2    54.5   \n",
       "Casino Royale     2006  Daniel Craig  Martin Campbell       581.5   145.3   \n",
       "\n",
       "                  Bond Actor Salary  \n",
       "Film                                 \n",
       "A View to a Kill                9.1  \n",
       "Casino Royale                   3.3  "
      ]
     },
     "execution_count": 158,
     "metadata": {},
     "output_type": "execute_result"
    }
   ],
   "source": [
    "bond = pd.read_csv('pandas/jamesbond.csv', index_col='Film')\n",
    "bond.sort_index(inplace=True)\n",
    "bond.head(2)"
   ]
  },
  {
   "cell_type": "markdown",
   "metadata": {},
   "source": [
    "### `.sample(..)` method by default returns one row from the DataFrame at random"
   ]
  },
  {
   "cell_type": "code",
   "execution_count": 159,
   "metadata": {},
   "outputs": [
    {
     "data": {
      "text/html": [
       "<div>\n",
       "<style scoped>\n",
       "    .dataframe tbody tr th:only-of-type {\n",
       "        vertical-align: middle;\n",
       "    }\n",
       "\n",
       "    .dataframe tbody tr th {\n",
       "        vertical-align: top;\n",
       "    }\n",
       "\n",
       "    .dataframe thead th {\n",
       "        text-align: right;\n",
       "    }\n",
       "</style>\n",
       "<table border=\"1\" class=\"dataframe\">\n",
       "  <thead>\n",
       "    <tr style=\"text-align: right;\">\n",
       "      <th></th>\n",
       "      <th>Year</th>\n",
       "      <th>Actor</th>\n",
       "      <th>Director</th>\n",
       "      <th>Box Office</th>\n",
       "      <th>Budget</th>\n",
       "      <th>Bond Actor Salary</th>\n",
       "    </tr>\n",
       "    <tr>\n",
       "      <th>Film</th>\n",
       "      <th></th>\n",
       "      <th></th>\n",
       "      <th></th>\n",
       "      <th></th>\n",
       "      <th></th>\n",
       "      <th></th>\n",
       "    </tr>\n",
       "  </thead>\n",
       "  <tbody>\n",
       "    <tr>\n",
       "      <th>From Russia with Love</th>\n",
       "      <td>1963</td>\n",
       "      <td>Sean Connery</td>\n",
       "      <td>Terence Young</td>\n",
       "      <td>543.8</td>\n",
       "      <td>12.6</td>\n",
       "      <td>1.6</td>\n",
       "    </tr>\n",
       "  </tbody>\n",
       "</table>\n",
       "</div>"
      ],
      "text/plain": [
       "                       Year         Actor       Director  Box Office  Budget  \\\n",
       "Film                                                                           \n",
       "From Russia with Love  1963  Sean Connery  Terence Young       543.8    12.6   \n",
       "\n",
       "                       Bond Actor Salary  \n",
       "Film                                      \n",
       "From Russia with Love                1.6  "
      ]
     },
     "execution_count": 159,
     "metadata": {},
     "output_type": "execute_result"
    }
   ],
   "source": [
    "bond.sample()"
   ]
  },
  {
   "cell_type": "markdown",
   "metadata": {},
   "source": [
    "#### Multiple random rows using the `n` parameter"
   ]
  },
  {
   "cell_type": "code",
   "execution_count": 160,
   "metadata": {},
   "outputs": [
    {
     "data": {
      "text/html": [
       "<div>\n",
       "<style scoped>\n",
       "    .dataframe tbody tr th:only-of-type {\n",
       "        vertical-align: middle;\n",
       "    }\n",
       "\n",
       "    .dataframe tbody tr th {\n",
       "        vertical-align: top;\n",
       "    }\n",
       "\n",
       "    .dataframe thead th {\n",
       "        text-align: right;\n",
       "    }\n",
       "</style>\n",
       "<table border=\"1\" class=\"dataframe\">\n",
       "  <thead>\n",
       "    <tr style=\"text-align: right;\">\n",
       "      <th></th>\n",
       "      <th>Year</th>\n",
       "      <th>Actor</th>\n",
       "      <th>Director</th>\n",
       "      <th>Box Office</th>\n",
       "      <th>Budget</th>\n",
       "      <th>Bond Actor Salary</th>\n",
       "    </tr>\n",
       "    <tr>\n",
       "      <th>Film</th>\n",
       "      <th></th>\n",
       "      <th></th>\n",
       "      <th></th>\n",
       "      <th></th>\n",
       "      <th></th>\n",
       "      <th></th>\n",
       "    </tr>\n",
       "  </thead>\n",
       "  <tbody>\n",
       "    <tr>\n",
       "      <th>Die Another Day</th>\n",
       "      <td>2002</td>\n",
       "      <td>Pierce Brosnan</td>\n",
       "      <td>Lee Tamahori</td>\n",
       "      <td>465.4</td>\n",
       "      <td>154.2</td>\n",
       "      <td>17.9</td>\n",
       "    </tr>\n",
       "    <tr>\n",
       "      <th>Never Say Never Again</th>\n",
       "      <td>1983</td>\n",
       "      <td>Sean Connery</td>\n",
       "      <td>Irvin Kershner</td>\n",
       "      <td>380.0</td>\n",
       "      <td>86.0</td>\n",
       "      <td>NaN</td>\n",
       "    </tr>\n",
       "    <tr>\n",
       "      <th>You Only Live Twice</th>\n",
       "      <td>1967</td>\n",
       "      <td>Sean Connery</td>\n",
       "      <td>Lewis Gilbert</td>\n",
       "      <td>514.2</td>\n",
       "      <td>59.9</td>\n",
       "      <td>4.4</td>\n",
       "    </tr>\n",
       "  </tbody>\n",
       "</table>\n",
       "</div>"
      ],
      "text/plain": [
       "                       Year           Actor        Director  Box Office  \\\n",
       "Film                                                                      \n",
       "Die Another Day        2002  Pierce Brosnan    Lee Tamahori       465.4   \n",
       "Never Say Never Again  1983    Sean Connery  Irvin Kershner       380.0   \n",
       "You Only Live Twice    1967    Sean Connery   Lewis Gilbert       514.2   \n",
       "\n",
       "                       Budget  Bond Actor Salary  \n",
       "Film                                              \n",
       "Die Another Day         154.2               17.9  \n",
       "Never Say Never Again    86.0                NaN  \n",
       "You Only Live Twice      59.9                4.4  "
      ]
     },
     "execution_count": 160,
     "metadata": {},
     "output_type": "execute_result"
    }
   ],
   "source": [
    "bond.sample(n=3)"
   ]
  },
  {
   "cell_type": "markdown",
   "metadata": {},
   "source": [
    "#### Multiple random rows using the `frac` parameter\n",
    "10% of the total number of rows in the DataFrame by passing `frac=0.1`"
   ]
  },
  {
   "cell_type": "code",
   "execution_count": 161,
   "metadata": {},
   "outputs": [
    {
     "data": {
      "text/html": [
       "<div>\n",
       "<style scoped>\n",
       "    .dataframe tbody tr th:only-of-type {\n",
       "        vertical-align: middle;\n",
       "    }\n",
       "\n",
       "    .dataframe tbody tr th {\n",
       "        vertical-align: top;\n",
       "    }\n",
       "\n",
       "    .dataframe thead th {\n",
       "        text-align: right;\n",
       "    }\n",
       "</style>\n",
       "<table border=\"1\" class=\"dataframe\">\n",
       "  <thead>\n",
       "    <tr style=\"text-align: right;\">\n",
       "      <th></th>\n",
       "      <th>Year</th>\n",
       "      <th>Actor</th>\n",
       "      <th>Director</th>\n",
       "      <th>Box Office</th>\n",
       "      <th>Budget</th>\n",
       "      <th>Bond Actor Salary</th>\n",
       "    </tr>\n",
       "    <tr>\n",
       "      <th>Film</th>\n",
       "      <th></th>\n",
       "      <th></th>\n",
       "      <th></th>\n",
       "      <th></th>\n",
       "      <th></th>\n",
       "      <th></th>\n",
       "    </tr>\n",
       "  </thead>\n",
       "  <tbody>\n",
       "    <tr>\n",
       "      <th>On Her Majesty's Secret Service</th>\n",
       "      <td>1969</td>\n",
       "      <td>George Lazenby</td>\n",
       "      <td>Peter R. Hunt</td>\n",
       "      <td>291.5</td>\n",
       "      <td>37.3</td>\n",
       "      <td>0.6</td>\n",
       "    </tr>\n",
       "    <tr>\n",
       "      <th>Thunderball</th>\n",
       "      <td>1965</td>\n",
       "      <td>Sean Connery</td>\n",
       "      <td>Terence Young</td>\n",
       "      <td>848.1</td>\n",
       "      <td>41.9</td>\n",
       "      <td>4.7</td>\n",
       "    </tr>\n",
       "    <tr>\n",
       "      <th>Goldfinger</th>\n",
       "      <td>1964</td>\n",
       "      <td>Sean Connery</td>\n",
       "      <td>Guy Hamilton</td>\n",
       "      <td>820.4</td>\n",
       "      <td>18.6</td>\n",
       "      <td>3.2</td>\n",
       "    </tr>\n",
       "  </tbody>\n",
       "</table>\n",
       "</div>"
      ],
      "text/plain": [
       "                                 Year           Actor       Director  \\\n",
       "Film                                                                   \n",
       "On Her Majesty's Secret Service  1969  George Lazenby  Peter R. Hunt   \n",
       "Thunderball                      1965    Sean Connery  Terence Young   \n",
       "Goldfinger                       1964    Sean Connery   Guy Hamilton   \n",
       "\n",
       "                                 Box Office  Budget  Bond Actor Salary  \n",
       "Film                                                                    \n",
       "On Her Majesty's Secret Service       291.5    37.3                0.6  \n",
       "Thunderball                           848.1    41.9                4.7  \n",
       "Goldfinger                            820.4    18.6                3.2  "
      ]
     },
     "execution_count": 161,
     "metadata": {},
     "output_type": "execute_result"
    }
   ],
   "source": [
    "bond.sample(frac=0.1)"
   ]
  },
  {
   "cell_type": "markdown",
   "metadata": {},
   "source": [
    "### Random columns acorss all labels/indices"
   ]
  },
  {
   "cell_type": "code",
   "execution_count": 162,
   "metadata": {},
   "outputs": [
    {
     "data": {
      "text/html": [
       "<div>\n",
       "<style scoped>\n",
       "    .dataframe tbody tr th:only-of-type {\n",
       "        vertical-align: middle;\n",
       "    }\n",
       "\n",
       "    .dataframe tbody tr th {\n",
       "        vertical-align: top;\n",
       "    }\n",
       "\n",
       "    .dataframe thead th {\n",
       "        text-align: right;\n",
       "    }\n",
       "</style>\n",
       "<table border=\"1\" class=\"dataframe\">\n",
       "  <thead>\n",
       "    <tr style=\"text-align: right;\">\n",
       "      <th></th>\n",
       "      <th>Year</th>\n",
       "      <th>Actor</th>\n",
       "      <th>Box Office</th>\n",
       "    </tr>\n",
       "    <tr>\n",
       "      <th>Film</th>\n",
       "      <th></th>\n",
       "      <th></th>\n",
       "      <th></th>\n",
       "    </tr>\n",
       "  </thead>\n",
       "  <tbody>\n",
       "    <tr>\n",
       "      <th>A View to a Kill</th>\n",
       "      <td>1985</td>\n",
       "      <td>Roger Moore</td>\n",
       "      <td>275.2</td>\n",
       "    </tr>\n",
       "    <tr>\n",
       "      <th>Casino Royale</th>\n",
       "      <td>2006</td>\n",
       "      <td>Daniel Craig</td>\n",
       "      <td>581.5</td>\n",
       "    </tr>\n",
       "    <tr>\n",
       "      <th>Casino Royale</th>\n",
       "      <td>1967</td>\n",
       "      <td>David Niven</td>\n",
       "      <td>315.0</td>\n",
       "    </tr>\n",
       "  </tbody>\n",
       "</table>\n",
       "</div>"
      ],
      "text/plain": [
       "                  Year         Actor  Box Office\n",
       "Film                                            \n",
       "A View to a Kill  1985   Roger Moore       275.2\n",
       "Casino Royale     2006  Daniel Craig       581.5\n",
       "Casino Royale     1967   David Niven       315.0"
      ]
     },
     "execution_count": 162,
     "metadata": {},
     "output_type": "execute_result"
    }
   ],
   "source": [
    "result = bond.sample(n=3, axis=1)\n",
    "result.head(3)"
   ]
  },
  {
   "cell_type": "code",
   "execution_count": 163,
   "metadata": {},
   "outputs": [
    {
     "data": {
      "text/html": [
       "<div>\n",
       "<style scoped>\n",
       "    .dataframe tbody tr th:only-of-type {\n",
       "        vertical-align: middle;\n",
       "    }\n",
       "\n",
       "    .dataframe tbody tr th {\n",
       "        vertical-align: top;\n",
       "    }\n",
       "\n",
       "    .dataframe thead th {\n",
       "        text-align: right;\n",
       "    }\n",
       "</style>\n",
       "<table border=\"1\" class=\"dataframe\">\n",
       "  <thead>\n",
       "    <tr style=\"text-align: right;\">\n",
       "      <th></th>\n",
       "      <th>Box Office</th>\n",
       "      <th>Actor</th>\n",
       "      <th>Year</th>\n",
       "    </tr>\n",
       "    <tr>\n",
       "      <th>Film</th>\n",
       "      <th></th>\n",
       "      <th></th>\n",
       "      <th></th>\n",
       "    </tr>\n",
       "  </thead>\n",
       "  <tbody>\n",
       "    <tr>\n",
       "      <th>A View to a Kill</th>\n",
       "      <td>275.2</td>\n",
       "      <td>Roger Moore</td>\n",
       "      <td>1985</td>\n",
       "    </tr>\n",
       "    <tr>\n",
       "      <th>Casino Royale</th>\n",
       "      <td>581.5</td>\n",
       "      <td>Daniel Craig</td>\n",
       "      <td>2006</td>\n",
       "    </tr>\n",
       "    <tr>\n",
       "      <th>Casino Royale</th>\n",
       "      <td>315.0</td>\n",
       "      <td>David Niven</td>\n",
       "      <td>1967</td>\n",
       "    </tr>\n",
       "  </tbody>\n",
       "</table>\n",
       "</div>"
      ],
      "text/plain": [
       "                  Box Office         Actor  Year\n",
       "Film                                            \n",
       "A View to a Kill       275.2   Roger Moore  1985\n",
       "Casino Royale          581.5  Daniel Craig  2006\n",
       "Casino Royale          315.0   David Niven  1967"
      ]
     },
     "execution_count": 163,
     "metadata": {},
     "output_type": "execute_result"
    }
   ],
   "source": [
    "result = bond.sample(n=3, axis='columns')\n",
    "result.head(3)"
   ]
  },
  {
   "cell_type": "markdown",
   "metadata": {},
   "source": [
    "---\n",
    "# `.nsmallest(..)` and `.nlargest(..)` methods\n",
    "To extract the rows from a DataFrame that contain the smalles/largest values in a particular column"
   ]
  },
  {
   "cell_type": "code",
   "execution_count": 164,
   "metadata": {},
   "outputs": [
    {
     "data": {
      "text/html": [
       "<div>\n",
       "<style scoped>\n",
       "    .dataframe tbody tr th:only-of-type {\n",
       "        vertical-align: middle;\n",
       "    }\n",
       "\n",
       "    .dataframe tbody tr th {\n",
       "        vertical-align: top;\n",
       "    }\n",
       "\n",
       "    .dataframe thead th {\n",
       "        text-align: right;\n",
       "    }\n",
       "</style>\n",
       "<table border=\"1\" class=\"dataframe\">\n",
       "  <thead>\n",
       "    <tr style=\"text-align: right;\">\n",
       "      <th></th>\n",
       "      <th>Year</th>\n",
       "      <th>Actor</th>\n",
       "      <th>Director</th>\n",
       "      <th>Box Office</th>\n",
       "      <th>Budget</th>\n",
       "      <th>Bond Actor Salary</th>\n",
       "    </tr>\n",
       "    <tr>\n",
       "      <th>Film</th>\n",
       "      <th></th>\n",
       "      <th></th>\n",
       "      <th></th>\n",
       "      <th></th>\n",
       "      <th></th>\n",
       "      <th></th>\n",
       "    </tr>\n",
       "  </thead>\n",
       "  <tbody>\n",
       "    <tr>\n",
       "      <th>A View to a Kill</th>\n",
       "      <td>1985</td>\n",
       "      <td>Roger Moore</td>\n",
       "      <td>John Glen</td>\n",
       "      <td>275.2</td>\n",
       "      <td>54.5</td>\n",
       "      <td>9.1</td>\n",
       "    </tr>\n",
       "    <tr>\n",
       "      <th>Casino Royale</th>\n",
       "      <td>2006</td>\n",
       "      <td>Daniel Craig</td>\n",
       "      <td>Martin Campbell</td>\n",
       "      <td>581.5</td>\n",
       "      <td>145.3</td>\n",
       "      <td>3.3</td>\n",
       "    </tr>\n",
       "  </tbody>\n",
       "</table>\n",
       "</div>"
      ],
      "text/plain": [
       "                  Year         Actor         Director  Box Office  Budget  \\\n",
       "Film                                                                        \n",
       "A View to a Kill  1985   Roger Moore        John Glen       275.2    54.5   \n",
       "Casino Royale     2006  Daniel Craig  Martin Campbell       581.5   145.3   \n",
       "\n",
       "                  Bond Actor Salary  \n",
       "Film                                 \n",
       "A View to a Kill                9.1  \n",
       "Casino Royale                   3.3  "
      ]
     },
     "execution_count": 164,
     "metadata": {},
     "output_type": "execute_result"
    }
   ],
   "source": [
    "bond = pd.read_csv('pandas/jamesbond.csv', index_col='Film')\n",
    "bond.sort_index(inplace=True)\n",
    "bond.head(2)"
   ]
  },
  {
   "cell_type": "markdown",
   "metadata": {},
   "source": [
    "**Extracting the top 3 rows with largest Box Office**\n",
    "\n",
    "**METHOD-1**"
   ]
  },
  {
   "cell_type": "code",
   "execution_count": 165,
   "metadata": {},
   "outputs": [
    {
     "data": {
      "text/html": [
       "<div>\n",
       "<style scoped>\n",
       "    .dataframe tbody tr th:only-of-type {\n",
       "        vertical-align: middle;\n",
       "    }\n",
       "\n",
       "    .dataframe tbody tr th {\n",
       "        vertical-align: top;\n",
       "    }\n",
       "\n",
       "    .dataframe thead th {\n",
       "        text-align: right;\n",
       "    }\n",
       "</style>\n",
       "<table border=\"1\" class=\"dataframe\">\n",
       "  <thead>\n",
       "    <tr style=\"text-align: right;\">\n",
       "      <th></th>\n",
       "      <th>Year</th>\n",
       "      <th>Actor</th>\n",
       "      <th>Director</th>\n",
       "      <th>Box Office</th>\n",
       "      <th>Budget</th>\n",
       "      <th>Bond Actor Salary</th>\n",
       "    </tr>\n",
       "    <tr>\n",
       "      <th>Film</th>\n",
       "      <th></th>\n",
       "      <th></th>\n",
       "      <th></th>\n",
       "      <th></th>\n",
       "      <th></th>\n",
       "      <th></th>\n",
       "    </tr>\n",
       "  </thead>\n",
       "  <tbody>\n",
       "    <tr>\n",
       "      <th>Skyfall</th>\n",
       "      <td>2012</td>\n",
       "      <td>Daniel Craig</td>\n",
       "      <td>Sam Mendes</td>\n",
       "      <td>943.5</td>\n",
       "      <td>170.2</td>\n",
       "      <td>14.5</td>\n",
       "    </tr>\n",
       "    <tr>\n",
       "      <th>Thunderball</th>\n",
       "      <td>1965</td>\n",
       "      <td>Sean Connery</td>\n",
       "      <td>Terence Young</td>\n",
       "      <td>848.1</td>\n",
       "      <td>41.9</td>\n",
       "      <td>4.7</td>\n",
       "    </tr>\n",
       "    <tr>\n",
       "      <th>Goldfinger</th>\n",
       "      <td>1964</td>\n",
       "      <td>Sean Connery</td>\n",
       "      <td>Guy Hamilton</td>\n",
       "      <td>820.4</td>\n",
       "      <td>18.6</td>\n",
       "      <td>3.2</td>\n",
       "    </tr>\n",
       "  </tbody>\n",
       "</table>\n",
       "</div>"
      ],
      "text/plain": [
       "             Year         Actor       Director  Box Office  Budget  \\\n",
       "Film                                                                 \n",
       "Skyfall      2012  Daniel Craig     Sam Mendes       943.5   170.2   \n",
       "Thunderball  1965  Sean Connery  Terence Young       848.1    41.9   \n",
       "Goldfinger   1964  Sean Connery   Guy Hamilton       820.4    18.6   \n",
       "\n",
       "             Bond Actor Salary  \n",
       "Film                            \n",
       "Skyfall                   14.5  \n",
       "Thunderball                4.7  \n",
       "Goldfinger                 3.2  "
      ]
     },
     "execution_count": 165,
     "metadata": {},
     "output_type": "execute_result"
    }
   ],
   "source": [
    "bond.sort_values('Box Office', ascending=False).head(3)"
   ]
  },
  {
   "cell_type": "markdown",
   "metadata": {},
   "source": [
    "**METHOD-2**"
   ]
  },
  {
   "cell_type": "code",
   "execution_count": 166,
   "metadata": {},
   "outputs": [
    {
     "data": {
      "text/html": [
       "<div>\n",
       "<style scoped>\n",
       "    .dataframe tbody tr th:only-of-type {\n",
       "        vertical-align: middle;\n",
       "    }\n",
       "\n",
       "    .dataframe tbody tr th {\n",
       "        vertical-align: top;\n",
       "    }\n",
       "\n",
       "    .dataframe thead th {\n",
       "        text-align: right;\n",
       "    }\n",
       "</style>\n",
       "<table border=\"1\" class=\"dataframe\">\n",
       "  <thead>\n",
       "    <tr style=\"text-align: right;\">\n",
       "      <th></th>\n",
       "      <th>Year</th>\n",
       "      <th>Actor</th>\n",
       "      <th>Director</th>\n",
       "      <th>Box Office</th>\n",
       "      <th>Budget</th>\n",
       "      <th>Bond Actor Salary</th>\n",
       "    </tr>\n",
       "    <tr>\n",
       "      <th>Film</th>\n",
       "      <th></th>\n",
       "      <th></th>\n",
       "      <th></th>\n",
       "      <th></th>\n",
       "      <th></th>\n",
       "      <th></th>\n",
       "    </tr>\n",
       "  </thead>\n",
       "  <tbody>\n",
       "    <tr>\n",
       "      <th>Skyfall</th>\n",
       "      <td>2012</td>\n",
       "      <td>Daniel Craig</td>\n",
       "      <td>Sam Mendes</td>\n",
       "      <td>943.5</td>\n",
       "      <td>170.2</td>\n",
       "      <td>14.5</td>\n",
       "    </tr>\n",
       "    <tr>\n",
       "      <th>Thunderball</th>\n",
       "      <td>1965</td>\n",
       "      <td>Sean Connery</td>\n",
       "      <td>Terence Young</td>\n",
       "      <td>848.1</td>\n",
       "      <td>41.9</td>\n",
       "      <td>4.7</td>\n",
       "    </tr>\n",
       "    <tr>\n",
       "      <th>Goldfinger</th>\n",
       "      <td>1964</td>\n",
       "      <td>Sean Connery</td>\n",
       "      <td>Guy Hamilton</td>\n",
       "      <td>820.4</td>\n",
       "      <td>18.6</td>\n",
       "      <td>3.2</td>\n",
       "    </tr>\n",
       "  </tbody>\n",
       "</table>\n",
       "</div>"
      ],
      "text/plain": [
       "             Year         Actor       Director  Box Office  Budget  \\\n",
       "Film                                                                 \n",
       "Skyfall      2012  Daniel Craig     Sam Mendes       943.5   170.2   \n",
       "Thunderball  1965  Sean Connery  Terence Young       848.1    41.9   \n",
       "Goldfinger   1964  Sean Connery   Guy Hamilton       820.4    18.6   \n",
       "\n",
       "             Bond Actor Salary  \n",
       "Film                            \n",
       "Skyfall                   14.5  \n",
       "Thunderball                4.7  \n",
       "Goldfinger                 3.2  "
      ]
     },
     "execution_count": 166,
     "metadata": {},
     "output_type": "execute_result"
    }
   ],
   "source": [
    "bond.nlargest(n=3,columns='Box Office')"
   ]
  },
  {
   "cell_type": "markdown",
   "metadata": {},
   "source": [
    "### Can use the `.nsmallest(..)` method in a similar way"
   ]
  },
  {
   "cell_type": "code",
   "execution_count": 167,
   "metadata": {},
   "outputs": [
    {
     "data": {
      "text/html": [
       "<div>\n",
       "<style scoped>\n",
       "    .dataframe tbody tr th:only-of-type {\n",
       "        vertical-align: middle;\n",
       "    }\n",
       "\n",
       "    .dataframe tbody tr th {\n",
       "        vertical-align: top;\n",
       "    }\n",
       "\n",
       "    .dataframe thead th {\n",
       "        text-align: right;\n",
       "    }\n",
       "</style>\n",
       "<table border=\"1\" class=\"dataframe\">\n",
       "  <thead>\n",
       "    <tr style=\"text-align: right;\">\n",
       "      <th></th>\n",
       "      <th>Year</th>\n",
       "      <th>Actor</th>\n",
       "      <th>Director</th>\n",
       "      <th>Box Office</th>\n",
       "      <th>Budget</th>\n",
       "      <th>Bond Actor Salary</th>\n",
       "    </tr>\n",
       "    <tr>\n",
       "      <th>Film</th>\n",
       "      <th></th>\n",
       "      <th></th>\n",
       "      <th></th>\n",
       "      <th></th>\n",
       "      <th></th>\n",
       "      <th></th>\n",
       "    </tr>\n",
       "  </thead>\n",
       "  <tbody>\n",
       "    <tr>\n",
       "      <th>Dr. No</th>\n",
       "      <td>1962</td>\n",
       "      <td>Sean Connery</td>\n",
       "      <td>Terence Young</td>\n",
       "      <td>448.8</td>\n",
       "      <td>7.0</td>\n",
       "      <td>0.6</td>\n",
       "    </tr>\n",
       "    <tr>\n",
       "      <th>On Her Majesty's Secret Service</th>\n",
       "      <td>1969</td>\n",
       "      <td>George Lazenby</td>\n",
       "      <td>Peter R. Hunt</td>\n",
       "      <td>291.5</td>\n",
       "      <td>37.3</td>\n",
       "      <td>0.6</td>\n",
       "    </tr>\n",
       "  </tbody>\n",
       "</table>\n",
       "</div>"
      ],
      "text/plain": [
       "                                 Year           Actor       Director  \\\n",
       "Film                                                                   \n",
       "Dr. No                           1962    Sean Connery  Terence Young   \n",
       "On Her Majesty's Secret Service  1969  George Lazenby  Peter R. Hunt   \n",
       "\n",
       "                                 Box Office  Budget  Bond Actor Salary  \n",
       "Film                                                                    \n",
       "Dr. No                                448.8     7.0                0.6  \n",
       "On Her Majesty's Secret Service       291.5    37.3                0.6  "
      ]
     },
     "execution_count": 167,
     "metadata": {},
     "output_type": "execute_result"
    }
   ],
   "source": [
    "bond.nsmallest(n=2, columns='Bond Actor Salary')"
   ]
  },
  {
   "cell_type": "markdown",
   "metadata": {},
   "source": [
    "---\n",
    "# Filtering with the `.where(..)` method\n",
    "The rows that match our criteria are returned as another DataFrame. Those values that do not match our criteria will also be present in the DataFrame as null values!"
   ]
  },
  {
   "cell_type": "code",
   "execution_count": 168,
   "metadata": {},
   "outputs": [
    {
     "data": {
      "text/html": [
       "<div>\n",
       "<style scoped>\n",
       "    .dataframe tbody tr th:only-of-type {\n",
       "        vertical-align: middle;\n",
       "    }\n",
       "\n",
       "    .dataframe tbody tr th {\n",
       "        vertical-align: top;\n",
       "    }\n",
       "\n",
       "    .dataframe thead th {\n",
       "        text-align: right;\n",
       "    }\n",
       "</style>\n",
       "<table border=\"1\" class=\"dataframe\">\n",
       "  <thead>\n",
       "    <tr style=\"text-align: right;\">\n",
       "      <th></th>\n",
       "      <th>Year</th>\n",
       "      <th>Actor</th>\n",
       "      <th>Director</th>\n",
       "      <th>Box Office</th>\n",
       "      <th>Budget</th>\n",
       "      <th>Bond Actor Salary</th>\n",
       "    </tr>\n",
       "    <tr>\n",
       "      <th>Film</th>\n",
       "      <th></th>\n",
       "      <th></th>\n",
       "      <th></th>\n",
       "      <th></th>\n",
       "      <th></th>\n",
       "      <th></th>\n",
       "    </tr>\n",
       "  </thead>\n",
       "  <tbody>\n",
       "    <tr>\n",
       "      <th>A View to a Kill</th>\n",
       "      <td>1985</td>\n",
       "      <td>Roger Moore</td>\n",
       "      <td>John Glen</td>\n",
       "      <td>275.2</td>\n",
       "      <td>54.5</td>\n",
       "      <td>9.1</td>\n",
       "    </tr>\n",
       "    <tr>\n",
       "      <th>Casino Royale</th>\n",
       "      <td>2006</td>\n",
       "      <td>Daniel Craig</td>\n",
       "      <td>Martin Campbell</td>\n",
       "      <td>581.5</td>\n",
       "      <td>145.3</td>\n",
       "      <td>3.3</td>\n",
       "    </tr>\n",
       "  </tbody>\n",
       "</table>\n",
       "</div>"
      ],
      "text/plain": [
       "                  Year         Actor         Director  Box Office  Budget  \\\n",
       "Film                                                                        \n",
       "A View to a Kill  1985   Roger Moore        John Glen       275.2    54.5   \n",
       "Casino Royale     2006  Daniel Craig  Martin Campbell       581.5   145.3   \n",
       "\n",
       "                  Bond Actor Salary  \n",
       "Film                                 \n",
       "A View to a Kill                9.1  \n",
       "Casino Royale                   3.3  "
      ]
     },
     "execution_count": 168,
     "metadata": {},
     "output_type": "execute_result"
    }
   ],
   "source": [
    "bond = pd.read_csv('pandas/jamesbond.csv', index_col='Film')\n",
    "bond.sort_index(inplace=True)\n",
    "bond.head(2)"
   ]
  },
  {
   "cell_type": "markdown",
   "metadata": {},
   "source": [
    "**Filtering where the `Actor` column is equal to `Sean Connery`**\n",
    "\n",
    "**METHOD-1**"
   ]
  },
  {
   "cell_type": "code",
   "execution_count": 169,
   "metadata": {},
   "outputs": [
    {
     "data": {
      "text/html": [
       "<div>\n",
       "<style scoped>\n",
       "    .dataframe tbody tr th:only-of-type {\n",
       "        vertical-align: middle;\n",
       "    }\n",
       "\n",
       "    .dataframe tbody tr th {\n",
       "        vertical-align: top;\n",
       "    }\n",
       "\n",
       "    .dataframe thead th {\n",
       "        text-align: right;\n",
       "    }\n",
       "</style>\n",
       "<table border=\"1\" class=\"dataframe\">\n",
       "  <thead>\n",
       "    <tr style=\"text-align: right;\">\n",
       "      <th></th>\n",
       "      <th>Year</th>\n",
       "      <th>Actor</th>\n",
       "      <th>Director</th>\n",
       "      <th>Box Office</th>\n",
       "      <th>Budget</th>\n",
       "      <th>Bond Actor Salary</th>\n",
       "    </tr>\n",
       "    <tr>\n",
       "      <th>Film</th>\n",
       "      <th></th>\n",
       "      <th></th>\n",
       "      <th></th>\n",
       "      <th></th>\n",
       "      <th></th>\n",
       "      <th></th>\n",
       "    </tr>\n",
       "  </thead>\n",
       "  <tbody>\n",
       "    <tr>\n",
       "      <th>Diamonds Are Forever</th>\n",
       "      <td>1971</td>\n",
       "      <td>Sean Connery</td>\n",
       "      <td>Guy Hamilton</td>\n",
       "      <td>442.5</td>\n",
       "      <td>34.7</td>\n",
       "      <td>5.8</td>\n",
       "    </tr>\n",
       "    <tr>\n",
       "      <th>Dr. No</th>\n",
       "      <td>1962</td>\n",
       "      <td>Sean Connery</td>\n",
       "      <td>Terence Young</td>\n",
       "      <td>448.8</td>\n",
       "      <td>7.0</td>\n",
       "      <td>0.6</td>\n",
       "    </tr>\n",
       "    <tr>\n",
       "      <th>From Russia with Love</th>\n",
       "      <td>1963</td>\n",
       "      <td>Sean Connery</td>\n",
       "      <td>Terence Young</td>\n",
       "      <td>543.8</td>\n",
       "      <td>12.6</td>\n",
       "      <td>1.6</td>\n",
       "    </tr>\n",
       "    <tr>\n",
       "      <th>Goldfinger</th>\n",
       "      <td>1964</td>\n",
       "      <td>Sean Connery</td>\n",
       "      <td>Guy Hamilton</td>\n",
       "      <td>820.4</td>\n",
       "      <td>18.6</td>\n",
       "      <td>3.2</td>\n",
       "    </tr>\n",
       "    <tr>\n",
       "      <th>Never Say Never Again</th>\n",
       "      <td>1983</td>\n",
       "      <td>Sean Connery</td>\n",
       "      <td>Irvin Kershner</td>\n",
       "      <td>380.0</td>\n",
       "      <td>86.0</td>\n",
       "      <td>NaN</td>\n",
       "    </tr>\n",
       "    <tr>\n",
       "      <th>Thunderball</th>\n",
       "      <td>1965</td>\n",
       "      <td>Sean Connery</td>\n",
       "      <td>Terence Young</td>\n",
       "      <td>848.1</td>\n",
       "      <td>41.9</td>\n",
       "      <td>4.7</td>\n",
       "    </tr>\n",
       "    <tr>\n",
       "      <th>You Only Live Twice</th>\n",
       "      <td>1967</td>\n",
       "      <td>Sean Connery</td>\n",
       "      <td>Lewis Gilbert</td>\n",
       "      <td>514.2</td>\n",
       "      <td>59.9</td>\n",
       "      <td>4.4</td>\n",
       "    </tr>\n",
       "  </tbody>\n",
       "</table>\n",
       "</div>"
      ],
      "text/plain": [
       "                       Year         Actor        Director  Box Office  Budget  \\\n",
       "Film                                                                            \n",
       "Diamonds Are Forever   1971  Sean Connery    Guy Hamilton       442.5    34.7   \n",
       "Dr. No                 1962  Sean Connery   Terence Young       448.8     7.0   \n",
       "From Russia with Love  1963  Sean Connery   Terence Young       543.8    12.6   \n",
       "Goldfinger             1964  Sean Connery    Guy Hamilton       820.4    18.6   \n",
       "Never Say Never Again  1983  Sean Connery  Irvin Kershner       380.0    86.0   \n",
       "Thunderball            1965  Sean Connery   Terence Young       848.1    41.9   \n",
       "You Only Live Twice    1967  Sean Connery   Lewis Gilbert       514.2    59.9   \n",
       "\n",
       "                       Bond Actor Salary  \n",
       "Film                                      \n",
       "Diamonds Are Forever                 5.8  \n",
       "Dr. No                               0.6  \n",
       "From Russia with Love                1.6  \n",
       "Goldfinger                           3.2  \n",
       "Never Say Never Again                NaN  \n",
       "Thunderball                          4.7  \n",
       "You Only Live Twice                  4.4  "
      ]
     },
     "execution_count": 169,
     "metadata": {},
     "output_type": "execute_result"
    }
   ],
   "source": [
    "mask = bond['Actor'] == 'Sean Connery'\n",
    "bond[mask]"
   ]
  },
  {
   "cell_type": "markdown",
   "metadata": {},
   "source": [
    "**METHOD-2**"
   ]
  },
  {
   "cell_type": "code",
   "execution_count": 170,
   "metadata": {},
   "outputs": [
    {
     "data": {
      "text/html": [
       "<div>\n",
       "<style scoped>\n",
       "    .dataframe tbody tr th:only-of-type {\n",
       "        vertical-align: middle;\n",
       "    }\n",
       "\n",
       "    .dataframe tbody tr th {\n",
       "        vertical-align: top;\n",
       "    }\n",
       "\n",
       "    .dataframe thead th {\n",
       "        text-align: right;\n",
       "    }\n",
       "</style>\n",
       "<table border=\"1\" class=\"dataframe\">\n",
       "  <thead>\n",
       "    <tr style=\"text-align: right;\">\n",
       "      <th></th>\n",
       "      <th>Year</th>\n",
       "      <th>Actor</th>\n",
       "      <th>Director</th>\n",
       "      <th>Box Office</th>\n",
       "      <th>Budget</th>\n",
       "      <th>Bond Actor Salary</th>\n",
       "    </tr>\n",
       "    <tr>\n",
       "      <th>Film</th>\n",
       "      <th></th>\n",
       "      <th></th>\n",
       "      <th></th>\n",
       "      <th></th>\n",
       "      <th></th>\n",
       "      <th></th>\n",
       "    </tr>\n",
       "  </thead>\n",
       "  <tbody>\n",
       "    <tr>\n",
       "      <th>A View to a Kill</th>\n",
       "      <td>NaN</td>\n",
       "      <td>NaN</td>\n",
       "      <td>NaN</td>\n",
       "      <td>NaN</td>\n",
       "      <td>NaN</td>\n",
       "      <td>NaN</td>\n",
       "    </tr>\n",
       "    <tr>\n",
       "      <th>Casino Royale</th>\n",
       "      <td>NaN</td>\n",
       "      <td>NaN</td>\n",
       "      <td>NaN</td>\n",
       "      <td>NaN</td>\n",
       "      <td>NaN</td>\n",
       "      <td>NaN</td>\n",
       "    </tr>\n",
       "    <tr>\n",
       "      <th>Casino Royale</th>\n",
       "      <td>NaN</td>\n",
       "      <td>NaN</td>\n",
       "      <td>NaN</td>\n",
       "      <td>NaN</td>\n",
       "      <td>NaN</td>\n",
       "      <td>NaN</td>\n",
       "    </tr>\n",
       "    <tr>\n",
       "      <th>Diamonds Are Forever</th>\n",
       "      <td>1971.0</td>\n",
       "      <td>Sean Connery</td>\n",
       "      <td>Guy Hamilton</td>\n",
       "      <td>442.5</td>\n",
       "      <td>34.7</td>\n",
       "      <td>5.8</td>\n",
       "    </tr>\n",
       "    <tr>\n",
       "      <th>Die Another Day</th>\n",
       "      <td>NaN</td>\n",
       "      <td>NaN</td>\n",
       "      <td>NaN</td>\n",
       "      <td>NaN</td>\n",
       "      <td>NaN</td>\n",
       "      <td>NaN</td>\n",
       "    </tr>\n",
       "    <tr>\n",
       "      <th>Dr. No</th>\n",
       "      <td>1962.0</td>\n",
       "      <td>Sean Connery</td>\n",
       "      <td>Terence Young</td>\n",
       "      <td>448.8</td>\n",
       "      <td>7.0</td>\n",
       "      <td>0.6</td>\n",
       "    </tr>\n",
       "    <tr>\n",
       "      <th>For Your Eyes Only</th>\n",
       "      <td>NaN</td>\n",
       "      <td>NaN</td>\n",
       "      <td>NaN</td>\n",
       "      <td>NaN</td>\n",
       "      <td>NaN</td>\n",
       "      <td>NaN</td>\n",
       "    </tr>\n",
       "    <tr>\n",
       "      <th>From Russia with Love</th>\n",
       "      <td>1963.0</td>\n",
       "      <td>Sean Connery</td>\n",
       "      <td>Terence Young</td>\n",
       "      <td>543.8</td>\n",
       "      <td>12.6</td>\n",
       "      <td>1.6</td>\n",
       "    </tr>\n",
       "    <tr>\n",
       "      <th>GoldenEye</th>\n",
       "      <td>NaN</td>\n",
       "      <td>NaN</td>\n",
       "      <td>NaN</td>\n",
       "      <td>NaN</td>\n",
       "      <td>NaN</td>\n",
       "      <td>NaN</td>\n",
       "    </tr>\n",
       "    <tr>\n",
       "      <th>Goldfinger</th>\n",
       "      <td>1964.0</td>\n",
       "      <td>Sean Connery</td>\n",
       "      <td>Guy Hamilton</td>\n",
       "      <td>820.4</td>\n",
       "      <td>18.6</td>\n",
       "      <td>3.2</td>\n",
       "    </tr>\n",
       "    <tr>\n",
       "      <th>Licence to Kill</th>\n",
       "      <td>NaN</td>\n",
       "      <td>NaN</td>\n",
       "      <td>NaN</td>\n",
       "      <td>NaN</td>\n",
       "      <td>NaN</td>\n",
       "      <td>NaN</td>\n",
       "    </tr>\n",
       "    <tr>\n",
       "      <th>Live and Let Die</th>\n",
       "      <td>NaN</td>\n",
       "      <td>NaN</td>\n",
       "      <td>NaN</td>\n",
       "      <td>NaN</td>\n",
       "      <td>NaN</td>\n",
       "      <td>NaN</td>\n",
       "    </tr>\n",
       "    <tr>\n",
       "      <th>Moonraker</th>\n",
       "      <td>NaN</td>\n",
       "      <td>NaN</td>\n",
       "      <td>NaN</td>\n",
       "      <td>NaN</td>\n",
       "      <td>NaN</td>\n",
       "      <td>NaN</td>\n",
       "    </tr>\n",
       "    <tr>\n",
       "      <th>Never Say Never Again</th>\n",
       "      <td>1983.0</td>\n",
       "      <td>Sean Connery</td>\n",
       "      <td>Irvin Kershner</td>\n",
       "      <td>380.0</td>\n",
       "      <td>86.0</td>\n",
       "      <td>NaN</td>\n",
       "    </tr>\n",
       "    <tr>\n",
       "      <th>Octopussy</th>\n",
       "      <td>NaN</td>\n",
       "      <td>NaN</td>\n",
       "      <td>NaN</td>\n",
       "      <td>NaN</td>\n",
       "      <td>NaN</td>\n",
       "      <td>NaN</td>\n",
       "    </tr>\n",
       "    <tr>\n",
       "      <th>On Her Majesty's Secret Service</th>\n",
       "      <td>NaN</td>\n",
       "      <td>NaN</td>\n",
       "      <td>NaN</td>\n",
       "      <td>NaN</td>\n",
       "      <td>NaN</td>\n",
       "      <td>NaN</td>\n",
       "    </tr>\n",
       "    <tr>\n",
       "      <th>Quantum of Solace</th>\n",
       "      <td>NaN</td>\n",
       "      <td>NaN</td>\n",
       "      <td>NaN</td>\n",
       "      <td>NaN</td>\n",
       "      <td>NaN</td>\n",
       "      <td>NaN</td>\n",
       "    </tr>\n",
       "    <tr>\n",
       "      <th>Skyfall</th>\n",
       "      <td>NaN</td>\n",
       "      <td>NaN</td>\n",
       "      <td>NaN</td>\n",
       "      <td>NaN</td>\n",
       "      <td>NaN</td>\n",
       "      <td>NaN</td>\n",
       "    </tr>\n",
       "    <tr>\n",
       "      <th>Spectre</th>\n",
       "      <td>NaN</td>\n",
       "      <td>NaN</td>\n",
       "      <td>NaN</td>\n",
       "      <td>NaN</td>\n",
       "      <td>NaN</td>\n",
       "      <td>NaN</td>\n",
       "    </tr>\n",
       "    <tr>\n",
       "      <th>The Living Daylights</th>\n",
       "      <td>NaN</td>\n",
       "      <td>NaN</td>\n",
       "      <td>NaN</td>\n",
       "      <td>NaN</td>\n",
       "      <td>NaN</td>\n",
       "      <td>NaN</td>\n",
       "    </tr>\n",
       "    <tr>\n",
       "      <th>The Man with the Golden Gun</th>\n",
       "      <td>NaN</td>\n",
       "      <td>NaN</td>\n",
       "      <td>NaN</td>\n",
       "      <td>NaN</td>\n",
       "      <td>NaN</td>\n",
       "      <td>NaN</td>\n",
       "    </tr>\n",
       "    <tr>\n",
       "      <th>The Spy Who Loved Me</th>\n",
       "      <td>NaN</td>\n",
       "      <td>NaN</td>\n",
       "      <td>NaN</td>\n",
       "      <td>NaN</td>\n",
       "      <td>NaN</td>\n",
       "      <td>NaN</td>\n",
       "    </tr>\n",
       "    <tr>\n",
       "      <th>The World Is Not Enough</th>\n",
       "      <td>NaN</td>\n",
       "      <td>NaN</td>\n",
       "      <td>NaN</td>\n",
       "      <td>NaN</td>\n",
       "      <td>NaN</td>\n",
       "      <td>NaN</td>\n",
       "    </tr>\n",
       "    <tr>\n",
       "      <th>Thunderball</th>\n",
       "      <td>1965.0</td>\n",
       "      <td>Sean Connery</td>\n",
       "      <td>Terence Young</td>\n",
       "      <td>848.1</td>\n",
       "      <td>41.9</td>\n",
       "      <td>4.7</td>\n",
       "    </tr>\n",
       "    <tr>\n",
       "      <th>Tomorrow Never Dies</th>\n",
       "      <td>NaN</td>\n",
       "      <td>NaN</td>\n",
       "      <td>NaN</td>\n",
       "      <td>NaN</td>\n",
       "      <td>NaN</td>\n",
       "      <td>NaN</td>\n",
       "    </tr>\n",
       "    <tr>\n",
       "      <th>You Only Live Twice</th>\n",
       "      <td>1967.0</td>\n",
       "      <td>Sean Connery</td>\n",
       "      <td>Lewis Gilbert</td>\n",
       "      <td>514.2</td>\n",
       "      <td>59.9</td>\n",
       "      <td>4.4</td>\n",
       "    </tr>\n",
       "  </tbody>\n",
       "</table>\n",
       "</div>"
      ],
      "text/plain": [
       "                                   Year         Actor        Director  \\\n",
       "Film                                                                    \n",
       "A View to a Kill                    NaN           NaN             NaN   \n",
       "Casino Royale                       NaN           NaN             NaN   \n",
       "Casino Royale                       NaN           NaN             NaN   \n",
       "Diamonds Are Forever             1971.0  Sean Connery    Guy Hamilton   \n",
       "Die Another Day                     NaN           NaN             NaN   \n",
       "Dr. No                           1962.0  Sean Connery   Terence Young   \n",
       "For Your Eyes Only                  NaN           NaN             NaN   \n",
       "From Russia with Love            1963.0  Sean Connery   Terence Young   \n",
       "GoldenEye                           NaN           NaN             NaN   \n",
       "Goldfinger                       1964.0  Sean Connery    Guy Hamilton   \n",
       "Licence to Kill                     NaN           NaN             NaN   \n",
       "Live and Let Die                    NaN           NaN             NaN   \n",
       "Moonraker                           NaN           NaN             NaN   \n",
       "Never Say Never Again            1983.0  Sean Connery  Irvin Kershner   \n",
       "Octopussy                           NaN           NaN             NaN   \n",
       "On Her Majesty's Secret Service     NaN           NaN             NaN   \n",
       "Quantum of Solace                   NaN           NaN             NaN   \n",
       "Skyfall                             NaN           NaN             NaN   \n",
       "Spectre                             NaN           NaN             NaN   \n",
       "The Living Daylights                NaN           NaN             NaN   \n",
       "The Man with the Golden Gun         NaN           NaN             NaN   \n",
       "The Spy Who Loved Me                NaN           NaN             NaN   \n",
       "The World Is Not Enough             NaN           NaN             NaN   \n",
       "Thunderball                      1965.0  Sean Connery   Terence Young   \n",
       "Tomorrow Never Dies                 NaN           NaN             NaN   \n",
       "You Only Live Twice              1967.0  Sean Connery   Lewis Gilbert   \n",
       "\n",
       "                                 Box Office  Budget  Bond Actor Salary  \n",
       "Film                                                                    \n",
       "A View to a Kill                        NaN     NaN                NaN  \n",
       "Casino Royale                           NaN     NaN                NaN  \n",
       "Casino Royale                           NaN     NaN                NaN  \n",
       "Diamonds Are Forever                  442.5    34.7                5.8  \n",
       "Die Another Day                         NaN     NaN                NaN  \n",
       "Dr. No                                448.8     7.0                0.6  \n",
       "For Your Eyes Only                      NaN     NaN                NaN  \n",
       "From Russia with Love                 543.8    12.6                1.6  \n",
       "GoldenEye                               NaN     NaN                NaN  \n",
       "Goldfinger                            820.4    18.6                3.2  \n",
       "Licence to Kill                         NaN     NaN                NaN  \n",
       "Live and Let Die                        NaN     NaN                NaN  \n",
       "Moonraker                               NaN     NaN                NaN  \n",
       "Never Say Never Again                 380.0    86.0                NaN  \n",
       "Octopussy                               NaN     NaN                NaN  \n",
       "On Her Majesty's Secret Service         NaN     NaN                NaN  \n",
       "Quantum of Solace                       NaN     NaN                NaN  \n",
       "Skyfall                                 NaN     NaN                NaN  \n",
       "Spectre                                 NaN     NaN                NaN  \n",
       "The Living Daylights                    NaN     NaN                NaN  \n",
       "The Man with the Golden Gun             NaN     NaN                NaN  \n",
       "The Spy Who Loved Me                    NaN     NaN                NaN  \n",
       "The World Is Not Enough                 NaN     NaN                NaN  \n",
       "Thunderball                           848.1    41.9                4.7  \n",
       "Tomorrow Never Dies                     NaN     NaN                NaN  \n",
       "You Only Live Twice                   514.2    59.9                4.4  "
      ]
     },
     "execution_count": 170,
     "metadata": {},
     "output_type": "execute_result"
    }
   ],
   "source": [
    "bond.where(mask)"
   ]
  },
  {
   "cell_type": "markdown",
   "metadata": {},
   "source": [
    "---\n",
    "# Filtering data using `.query(..)` method\n",
    "- The argument to the query method can ONLY be a string\n",
    "- This method only works when the column names in our DataFrame do not have any spaces"
   ]
  },
  {
   "cell_type": "code",
   "execution_count": 171,
   "metadata": {},
   "outputs": [
    {
     "data": {
      "text/html": [
       "<div>\n",
       "<style scoped>\n",
       "    .dataframe tbody tr th:only-of-type {\n",
       "        vertical-align: middle;\n",
       "    }\n",
       "\n",
       "    .dataframe tbody tr th {\n",
       "        vertical-align: top;\n",
       "    }\n",
       "\n",
       "    .dataframe thead th {\n",
       "        text-align: right;\n",
       "    }\n",
       "</style>\n",
       "<table border=\"1\" class=\"dataframe\">\n",
       "  <thead>\n",
       "    <tr style=\"text-align: right;\">\n",
       "      <th></th>\n",
       "      <th>Year</th>\n",
       "      <th>Actor</th>\n",
       "      <th>Director</th>\n",
       "      <th>Box Office</th>\n",
       "      <th>Budget</th>\n",
       "      <th>Bond Actor Salary</th>\n",
       "    </tr>\n",
       "    <tr>\n",
       "      <th>Film</th>\n",
       "      <th></th>\n",
       "      <th></th>\n",
       "      <th></th>\n",
       "      <th></th>\n",
       "      <th></th>\n",
       "      <th></th>\n",
       "    </tr>\n",
       "  </thead>\n",
       "  <tbody>\n",
       "    <tr>\n",
       "      <th>A View to a Kill</th>\n",
       "      <td>1985</td>\n",
       "      <td>Roger Moore</td>\n",
       "      <td>John Glen</td>\n",
       "      <td>275.2</td>\n",
       "      <td>54.5</td>\n",
       "      <td>9.1</td>\n",
       "    </tr>\n",
       "    <tr>\n",
       "      <th>Casino Royale</th>\n",
       "      <td>2006</td>\n",
       "      <td>Daniel Craig</td>\n",
       "      <td>Martin Campbell</td>\n",
       "      <td>581.5</td>\n",
       "      <td>145.3</td>\n",
       "      <td>3.3</td>\n",
       "    </tr>\n",
       "  </tbody>\n",
       "</table>\n",
       "</div>"
      ],
      "text/plain": [
       "                  Year         Actor         Director  Box Office  Budget  \\\n",
       "Film                                                                        \n",
       "A View to a Kill  1985   Roger Moore        John Glen       275.2    54.5   \n",
       "Casino Royale     2006  Daniel Craig  Martin Campbell       581.5   145.3   \n",
       "\n",
       "                  Bond Actor Salary  \n",
       "Film                                 \n",
       "A View to a Kill                9.1  \n",
       "Casino Royale                   3.3  "
      ]
     },
     "execution_count": 171,
     "metadata": {},
     "output_type": "execute_result"
    }
   ],
   "source": [
    "bond = pd.read_csv('pandas/jamesbond.csv', index_col='Film')\n",
    "bond.sort_index(inplace=True)\n",
    "bond.head(2)"
   ]
  },
  {
   "cell_type": "markdown",
   "metadata": {},
   "source": [
    "**Changing the column names that have spaces in them**"
   ]
  },
  {
   "cell_type": "code",
   "execution_count": 172,
   "metadata": {},
   "outputs": [
    {
     "data": {
      "text/html": [
       "<div>\n",
       "<style scoped>\n",
       "    .dataframe tbody tr th:only-of-type {\n",
       "        vertical-align: middle;\n",
       "    }\n",
       "\n",
       "    .dataframe tbody tr th {\n",
       "        vertical-align: top;\n",
       "    }\n",
       "\n",
       "    .dataframe thead th {\n",
       "        text-align: right;\n",
       "    }\n",
       "</style>\n",
       "<table border=\"1\" class=\"dataframe\">\n",
       "  <thead>\n",
       "    <tr style=\"text-align: right;\">\n",
       "      <th></th>\n",
       "      <th>Year</th>\n",
       "      <th>Actor</th>\n",
       "      <th>Director</th>\n",
       "      <th>Box_Office</th>\n",
       "      <th>Budget</th>\n",
       "      <th>Bond_Actor_Salary</th>\n",
       "    </tr>\n",
       "    <tr>\n",
       "      <th>Film</th>\n",
       "      <th></th>\n",
       "      <th></th>\n",
       "      <th></th>\n",
       "      <th></th>\n",
       "      <th></th>\n",
       "      <th></th>\n",
       "    </tr>\n",
       "  </thead>\n",
       "  <tbody>\n",
       "    <tr>\n",
       "      <th>A View to a Kill</th>\n",
       "      <td>1985</td>\n",
       "      <td>Roger Moore</td>\n",
       "      <td>John Glen</td>\n",
       "      <td>275.2</td>\n",
       "      <td>54.5</td>\n",
       "      <td>9.1</td>\n",
       "    </tr>\n",
       "    <tr>\n",
       "      <th>Casino Royale</th>\n",
       "      <td>2006</td>\n",
       "      <td>Daniel Craig</td>\n",
       "      <td>Martin Campbell</td>\n",
       "      <td>581.5</td>\n",
       "      <td>145.3</td>\n",
       "      <td>3.3</td>\n",
       "    </tr>\n",
       "  </tbody>\n",
       "</table>\n",
       "</div>"
      ],
      "text/plain": [
       "                  Year         Actor         Director  Box_Office  Budget  \\\n",
       "Film                                                                        \n",
       "A View to a Kill  1985   Roger Moore        John Glen       275.2    54.5   \n",
       "Casino Royale     2006  Daniel Craig  Martin Campbell       581.5   145.3   \n",
       "\n",
       "                  Bond_Actor_Salary  \n",
       "Film                                 \n",
       "A View to a Kill                9.1  \n",
       "Casino Royale                   3.3  "
      ]
     },
     "execution_count": 172,
     "metadata": {},
     "output_type": "execute_result"
    }
   ],
   "source": [
    "bond.rename(columns={'Box Office':'Box_Office', 'Bond Actor Salary':'Bond_Actor_Salary'}, inplace=True)\n",
    "bond.head(2)"
   ]
  },
  {
   "cell_type": "markdown",
   "metadata": {},
   "source": [
    "**Using the `.query(..)` method**"
   ]
  },
  {
   "cell_type": "code",
   "execution_count": 173,
   "metadata": {},
   "outputs": [
    {
     "data": {
      "text/html": [
       "<div>\n",
       "<style scoped>\n",
       "    .dataframe tbody tr th:only-of-type {\n",
       "        vertical-align: middle;\n",
       "    }\n",
       "\n",
       "    .dataframe tbody tr th {\n",
       "        vertical-align: top;\n",
       "    }\n",
       "\n",
       "    .dataframe thead th {\n",
       "        text-align: right;\n",
       "    }\n",
       "</style>\n",
       "<table border=\"1\" class=\"dataframe\">\n",
       "  <thead>\n",
       "    <tr style=\"text-align: right;\">\n",
       "      <th></th>\n",
       "      <th>Year</th>\n",
       "      <th>Actor</th>\n",
       "      <th>Director</th>\n",
       "      <th>Box_Office</th>\n",
       "      <th>Budget</th>\n",
       "      <th>Bond_Actor_Salary</th>\n",
       "    </tr>\n",
       "    <tr>\n",
       "      <th>Film</th>\n",
       "      <th></th>\n",
       "      <th></th>\n",
       "      <th></th>\n",
       "      <th></th>\n",
       "      <th></th>\n",
       "      <th></th>\n",
       "    </tr>\n",
       "  </thead>\n",
       "  <tbody>\n",
       "    <tr>\n",
       "      <th>Diamonds Are Forever</th>\n",
       "      <td>1971</td>\n",
       "      <td>Sean Connery</td>\n",
       "      <td>Guy Hamilton</td>\n",
       "      <td>442.5</td>\n",
       "      <td>34.7</td>\n",
       "      <td>5.8</td>\n",
       "    </tr>\n",
       "    <tr>\n",
       "      <th>Dr. No</th>\n",
       "      <td>1962</td>\n",
       "      <td>Sean Connery</td>\n",
       "      <td>Terence Young</td>\n",
       "      <td>448.8</td>\n",
       "      <td>7.0</td>\n",
       "      <td>0.6</td>\n",
       "    </tr>\n",
       "    <tr>\n",
       "      <th>From Russia with Love</th>\n",
       "      <td>1963</td>\n",
       "      <td>Sean Connery</td>\n",
       "      <td>Terence Young</td>\n",
       "      <td>543.8</td>\n",
       "      <td>12.6</td>\n",
       "      <td>1.6</td>\n",
       "    </tr>\n",
       "    <tr>\n",
       "      <th>Goldfinger</th>\n",
       "      <td>1964</td>\n",
       "      <td>Sean Connery</td>\n",
       "      <td>Guy Hamilton</td>\n",
       "      <td>820.4</td>\n",
       "      <td>18.6</td>\n",
       "      <td>3.2</td>\n",
       "    </tr>\n",
       "    <tr>\n",
       "      <th>Never Say Never Again</th>\n",
       "      <td>1983</td>\n",
       "      <td>Sean Connery</td>\n",
       "      <td>Irvin Kershner</td>\n",
       "      <td>380.0</td>\n",
       "      <td>86.0</td>\n",
       "      <td>NaN</td>\n",
       "    </tr>\n",
       "    <tr>\n",
       "      <th>Thunderball</th>\n",
       "      <td>1965</td>\n",
       "      <td>Sean Connery</td>\n",
       "      <td>Terence Young</td>\n",
       "      <td>848.1</td>\n",
       "      <td>41.9</td>\n",
       "      <td>4.7</td>\n",
       "    </tr>\n",
       "    <tr>\n",
       "      <th>You Only Live Twice</th>\n",
       "      <td>1967</td>\n",
       "      <td>Sean Connery</td>\n",
       "      <td>Lewis Gilbert</td>\n",
       "      <td>514.2</td>\n",
       "      <td>59.9</td>\n",
       "      <td>4.4</td>\n",
       "    </tr>\n",
       "  </tbody>\n",
       "</table>\n",
       "</div>"
      ],
      "text/plain": [
       "                       Year         Actor        Director  Box_Office  Budget  \\\n",
       "Film                                                                            \n",
       "Diamonds Are Forever   1971  Sean Connery    Guy Hamilton       442.5    34.7   \n",
       "Dr. No                 1962  Sean Connery   Terence Young       448.8     7.0   \n",
       "From Russia with Love  1963  Sean Connery   Terence Young       543.8    12.6   \n",
       "Goldfinger             1964  Sean Connery    Guy Hamilton       820.4    18.6   \n",
       "Never Say Never Again  1983  Sean Connery  Irvin Kershner       380.0    86.0   \n",
       "Thunderball            1965  Sean Connery   Terence Young       848.1    41.9   \n",
       "You Only Live Twice    1967  Sean Connery   Lewis Gilbert       514.2    59.9   \n",
       "\n",
       "                       Bond_Actor_Salary  \n",
       "Film                                      \n",
       "Diamonds Are Forever                 5.8  \n",
       "Dr. No                               0.6  \n",
       "From Russia with Love                1.6  \n",
       "Goldfinger                           3.2  \n",
       "Never Say Never Again                NaN  \n",
       "Thunderball                          4.7  \n",
       "You Only Live Twice                  4.4  "
      ]
     },
     "execution_count": 173,
     "metadata": {},
     "output_type": "execute_result"
    }
   ],
   "source": [
    "bond.query('Actor == \"Sean Connery\"')"
   ]
  },
  {
   "cell_type": "markdown",
   "metadata": {},
   "source": [
    "**While querying on multiple conditions, use `and` and `or` instead of `&` and `|` respectively**"
   ]
  },
  {
   "cell_type": "code",
   "execution_count": 174,
   "metadata": {},
   "outputs": [
    {
     "data": {
      "text/html": [
       "<div>\n",
       "<style scoped>\n",
       "    .dataframe tbody tr th:only-of-type {\n",
       "        vertical-align: middle;\n",
       "    }\n",
       "\n",
       "    .dataframe tbody tr th {\n",
       "        vertical-align: top;\n",
       "    }\n",
       "\n",
       "    .dataframe thead th {\n",
       "        text-align: right;\n",
       "    }\n",
       "</style>\n",
       "<table border=\"1\" class=\"dataframe\">\n",
       "  <thead>\n",
       "    <tr style=\"text-align: right;\">\n",
       "      <th></th>\n",
       "      <th>Year</th>\n",
       "      <th>Actor</th>\n",
       "      <th>Director</th>\n",
       "      <th>Box_Office</th>\n",
       "      <th>Budget</th>\n",
       "      <th>Bond_Actor_Salary</th>\n",
       "    </tr>\n",
       "    <tr>\n",
       "      <th>Film</th>\n",
       "      <th></th>\n",
       "      <th></th>\n",
       "      <th></th>\n",
       "      <th></th>\n",
       "      <th></th>\n",
       "      <th></th>\n",
       "    </tr>\n",
       "  </thead>\n",
       "  <tbody>\n",
       "    <tr>\n",
       "      <th>Thunderball</th>\n",
       "      <td>1965</td>\n",
       "      <td>Sean Connery</td>\n",
       "      <td>Terence Young</td>\n",
       "      <td>848.1</td>\n",
       "      <td>41.9</td>\n",
       "      <td>4.7</td>\n",
       "    </tr>\n",
       "  </tbody>\n",
       "</table>\n",
       "</div>"
      ],
      "text/plain": [
       "             Year         Actor       Director  Box_Office  Budget  \\\n",
       "Film                                                                 \n",
       "Thunderball  1965  Sean Connery  Terence Young       848.1    41.9   \n",
       "\n",
       "             Bond_Actor_Salary  \n",
       "Film                            \n",
       "Thunderball                4.7  "
      ]
     },
     "execution_count": 174,
     "metadata": {},
     "output_type": "execute_result"
    }
   ],
   "source": [
    "bond.query('Director == \"Terence Young\" and Box_Office > 600')"
   ]
  },
  {
   "cell_type": "markdown",
   "metadata": {},
   "source": [
    "**We can also use the `in` and `not in` keywords**"
   ]
  },
  {
   "cell_type": "code",
   "execution_count": 175,
   "metadata": {},
   "outputs": [
    {
     "data": {
      "text/html": [
       "<div>\n",
       "<style scoped>\n",
       "    .dataframe tbody tr th:only-of-type {\n",
       "        vertical-align: middle;\n",
       "    }\n",
       "\n",
       "    .dataframe tbody tr th {\n",
       "        vertical-align: top;\n",
       "    }\n",
       "\n",
       "    .dataframe thead th {\n",
       "        text-align: right;\n",
       "    }\n",
       "</style>\n",
       "<table border=\"1\" class=\"dataframe\">\n",
       "  <thead>\n",
       "    <tr style=\"text-align: right;\">\n",
       "      <th></th>\n",
       "      <th>Year</th>\n",
       "      <th>Actor</th>\n",
       "      <th>Director</th>\n",
       "      <th>Box_Office</th>\n",
       "      <th>Budget</th>\n",
       "      <th>Bond_Actor_Salary</th>\n",
       "    </tr>\n",
       "    <tr>\n",
       "      <th>Film</th>\n",
       "      <th></th>\n",
       "      <th></th>\n",
       "      <th></th>\n",
       "      <th></th>\n",
       "      <th></th>\n",
       "      <th></th>\n",
       "    </tr>\n",
       "  </thead>\n",
       "  <tbody>\n",
       "    <tr>\n",
       "      <th>Licence to Kill</th>\n",
       "      <td>1989</td>\n",
       "      <td>Timothy Dalton</td>\n",
       "      <td>John Glen</td>\n",
       "      <td>250.9</td>\n",
       "      <td>56.7</td>\n",
       "      <td>7.9</td>\n",
       "    </tr>\n",
       "    <tr>\n",
       "      <th>On Her Majesty's Secret Service</th>\n",
       "      <td>1969</td>\n",
       "      <td>George Lazenby</td>\n",
       "      <td>Peter R. Hunt</td>\n",
       "      <td>291.5</td>\n",
       "      <td>37.3</td>\n",
       "      <td>0.6</td>\n",
       "    </tr>\n",
       "    <tr>\n",
       "      <th>The Living Daylights</th>\n",
       "      <td>1987</td>\n",
       "      <td>Timothy Dalton</td>\n",
       "      <td>John Glen</td>\n",
       "      <td>313.5</td>\n",
       "      <td>68.8</td>\n",
       "      <td>5.2</td>\n",
       "    </tr>\n",
       "  </tbody>\n",
       "</table>\n",
       "</div>"
      ],
      "text/plain": [
       "                                 Year           Actor       Director  \\\n",
       "Film                                                                   \n",
       "Licence to Kill                  1989  Timothy Dalton      John Glen   \n",
       "On Her Majesty's Secret Service  1969  George Lazenby  Peter R. Hunt   \n",
       "The Living Daylights             1987  Timothy Dalton      John Glen   \n",
       "\n",
       "                                 Box_Office  Budget  Bond_Actor_Salary  \n",
       "Film                                                                    \n",
       "Licence to Kill                       250.9    56.7                7.9  \n",
       "On Her Majesty's Secret Service       291.5    37.3                0.6  \n",
       "The Living Daylights                  313.5    68.8                5.2  "
      ]
     },
     "execution_count": 175,
     "metadata": {},
     "output_type": "execute_result"
    }
   ],
   "source": [
    "bond.query('Actor in [\"Timothy Dalton\", \"George Lazenby\"]')"
   ]
  },
  {
   "cell_type": "markdown",
   "metadata": {},
   "source": [
    "---\n",
    "# `apply(..)` method on a single column\n",
    "This is same as calling the `.apply(..)` method on a `Series`"
   ]
  },
  {
   "cell_type": "code",
   "execution_count": 176,
   "metadata": {},
   "outputs": [
    {
     "data": {
      "text/html": [
       "<div>\n",
       "<style scoped>\n",
       "    .dataframe tbody tr th:only-of-type {\n",
       "        vertical-align: middle;\n",
       "    }\n",
       "\n",
       "    .dataframe tbody tr th {\n",
       "        vertical-align: top;\n",
       "    }\n",
       "\n",
       "    .dataframe thead th {\n",
       "        text-align: right;\n",
       "    }\n",
       "</style>\n",
       "<table border=\"1\" class=\"dataframe\">\n",
       "  <thead>\n",
       "    <tr style=\"text-align: right;\">\n",
       "      <th></th>\n",
       "      <th>Year</th>\n",
       "      <th>Actor</th>\n",
       "      <th>Director</th>\n",
       "      <th>Box Office</th>\n",
       "      <th>Budget</th>\n",
       "      <th>Bond Actor Salary</th>\n",
       "    </tr>\n",
       "    <tr>\n",
       "      <th>Film</th>\n",
       "      <th></th>\n",
       "      <th></th>\n",
       "      <th></th>\n",
       "      <th></th>\n",
       "      <th></th>\n",
       "      <th></th>\n",
       "    </tr>\n",
       "  </thead>\n",
       "  <tbody>\n",
       "    <tr>\n",
       "      <th>A View to a Kill</th>\n",
       "      <td>1985</td>\n",
       "      <td>Roger Moore</td>\n",
       "      <td>John Glen</td>\n",
       "      <td>275.2</td>\n",
       "      <td>54.5</td>\n",
       "      <td>9.1</td>\n",
       "    </tr>\n",
       "    <tr>\n",
       "      <th>Casino Royale</th>\n",
       "      <td>2006</td>\n",
       "      <td>Daniel Craig</td>\n",
       "      <td>Martin Campbell</td>\n",
       "      <td>581.5</td>\n",
       "      <td>145.3</td>\n",
       "      <td>3.3</td>\n",
       "    </tr>\n",
       "  </tbody>\n",
       "</table>\n",
       "</div>"
      ],
      "text/plain": [
       "                  Year         Actor         Director  Box Office  Budget  \\\n",
       "Film                                                                        \n",
       "A View to a Kill  1985   Roger Moore        John Glen       275.2    54.5   \n",
       "Casino Royale     2006  Daniel Craig  Martin Campbell       581.5   145.3   \n",
       "\n",
       "                  Bond Actor Salary  \n",
       "Film                                 \n",
       "A View to a Kill                9.1  \n",
       "Casino Royale                   3.3  "
      ]
     },
     "execution_count": 176,
     "metadata": {},
     "output_type": "execute_result"
    }
   ],
   "source": [
    "bond = pd.read_csv('pandas/jamesbond.csv', index_col='Film')\n",
    "bond.sort_index(inplace=True)\n",
    "bond.head(2)"
   ]
  },
  {
   "cell_type": "code",
   "execution_count": 177,
   "metadata": {},
   "outputs": [],
   "source": [
    "def convert_to_string_and_add_millions(num):\n",
    "    return str(num) + ' MILLIONS!'"
   ]
  },
  {
   "cell_type": "code",
   "execution_count": 178,
   "metadata": {},
   "outputs": [
    {
     "data": {
      "text/plain": [
       "Film\n",
       "A View to a Kill                   275.2\n",
       "Casino Royale                      581.5\n",
       "Casino Royale                      315.0\n",
       "Diamonds Are Forever               442.5\n",
       "Die Another Day                    465.4\n",
       "Dr. No                             448.8\n",
       "For Your Eyes Only                 449.4\n",
       "From Russia with Love              543.8\n",
       "GoldenEye                          518.5\n",
       "Goldfinger                         820.4\n",
       "Licence to Kill                    250.9\n",
       "Live and Let Die                   460.3\n",
       "Moonraker                          535.0\n",
       "Never Say Never Again              380.0\n",
       "Octopussy                          373.8\n",
       "On Her Majesty's Secret Service    291.5\n",
       "Quantum of Solace                  514.2\n",
       "Skyfall                            943.5\n",
       "Spectre                            726.7\n",
       "The Living Daylights               313.5\n",
       "The Man with the Golden Gun        334.0\n",
       "The Spy Who Loved Me               533.0\n",
       "The World Is Not Enough            439.5\n",
       "Thunderball                        848.1\n",
       "Tomorrow Never Dies                463.2\n",
       "You Only Live Twice                514.2\n",
       "Name: Box Office, dtype: float64"
      ]
     },
     "execution_count": 178,
     "metadata": {},
     "output_type": "execute_result"
    }
   ],
   "source": [
    "bond['Box Office']"
   ]
  },
  {
   "cell_type": "code",
   "execution_count": 179,
   "metadata": {},
   "outputs": [
    {
     "data": {
      "text/plain": [
       "Film\n",
       "A View to a Kill                   275.2 MILLIONS!\n",
       "Casino Royale                      581.5 MILLIONS!\n",
       "Casino Royale                      315.0 MILLIONS!\n",
       "Diamonds Are Forever               442.5 MILLIONS!\n",
       "Die Another Day                    465.4 MILLIONS!\n",
       "Dr. No                             448.8 MILLIONS!\n",
       "For Your Eyes Only                 449.4 MILLIONS!\n",
       "From Russia with Love              543.8 MILLIONS!\n",
       "GoldenEye                          518.5 MILLIONS!\n",
       "Goldfinger                         820.4 MILLIONS!\n",
       "Licence to Kill                    250.9 MILLIONS!\n",
       "Live and Let Die                   460.3 MILLIONS!\n",
       "Moonraker                          535.0 MILLIONS!\n",
       "Never Say Never Again              380.0 MILLIONS!\n",
       "Octopussy                          373.8 MILLIONS!\n",
       "On Her Majesty's Secret Service    291.5 MILLIONS!\n",
       "Quantum of Solace                  514.2 MILLIONS!\n",
       "Skyfall                            943.5 MILLIONS!\n",
       "Spectre                            726.7 MILLIONS!\n",
       "The Living Daylights               313.5 MILLIONS!\n",
       "The Man with the Golden Gun        334.0 MILLIONS!\n",
       "The Spy Who Loved Me               533.0 MILLIONS!\n",
       "The World Is Not Enough            439.5 MILLIONS!\n",
       "Thunderball                        848.1 MILLIONS!\n",
       "Tomorrow Never Dies                463.2 MILLIONS!\n",
       "You Only Live Twice                514.2 MILLIONS!\n",
       "Name: Box Office, dtype: object"
      ]
     },
     "execution_count": 179,
     "metadata": {},
     "output_type": "execute_result"
    }
   ],
   "source": [
    "bond['Box Office'].apply(convert_to_string_and_add_millions)"
   ]
  },
  {
   "cell_type": "markdown",
   "metadata": {},
   "source": [
    "### `.apply(..)` method on multiple columns"
   ]
  },
  {
   "cell_type": "code",
   "execution_count": 180,
   "metadata": {},
   "outputs": [
    {
     "data": {
      "text/html": [
       "<div>\n",
       "<style scoped>\n",
       "    .dataframe tbody tr th:only-of-type {\n",
       "        vertical-align: middle;\n",
       "    }\n",
       "\n",
       "    .dataframe tbody tr th {\n",
       "        vertical-align: top;\n",
       "    }\n",
       "\n",
       "    .dataframe thead th {\n",
       "        text-align: right;\n",
       "    }\n",
       "</style>\n",
       "<table border=\"1\" class=\"dataframe\">\n",
       "  <thead>\n",
       "    <tr style=\"text-align: right;\">\n",
       "      <th></th>\n",
       "      <th>Year</th>\n",
       "      <th>Actor</th>\n",
       "      <th>Director</th>\n",
       "      <th>Box Office</th>\n",
       "      <th>Budget</th>\n",
       "      <th>Bond Actor Salary</th>\n",
       "    </tr>\n",
       "    <tr>\n",
       "      <th>Film</th>\n",
       "      <th></th>\n",
       "      <th></th>\n",
       "      <th></th>\n",
       "      <th></th>\n",
       "      <th></th>\n",
       "      <th></th>\n",
       "    </tr>\n",
       "  </thead>\n",
       "  <tbody>\n",
       "    <tr>\n",
       "      <th>A View to a Kill</th>\n",
       "      <td>1985</td>\n",
       "      <td>Roger Moore</td>\n",
       "      <td>John Glen</td>\n",
       "      <td>275.2 MILLIONS!</td>\n",
       "      <td>54.5 MILLIONS!</td>\n",
       "      <td>9.1 MILLIONS!</td>\n",
       "    </tr>\n",
       "    <tr>\n",
       "      <th>Casino Royale</th>\n",
       "      <td>2006</td>\n",
       "      <td>Daniel Craig</td>\n",
       "      <td>Martin Campbell</td>\n",
       "      <td>581.5 MILLIONS!</td>\n",
       "      <td>145.3 MILLIONS!</td>\n",
       "      <td>3.3 MILLIONS!</td>\n",
       "    </tr>\n",
       "    <tr>\n",
       "      <th>Casino Royale</th>\n",
       "      <td>1967</td>\n",
       "      <td>David Niven</td>\n",
       "      <td>Ken Hughes</td>\n",
       "      <td>315.0 MILLIONS!</td>\n",
       "      <td>85.0 MILLIONS!</td>\n",
       "      <td>nan MILLIONS!</td>\n",
       "    </tr>\n",
       "  </tbody>\n",
       "</table>\n",
       "</div>"
      ],
      "text/plain": [
       "                  Year         Actor         Director       Box Office  \\\n",
       "Film                                                                     \n",
       "A View to a Kill  1985   Roger Moore        John Glen  275.2 MILLIONS!   \n",
       "Casino Royale     2006  Daniel Craig  Martin Campbell  581.5 MILLIONS!   \n",
       "Casino Royale     1967   David Niven       Ken Hughes  315.0 MILLIONS!   \n",
       "\n",
       "                           Budget Bond Actor Salary  \n",
       "Film                                                 \n",
       "A View to a Kill   54.5 MILLIONS!     9.1 MILLIONS!  \n",
       "Casino Royale     145.3 MILLIONS!     3.3 MILLIONS!  \n",
       "Casino Royale      85.0 MILLIONS!     nan MILLIONS!  "
      ]
     },
     "execution_count": 180,
     "metadata": {},
     "output_type": "execute_result"
    }
   ],
   "source": [
    "columns = ['Box Office', 'Budget', 'Bond Actor Salary']\n",
    "for col in columns:\n",
    "    bond[col] = bond[col].apply(convert_to_string_and_add_millions)\n",
    "bond.head(3)"
   ]
  },
  {
   "cell_type": "markdown",
   "metadata": {},
   "source": [
    "## `.apply(..)` method on row values\n",
    "Assigning a category to each movie (row of the `bond` DataFrame)"
   ]
  },
  {
   "cell_type": "code",
   "execution_count": 181,
   "metadata": {},
   "outputs": [
    {
     "data": {
      "text/html": [
       "<div>\n",
       "<style scoped>\n",
       "    .dataframe tbody tr th:only-of-type {\n",
       "        vertical-align: middle;\n",
       "    }\n",
       "\n",
       "    .dataframe tbody tr th {\n",
       "        vertical-align: top;\n",
       "    }\n",
       "\n",
       "    .dataframe thead th {\n",
       "        text-align: right;\n",
       "    }\n",
       "</style>\n",
       "<table border=\"1\" class=\"dataframe\">\n",
       "  <thead>\n",
       "    <tr style=\"text-align: right;\">\n",
       "      <th></th>\n",
       "      <th>Year</th>\n",
       "      <th>Actor</th>\n",
       "      <th>Director</th>\n",
       "      <th>Box Office</th>\n",
       "      <th>Budget</th>\n",
       "      <th>Bond Actor Salary</th>\n",
       "    </tr>\n",
       "    <tr>\n",
       "      <th>Film</th>\n",
       "      <th></th>\n",
       "      <th></th>\n",
       "      <th></th>\n",
       "      <th></th>\n",
       "      <th></th>\n",
       "      <th></th>\n",
       "    </tr>\n",
       "  </thead>\n",
       "  <tbody>\n",
       "    <tr>\n",
       "      <th>A View to a Kill</th>\n",
       "      <td>1985</td>\n",
       "      <td>Roger Moore</td>\n",
       "      <td>John Glen</td>\n",
       "      <td>275.2</td>\n",
       "      <td>54.5</td>\n",
       "      <td>9.1</td>\n",
       "    </tr>\n",
       "    <tr>\n",
       "      <th>Casino Royale</th>\n",
       "      <td>2006</td>\n",
       "      <td>Daniel Craig</td>\n",
       "      <td>Martin Campbell</td>\n",
       "      <td>581.5</td>\n",
       "      <td>145.3</td>\n",
       "      <td>3.3</td>\n",
       "    </tr>\n",
       "  </tbody>\n",
       "</table>\n",
       "</div>"
      ],
      "text/plain": [
       "                  Year         Actor         Director  Box Office  Budget  \\\n",
       "Film                                                                        \n",
       "A View to a Kill  1985   Roger Moore        John Glen       275.2    54.5   \n",
       "Casino Royale     2006  Daniel Craig  Martin Campbell       581.5   145.3   \n",
       "\n",
       "                  Bond Actor Salary  \n",
       "Film                                 \n",
       "A View to a Kill                9.1  \n",
       "Casino Royale                   3.3  "
      ]
     },
     "execution_count": 181,
     "metadata": {},
     "output_type": "execute_result"
    }
   ],
   "source": [
    "bond = pd.read_csv('pandas/jamesbond.csv', index_col='Film')\n",
    "bond.sort_index(inplace=True)\n",
    "bond.head(2)"
   ]
  },
  {
   "cell_type": "code",
   "execution_count": 182,
   "metadata": {},
   "outputs": [],
   "source": [
    "def good_movie(row):\n",
    "    actor = row[1]\n",
    "    budget = row[4]\n",
    "    \n",
    "    if actor == 'Pierce Brosnan':\n",
    "        return 'The Best'\n",
    "    elif actor == 'Roger Moore' and budget > 40:\n",
    "        return 'Enjoyable'\n",
    "    else: \n",
    "        return 'I have no clue'"
   ]
  },
  {
   "cell_type": "code",
   "execution_count": 183,
   "metadata": {},
   "outputs": [
    {
     "data": {
      "text/plain": [
       "Film\n",
       "A View to a Kill                        Enjoyable\n",
       "Casino Royale                      I have no clue\n",
       "Casino Royale                      I have no clue\n",
       "Diamonds Are Forever               I have no clue\n",
       "Die Another Day                          The Best\n",
       "Dr. No                             I have no clue\n",
       "For Your Eyes Only                      Enjoyable\n",
       "From Russia with Love              I have no clue\n",
       "GoldenEye                                The Best\n",
       "Goldfinger                         I have no clue\n",
       "Licence to Kill                    I have no clue\n",
       "Live and Let Die                   I have no clue\n",
       "Moonraker                               Enjoyable\n",
       "Never Say Never Again              I have no clue\n",
       "Octopussy                               Enjoyable\n",
       "On Her Majesty's Secret Service    I have no clue\n",
       "Quantum of Solace                  I have no clue\n",
       "Skyfall                            I have no clue\n",
       "Spectre                            I have no clue\n",
       "The Living Daylights               I have no clue\n",
       "The Man with the Golden Gun        I have no clue\n",
       "The Spy Who Loved Me                    Enjoyable\n",
       "The World Is Not Enough                  The Best\n",
       "Thunderball                        I have no clue\n",
       "Tomorrow Never Dies                      The Best\n",
       "You Only Live Twice                I have no clue\n",
       "dtype: object"
      ]
     },
     "execution_count": 183,
     "metadata": {},
     "output_type": "execute_result"
    }
   ],
   "source": [
    "bond.apply(good_movie, axis='columns')"
   ]
  },
  {
   "cell_type": "markdown",
   "metadata": {},
   "source": [
    "---\n",
    "# The `.copy(..)` method\n",
    "This method creates a copy of an existing Pandas object such as a Series or a DataFrame."
   ]
  },
  {
   "cell_type": "code",
   "execution_count": 184,
   "metadata": {},
   "outputs": [
    {
     "data": {
      "text/html": [
       "<div>\n",
       "<style scoped>\n",
       "    .dataframe tbody tr th:only-of-type {\n",
       "        vertical-align: middle;\n",
       "    }\n",
       "\n",
       "    .dataframe tbody tr th {\n",
       "        vertical-align: top;\n",
       "    }\n",
       "\n",
       "    .dataframe thead th {\n",
       "        text-align: right;\n",
       "    }\n",
       "</style>\n",
       "<table border=\"1\" class=\"dataframe\">\n",
       "  <thead>\n",
       "    <tr style=\"text-align: right;\">\n",
       "      <th></th>\n",
       "      <th>Year</th>\n",
       "      <th>Actor</th>\n",
       "      <th>Director</th>\n",
       "      <th>Box Office</th>\n",
       "      <th>Budget</th>\n",
       "      <th>Bond Actor Salary</th>\n",
       "    </tr>\n",
       "    <tr>\n",
       "      <th>Film</th>\n",
       "      <th></th>\n",
       "      <th></th>\n",
       "      <th></th>\n",
       "      <th></th>\n",
       "      <th></th>\n",
       "      <th></th>\n",
       "    </tr>\n",
       "  </thead>\n",
       "  <tbody>\n",
       "    <tr>\n",
       "      <th>A View to a Kill</th>\n",
       "      <td>1985</td>\n",
       "      <td>Roger Moore</td>\n",
       "      <td>John Glen</td>\n",
       "      <td>275.2</td>\n",
       "      <td>54.5</td>\n",
       "      <td>9.1</td>\n",
       "    </tr>\n",
       "    <tr>\n",
       "      <th>Casino Royale</th>\n",
       "      <td>2006</td>\n",
       "      <td>Daniel Craig</td>\n",
       "      <td>Martin Campbell</td>\n",
       "      <td>581.5</td>\n",
       "      <td>145.3</td>\n",
       "      <td>3.3</td>\n",
       "    </tr>\n",
       "  </tbody>\n",
       "</table>\n",
       "</div>"
      ],
      "text/plain": [
       "                  Year         Actor         Director  Box Office  Budget  \\\n",
       "Film                                                                        \n",
       "A View to a Kill  1985   Roger Moore        John Glen       275.2    54.5   \n",
       "Casino Royale     2006  Daniel Craig  Martin Campbell       581.5   145.3   \n",
       "\n",
       "                  Bond Actor Salary  \n",
       "Film                                 \n",
       "A View to a Kill                9.1  \n",
       "Casino Royale                   3.3  "
      ]
     },
     "execution_count": 184,
     "metadata": {},
     "output_type": "execute_result"
    }
   ],
   "source": [
    "bond = pd.read_csv('pandas/jamesbond.csv', index_col='Film')\n",
    "bond.sort_index(inplace=True)\n",
    "bond.head(2)"
   ]
  },
  {
   "cell_type": "code",
   "execution_count": 185,
   "metadata": {},
   "outputs": [
    {
     "data": {
      "text/plain": [
       "Film\n",
       "A View to a Kill          John Glen\n",
       "Casino Royale       Martin Campbell\n",
       "Casino Royale            Ken Hughes\n",
       "Name: Director, dtype: object"
      ]
     },
     "execution_count": 185,
     "metadata": {},
     "output_type": "execute_result"
    }
   ],
   "source": [
    "directors = bond['Director']\n",
    "directors.head(3)"
   ]
  },
  {
   "cell_type": "code",
   "execution_count": 186,
   "metadata": {},
   "outputs": [
    {
     "data": {
      "text/plain": [
       "'John Glen'"
      ]
     },
     "execution_count": 186,
     "metadata": {},
     "output_type": "execute_result"
    }
   ],
   "source": [
    "directors['A View to a Kill']"
   ]
  },
  {
   "cell_type": "code",
   "execution_count": 187,
   "metadata": {},
   "outputs": [
    {
     "name": "stderr",
     "output_type": "stream",
     "text": [
      "C:\\Users\\272159\\AppData\\Local\\Continuum\\anaconda3\\lib\\site-packages\\ipykernel_launcher.py:1: SettingWithCopyWarning: \n",
      "A value is trying to be set on a copy of a slice from a DataFrame\n",
      "\n",
      "See the caveats in the documentation: http://pandas.pydata.org/pandas-docs/stable/indexing.html#indexing-view-versus-copy\n",
      "  \"\"\"Entry point for launching an IPython kernel.\n"
     ]
    }
   ],
   "source": [
    "directors['A View to a Kill'] = 'Mister John Glen'"
   ]
  },
  {
   "cell_type": "code",
   "execution_count": 188,
   "metadata": {},
   "outputs": [
    {
     "data": {
      "text/plain": [
       "Film\n",
       "A View to a Kill    Mister John Glen\n",
       "Casino Royale        Martin Campbell\n",
       "Casino Royale             Ken Hughes\n",
       "Name: Director, dtype: object"
      ]
     },
     "execution_count": 188,
     "metadata": {},
     "output_type": "execute_result"
    }
   ],
   "source": [
    "directors.head(3)"
   ]
  },
  {
   "cell_type": "code",
   "execution_count": 189,
   "metadata": {},
   "outputs": [
    {
     "data": {
      "text/html": [
       "<div>\n",
       "<style scoped>\n",
       "    .dataframe tbody tr th:only-of-type {\n",
       "        vertical-align: middle;\n",
       "    }\n",
       "\n",
       "    .dataframe tbody tr th {\n",
       "        vertical-align: top;\n",
       "    }\n",
       "\n",
       "    .dataframe thead th {\n",
       "        text-align: right;\n",
       "    }\n",
       "</style>\n",
       "<table border=\"1\" class=\"dataframe\">\n",
       "  <thead>\n",
       "    <tr style=\"text-align: right;\">\n",
       "      <th></th>\n",
       "      <th>Year</th>\n",
       "      <th>Actor</th>\n",
       "      <th>Director</th>\n",
       "      <th>Box Office</th>\n",
       "      <th>Budget</th>\n",
       "      <th>Bond Actor Salary</th>\n",
       "    </tr>\n",
       "    <tr>\n",
       "      <th>Film</th>\n",
       "      <th></th>\n",
       "      <th></th>\n",
       "      <th></th>\n",
       "      <th></th>\n",
       "      <th></th>\n",
       "      <th></th>\n",
       "    </tr>\n",
       "  </thead>\n",
       "  <tbody>\n",
       "    <tr>\n",
       "      <th>A View to a Kill</th>\n",
       "      <td>1985</td>\n",
       "      <td>Roger Moore</td>\n",
       "      <td>Mister John Glen</td>\n",
       "      <td>275.2</td>\n",
       "      <td>54.5</td>\n",
       "      <td>9.1</td>\n",
       "    </tr>\n",
       "    <tr>\n",
       "      <th>Casino Royale</th>\n",
       "      <td>2006</td>\n",
       "      <td>Daniel Craig</td>\n",
       "      <td>Martin Campbell</td>\n",
       "      <td>581.5</td>\n",
       "      <td>145.3</td>\n",
       "      <td>3.3</td>\n",
       "    </tr>\n",
       "  </tbody>\n",
       "</table>\n",
       "</div>"
      ],
      "text/plain": [
       "                  Year         Actor          Director  Box Office  Budget  \\\n",
       "Film                                                                         \n",
       "A View to a Kill  1985   Roger Moore  Mister John Glen       275.2    54.5   \n",
       "Casino Royale     2006  Daniel Craig   Martin Campbell       581.5   145.3   \n",
       "\n",
       "                  Bond Actor Salary  \n",
       "Film                                 \n",
       "A View to a Kill                9.1  \n",
       "Casino Royale                   3.3  "
      ]
     },
     "execution_count": 189,
     "metadata": {},
     "output_type": "execute_result"
    }
   ],
   "source": [
    "bond.head(2)"
   ]
  },
  {
   "cell_type": "markdown",
   "metadata": {},
   "source": [
    "**The original DataFrame has been changed.**"
   ]
  },
  {
   "cell_type": "code",
   "execution_count": 190,
   "metadata": {},
   "outputs": [
    {
     "data": {
      "text/html": [
       "<div>\n",
       "<style scoped>\n",
       "    .dataframe tbody tr th:only-of-type {\n",
       "        vertical-align: middle;\n",
       "    }\n",
       "\n",
       "    .dataframe tbody tr th {\n",
       "        vertical-align: top;\n",
       "    }\n",
       "\n",
       "    .dataframe thead th {\n",
       "        text-align: right;\n",
       "    }\n",
       "</style>\n",
       "<table border=\"1\" class=\"dataframe\">\n",
       "  <thead>\n",
       "    <tr style=\"text-align: right;\">\n",
       "      <th></th>\n",
       "      <th>Year</th>\n",
       "      <th>Actor</th>\n",
       "      <th>Director</th>\n",
       "      <th>Box Office</th>\n",
       "      <th>Budget</th>\n",
       "      <th>Bond Actor Salary</th>\n",
       "    </tr>\n",
       "    <tr>\n",
       "      <th>Film</th>\n",
       "      <th></th>\n",
       "      <th></th>\n",
       "      <th></th>\n",
       "      <th></th>\n",
       "      <th></th>\n",
       "      <th></th>\n",
       "    </tr>\n",
       "  </thead>\n",
       "  <tbody>\n",
       "    <tr>\n",
       "      <th>A View to a Kill</th>\n",
       "      <td>1985</td>\n",
       "      <td>Roger Moore</td>\n",
       "      <td>John Glen</td>\n",
       "      <td>275.2</td>\n",
       "      <td>54.5</td>\n",
       "      <td>9.1</td>\n",
       "    </tr>\n",
       "    <tr>\n",
       "      <th>Casino Royale</th>\n",
       "      <td>2006</td>\n",
       "      <td>Daniel Craig</td>\n",
       "      <td>Martin Campbell</td>\n",
       "      <td>581.5</td>\n",
       "      <td>145.3</td>\n",
       "      <td>3.3</td>\n",
       "    </tr>\n",
       "  </tbody>\n",
       "</table>\n",
       "</div>"
      ],
      "text/plain": [
       "                  Year         Actor         Director  Box Office  Budget  \\\n",
       "Film                                                                        \n",
       "A View to a Kill  1985   Roger Moore        John Glen       275.2    54.5   \n",
       "Casino Royale     2006  Daniel Craig  Martin Campbell       581.5   145.3   \n",
       "\n",
       "                  Bond Actor Salary  \n",
       "Film                                 \n",
       "A View to a Kill                9.1  \n",
       "Casino Royale                   3.3  "
      ]
     },
     "execution_count": 190,
     "metadata": {},
     "output_type": "execute_result"
    }
   ],
   "source": [
    "bond = pd.read_csv('pandas/jamesbond.csv', index_col='Film')\n",
    "bond.sort_index(inplace=True)\n",
    "bond.head(2)"
   ]
  },
  {
   "cell_type": "code",
   "execution_count": 191,
   "metadata": {},
   "outputs": [
    {
     "data": {
      "text/plain": [
       "Film\n",
       "A View to a Kill          John Glen\n",
       "Casino Royale       Martin Campbell\n",
       "Casino Royale            Ken Hughes\n",
       "Name: Director, dtype: object"
      ]
     },
     "execution_count": 191,
     "metadata": {},
     "output_type": "execute_result"
    }
   ],
   "source": [
    "directors = bond['Director'].copy()\n",
    "directors.head(3)"
   ]
  },
  {
   "cell_type": "code",
   "execution_count": 192,
   "metadata": {},
   "outputs": [
    {
     "data": {
      "text/plain": [
       "'John Glen'"
      ]
     },
     "execution_count": 192,
     "metadata": {},
     "output_type": "execute_result"
    }
   ],
   "source": [
    "directors['A View to a Kill']"
   ]
  },
  {
   "cell_type": "code",
   "execution_count": 193,
   "metadata": {},
   "outputs": [
    {
     "data": {
      "text/plain": [
       "Film\n",
       "A View to a Kill    Mister John Glen\n",
       "Casino Royale        Martin Campbell\n",
       "Casino Royale             Ken Hughes\n",
       "Name: Director, dtype: object"
      ]
     },
     "execution_count": 193,
     "metadata": {},
     "output_type": "execute_result"
    }
   ],
   "source": [
    "directors['A View to a Kill'] = 'Mister John Glen'\n",
    "directors.head(3)"
   ]
  },
  {
   "cell_type": "code",
   "execution_count": 194,
   "metadata": {},
   "outputs": [
    {
     "data": {
      "text/html": [
       "<div>\n",
       "<style scoped>\n",
       "    .dataframe tbody tr th:only-of-type {\n",
       "        vertical-align: middle;\n",
       "    }\n",
       "\n",
       "    .dataframe tbody tr th {\n",
       "        vertical-align: top;\n",
       "    }\n",
       "\n",
       "    .dataframe thead th {\n",
       "        text-align: right;\n",
       "    }\n",
       "</style>\n",
       "<table border=\"1\" class=\"dataframe\">\n",
       "  <thead>\n",
       "    <tr style=\"text-align: right;\">\n",
       "      <th></th>\n",
       "      <th>Year</th>\n",
       "      <th>Actor</th>\n",
       "      <th>Director</th>\n",
       "      <th>Box Office</th>\n",
       "      <th>Budget</th>\n",
       "      <th>Bond Actor Salary</th>\n",
       "    </tr>\n",
       "    <tr>\n",
       "      <th>Film</th>\n",
       "      <th></th>\n",
       "      <th></th>\n",
       "      <th></th>\n",
       "      <th></th>\n",
       "      <th></th>\n",
       "      <th></th>\n",
       "    </tr>\n",
       "  </thead>\n",
       "  <tbody>\n",
       "    <tr>\n",
       "      <th>A View to a Kill</th>\n",
       "      <td>1985</td>\n",
       "      <td>Roger Moore</td>\n",
       "      <td>John Glen</td>\n",
       "      <td>275.2</td>\n",
       "      <td>54.5</td>\n",
       "      <td>9.1</td>\n",
       "    </tr>\n",
       "    <tr>\n",
       "      <th>Casino Royale</th>\n",
       "      <td>2006</td>\n",
       "      <td>Daniel Craig</td>\n",
       "      <td>Martin Campbell</td>\n",
       "      <td>581.5</td>\n",
       "      <td>145.3</td>\n",
       "      <td>3.3</td>\n",
       "    </tr>\n",
       "  </tbody>\n",
       "</table>\n",
       "</div>"
      ],
      "text/plain": [
       "                  Year         Actor         Director  Box Office  Budget  \\\n",
       "Film                                                                        \n",
       "A View to a Kill  1985   Roger Moore        John Glen       275.2    54.5   \n",
       "Casino Royale     2006  Daniel Craig  Martin Campbell       581.5   145.3   \n",
       "\n",
       "                  Bond Actor Salary  \n",
       "Film                                 \n",
       "A View to a Kill                9.1  \n",
       "Casino Royale                   3.3  "
      ]
     },
     "execution_count": 194,
     "metadata": {},
     "output_type": "execute_result"
    }
   ],
   "source": [
    "bond.head(2)"
   ]
  },
  {
   "cell_type": "markdown",
   "metadata": {},
   "source": [
    "**NOTE: The original DataFrame has not been modified this time**"
   ]
  }
 ],
 "metadata": {
  "kernelspec": {
   "display_name": "Python 3",
   "language": "python",
   "name": "python3"
  },
  "language_info": {
   "codemirror_mode": {
    "name": "ipython",
    "version": 3
   },
   "file_extension": ".py",
   "mimetype": "text/x-python",
   "name": "python",
   "nbconvert_exporter": "python",
   "pygments_lexer": "ipython3",
   "version": "3.6.5"
  }
 },
 "nbformat": 4,
 "nbformat_minor": 2
}
